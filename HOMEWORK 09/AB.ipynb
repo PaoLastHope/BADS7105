{
  "nbformat": 4,
  "nbformat_minor": 0,
  "metadata": {
    "colab": {
      "name": "AB.ipynb",
      "provenance": []
    },
    "kernelspec": {
      "name": "python3",
      "display_name": "Python 3"
    },
    "language_info": {
      "name": "python"
    }
  },
  "cells": [
    {
      "cell_type": "markdown",
      "metadata": {
        "id": "JPFR7NyZ5JjB"
      },
      "source": [
        "# Installation"
      ]
    },
    {
      "cell_type": "code",
      "metadata": {
        "id": "S4CIeVYh5A92"
      },
      "source": [
        "import pandas as pd\n",
        "import numpy as np\n",
        "import seaborn as sns\n",
        "import scipy.stats as ss \n",
        "import matplotlib.pyplot as plt"
      ],
      "execution_count": 53,
      "outputs": []
    },
    {
      "cell_type": "code",
      "metadata": {
        "colab": {
          "base_uri": "https://localhost:8080/",
          "height": 202
        },
        "id": "UlgWXcNo5p9U",
        "outputId": "fece9a17-25d4-42e8-ace7-8425e4e23b20"
      },
      "source": [
        "url1 = 'https://raw.githubusercontent.com/PaoLastHope/BADS7105/32eafcbaed47756464eb5e20f97b6f16d387dde6/HOMEWORK%2009/data_hair.xlsx'\n",
        "url2 = 'https://raw.githubusercontent.com/PaoLastHope/BADS7105/32eafcbaed47756464eb5e20f97b6f16d387dde6/HOMEWORK%2009/data_makeup.xlsx'\n",
        "df = pd.read_excel(url1)  \n",
        "df.head()"
      ],
      "execution_count": 54,
      "outputs": [
        {
          "output_type": "execute_result",
          "data": {
            "text/html": [
              "<div>\n",
              "<style scoped>\n",
              "    .dataframe tbody tr th:only-of-type {\n",
              "        vertical-align: middle;\n",
              "    }\n",
              "\n",
              "    .dataframe tbody tr th {\n",
              "        vertical-align: top;\n",
              "    }\n",
              "\n",
              "    .dataframe thead th {\n",
              "        text-align: right;\n",
              "    }\n",
              "</style>\n",
              "<table border=\"1\" class=\"dataframe\">\n",
              "  <thead>\n",
              "    <tr style=\"text-align: right;\">\n",
              "      <th></th>\n",
              "      <th>Time</th>\n",
              "      <th>รูป1</th>\n",
              "      <th>รูป2</th>\n",
              "      <th>รูป3</th>\n",
              "      <th>รูป4</th>\n",
              "      <th>รูป5</th>\n",
              "      <th>Score</th>\n",
              "      <th>ข้อสรุป</th>\n",
              "      <th>Gender</th>\n",
              "      <th>Age</th>\n",
              "    </tr>\n",
              "  </thead>\n",
              "  <tbody>\n",
              "    <tr>\n",
              "      <th>0</th>\n",
              "      <td>17/04/2021 11:12:38</td>\n",
              "      <td>ผมยาว</td>\n",
              "      <td>ผมยาว</td>\n",
              "      <td>ผมสั้น</td>\n",
              "      <td>ผมสั้น</td>\n",
              "      <td>ผมยาว</td>\n",
              "      <td>3</td>\n",
              "      <td>ผมยาว</td>\n",
              "      <td>Female</td>\n",
              "      <td>&gt; 40</td>\n",
              "    </tr>\n",
              "    <tr>\n",
              "      <th>1</th>\n",
              "      <td>17/04/2021 11:12:49</td>\n",
              "      <td>ผมสั้น</td>\n",
              "      <td>ผมสั้น</td>\n",
              "      <td>ผมยาว</td>\n",
              "      <td>ผมสั้น</td>\n",
              "      <td>ผมยาว</td>\n",
              "      <td>2</td>\n",
              "      <td>ผมสั้น</td>\n",
              "      <td>Male</td>\n",
              "      <td>20-30</td>\n",
              "    </tr>\n",
              "    <tr>\n",
              "      <th>2</th>\n",
              "      <td>17/04/2021 11:12:50</td>\n",
              "      <td>ผมยาว</td>\n",
              "      <td>ผมสั้น</td>\n",
              "      <td>ผมยาว</td>\n",
              "      <td>ผมยาว</td>\n",
              "      <td>ผมยาว</td>\n",
              "      <td>4</td>\n",
              "      <td>ผมยาว</td>\n",
              "      <td>Male</td>\n",
              "      <td>31-40</td>\n",
              "    </tr>\n",
              "    <tr>\n",
              "      <th>3</th>\n",
              "      <td>17/04/2021 11:12:51</td>\n",
              "      <td>ผมยาว</td>\n",
              "      <td>ผมยาว</td>\n",
              "      <td>ผมยาว</td>\n",
              "      <td>ผมยาว</td>\n",
              "      <td>ผมสั้น</td>\n",
              "      <td>4</td>\n",
              "      <td>ผมยาว</td>\n",
              "      <td>Male</td>\n",
              "      <td>20-30</td>\n",
              "    </tr>\n",
              "    <tr>\n",
              "      <th>4</th>\n",
              "      <td>17/04/2021 11:13:30</td>\n",
              "      <td>ผมสั้น</td>\n",
              "      <td>ผมยาว</td>\n",
              "      <td>ผมยาว</td>\n",
              "      <td>ผมยาว</td>\n",
              "      <td>ผมยาว</td>\n",
              "      <td>4</td>\n",
              "      <td>ผมยาว</td>\n",
              "      <td>Male</td>\n",
              "      <td>20-30</td>\n",
              "    </tr>\n",
              "  </tbody>\n",
              "</table>\n",
              "</div>"
            ],
            "text/plain": [
              "                  Time    รูป1    รูป2    รูป3  ... Score ข้อสรุป  Gender    Age\n",
              "0  17/04/2021 11:12:38   ผมยาว   ผมยาว  ผมสั้น  ...     3   ผมยาว  Female   > 40\n",
              "1  17/04/2021 11:12:49  ผมสั้น  ผมสั้น   ผมยาว  ...     2  ผมสั้น    Male  20-30\n",
              "2  17/04/2021 11:12:50   ผมยาว  ผมสั้น   ผมยาว  ...     4   ผมยาว    Male  31-40\n",
              "3  17/04/2021 11:12:51   ผมยาว   ผมยาว   ผมยาว  ...     4   ผมยาว    Male  20-30\n",
              "4  17/04/2021 11:13:30  ผมสั้น   ผมยาว   ผมยาว  ...     4   ผมยาว    Male  20-30\n",
              "\n",
              "[5 rows x 10 columns]"
            ]
          },
          "metadata": {
            "tags": []
          },
          "execution_count": 54
        }
      ]
    },
    {
      "cell_type": "markdown",
      "metadata": {
        "id": "du6Ri7EA6DE_"
      },
      "source": [
        "# A/B Souce 1"
      ]
    },
    {
      "cell_type": "code",
      "metadata": {
        "id": "oCA1rPfq6Gbg"
      },
      "source": [
        "df_tmp = df[['รูป1','รูป2','รูป3','รูป4','รูป5']]"
      ],
      "execution_count": 55,
      "outputs": []
    },
    {
      "cell_type": "code",
      "metadata": {
        "colab": {
          "base_uri": "https://localhost:8080/",
          "height": 248
        },
        "id": "O78RmpS49Q1g",
        "outputId": "07b61e2e-a432-4829-b43b-b6838a891e4a"
      },
      "source": [
        "a = df_tmp.eq('ผมสั้น').sum()\n",
        "b = df_tmp.eq('ผมยาว').sum()\n",
        "n_a = a[0]+a[1]+a[2]+a[3]+a[4]\n",
        "n_b = b[0]+b[1]+b[2]+b[3]+b[4]\n",
        "\n",
        "labels = 'Short', 'Long'\n",
        "size = [n_a, n_b]\n",
        "fig1, ax1 = plt.subplots()\n",
        "ax1.pie(size, labels=labels,autopct='%1.1f%%')\n",
        "ax1.axis('equal')  # Equal aspect ratio ensures that pie is drawn as a circle.\n",
        "\n",
        "plt.show()"
      ],
      "execution_count": 56,
      "outputs": [
        {
          "output_type": "display_data",
          "data": {
            "image/png": "[encoded data removed]",
            "text/plain": [
              "<Figure size 432x288 with 1 Axes>"
            ]
          },
          "metadata": {
            "tags": []
          }
        }
      ]
    },
    {
      "cell_type": "markdown",
      "metadata": {
        "id": "WK8UIISqEFk1"
      },
      "source": [
        "# A/B Source 2"
      ]
    },
    {
      "cell_type": "code",
      "metadata": {
        "colab": {
          "base_uri": "https://localhost:8080/",
          "height": 202
        },
        "id": "Y10bosKLENKC",
        "outputId": "5b5202b3-e830-497b-d3f3-f94de04a69b6"
      },
      "source": [
        "df_tmp = pd.read_excel(url2)  \n",
        "df_tmp.head()"
      ],
      "execution_count": 57,
      "outputs": [
        {
          "output_type": "execute_result",
          "data": {
            "text/html": [
              "<div>\n",
              "<style scoped>\n",
              "    .dataframe tbody tr th:only-of-type {\n",
              "        vertical-align: middle;\n",
              "    }\n",
              "\n",
              "    .dataframe tbody tr th {\n",
              "        vertical-align: top;\n",
              "    }\n",
              "\n",
              "    .dataframe thead th {\n",
              "        text-align: right;\n",
              "    }\n",
              "</style>\n",
              "<table border=\"1\" class=\"dataframe\">\n",
              "  <thead>\n",
              "    <tr style=\"text-align: right;\">\n",
              "      <th></th>\n",
              "      <th>คุณชอบการแต่งหน้าแบบไหน</th>\n",
              "      <th>อายุ</th>\n",
              "      <th>สถานะ</th>\n",
              "      <th>แต่งหน้าไหม?</th>\n",
              "      <th>ชอบดูซีรีย์แนวไหน</th>\n",
              "    </tr>\n",
              "  </thead>\n",
              "  <tbody>\n",
              "    <tr>\n",
              "      <th>0</th>\n",
              "      <td>0</td>\n",
              "      <td>31-35</td>\n",
              "      <td>โสด</td>\n",
              "      <td>แต่งบ้าง ไม่แต่งบ้าน ตามอารมณ์</td>\n",
              "      <td>ฝรั่ง</td>\n",
              "    </tr>\n",
              "    <tr>\n",
              "      <th>1</th>\n",
              "      <td>0</td>\n",
              "      <td>26-30</td>\n",
              "      <td>โสด</td>\n",
              "      <td>แต่งเบาๆ</td>\n",
              "      <td>เกาหลี</td>\n",
              "    </tr>\n",
              "    <tr>\n",
              "      <th>2</th>\n",
              "      <td>0</td>\n",
              "      <td>26-30</td>\n",
              "      <td>โสด</td>\n",
              "      <td>แต่งเบาๆ</td>\n",
              "      <td>เกาหลี</td>\n",
              "    </tr>\n",
              "    <tr>\n",
              "      <th>3</th>\n",
              "      <td>0</td>\n",
              "      <td>36 ขึ้นไป</td>\n",
              "      <td>โสด</td>\n",
              "      <td>แต่งเบาๆ</td>\n",
              "      <td>เกาหลี</td>\n",
              "    </tr>\n",
              "    <tr>\n",
              "      <th>4</th>\n",
              "      <td>0</td>\n",
              "      <td>36 ขึ้นไป</td>\n",
              "      <td>โสด</td>\n",
              "      <td>แต่งเบาๆ</td>\n",
              "      <td>ฝรั่ง</td>\n",
              "    </tr>\n",
              "  </tbody>\n",
              "</table>\n",
              "</div>"
            ],
            "text/plain": [
              "   คุณชอบการแต่งหน้าแบบไหน  ... ชอบดูซีรีย์แนวไหน\n",
              "0                        0  ...             ฝรั่ง\n",
              "1                        0  ...            เกาหลี\n",
              "2                        0  ...            เกาหลี\n",
              "3                        0  ...            เกาหลี\n",
              "4                        0  ...             ฝรั่ง\n",
              "\n",
              "[5 rows x 5 columns]"
            ]
          },
          "metadata": {
            "tags": []
          },
          "execution_count": 57
        }
      ]
    },
    {
      "cell_type": "code",
      "metadata": {
        "colab": {
          "base_uri": "https://localhost:8080/",
          "height": 248
        },
        "id": "EnyWEPCnGpZV",
        "outputId": "9f4a42a9-e9ba-49db-c696-1ccbedda7ab5"
      },
      "source": [
        "df_tmp.columns\n",
        "a = df_tmp['คุณชอบการแต่งหน้าแบบไหน'].eq(0).sum()\n",
        "b = df_tmp['คุณชอบการแต่งหน้าแบบไหน'].eq(1).sum()\n",
        "n_a = a\n",
        "n_b = b\n",
        "\n",
        "labels = 'Korean', 'Westerner'\n",
        "size = [n_a, n_b]\n",
        "fig1, ax1 = plt.subplots()\n",
        "ax1.pie(size, labels=labels,autopct='%1.1f%%')\n",
        "ax1.axis('equal')  # Equal aspect ratio ensures that pie is drawn as a circle.\n",
        "\n",
        "plt.show()"
      ],
      "execution_count": 58,
      "outputs": [
        {
          "output_type": "display_data",
          "data": {
            "image/png": "[encoded data removed]",
            "text/plain": [
              "<Figure size 432x288 with 1 Axes>"
            ]
          },
          "metadata": {
            "tags": []
          }
        }
      ]
    }
  ]
}