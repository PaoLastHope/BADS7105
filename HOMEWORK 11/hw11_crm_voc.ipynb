{
  "nbformat": 4,
  "nbformat_minor": 0,
  "metadata": {
    "colab": {
      "name": "hw11_crm_voc.ipynb",
      "provenance": []
    },
    "kernelspec": {
      "name": "python3",
      "display_name": "Python 3"
    },
    "language_info": {
      "name": "python"
    }
  },
  "cells": [
    {
      "cell_type": "code",
      "metadata": {
        "id": "ScsqgOajf3J5",
        "outputId": "58609c80-a657-4a27-a707-d1e445da86d2",
        "colab": {
          "base_uri": "https://localhost:8080/"
        }
      },
      "source": [
        "!pip install --upgrade pythainlp\n",
        "!pip install pyLDAvis==2.1.2"
      ],
      "execution_count": 5,
      "outputs": [
        {
          "output_type": "stream",
          "text": [
            "Requirement already up-to-date: pythainlp in /usr/local/lib/python3.7/dist-packages (2.3.1)\n",
            "Requirement already satisfied, skipping upgrade: requests>=2.22.0 in /usr/local/lib/python3.7/dist-packages (from pythainlp) (2.23.0)\n",
            "Requirement already satisfied, skipping upgrade: tinydb>=3.0 in /usr/local/lib/python3.7/dist-packages (from pythainlp) (4.4.0)\n",
            "Requirement already satisfied, skipping upgrade: python-crfsuite>=0.9.6 in /usr/local/lib/python3.7/dist-packages (from pythainlp) (0.9.7)\n",
            "Requirement already satisfied, skipping upgrade: urllib3!=1.25.0,!=1.25.1,<1.26,>=1.21.1 in /usr/local/lib/python3.7/dist-packages (from requests>=2.22.0->pythainlp) (1.24.3)\n",
            "Requirement already satisfied, skipping upgrade: chardet<4,>=3.0.2 in /usr/local/lib/python3.7/dist-packages (from requests>=2.22.0->pythainlp) (3.0.4)\n",
            "Requirement already satisfied, skipping upgrade: idna<3,>=2.5 in /usr/local/lib/python3.7/dist-packages (from requests>=2.22.0->pythainlp) (2.10)\n",
            "Requirement already satisfied, skipping upgrade: certifi>=2017.4.17 in /usr/local/lib/python3.7/dist-packages (from requests>=2.22.0->pythainlp) (2020.12.5)\n",
            "Requirement already satisfied: pyLDAvis==2.1.2 in /usr/local/lib/python3.7/dist-packages (2.1.2)\n",
            "Requirement already satisfied: scipy>=0.18.0 in /usr/local/lib/python3.7/dist-packages (from pyLDAvis==2.1.2) (1.4.1)\n",
            "Requirement already satisfied: pytest in /usr/local/lib/python3.7/dist-packages (from pyLDAvis==2.1.2) (3.6.4)\n",
            "Requirement already satisfied: numexpr in /usr/local/lib/python3.7/dist-packages (from pyLDAvis==2.1.2) (2.7.3)\n",
            "Requirement already satisfied: joblib>=0.8.4 in /usr/local/lib/python3.7/dist-packages (from pyLDAvis==2.1.2) (1.0.1)\n",
            "Requirement already satisfied: future in /usr/local/lib/python3.7/dist-packages (from pyLDAvis==2.1.2) (0.16.0)\n",
            "Requirement already satisfied: numpy>=1.9.2 in /usr/local/lib/python3.7/dist-packages (from pyLDAvis==2.1.2) (1.20.3)\n",
            "Requirement already satisfied: wheel>=0.23.0 in /usr/local/lib/python3.7/dist-packages (from pyLDAvis==2.1.2) (0.36.2)\n",
            "Requirement already satisfied: funcy in /usr/local/lib/python3.7/dist-packages (from pyLDAvis==2.1.2) (1.16)\n",
            "Requirement already satisfied: pandas>=0.17.0 in /usr/local/lib/python3.7/dist-packages (from pyLDAvis==2.1.2) (1.2.0)\n",
            "Requirement already satisfied: jinja2>=2.7.2 in /usr/local/lib/python3.7/dist-packages (from pyLDAvis==2.1.2) (2.11.3)\n",
            "Requirement already satisfied: py>=1.5.0 in /usr/local/lib/python3.7/dist-packages (from pytest->pyLDAvis==2.1.2) (1.10.0)\n",
            "Requirement already satisfied: atomicwrites>=1.0 in /usr/local/lib/python3.7/dist-packages (from pytest->pyLDAvis==2.1.2) (1.4.0)\n",
            "Requirement already satisfied: attrs>=17.4.0 in /usr/local/lib/python3.7/dist-packages (from pytest->pyLDAvis==2.1.2) (21.2.0)\n",
            "Requirement already satisfied: more-itertools>=4.0.0 in /usr/local/lib/python3.7/dist-packages (from pytest->pyLDAvis==2.1.2) (8.7.0)\n",
            "Requirement already satisfied: setuptools in /usr/local/lib/python3.7/dist-packages (from pytest->pyLDAvis==2.1.2) (57.0.0)\n",
            "Requirement already satisfied: pluggy<0.8,>=0.5 in /usr/local/lib/python3.7/dist-packages (from pytest->pyLDAvis==2.1.2) (0.7.1)\n",
            "Requirement already satisfied: six>=1.10.0 in /usr/local/lib/python3.7/dist-packages (from pytest->pyLDAvis==2.1.2) (1.15.0)\n",
            "Requirement already satisfied: python-dateutil>=2.7.3 in /usr/local/lib/python3.7/dist-packages (from pandas>=0.17.0->pyLDAvis==2.1.2) (2.8.1)\n",
            "Requirement already satisfied: pytz>=2017.3 in /usr/local/lib/python3.7/dist-packages (from pandas>=0.17.0->pyLDAvis==2.1.2) (2018.9)\n",
            "Requirement already satisfied: MarkupSafe>=0.23 in /usr/local/lib/python3.7/dist-packages (from jinja2>=2.7.2->pyLDAvis==2.1.2) (2.0.1)\n"
          ],
          "name": "stdout"
        }
      ]
    },
    {
      "cell_type": "code",
      "metadata": {
        "id": "yNR9-5TnOLi1"
      },
      "source": [
        "import warnings\n",
        "warnings.filterwarnings(\"ignore\", category=DeprecationWarning) \n",
        "warnings.filterwarnings(\"ignore\", category=FutureWarning) \n",
        "\n",
        "import pandas as pd\n",
        "import numpy as np\n",
        "import re\n",
        "import string\n",
        "from pprint import pprint\n",
        "import matplotlib.pyplot as plt\n",
        "import seaborn as sns\n",
        "import networkx as nx\n",
        "\n",
        "import pandas as pd\n",
        "import pythainlp\n",
        "import gensim\n",
        "\n",
        "import pyLDAvis\n",
        "import pyLDAvis.gensim\n",
        "pyLDAvis.enable_notebook()\n",
        "# import pyLDAvis.gensim\n",
        "# pyLDAvis.enable_notebook()\n",
        "import warnings\n",
        "warnings.filterwarnings(\"ignore\", category=DeprecationWarning) \n"
      ],
      "execution_count": 6,
      "outputs": []
    },
    {
      "cell_type": "code",
      "metadata": {
        "id": "6oxoWcjmOZDK",
        "colab": {
          "base_uri": "https://localhost:8080/",
          "height": 323
        },
        "outputId": "52dc88ed-53f1-4442-e66f-537c1e6ff28b"
      },
      "source": [
        "url = 'https://raw.githubusercontent.com/PaoLastHope/BADS7105/012d3c593aefc5821bd07d549674f5cae46c2fcc/HOMEWORK%2011/CustomerReviews.csv'\n",
        "df = pd.read_csv(url)\n",
        "df.head(5)"
      ],
      "execution_count": 7,
      "outputs": [
        {
          "output_type": "execute_result",
          "data": {
            "text/html": [
              "<div>\n",
              "<style scoped>\n",
              "    .dataframe tbody tr th:only-of-type {\n",
              "        vertical-align: middle;\n",
              "    }\n",
              "\n",
              "    .dataframe tbody tr th {\n",
              "        vertical-align: top;\n",
              "    }\n",
              "\n",
              "    .dataframe thead th {\n",
              "        text-align: right;\n",
              "    }\n",
              "</style>\n",
              "<table border=\"1\" class=\"dataframe\">\n",
              "  <thead>\n",
              "    <tr style=\"text-align: right;\">\n",
              "      <th></th>\n",
              "      <th>Review ID</th>\n",
              "      <th>Restaurant_ID</th>\n",
              "      <th>Restaurant</th>\n",
              "      <th>User</th>\n",
              "      <th>Headline</th>\n",
              "      <th>Review</th>\n",
              "      <th>Rating</th>\n",
              "    </tr>\n",
              "  </thead>\n",
              "  <tbody>\n",
              "    <tr>\n",
              "      <th>0</th>\n",
              "      <td>1</td>\n",
              "      <td>352696Px-mo-mo-paradise-เดอะมอลล์-บางกะปิ</td>\n",
              "      <td>Mo-Mo-Paradise (โม โม พาราไดซ์) เดอะมอลล์ บางกะปิ</td>\n",
              "      <td>7b16469831074f7abc7824745ee75212</td>\n",
              "      <td>ที่สำคัญของร้านนี้คือบริการดีมากพนักงานน่ารักส...</td>\n",
              "      <td>ที่สำคัญของร้านนี้คือบริการดีมากพนักงานน่ารักส...</td>\n",
              "      <td>5.0</td>\n",
              "    </tr>\n",
              "    <tr>\n",
              "      <th>1</th>\n",
              "      <td>2</td>\n",
              "      <td>352696Px-mo-mo-paradise-เดอะมอลล์-บางกะปิ</td>\n",
              "      <td>Mo-Mo-Paradise (โม โม พาราไดซ์) เดอะมอลล์ บางกะปิ</td>\n",
              "      <td>pakkaramonpondej</td>\n",
              "      <td>รสชาติเหมือนทุกสาขา แต่สาขานี้ บริการดี ที่นั่งดี</td>\n",
              "      <td>นึกถึงชาบูญี่ปุ่นยังไงก็ต้อง คิดถึงโมโม่ พาราไ...</td>\n",
              "      <td>5.0</td>\n",
              "    </tr>\n",
              "    <tr>\n",
              "      <th>2</th>\n",
              "      <td>3</td>\n",
              "      <td>352696Px-mo-mo-paradise-เดอะมอลล์-บางกะปิ</td>\n",
              "      <td>Mo-Mo-Paradise (โม โม พาราไดซ์) เดอะมอลล์ บางกะปิ</td>\n",
              "      <td>saanowy</td>\n",
              "      <td>ชาบูพรีเมี่ยมสไตล์ญี่ปุ่น เนื้อดีมากกก</td>\n",
              "      <td>มาทานช่วงนี้ สามารถนั่งโต๊ะเดียวกัน หม้อเดียวก...</td>\n",
              "      <td>4.0</td>\n",
              "    </tr>\n",
              "    <tr>\n",
              "      <th>3</th>\n",
              "      <td>4</td>\n",
              "      <td>352696Px-mo-mo-paradise-เดอะมอลล์-บางกะปิ</td>\n",
              "      <td>Mo-Mo-Paradise (โม โม พาราไดซ์) เดอะมอลล์ บางกะปิ</td>\n",
              "      <td>ployynp</td>\n",
              "      <td>เนื้อดี ไอติมดี คุ้มค่าดี</td>\n",
              "      <td>ถ้านึกถึงชาบูที่มีเนื้อเน้นๆ ในราคาไม่โหดจนเกิ...</td>\n",
              "      <td>4.0</td>\n",
              "    </tr>\n",
              "    <tr>\n",
              "      <th>4</th>\n",
              "      <td>5</td>\n",
              "      <td>352696Px-mo-mo-paradise-เดอะมอลล์-บางกะปิ</td>\n",
              "      <td>Mo-Mo-Paradise (โม โม พาราไดซ์) เดอะมอลล์ บางกะปิ</td>\n",
              "      <td>665a902b335b434ab489f00f2fbb477e</td>\n",
              "      <td>อาหารมีคุณภาพ บริการดีค่ะ</td>\n",
              "      <td>เดินมาหน้าร้านแล้วได้กลิ่นชาบูหอมมาก ๆ  ประกอบ...</td>\n",
              "      <td>5.0</td>\n",
              "    </tr>\n",
              "  </tbody>\n",
              "</table>\n",
              "</div>"
            ],
            "text/plain": [
              "   Review ID  ... Rating\n",
              "0          1  ...    5.0\n",
              "1          2  ...    5.0\n",
              "2          3  ...    4.0\n",
              "3          4  ...    4.0\n",
              "4          5  ...    5.0\n",
              "\n",
              "[5 rows x 7 columns]"
            ]
          },
          "metadata": {
            "tags": []
          },
          "execution_count": 7
        }
      ]
    },
    {
      "cell_type": "markdown",
      "metadata": {
        "id": "98OpywXwgso-"
      },
      "source": [
        "# ***Tokenize Words***"
      ]
    },
    {
      "cell_type": "code",
      "metadata": {
        "id": "KbZklxU_OY9Q"
      },
      "source": [
        "stopwords = list(pythainlp.corpus.thai_stopwords())\n",
        "removed_words = [' ', '  ', '\\n', 'ร้าน', '(', ')']\n",
        "screening_words = stopwords + removed_words\n",
        "\n",
        "def tokenize_with_space(sentence):\n",
        "  merged = ''\n",
        "  words = pythainlp.word_tokenize(str(sentence), engine='newmm')\n",
        "  for word in words:\n",
        "    if word not in screening_words:\n",
        "      merged = merged + ',' + word\n",
        "  return merged[1:]"
      ],
      "execution_count": 8,
      "outputs": []
    },
    {
      "cell_type": "code",
      "metadata": {
        "id": "i0ZmLYwJgryX",
        "outputId": "35f1e118-09e5-4af5-fd8d-62750250c378",
        "colab": {
          "base_uri": "https://localhost:8080/",
          "height": 445
        }
      },
      "source": [
        "df['Review_tokenized'] = df['Review'].apply(lambda x: tokenize_with_space(x))\n",
        "df.tail()"
      ],
      "execution_count": 9,
      "outputs": [
        {
          "output_type": "execute_result",
          "data": {
            "text/html": [
              "<div>\n",
              "<style scoped>\n",
              "    .dataframe tbody tr th:only-of-type {\n",
              "        vertical-align: middle;\n",
              "    }\n",
              "\n",
              "    .dataframe tbody tr th {\n",
              "        vertical-align: top;\n",
              "    }\n",
              "\n",
              "    .dataframe thead th {\n",
              "        text-align: right;\n",
              "    }\n",
              "</style>\n",
              "<table border=\"1\" class=\"dataframe\">\n",
              "  <thead>\n",
              "    <tr style=\"text-align: right;\">\n",
              "      <th></th>\n",
              "      <th>Review ID</th>\n",
              "      <th>Restaurant_ID</th>\n",
              "      <th>Restaurant</th>\n",
              "      <th>User</th>\n",
              "      <th>Headline</th>\n",
              "      <th>Review</th>\n",
              "      <th>Rating</th>\n",
              "      <th>Review_tokenized</th>\n",
              "    </tr>\n",
              "  </thead>\n",
              "  <tbody>\n",
              "    <tr>\n",
              "      <th>16</th>\n",
              "      <td>17</td>\n",
              "      <td>436045MJ-ข้าน้อยขอชาบู</td>\n",
              "      <td>ข้าน้อยขอชาบู</td>\n",
              "      <td>ployynp</td>\n",
              "      <td>บุฟเฟ่ต์ชาบูและพิซซ่าไม่อั้นในราคา 199 บาท เน้...</td>\n",
              "      <td>หลังจากที่เคยลองสาขายูเนี่ยนมอลล์ไป รอบนี้มาที...</td>\n",
              "      <td>4.0</td>\n",
              "      <td>หลังจากที่,ลอง,สาขา,ยู,นม,อลล์,รอบ,สาขา,เดอะ,ม...</td>\n",
              "    </tr>\n",
              "    <tr>\n",
              "      <th>17</th>\n",
              "      <td>18</td>\n",
              "      <td>436045MJ-ข้าน้อยขอชาบู</td>\n",
              "      <td>ข้าน้อยขอชาบู</td>\n",
              "      <td>27a91236fe5e4559a4f097c97a480781</td>\n",
              "      <td>ร้านบุฟเฟ่ต์ ราคามิตรภาพ อยู่ชั้น4 ติดโรงหนัง ...</td>\n",
              "      <td>ร้านบุฟเฟ่ต์ที่มีโปรโมชั่นหัวละ199บาท ไม่รวมน้...</td>\n",
              "      <td>4.0</td>\n",
              "      <td>บุฟเฟ่ต์,โปรโมชั่น,หัว,199,บาท,น้ำ,VAT,ทาน,ธรร...</td>\n",
              "    </tr>\n",
              "    <tr>\n",
              "      <th>18</th>\n",
              "      <td>19</td>\n",
              "      <td>436045MJ-ข้าน้อยขอชาบู</td>\n",
              "      <td>ข้าน้อยขอชาบู</td>\n",
              "      <td>0b81d251e4db486f9bcdba73b374ed99</td>\n",
              "      <td>ของหลากหลาย ปนๆ งงๆ นิดหน่อย</td>\n",
              "      <td>เคยรู้จักร้านนี้จากที่ union mall ไม่เคยได้ลอง...</td>\n",
              "      <td>3.0</td>\n",
              "      <td>รู้จัก,union,mall,ลอง,กิน,จำได้,ขึ้นใจ,ชื่อ,😆,...</td>\n",
              "    </tr>\n",
              "    <tr>\n",
              "      <th>19</th>\n",
              "      <td>20</td>\n",
              "      <td>436045MJ-ข้าน้อยขอชาบู</td>\n",
              "      <td>ข้าน้อยขอชาบู</td>\n",
              "      <td>40e0e087f3914fd49a8933b5a29936ca</td>\n",
              "      <td>อร่อยมากค่ะ คุ้มค่าสมราคา บุฟเฟ่หมูผักต่างๆ รว...</td>\n",
              "      <td>อร่อยมากค่ะ คุ้มค่าสมราคา บุฟเฟ่หมูผักต่างๆ รว...</td>\n",
              "      <td>5.0</td>\n",
              "      <td>อร่อย,คุ้มค่า,สมราคา,บุ,ฟเฟ่,หมู,ผัก,น้ำ,จบ,25...</td>\n",
              "    </tr>\n",
              "    <tr>\n",
              "      <th>20</th>\n",
              "      <td>21</td>\n",
              "      <td>436045MJ-ข้าน้อยขอชาบู</td>\n",
              "      <td>ข้าน้อยขอชาบู</td>\n",
              "      <td>41841cb99ea243a3a8d4b006e946c586</td>\n",
              "      <td>แม้จะแปลกบ้าง แต่ก็ถือว่าอยู่ในเกณฑ์ที่ดี มีอา...</td>\n",
              "      <td>ก็ตามที่เขียนเลยครับ ว่า ถ้าจะจ่ายในราคา 199 บ...</td>\n",
              "      <td>NaN</td>\n",
              "      <td>จ่าย,ราคา,199,บาท,จ่าย,เงินสด,ราคา,น้ำ,VAT,7,%...</td>\n",
              "    </tr>\n",
              "  </tbody>\n",
              "</table>\n",
              "</div>"
            ],
            "text/plain": [
              "    Review ID  ...                                   Review_tokenized\n",
              "16         17  ...  หลังจากที่,ลอง,สาขา,ยู,นม,อลล์,รอบ,สาขา,เดอะ,ม...\n",
              "17         18  ...  บุฟเฟ่ต์,โปรโมชั่น,หัว,199,บาท,น้ำ,VAT,ทาน,ธรร...\n",
              "18         19  ...  รู้จัก,union,mall,ลอง,กิน,จำได้,ขึ้นใจ,ชื่อ,😆,...\n",
              "19         20  ...  อร่อย,คุ้มค่า,สมราคา,บุ,ฟเฟ่,หมู,ผัก,น้ำ,จบ,25...\n",
              "20         21  ...  จ่าย,ราคา,199,บาท,จ่าย,เงินสด,ราคา,น้ำ,VAT,7,%...\n",
              "\n",
              "[5 rows x 8 columns]"
            ]
          },
          "metadata": {
            "tags": []
          },
          "execution_count": 9
        }
      ]
    },
    {
      "cell_type": "markdown",
      "metadata": {
        "id": "VFQDaQgAl8g9"
      },
      "source": [
        "# **Create Dictionary**"
      ]
    },
    {
      "cell_type": "code",
      "metadata": {
        "id": "WbZp-dszmAJM",
        "outputId": "8efa92e7-cb1c-40e5-d861-3f863e186b2f",
        "colab": {
          "base_uri": "https://localhost:8080/"
        }
      },
      "source": [
        "documents = df['Review_tokenized'].to_list()\n",
        "texts = [[text for text in doc.split(',')] for doc in documents]\n",
        "dictionary = gensim.corpora.Dictionary(texts)\n",
        "print(dictionary.token2id.keys())"
      ],
      "execution_count": 10,
      "outputs": [
        {
          "output_type": "stream",
          "text": [
            "dict_keys(['1', '4', '560', 'กิน', 'ข้างนอก', 'ความต้องการ', 'คอ', 'คุณภาพ', 'คุ้ม', 'จำกัด', 'ซุป', 'ดำ', 'ดี', 'ดีมาก', 'ถาด', 'ถาม', 'น่ารัก', 'น้ำ', 'น้ำจิ้ม', 'บริการ', 'บาท', 'ประทับใจ', 'พนักงาน', 'พอกับ', 'ภาพ', 'รสชาติ', 'ราคา', 'สรุป', 'สะอาดสะอ้าน', 'สัน', 'หลากหลาย', 'อร่อย', 'อันนี้', 'อาหาร', 'เคลม', 'เซ็ท', 'เต้าเจี้ยว', 'เนื้อ', 'เป็ด', 'เผ็ด', 'แบบนี้', 'แปลก', 'แฟน', 'โดยรวม', 'โมจิ', 'ใส่ใจ', 'ไม่ต้อง', 'ไอติม', '\\u200b', '           ', '21', '30', '9', 'CTW', 'Terminal', 'กา', 'การงด', 'คิดถึง', 'ชาบู', 'ญี่ปุ่น', 'ฐาน', 'ทะยอย', 'ทำงาน', 'ที่ทาง', 'นาที', 'นึกถึง', 'พนักงานบริการ', 'พระราม', 'พรีเมียม', 'พาราไดซ์', 'มาตรา', 'มีโอ', 'รายละเอียด', 'ลูกค้า', 'สมาทาน', 'สาขา', 'สู้', 'ออร์เดอร์', 'เครื่องดื่ม', 'เค้า', 'เจอ', 'เป็นกันเอง', 'เหวี่ยง', 'แจ้ง', 'โม', 'โม่', 'โอเค', '', '++', '2', '555', '600', ':', '::', 'กก', 'กรุบ', 'กั้น', 'ของหวาน', 'คนละ', 'คาว', 'คุ', 'คุ้มค่า', 'จาน', 'จิ้ม', 'จืด', 'ฉาก', 'ชอบ', 'ชาเขียว', 'ชิ้น', 'ซอย', 'ซอส', 'ตก', 'ตะ', 'ตัก', 'ตามน้ำ', 'ต่างกัน', 'ถั่ว', 'ถ่ายรูป', 'ทาน', 'นั่ง', 'นุ่ม', 'บด', 'บาร์', 'บู', 'ผัก', 'ภาษา', 'มีชื่อ', 'ยังมี', 'รส', 'รี่', 'รู้สึก', 'ลอง', 'ลิ้น', 'ลืม', 'ววว', 'สด', 'สตอ', 'สั่ง', 'สามรส', 'ส่วนตัว', 'หนึบ', 'หม้อ', 'หวาน', 'อยากได้', 'เข้มข้น', 'เข้ากัน', 'เค็ม', 'เนื้อวัว', 'เนื้อสัตว์', 'เนื้อหมู', 'เบอ', 'เป็นผู้ใหญ่', 'เลือก', 'เสิร์ฟ', 'เหนียว', 'เห็ด', 'แดง', 'แตก', 'แตา', 'แนว', 'แย้', 'โควิด', 'โต๊ะ', 'โร', 'ใส', 'ไก่', 'ไข่', 'ไดฟูกุ', 'ไผ่', 'ไม้', 'ไหว', '3', 'ข้าว', 'จ่าย', 'ถ้วย', 'ธรรมดา', 'ส', 'ออ', 'เกินไป', 'เลี่ยน', 'โปร', 'โหด', 'ไว', 'ไอศกรีม', 'ขนม', 'คุณภาพดี', 'ตัดสินใจ', 'ต่าง ๆ', 'ที่จะ', 'ที่นั่ง', 'บัตรเครดิต', 'มมาก', 'ลูกชิ้น', 'สบายดี', 'หน้า', 'หอ', 'เดิน', 'เด็ก', 'เส้น', 'เหมือนกับ', 'แคบ', 'ได้กลิ่น', 'คามี', 'ซึ', 'นะคะ', 'บุ', 'บ๋วย', 'พอน', 'ฟเฟ่', 'รา', 'สาย', 'หยิบ', 'โซน', 'โปรโมชั่น', '+', '/', '20', '4.0', '5', 'Menu', 'Number', 'กรรมวิธี', 'กะปิ', 'ก์', 'คน', 'คะแนน', 'ชุด', 'ดังเดิม', 'บุฟเฟ่ต์', 'ประ', 'พารา', 'มอ', 'ยุค', 'ร้านอาหาร', 'ล', 'สุกี้', 'สไตล์', 'ส์', 'หมู', 'หลาก', 'หลายชนิด', 'เดอะ', 'เมนู', 'แบบฉบับ', 'แบ่ง', 'ได', 'ไทย', '–', '!!!!', '500', 'กาแฟ', 'งวด', 'ตอนที่', 'ตำ', 'ติด', 'ทั่วไป', 'น', 'บ๊วย', 'ยุ', 'ร้อน', 'ลุย', 'สุกี้ยากี้', 'อยู่แล้ว', 'ออสเตรเลีย', 'เป็นปกติ', 'เฟรนไชส์', 'เรื่อง', 'เหมาะสม', 'แนะนำ', 'โช', 'ไข่ไก่', 'ไอศครีม', '..', '399', 'กุ้ง', 'ของกิน', 'ขา', 'ชิ', 'ซูชิ', 'ซ่า', 'ตอน', 'ตอนนี้', 'นิดนึง', 'ปุระ', 'ปูอัด', 'ม', 'ละลานตา', 'สายพาน', 'หิว', 'ฮ่า', 'าน', 'เกี๊ยว', 'เท', 'เทียบ', 'เล่น', 'แพง', 'แล้วก็', 'ไม่งั้น', 'กลาย', 'กี่', 'ชั่วคราว', 'ชื่นใจ', 'ซะงั้น', 'ญี่', 'ดึก', 'ตบท้าย', 'ตัว', 'ทอด', 'ทานอาหาร', 'นพ', 'นึก', 'น้ะ', 'ปลา', 'ปุ', 'ผิดหวัง', 'วก', 'สมใจ', 'อย่า', 'อาหารเสริม', 'เติม', 'เป็นมา', 'เป็นหลัก', 'เย็น', '1.15', 'net', 'กลับมา', 'ของคาว', 'ชม.', 'ตรงนั้น', 'ยืน', 'ลายตา', 'สไลด์', 'อัพเดท', 'อิ่ม', 'เบ', 'เพลิน', 'ไลน์', '\"', '-', '/คน', '15', '359', 'G', 'Net', 'Shabushi', 'กด', 'กรอ', 'ขาดสารอาหาร', 'ขึ้นราคา', 'ข่าว', 'คนเดียว', 'ครึ่ง', 'คิว', 'งาน', 'จุ', 'ชั่วโมง', 'ชั้น', 'ชื่น', 'ดู', 'ตลับ', 'ตับ', 'ตั้งอยู่', 'ติง', 'ถนนใหญ่', 'ถูกใจ', 'ทำ', 'ทิ้ง', 'น้ำมัน', 'บดี', 'ปลาดิบ', 'ปอกเปลือก', 'ฝรั่ง', 'ฝั่ง', 'มอลล์', 'มื้อ', 'รอ', 'ระดับ', 'รายการ', 'ลด', 'ลา', 'ลูก', 'วันหยุด', 'วาง', 'วานิลา', 'สะอาด', 'สาเหตุ', 'สำหรับ', 'สไปรท์', 'หนา', 'หอม', 'หอย', 'หาไม่', 'ห่างหาย', 'ห้าง', 'อม', 'ออกมา', 'อาทิตย์', 'อีกครั้ง', 'เช็คบิล', 'เด่น', 'เด้ง', 'เบคอน', 'เปรี้ยวหวาน', 'เพื่อน', 'เลิก', 'เวลา', 'เสาร์', 'เหมือน', 'เหมือนกัน', 'แก้ว', 'แถม', 'แน่น', 'แป้ง', 'แย่', 'แออัด', 'โดน', 'โดยประมาณ', 'โฟลต', 'โอ', 'ใจดี', 'ใจมา', 'ใช้ได้', 'ใส่', 'ได้ยิน', 'ชอค', 'ต', 'นัด', 'นิ', 'มะนาว', 'มุ', 'ลงเอย', 'ว', 'วันก่อน', 'ห', 'หา', 'อยุ่', 'อาหารสด', 'เบอร์', 'แกงค์', 'แล', 'โก', 'กินที่', 'ขยัน', 'จอง', 'ชู', 'ณ์', 'บุฟเฟต์', 'ป', 'ประตู', 'พลาด', 'พอได้', 'พี่', 'รอบ', 'ร้อย', 'สาม', 'สุดท้าย', 'หลายครั้ง', 'หล่ะ', 'อาราม', 'เข้าหน้า', 'เต็ม', 'โชคดี', 'ขวัญใจ', 'ข้อดี', 'ต้องการ', 'ทั่วถึง', 'นํ้า', 'บ', 'ฟเฟ', 'มี่', 'ระบบ', 'รีวิว', 'สวัสดี', 'เก้', 'ใช้แล้ว', '^^', 'xx', 'กลยุทธ์', 'ขนาด', 'ข้น', 'ข้าวปั้น', 'ค่า', 'ชอป', 'ซุ้ม', 'ดีขึ้น', 'ตรงข้าม', 'ตรงนี้', 'ต้ม', 'ต้มยำ', 'ท่าน', 'นัล', 'บริเวณ', 'บัตรสมาชิก', 'ปรับปรุง', 'มันดี', 'มากขึ้น', 'ยอด', 'ลาน', 'สลัด', 'หมู่คณะ', 'ออกร้าน', 'อิอิ', 'เครือ', 'เคลื่อนตัว', 'เคาน์เตอร์', 'เบา', 'เป็นแนว', 'แมค', 'โชคชะตา', 'โด', 'โน้น', 'โออิชิ', '199', '39', '40', '49', 'HALL', 'MCC', 'ค่ายมวย', 'ด้านใน', 'ตอนแรก', 'ตัวเลือก', 'ติดกับ', 'ที่ไหนได้', 'นม', 'นา', 'น้ำดื่ม', 'พิซ', 'พิซซ่า', 'ฟี', 'ยู', 'รี', 'หลังจากที่', 'อลล์', 'อเรีย', 'เซ', 'แกงเขียวหวาน', 'แน่นอน', 'แวะ', '10', '300', '6', 'VAT', 'กำ', 'ค่าน้ำ', 'ช่อง', 'ซี', 'ซึป', 'ถูกหวย', 'ทอน', 'นึง', 'ฟรี', 'ฟู้ด', 'รับประกัน', 'ลอตเตอรี่', 'สัปดาห์', 'หวย', 'หัว', 'ฮัน', 'เงิน', 'แลก', 'โทส', 'ได้เวลา', 'Narai', 'mall', 'pizza', 'pizzeria', 'union', 'ของสด', 'ขึ้นใจ', 'ข้าวมันไก่', 'จำได้', 'ชื่อ', 'ตตี้', 'ตัดกำลัง', 'ตู้', 'นิว', 'บางส่วน', 'ปรุง', 'รู้จัก', 'ลี', 'สปา', 'สุก', 'เก', '😆', '🤣', '128', '255', '29', 'ครีม', 'จบ', 'จุก', 'ชาต', 'บรา', 'บุพ', 'ปิดท้าย', 'ย', 'วิป', 'สมราคา', 'สวย', 'เ', 'เซต', 'เด็ด', 'เป้ง', 'เฟ่', 'เรย', 'เริส', 'เเบบ', 'โชค', '%', '7', 'ทดแทน', 'ปรกติ', 'สดๆ ร้อนๆ', 'เงินสด', 'โดยเฉพาะ'])\n"
          ],
          "name": "stdout"
        }
      ]
    },
    {
      "cell_type": "code",
      "metadata": {
        "id": "ynpcQRE8mFbk"
      },
      "source": [
        "gensim_corpus = [dictionary.doc2bow(text, allow_update=True) for text in texts]\n",
        "word_frequencies = [[(dictionary[id], frequence) for id, frequence in couple] for couple in gensim_corpus]"
      ],
      "execution_count": 11,
      "outputs": []
    },
    {
      "cell_type": "code",
      "metadata": {
        "id": "7Ig1SalSmK3M",
        "outputId": "1ee3f29c-9e31-4926-d0a8-35c581841f6e",
        "colab": {
          "base_uri": "https://localhost:8080/"
        }
      },
      "source": [
        "num_topics = 5\n",
        "chunksize = 1000 # size of the doc looked at every pass\n",
        "passes = 20 # number of passes through documents\n",
        "iterations = 50\n",
        "eval_every = 1  # Don't evaluate model perplexity, takes too much time.\n",
        "\n",
        "temp = dictionary[0]  # This is only to \"load\" the dictionary.\n",
        "id2word = dictionary.id2token\n",
        "\n",
        "%time model = gensim.models.LdaModel(corpus=gensim_corpus, id2word=id2word, chunksize=chunksize, \\\n",
        "                       alpha='auto', eta='auto', \\\n",
        "                       iterations=iterations, num_topics=num_topics, \\\n",
        "                       passes=passes, eval_every=eval_every)"
      ],
      "execution_count": 19,
      "outputs": [
        {
          "output_type": "stream",
          "text": [
            "CPU times: user 292 ms, sys: 3.81 ms, total: 296 ms\n",
            "Wall time: 296 ms\n"
          ],
          "name": "stdout"
        }
      ]
    },
    {
      "cell_type": "code",
      "metadata": {
        "id": "h-Ubt3MpmUl9",
        "outputId": "42f53fa9-09bd-4784-9e42-ac04b1b2d809",
        "colab": {
          "base_uri": "https://localhost:8080/",
          "height": 881
        }
      },
      "source": [
        "vis = pyLDAvis.gensim.prepare(model, gensim_corpus, dictionary)\n",
        "vis"
      ],
      "execution_count": 20,
      "outputs": [
        {
          "output_type": "execute_result",
          "data": {
            "text/html": [
              "\n",
              "<link rel=\"stylesheet\" type=\"text/css\" href=\"https://cdn.rawgit.com/bmabey/pyLDAvis/files/ldavis.v1.0.0.css\">\n",
              "\n",
              "\n",
              "<div id=\"ldavis_el6051396484080757283182745718\"></div>\n",
              "<script type=\"text/javascript\">\n",
              "\n",
              "var ldavis_el6051396484080757283182745718_data = {\"mdsDat\": {\"x\": [0.04477664026505128, -0.04351529381926782, -0.0011342074836166757, 0.0023045339988142107, -0.002431672960980971], \"y\": [0.014935906746669251, 0.0157134624252982, -0.02566191470402968, -0.0055397880985486375, 0.0005523336306108632], \"topics\": [1, 2, 3, 4, 5], \"cluster\": [1, 1, 1, 1, 1], \"Freq\": [57.72628343305845, 21.05522714954163, 8.313139710594125, 7.544212686546023, 5.3611370202597755]}, \"tinfo\": {\"Term\": [\"\\u0e0a\\u0e32\\u0e1a\\u0e39\", \"\\u0e17\\u0e32\\u0e19\", \"\\u0e19\\u0e49\\u0e33\", \"\\u0e2d\\u0e23\\u0e48\\u0e2d\\u0e22\", \"\\u0e40\\u0e25\\u0e37\\u0e2d\\u0e01\", \"\\u0e40\\u0e19\\u0e37\\u0e49\\u0e2d\", \"\\u0e2a\\u0e32\\u0e02\\u0e32\", \"\\u0e01\\u0e34\\u0e19\", \"\\u0e23\\u0e32\\u0e04\\u0e32\", \"\\u0e0b\\u0e38\\u0e1b\", \"\\u0e14\\u0e35\", \"\\u0e01\\u0e38\\u0e49\\u0e07\", \"\\u0e1a\\u0e32\\u0e17\", \"\\u0e2a\\u0e31\\u0e48\\u0e07\", \"\\u0e0a\\u0e2d\\u0e1a\", \"\\u0e2d\\u0e32\\u0e2b\\u0e32\\u0e23\", \"\\u0e1a\\u0e23\\u0e34\\u0e01\\u0e32\\u0e23\", \"\", \"\\u0e21\", \"\\u0e1b\\u0e38\\u0e23\\u0e30\", \"\\u0e40\\u0e17\", \"\\u0e0a\\u0e34\", \"\\u0e23\\u0e2a\\u0e0a\\u0e32\\u0e15\\u0e34\", \"\\u0e04\\u0e19\", \"\\u0e0b\\u0e39\\u0e0a\\u0e34\", \"\\u0e40\\u0e21\\u0e19\\u0e39\", \"\\u0e14\\u0e35\\u0e21\\u0e32\\u0e01\", \"\\u0e04\\u0e38\\u0e49\\u0e21\", \"\\u0e2b\\u0e19\\u0e49\\u0e32\", \"2\", \"\\u200b\", \"-\", \"\\u0e19\\u0e38\\u0e48\\u0e21\", \"1\", \"\\u0e40\\u0e27\\u0e25\\u0e32\", \"\\u0e44\\u0e01\\u0e48\", \"\\u0e2a\\u0e33\\u0e2b\\u0e23\\u0e31\\u0e1a\", \"\\u0e2a\\u0e44\\u0e25\\u0e14\\u0e4c\", \"\\u0e23\\u0e39\\u0e49\\u0e2a\\u0e36\\u0e01\", \"\\u0e01\\u0e25\\u0e31\\u0e1a\\u0e21\\u0e32\", \"\\\"\", \"\\u0e40\\u0e19\\u0e37\\u0e49\\u0e2d\\u0e2b\\u0e21\\u0e39\", \"\\u0e40\\u0e1b\\u0e47\\u0e14\", \"\\u0e42\\u0e0b\\u0e19\", \"\\u0e40\\u0e2b\\u0e47\\u0e14\", \"15\", \"\\u0e19\\u0e30\\u0e04\\u0e30\", \"\\u0e43\\u0e0a\\u0e49\\u0e44\\u0e14\\u0e49\", \"\\u0e2b\\u0e34\\u0e27\", \"399\", \"\\u0e15\\u0e2d\\u0e19\\u0e19\\u0e35\\u0e49\", \"\\u0e27\", \"\\u0e1b\\u0e23\\u0e30\\u0e17\\u0e31\\u0e1a\\u0e43\\u0e08\", \"\\u0e1a\\u0e39\", \"\\u0e40\\u0e1a\", \"\\u0e2a\\u0e15\\u0e2d\", \"\\u0e2a\\u0e23\\u0e38\\u0e1b\", \"\\u0e2d\\u0e34\\u0e48\\u0e21\", \"\\u0e23\\u0e35\\u0e48\", \"\\u0e44\\u0e1c\\u0e48\", \"\\u0e2a\\u0e14\", \"\\u0e23\\u0e2a\\u0e0a\\u0e32\\u0e15\\u0e34\", \"\\u0e04\\u0e38\\u0e49\\u0e21\", \"\\u0e01\\u0e38\\u0e49\\u0e07\", \"\\u0e01\\u0e34\\u0e19\", \"\\u0e14\\u0e35\", \"\\u0e02\\u0e2d\\u0e07\\u0e2b\\u0e27\\u0e32\\u0e19\", \"\\u0e2d\\u0e23\\u0e48\\u0e2d\\u0e22\", \"\\u0e2d\\u0e32\\u0e2b\\u0e32\\u0e23\", \"\\u0e0b\\u0e38\\u0e1b\", \":\", \"\\u0e44\\u0e2d\\u0e15\\u0e34\\u0e21\", \"\\u0e23\\u0e32\\u0e04\\u0e32\", \"\\u0e19\\u0e49\\u0e33\", \"\\u0e40\\u0e19\\u0e37\\u0e49\\u0e2d\", \"\\u0e17\\u0e32\\u0e19\", \"\", \"\\u0e25\\u0e2d\\u0e07\", \"\\u0e2a\\u0e31\\u0e48\\u0e07\", \"\\u0e1a\\u0e32\\u0e17\", \"\\u0e0a\\u0e32\\u0e1a\\u0e39\", \"\\u0e04\\u0e19\", \"\\u0e0b\\u0e39\\u0e0a\\u0e34\", \"\\u0e40\\u0e25\\u0e37\\u0e2d\\u0e01\", \"\\u0e2a\\u0e32\\u0e02\\u0e32\", \"\\u0e0a\\u0e2d\\u0e1a\", \"\\u0e0a\\u0e38\\u0e14\", \"\\u0e1a\\u0e38\\u0e1f\\u0e40\\u0e1f\\u0e15\\u0e4c\", \"\\u0e15\\u0e49\\u0e21\\u0e22\\u0e33\", \"\\u0e41\\u0e1a\\u0e48\\u0e07\", \"\\u0e2a\\u0e38\\u0e01\\u0e35\\u0e49\", \"\\u0e04\\u0e48\\u0e32\", \"\\u0e0a\\u0e39\", \"\\u0e1b\\u0e23\\u0e30\\u0e15\\u0e39\", \"\\u0e04\\u0e48\\u0e32\\u0e19\\u0e49\\u0e33\", \"\\u0e2b\\u0e27\\u0e22\", \"\\u0e0b\\u0e35\", \"\\u0e40\\u0e07\\u0e34\\u0e19\", \"\\u0e1f\\u0e39\\u0e49\\u0e14\", \"\\u0e2b\\u0e31\\u0e27\", \"6\", \"\\u0e42\\u0e17\\u0e2a\", \"\\u0e25\\u0e2d\\u0e15\\u0e40\\u0e15\\u0e2d\\u0e23\\u0e35\\u0e48\", \"\\u0e23\\u0e31\\u0e1a\\u0e1b\\u0e23\\u0e30\\u0e01\\u0e31\\u0e19\", \"\\u0e19\\u0e36\\u0e07\", \"\\u0e1f\\u0e23\\u0e35\", \"\\u0e0a\\u0e48\\u0e2d\\u0e07\", \"10\", \"\\u0e2a\\u0e31\\u0e1b\\u0e14\\u0e32\\u0e2b\\u0e4c\", \"\\u0e41\\u0e25\\u0e01\", \"\\u0e01\\u0e33\", \"\\u0e2e\\u0e31\\u0e19\", \"\\u0e16\\u0e39\\u0e01\\u0e2b\\u0e27\\u0e22\", \"\\u0e01\\u0e34\\u0e19\\u0e17\\u0e35\\u0e48\", \"\\u0e0b\\u0e36\\u0e1b\", \"300\", \"\\u0e2b\\u0e21\\u0e49\\u0e2d\", \"\\u0e42\\u0e21\", \"3\", \"\\u0e40\\u0e25\\u0e37\\u0e2d\\u0e01\", \"\\u0e1a\\u0e38\\u0e1f\\u0e40\\u0e1f\\u0e48\\u0e15\\u0e4c\", \"\\u0e23\\u0e2d\", \"\\u0e2b\\u0e19\\u0e49\\u0e32\", \"\\u0e04\\u0e34\\u0e27\", \"\\u0e2b\\u0e49\\u0e32\\u0e07\", \"\\u0e01\\u0e30\\u0e1b\\u0e34\", \"\\u0e41\\u0e19\\u0e30\\u0e19\\u0e33\", \"\\u0e2a\\u0e32\\u0e22\\u0e1e\\u0e32\\u0e19\", \"\\u0e19\\u0e49\\u0e33\", \"\\u0e17\\u0e32\\u0e19\", \"\\u0e1a\\u0e32\\u0e17\", \"/\", \"\\u0e04\\u0e19\", \"\\u0e40\\u0e14\\u0e2d\\u0e30\", \"\\u0e1c\\u0e31\\u0e01\", \"\\u0e0a\\u0e34\", \":\", \"\\u0e0a\\u0e32\\u0e1a\\u0e39\", \"\\u0e2a\\u0e32\\u0e02\\u0e32\", \"\\u0e01\\u0e34\\u0e19\", \"\\u0e2d\\u0e32\\u0e2b\\u0e32\\u0e23\", \"\\u0e40\\u0e19\\u0e37\\u0e49\\u0e2d\", \"\\u0e23\\u0e32\\u0e04\\u0e32\", \"\\u0e0b\\u0e38\\u0e1b\", \"\\u0e14\\u0e35\", \"\\u0e14\\u0e33\", \"\\u0e2d\\u0e23\\u0e48\\u0e2d\\u0e22\", \"\\u0e40\\u0e21\\u0e19\\u0e39\", \"\\u0e19\\u0e36\\u0e01\\u0e16\\u0e36\\u0e07\", \"\\u0e40\\u0e01\\u0e34\\u0e19\\u0e44\\u0e1b\", \"\\u0e42\\u0e21\\u0e48\", \"\\u0e16\\u0e49\\u0e27\\u0e22\", \"\\u0e44\\u0e27\", \"\\u0e42\\u0e2b\\u0e14\", \"\\u0e2a\", \"\\u0e40\\u0e25\\u0e35\\u0e48\\u0e22\\u0e19\", \"\\u0e1b\\u0e23\\u0e01\\u0e15\\u0e34\", \"%\", \"\\u0e42\\u0e14\\u0e22\\u0e40\\u0e09\\u0e1e\\u0e32\\u0e30\", \"\\u0e2a\\u0e14\\u0e46 \\u0e23\\u0e49\\u0e2d\\u0e19\\u0e46\", \"\\u0e17\\u0e14\\u0e41\\u0e17\\u0e19\", \"7\", \"\\u0e40\\u0e07\\u0e34\\u0e19\\u0e2a\\u0e14\", \"\\u0e17\\u0e33\\u0e07\\u0e32\\u0e19\", \"\\u0e1e\\u0e19\\u0e31\\u0e01\\u0e07\\u0e32\\u0e19\\u0e1a\\u0e23\\u0e34\\u0e01\\u0e32\\u0e23\", \"Terminal\", \"\\u0e17\\u0e35\\u0e48\\u0e17\\u0e32\\u0e07\", \"           \", \"9\", \"\\u0e40\\u0e08\\u0e2d\", \"\\u0e2d\\u0e2d\\u0e23\\u0e4c\\u0e40\\u0e14\\u0e2d\\u0e23\\u0e4c\", \"\\u0e41\\u0e08\\u0e49\\u0e07\", \"\\u0e40\\u0e2b\\u0e27\\u0e35\\u0e48\\u0e22\\u0e07\", \"\\u0e40\\u0e1b\\u0e47\\u0e19\\u0e01\\u0e31\\u0e19\\u0e40\\u0e2d\\u0e07\", \"\\u0e1e\\u0e23\\u0e35\\u0e40\\u0e21\\u0e35\\u0e22\\u0e21\", \"\\u0e40\\u0e04\\u0e49\\u0e32\", \"\\u0e2a\\u0e39\\u0e49\", \"\\u0e40\\u0e04\\u0e23\\u0e37\\u0e48\\u0e2d\\u0e07\\u0e14\\u0e37\\u0e48\\u0e21\", \"\\u0e08\\u0e48\\u0e32\\u0e22\", \"\", \"\\u0e2a\\u0e32\\u0e02\\u0e32\", \"\\u0e42\\u0e2d\\u0e40\\u0e04\", \"\\u0e2a\\u0e31\\u0e48\\u0e07\", \"\\u0e0a\\u0e32\\u0e1a\\u0e39\", \"3\", \"\\u0e2d\\u0e23\\u0e48\\u0e2d\\u0e22\", \"\\u0e23\\u0e32\\u0e04\\u0e32\", \"\\u0e42\\u0e21\", \"\\u0e40\\u0e19\\u0e37\\u0e49\\u0e2d\", \"\\u0e0a\\u0e2d\\u0e1a\", \"\\u0e1a\\u0e23\\u0e34\\u0e01\\u0e32\\u0e23\", \"\\u0e17\\u0e32\\u0e19\", \"\\u0e19\\u0e49\\u0e33\", \"\\u0e14\\u0e35\", \"\\u0e0b\\u0e39\\u0e0a\\u0e34\", \"\\u0e2d\\u0e32\\u0e2b\\u0e32\\u0e23\", \"\\u0e23\\u0e2a\", \"\\u0e01\\u0e34\\u0e19\", \"\\u0e1a\\u0e32\\u0e17\", \"\\u0e40\\u0e25\\u0e37\\u0e2d\\u0e01\", \"\\u0e2b\\u0e19\\u0e49\\u0e32\", \"\\u0e14\\u0e39\", \"2\", \"\\u0e0b\\u0e38\\u0e1b\", \"\\u0e25\\u0e39\\u0e01\\u0e04\\u0e49\\u0e32\", \"\\u0e25\\u0e2d\\u0e07\", \"\\u0e02\\u0e2d\\u0e07\\u0e2b\\u0e27\\u0e32\\u0e19\", \"\\u0e1e\\u0e19\\u0e31\\u0e01\\u0e07\\u0e32\\u0e19\", \"\\u0e23\\u0e2a\\u0e0a\\u0e32\\u0e15\\u0e34\", \":\", \"\\u0e2d\\u0e32\\u0e2b\\u0e32\\u0e23\\u0e40\\u0e2a\\u0e23\\u0e34\\u0e21\", \"\\u0e2a\\u0e21\\u0e43\\u0e08\", \"\\u0e0a\\u0e31\\u0e48\\u0e27\\u0e04\\u0e23\\u0e32\\u0e27\", \"\\u0e14\\u0e36\\u0e01\", \"\\u0e0d\\u0e35\\u0e48\", \"\\u0e0a\\u0e37\\u0e48\\u0e19\\u0e43\\u0e08\", \"\\u0e01\\u0e25\\u0e32\\u0e22\", \"\\u0e40\\u0e1b\\u0e47\\u0e19\\u0e21\\u0e32\", \"\\u0e1b\\u0e25\\u0e32\", \"\\u0e01\\u0e35\\u0e48\", \"\\u0e40\\u0e22\\u0e47\\u0e19\", \"\\u0e0b\\u0e30\\u0e07\\u0e31\\u0e49\\u0e19\", \"\\u0e19\\u0e49\\u0e30\", \"\\u0e19\\u0e1e\", \"\\u0e17\\u0e32\\u0e19\\u0e2d\\u0e32\\u0e2b\\u0e32\\u0e23\", \"\\u0e27\\u0e01\", \"\\u0e1b\\u0e38\", \"\\u0e2a\\u0e38\\u0e01\\u0e35\\u0e49\\u0e22\\u0e32\\u0e01\\u0e35\\u0e49\", \"\\u0e40\\u0e1f\\u0e23\\u0e19\\u0e44\\u0e0a\\u0e2a\\u0e4c\", \"\\u0e2d\\u0e2d\\u0e2a\\u0e40\\u0e15\\u0e23\\u0e40\\u0e25\\u0e35\\u0e22\", \"\\u0e15\\u0e2d\\u0e19\\u0e17\\u0e35\\u0e48\", \"\\u0e1a\\u0e4a\\u0e27\\u0e22\", \"\\u0e44\\u0e02\\u0e48\\u0e44\\u0e01\\u0e48\", \"\\u0e23\\u0e49\\u0e2d\\u0e19\", \"\\u0e01\\u0e32\\u0e41\\u0e1f\", \"\\u0e17\\u0e31\\u0e48\\u0e27\\u0e44\\u0e1b\", \"\\u0e15\\u0e33\", \"\\u0e07\\u0e27\\u0e14\", \"\\u0e42\\u0e0a\", \"\\u0e44\\u0e2d\\u0e28\\u0e04\\u0e23\\u0e35\\u0e21\", \"\\u0e40\\u0e17\", \"\\u0e21\", \"\\u0e1b\\u0e38\\u0e23\\u0e30\", \"\\u0e14\\u0e35\\u0e21\\u0e32\\u0e01\", \"\\u0e0a\\u0e32\\u0e1a\\u0e39\", \"\\u0e41\\u0e19\\u0e30\\u0e19\\u0e33\", \"\\u0e01\\u0e38\\u0e49\\u0e07\", \"\\u0e17\\u0e32\\u0e19\", \"\\u0e19\\u0e49\\u0e33\", \"\\u0e17\\u0e2d\\u0e14\", \"\\u0e0a\\u0e2d\\u0e1a\", \"\\u0e0b\\u0e38\\u0e1b\", \"\\u0e40\\u0e19\\u0e37\\u0e49\\u0e2d\", \"\\u0e01\\u0e34\\u0e19\", \"\\u0e23\\u0e32\\u0e04\\u0e32\", \"\\u0e23\\u0e2a\\u0e0a\\u0e32\\u0e15\\u0e34\", \"\\u0e14\\u0e35\", \"\\u0e1a\\u0e32\\u0e17\", \"\\u0e2d\\u0e23\\u0e48\\u0e2d\\u0e22\", \"\\u0e0a\\u0e34\", \"\\u0e40\\u0e25\\u0e37\\u0e2d\\u0e01\", \"\\u0e40\\u0e21\\u0e19\\u0e39\", \"\\u0e2a\\u0e32\\u0e02\\u0e32\", \"\\u0e0b\\u0e39\\u0e0a\\u0e34\", \"\\u0e19\\u0e49\\u0e33\\u0e08\\u0e34\\u0e49\\u0e21\", \"\\u0e2d\\u0e32\\u0e2b\\u0e32\\u0e23\", \"\\u0e04\\u0e38\\u0e49\\u0e21\", \"\\u0e0a\\u0e32\\u0e40\\u0e02\\u0e35\\u0e22\\u0e27\", \"\\u0e40\\u0e1b\\u0e47\\u0e19\\u0e1b\\u0e01\\u0e15\\u0e34\", \"!!!!\", \"\\u0e44\\u0e2d\\u0e15\\u0e34\\u0e21\", \"\\u0e2b\\u0e21\\u0e39\", \"\\u0e04\\u0e38\\u0e49\\u0e21\\u0e04\\u0e48\\u0e32\", \"\\u0e04\\u0e19\", \":\", \"\\u0e15\\u0e48\\u0e32\\u0e07 \\u0e46\", \"\\u0e19\\u0e4d\\u0e49\\u0e32\", \"\\u0e2a\\u0e1a\\u0e32\\u0e22\\u0e14\\u0e35\", \"\\u0e44\\u0e14\\u0e49\\u0e01\\u0e25\\u0e34\\u0e48\\u0e19\", \"\\u0e41\\u0e04\\u0e1a\", \"\\u0e17\\u0e35\\u0e48\\u0e08\\u0e30\", \"\\u0e23\\u0e35\\u0e27\\u0e34\\u0e27\", \"\\u0e43\\u0e0a\\u0e49\\u0e41\\u0e25\\u0e49\\u0e27\", \"\\u0e1a\\u0e31\\u0e15\\u0e23\\u0e40\\u0e04\\u0e23\\u0e14\\u0e34\\u0e15\", \"\\u0e04\\u0e38\\u0e13\\u0e20\\u0e32\\u0e1e\\u0e14\\u0e35\", \"\\u0e15\\u0e49\\u0e2d\\u0e07\\u0e01\\u0e32\\u0e23\", \"\\u0e02\\u0e49\\u0e2d\\u0e14\\u0e35\", \"\\u0e2a\\u0e27\\u0e31\\u0e2a\\u0e14\\u0e35\", \"\\u0e17\\u0e31\\u0e48\\u0e27\\u0e16\\u0e36\\u0e07\", \"\\u0e02\\u0e19\\u0e21\", \"\\u0e40\\u0e14\\u0e47\\u0e01\", \"\\u0e21\\u0e35\\u0e48\", \"\\u0e40\\u0e2a\\u0e49\\u0e19\", \"\\u0e02\\u0e27\\u0e31\\u0e0d\\u0e43\\u0e08\", \"\\u0e1a\", \"\\u0e15\\u0e31\\u0e14\\u0e2a\\u0e34\\u0e19\\u0e43\\u0e08\", \"\\u0e40\\u0e2b\\u0e21\\u0e37\\u0e2d\\u0e19\\u0e01\\u0e31\\u0e1a\", \"\\u0e1f\\u0e40\\u0e1f\", \"\\u0e23\\u0e30\\u0e1a\\u0e1a\", \"\\u0e40\\u0e01\\u0e49\", \"\\u0e19\\u0e31\\u0e48\\u0e07\", \"\\u0e42\\u0e1b\\u0e23\", \"CTW\", \"\\u0e25\\u0e39\\u0e01\\u0e04\\u0e49\\u0e32\", \"\\u0e40\\u0e14\\u0e34\\u0e19\", \"\\u0e40\\u0e25\\u0e37\\u0e2d\\u0e01\", \"\\u0e0a\\u0e32\\u0e1a\\u0e39\", \"\\u0e2d\\u0e23\\u0e48\\u0e2d\\u0e22\", \"\\u0e2a\\u0e32\\u0e02\\u0e32\", \"\\u0e17\\u0e32\\u0e19\", \"\\u0e40\\u0e19\\u0e37\\u0e49\\u0e2d\", \"\\u0e1a\\u0e23\\u0e34\\u0e01\\u0e32\\u0e23\", \"\\u0e19\\u0e49\\u0e33\", \"\\u0e01\\u0e34\\u0e19\", \"\\u0e0b\\u0e38\\u0e1b\", \"\\u0e0a\\u0e34\", \"\\u0e40\\u0e21\\u0e19\\u0e39\", \"\\u0e2b\\u0e19\\u0e49\\u0e32\", \"\\u0e14\\u0e39\", \"\\u0e04\\u0e19\", \"\\u0e23\\u0e32\\u0e04\\u0e32\", \"\\u0e2a\\u0e31\\u0e48\\u0e07\", \"2\", \"\\u0e14\\u0e35\", \"\\u0e1c\\u0e31\\u0e01\", \"\\u0e2a\\u0e32\\u0e22\\u0e1e\\u0e32\\u0e19\", \"\\u0e1a\\u0e32\\u0e17\", \"\\u0e2d\\u0e32\\u0e2b\\u0e32\\u0e23\", \"\\u0e2b\\u0e22\\u0e34\\u0e1a\", \"\\u0e04\\u0e38\\u0e49\\u0e21\", \"\\u0e25\\u0e2d\\u0e07\", \"\\u0e08\\u0e32\\u0e19\", \"\\u0e1a\\u0e38\", \"\\u0e0a\\u0e2d\\u0e1a\", \"\\u0e23\\u0e2a\\u0e0a\\u0e32\\u0e15\\u0e34\", \":\"], \"Freq\": [18.0, 23.0, 25.0, 20.0, 16.0, 18.0, 12.0, 21.0, 16.0, 16.0, 18.0, 11.0, 14.0, 9.0, 8.0, 16.0, 7.0, 8.0, 5.0, 5.0, 5.0, 7.0, 13.0, 10.0, 7.0, 7.0, 5.0, 9.0, 5.0, 7.0, 8.687359047741367, 11.022283476780377, 5.29621148496717, 4.565481679303694, 4.597011964352376, 3.833034184419257, 3.875665322339938, 3.134680721172965, 3.137321191214298, 3.140754470258284, 3.1444734582760234, 2.381260622609305, 2.382370631554762, 2.383582365872971, 2.3877821160182218, 2.404110660607038, 2.4061222655391417, 2.4346210199671847, 1.6278512118896873, 1.6315104624934085, 1.6326387934572222, 1.636454544634409, 1.6380235583105782, 1.6411056653360565, 1.6437678927741886, 1.6459686343749558, 1.6460596719036669, 1.6480172650524891, 1.648880690167559, 1.650873209663874, 7.120497445311638, 9.88359293842069, 6.725625886187868, 7.674313277099127, 14.12907789515975, 12.310380913831576, 6.013905937987129, 12.908843687267723, 10.581598474172559, 10.084409893786859, 8.51313192151568, 5.260879762818143, 10.286574280919691, 14.490946918718116, 10.786388253852452, 13.115752713737567, 5.37036145667506, 4.530746567877414, 5.671031121834153, 7.822219297120235, 9.445223380882727, 5.814509702461053, 4.715990189348915, 7.093877079473895, 5.963466184867957, 4.542479912091443, 1.4731732557911552, 1.019126436199664, 1.0301969422470083, 1.0324509315276909, 1.0337388359003372, 1.0380289267428557, 1.0399331122576585, 1.0426317177876299, 0.5581739681745271, 0.5593166604764019, 0.559388674803925, 0.5595794831864677, 0.5596188491625085, 0.5598853961514746, 0.5599061755393583, 0.5600463754964692, 0.5600514572228192, 0.5602146989802299, 0.5604517301887517, 0.560733278712354, 0.5607835042679924, 0.5608692322953917, 0.560891856419553, 0.5609576404113453, 0.5613017707430127, 0.561451577251306, 0.5615398461418802, 0.5616258178136936, 0.561805453359535, 0.5618058710356735, 2.1470274337612527, 2.2760496812826614, 1.7841433042560397, 5.725557410341336, 2.799999475517691, 2.264208562760035, 2.109900619498193, 1.7880368812178713, 1.7911986895852887, 1.7887094790260172, 1.2932859904636098, 2.0146342613524855, 5.791051813344439, 5.34131207009176, 3.6768306126456274, 1.2229441774240302, 2.830493453478147, 1.8704482816277626, 2.104982204518195, 2.3208351444441475, 3.2764913754326006, 3.8640196922240566, 2.9235001837153036, 3.8932116344358523, 3.327291096535773, 3.4562026598805153, 3.1403882643375027, 3.013191957667643, 3.162665438853298, 1.9361530541792222, 3.1220447636928212, 1.8034846331952732, 0.7874829670930766, 0.5389340056927557, 0.5489437726018283, 0.29697492477631926, 0.2971525594402694, 0.29728286517163066, 0.29734019859403515, 0.2979249115510018, 0.3019461942444698, 0.3025149659814007, 0.30255501142552504, 0.30267863833538855, 0.3031072372754533, 0.3034678111817448, 0.30412115383945165, 0.3062417758620013, 0.3063110651994326, 0.3063318987249276, 0.3063422330330887, 0.306405008458195, 0.30642614431717347, 0.30643851250513227, 0.3065319885212385, 0.306530834157029, 0.3065612049296833, 0.3065694503883225, 0.3066328579652578, 0.3067342221367955, 0.3067638233333102, 0.3067799019776566, 0.9442721221483397, 1.3477944237024024, 1.5452220362673, 0.7448412479221902, 1.2269743778991282, 1.8216363052598468, 0.7221883894633111, 1.8711896427107186, 1.659938133949159, 0.7612946208788881, 1.6059492894476486, 1.07173921694873, 0.9587381746638214, 1.7188275293685578, 1.7355836205967623, 1.4505872583736557, 0.9085853374001566, 1.316514561748242, 0.74796523232168, 1.3945740988065014, 1.0597127207959616, 1.0381307275354155, 0.6734406333214875, 0.6877046721003092, 0.7073615156777786, 0.9299425044884743, 0.3898533100403689, 0.6259377215552837, 0.67827131771984, 0.6249686053165582, 0.6418914746881712, 0.6273373057046988, 0.27288659189946896, 0.2729050494525796, 0.27308116942895033, 0.27311648820625395, 0.2731518319261969, 0.27317884480460075, 0.27323232182334295, 0.27339143091968465, 0.27339355104402846, 0.2734478012845902, 0.2734790045264029, 0.2735728636782345, 0.2737385326887223, 0.2737675409782732, 0.273842119469896, 0.2739307656101058, 0.27466363023915613, 0.2788983416608054, 0.27928709763753873, 0.2792897415573086, 0.2793405497136416, 0.2793683856991436, 0.27957745490208075, 0.27959162232122514, 0.2796652280499137, 0.2798560142982156, 0.27993455866949324, 0.2800714438741841, 0.28012594354113923, 0.28017899653501266, 1.140927006796216, 1.141059402325826, 1.1410249814835385, 0.9762683727427668, 2.0973918218390546, 0.6333917870385529, 1.3461869698535627, 2.002224678000527, 2.0173824196972245, 0.7371252808168499, 0.9930035867218027, 1.2709899007751877, 1.2831563216212716, 1.2919927005745213, 1.128654529847664, 1.0041574361812917, 1.1394173784928794, 0.9818740812783082, 1.1197644743345572, 0.7274065809396322, 0.9618772680087838, 0.6786356396172877, 0.8176094411558533, 0.6372183869953421, 0.6121029949365615, 0.8105301214881803, 0.6433981254326249, 0.4377119425542582, 0.2815019042402597, 0.28060671291439304, 0.6007357861401691, 0.5212242889648183, 0.4834660217633058, 0.5672520886979691, 0.581198865254772, 0.38037661825767566, 0.3819219161715623, 0.2098847690053548, 0.20994618600968618, 0.21001511839925174, 0.2101189335202817, 0.2102329227713221, 0.21036977722743824, 0.21040777955277346, 0.210488357244459, 0.21070238619894707, 0.21070603754177314, 0.21092754643156508, 0.2109549669526908, 0.21095861829551685, 0.21101177546607666, 0.21115068601815312, 0.21115876860227292, 0.21127133985609933, 0.2112906423431749, 0.21132619862331595, 0.2113534596197551, 0.21139355349098093, 0.2114069003897577, 0.21201385637224515, 0.4519312037212998, 0.2649572461270871, 0.2703291867726039, 0.2728833897042514, 0.2658706844824154, 1.345166041094344, 1.4296820782420459, 1.3096245081243245, 0.9269199638404255, 1.3576062724524858, 1.1240099490092432, 0.671075973108133, 1.214632591159035, 0.9760578212971606, 0.8054223466520267, 0.5494032332638054, 0.5126153870924711, 0.47136255129369437, 0.4813098371998333, 0.5831894274826144, 0.6978665489715348, 0.5494624346474898, 0.4950303073426347, 0.7060881677181663, 0.46955641279229243, 0.4361050786155694, 0.5870372338226636, 0.6122401491054105, 0.4061758368188398, 0.48600603127301856, 0.43811423886808576, 0.36877378515426157, 0.3925603693697351, 0.4408302352818506, 0.44928653256739914, 0.43906964994094844], \"Total\": [18.0, 23.0, 25.0, 20.0, 16.0, 18.0, 12.0, 21.0, 16.0, 16.0, 18.0, 11.0, 14.0, 9.0, 8.0, 16.0, 7.0, 8.0, 5.0, 5.0, 5.0, 7.0, 13.0, 10.0, 7.0, 7.0, 5.0, 9.0, 5.0, 7.0, 9.788334406772393, 12.645785494382968, 6.28278647253506, 5.449962009252446, 5.529785189656268, 4.612559303609907, 4.720414612492875, 3.8614224485488635, 3.868196129254707, 3.8768385707919446, 3.886258032538589, 2.971458858883021, 2.9744518283431205, 2.9773700095723914, 2.988007864944255, 3.0291223423146856, 3.0342323380990317, 3.1065978625454007, 2.0818724721525803, 2.0910599689085845, 2.0938868844934073, 2.1035170595424515, 2.1077050012029974, 2.1151898325928777, 2.121874590099023, 2.127392506239215, 2.127712429301157, 2.1325730429761203, 2.13471756544902, 2.1397490388094127, 9.27731857130374, 13.611369206602866, 9.224134492019854, 11.064414015121358, 21.684914150273787, 18.769139157269578, 8.719126937237018, 20.331467076130142, 16.648174403050167, 16.103956603370193, 13.4372291178487, 7.814521931654361, 16.913421758025553, 25.249597363515576, 18.25570647381113, 23.535723263650898, 8.350473566305112, 6.736232059998794, 9.037343642201796, 14.127673945662794, 18.65795327844773, 10.407701253852311, 7.471348191400058, 16.164608526453776, 12.17671780984684, 8.657418422172931, 2.125194628543039, 1.5639073481971084, 1.6081330449993896, 1.6170588671007684, 1.6222527406378588, 1.6395020746066908, 1.6469913201601225, 1.6577740107295784, 0.9751235355695358, 0.9796848311559216, 0.9799724255127481, 0.9807342701482613, 0.9808916206292106, 0.9819560257963423, 0.9820391447519018, 0.9825990306110065, 0.9826193581528267, 0.9832714152699114, 0.9842184876413612, 0.9853433419851174, 0.9855440849058958, 0.9858864559246909, 0.9859769075172572, 0.9862399809443303, 0.9876152505697201, 0.9882141747554809, 0.9885669366127461, 0.9888803811313962, 0.989629128599358, 0.9896307279587412, 4.224335012126571, 4.515575643680894, 3.8035682672958453, 16.164608526453776, 6.901247156295247, 5.35077127876244, 5.695097217269357, 4.700902643220053, 4.713918772436212, 4.705195140939797, 3.063305721872455, 5.758527378226205, 25.249597363515576, 23.535723263650898, 14.127673945662794, 3.037527135204844, 10.407701253852311, 5.693439858514798, 6.780409794047928, 7.843821309264606, 13.4372291178487, 18.65795327844773, 12.17671780984684, 21.684914150273787, 16.648174403050167, 18.25570647381113, 16.913421758025553, 16.103956603370193, 18.769139157269578, 6.617870531805526, 20.331467076130142, 7.030247617179387, 1.600030166836502, 1.1713095069796275, 1.2469064103305316, 0.792455462079046, 0.7937982317070917, 0.7947834350544001, 0.7952167933087485, 0.7996393728545538, 0.8300239194616079, 0.8343312257900666, 0.8346371542194423, 0.8355722145558583, 0.8388226137314343, 0.8415580465296215, 0.8465197026228574, 0.8625646601651707, 0.8630887536342874, 0.8632775580552591, 0.8633476196602504, 0.8638250380135136, 0.8639620556267452, 0.8640791121551741, 0.8648032871230169, 0.864822660912178, 0.8649788464202667, 0.8650514759968548, 0.8655506074307734, 0.8663463265441318, 0.8665470580793239, 0.8666627053006258, 4.105184154571036, 8.350473566305112, 12.17671780984684, 3.801109416994438, 9.037343642201796, 18.65795327844773, 3.8035682672958453, 20.331467076130142, 16.913421758025553, 4.515575643680894, 18.25570647381113, 8.657418422172931, 7.290563402025766, 23.535723263650898, 25.249597363515576, 18.769139157269578, 7.471348191400058, 16.648174403050167, 5.395461297436744, 21.684914150273787, 14.127673945662794, 16.164608526453776, 5.695097217269357, 6.046965317116972, 7.102908409052215, 16.103956603370193, 1.646045641242472, 6.736232059998794, 8.719126937237018, 6.992124856875045, 13.611369206602866, 13.4372291178487, 0.7577026216020121, 0.7578527848754341, 0.7592861389600765, 0.759574158895802, 0.7598615941867981, 0.7600815149607583, 0.7605168852384697, 0.7618121512846474, 0.7618294663535742, 0.7622710626697901, 0.7625256006194934, 0.7632896496915228, 0.7646391518069477, 0.7648746044152571, 0.7654822208054723, 0.7662039094070543, 0.7721735103824198, 0.8067510482446155, 0.8099605971357193, 0.8100138389890943, 0.8103826004103636, 0.8106611660859602, 0.81234576908133, 0.8124880967601167, 0.8130745572687256, 0.8146309172997501, 0.8152738993216625, 0.8163729956558361, 0.8168697808467512, 0.8172975625213834, 5.420731239597141, 5.421765909989522, 5.4215622394824905, 5.296945675108055, 18.65795327844773, 3.063305721872455, 11.064414015121358, 23.535723263650898, 25.249597363515576, 4.812449753030968, 8.657418422172931, 16.103956603370193, 18.25570647381113, 21.684914150273787, 16.913421758025553, 13.611369206602866, 18.769139157269578, 14.127673945662794, 20.331467076130142, 7.843821309264606, 16.164608526453776, 7.030247617179387, 12.17671780984684, 7.471348191400058, 6.999377149887543, 16.648174403050167, 9.224134492019854, 2.9795423930913336, 0.8281607132558831, 0.8207835292120012, 7.814521931654361, 5.1805624775264105, 4.210809777699175, 10.407701253852311, 13.4372291178487, 1.0728507360004915, 1.089578003622276, 0.7480156838883615, 0.7486827811216007, 0.749428554074608, 0.7505571512546441, 0.7518000563973788, 0.7532697389858292, 0.7536684397118112, 0.7545540891037642, 0.7568681957118212, 0.7568918172364576, 0.759299263176472, 0.7596198172660126, 0.7596455052708343, 0.7602115767753699, 0.7617096732252787, 0.7618160643651168, 0.7630207327335159, 0.7632403902234199, 0.7636157257448861, 0.7639103612960967, 0.7643498329536125, 0.7644991521274352, 0.7710865711015, 2.5047977297087645, 1.5606792538854357, 1.6184903479246482, 1.646045641242472, 1.7675749811792905, 16.164608526453776, 18.65795327844773, 20.331467076130142, 12.17671780984684, 23.535723263650898, 18.25570647381113, 7.290563402025766, 25.249597363515576, 21.684914150273787, 16.103956603370193, 7.843821309264606, 7.030247617179387, 5.695097217269357, 6.046965317116972, 10.407701253852311, 16.913421758025553, 9.037343642201796, 7.102908409052215, 18.769139157269578, 6.780409794047928, 5.758527378226205, 14.127673945662794, 16.648174403050167, 5.018704455175951, 9.224134492019854, 6.736232059998794, 4.199174944510138, 5.117156872043263, 8.657418422172931, 13.611369206602866, 13.4372291178487], \"Category\": [\"Default\", \"Default\", \"Default\", \"Default\", \"Default\", \"Default\", \"Default\", \"Default\", \"Default\", \"Default\", \"Default\", \"Default\", \"Default\", \"Default\", \"Default\", \"Default\", \"Default\", \"Default\", \"Default\", \"Default\", \"Default\", \"Default\", \"Default\", \"Default\", \"Default\", \"Default\", \"Default\", \"Default\", \"Default\", \"Default\", \"Topic1\", \"Topic1\", \"Topic1\", \"Topic1\", \"Topic1\", \"Topic1\", \"Topic1\", \"Topic1\", \"Topic1\", \"Topic1\", \"Topic1\", \"Topic1\", \"Topic1\", \"Topic1\", \"Topic1\", \"Topic1\", \"Topic1\", \"Topic1\", \"Topic1\", \"Topic1\", \"Topic1\", \"Topic1\", \"Topic1\", \"Topic1\", \"Topic1\", \"Topic1\", \"Topic1\", \"Topic1\", \"Topic1\", \"Topic1\", \"Topic1\", \"Topic1\", \"Topic1\", \"Topic1\", \"Topic1\", \"Topic1\", \"Topic1\", \"Topic1\", \"Topic1\", \"Topic1\", \"Topic1\", \"Topic1\", \"Topic1\", \"Topic1\", \"Topic1\", \"Topic1\", \"Topic1\", \"Topic1\", \"Topic1\", \"Topic1\", \"Topic1\", \"Topic1\", \"Topic1\", \"Topic1\", \"Topic1\", \"Topic1\", \"Topic2\", \"Topic2\", \"Topic2\", \"Topic2\", \"Topic2\", \"Topic2\", \"Topic2\", \"Topic2\", \"Topic2\", \"Topic2\", \"Topic2\", \"Topic2\", \"Topic2\", \"Topic2\", \"Topic2\", \"Topic2\", \"Topic2\", \"Topic2\", \"Topic2\", \"Topic2\", \"Topic2\", \"Topic2\", \"Topic2\", \"Topic2\", \"Topic2\", \"Topic2\", \"Topic2\", \"Topic2\", \"Topic2\", \"Topic2\", \"Topic2\", \"Topic2\", \"Topic2\", \"Topic2\", \"Topic2\", \"Topic2\", \"Topic2\", \"Topic2\", \"Topic2\", \"Topic2\", \"Topic2\", \"Topic2\", \"Topic2\", \"Topic2\", \"Topic2\", \"Topic2\", \"Topic2\", \"Topic2\", \"Topic2\", \"Topic2\", \"Topic2\", \"Topic2\", \"Topic2\", \"Topic2\", \"Topic2\", \"Topic2\", \"Topic2\", \"Topic2\", \"Topic2\", \"Topic2\", \"Topic2\", \"Topic2\", \"Topic3\", \"Topic3\", \"Topic3\", \"Topic3\", \"Topic3\", \"Topic3\", \"Topic3\", \"Topic3\", \"Topic3\", \"Topic3\", \"Topic3\", \"Topic3\", \"Topic3\", \"Topic3\", \"Topic3\", \"Topic3\", \"Topic3\", \"Topic3\", \"Topic3\", \"Topic3\", \"Topic3\", \"Topic3\", \"Topic3\", \"Topic3\", \"Topic3\", \"Topic3\", \"Topic3\", \"Topic3\", \"Topic3\", \"Topic3\", \"Topic3\", \"Topic3\", \"Topic3\", \"Topic3\", \"Topic3\", \"Topic3\", \"Topic3\", \"Topic3\", \"Topic3\", \"Topic3\", \"Topic3\", \"Topic3\", \"Topic3\", \"Topic3\", \"Topic3\", \"Topic3\", \"Topic3\", \"Topic3\", \"Topic3\", \"Topic3\", \"Topic3\", \"Topic3\", \"Topic3\", \"Topic3\", \"Topic3\", \"Topic3\", \"Topic3\", \"Topic3\", \"Topic3\", \"Topic3\", \"Topic3\", \"Topic3\", \"Topic4\", \"Topic4\", \"Topic4\", \"Topic4\", \"Topic4\", \"Topic4\", \"Topic4\", \"Topic4\", \"Topic4\", \"Topic4\", \"Topic4\", \"Topic4\", \"Topic4\", \"Topic4\", \"Topic4\", \"Topic4\", \"Topic4\", \"Topic4\", \"Topic4\", \"Topic4\", \"Topic4\", \"Topic4\", \"Topic4\", \"Topic4\", \"Topic4\", \"Topic4\", \"Topic4\", \"Topic4\", \"Topic4\", \"Topic4\", \"Topic4\", \"Topic4\", \"Topic4\", \"Topic4\", \"Topic4\", \"Topic4\", \"Topic4\", \"Topic4\", \"Topic4\", \"Topic4\", \"Topic4\", \"Topic4\", \"Topic4\", \"Topic4\", \"Topic4\", \"Topic4\", \"Topic4\", \"Topic4\", \"Topic4\", \"Topic4\", \"Topic4\", \"Topic4\", \"Topic4\", \"Topic4\", \"Topic4\", \"Topic4\", \"Topic4\", \"Topic4\", \"Topic4\", \"Topic4\", \"Topic4\", \"Topic4\", \"Topic4\", \"Topic4\", \"Topic4\", \"Topic5\", \"Topic5\", \"Topic5\", \"Topic5\", \"Topic5\", \"Topic5\", \"Topic5\", \"Topic5\", \"Topic5\", \"Topic5\", \"Topic5\", \"Topic5\", \"Topic5\", \"Topic5\", \"Topic5\", \"Topic5\", \"Topic5\", \"Topic5\", \"Topic5\", \"Topic5\", \"Topic5\", \"Topic5\", \"Topic5\", \"Topic5\", \"Topic5\", \"Topic5\", \"Topic5\", \"Topic5\", \"Topic5\", \"Topic5\", \"Topic5\", \"Topic5\", \"Topic5\", \"Topic5\", \"Topic5\", \"Topic5\", \"Topic5\", \"Topic5\", \"Topic5\", \"Topic5\", \"Topic5\", \"Topic5\", \"Topic5\", \"Topic5\", \"Topic5\", \"Topic5\", \"Topic5\", \"Topic5\", \"Topic5\", \"Topic5\", \"Topic5\", \"Topic5\", \"Topic5\", \"Topic5\", \"Topic5\", \"Topic5\", \"Topic5\", \"Topic5\", \"Topic5\", \"Topic5\", \"Topic5\"], \"logprob\": [30.0, 29.0, 28.0, 27.0, 26.0, 25.0, 24.0, 23.0, 22.0, 21.0, 20.0, 19.0, 18.0, 17.0, 16.0, 15.0, 14.0, 13.0, 12.0, 11.0, 10.0, 9.0, 8.0, 7.0, 6.0, 5.0, 4.0, 3.0, 2.0, 1.0, -4.547100067138672, -4.309000015258789, -5.041999816894531, -5.190400123596191, -5.183499813079834, -5.365300178527832, -5.3541998863220215, -5.566400051116943, -5.5655999183654785, -5.564499855041504, -5.563300132751465, -5.841300010681152, -5.84089994430542, -5.840400218963623, -5.838600158691406, -5.8317999839782715, -5.830900192260742, -5.819200038909912, -6.221700191497803, -6.219399929046631, -6.218800067901611, -6.216400146484375, -6.2154998779296875, -6.213600158691406, -6.211999893188477, -6.210599899291992, -6.210599899291992, -6.209400177001953, -6.208899974822998, -6.207600116729736, -4.745999813079834, -4.418099880218506, -4.802999973297119, -4.67110013961792, -4.060699939727783, -4.198500156402588, -4.914899826049805, -4.151000022888184, -4.349800109863281, -4.3979997634887695, -4.567299842834473, -5.048699855804443, -4.3780999183654785, -4.035399913787842, -4.330699920654297, -4.1350998878479, -5.02810001373291, -5.1981000900268555, -4.973599910736084, -4.6519999504089355, -4.463399887084961, -4.948599815368652, -5.1579999923706055, -4.74970006942749, -4.923299789428711, -5.195499897003174, -5.313000202178955, -5.681399822235107, -5.670599937438965, -5.668499946594238, -5.667200088500977, -5.663099765777588, -5.661200046539307, -5.658599853515625, -6.2835001945495605, -6.281400203704834, -6.281300067901611, -6.281000137329102, -6.280900001525879, -6.280399799346924, -6.280399799346924, -6.280099868774414, -6.280099868774414, -6.279799938201904, -6.279399871826172, -6.278900146484375, -6.278800010681152, -6.27869987487793, -6.278600215911865, -6.278500080108643, -6.277900218963623, -6.277599811553955, -6.277500152587891, -6.277299880981445, -6.2769999504089355, -6.2769999504089355, -4.936299800872803, -4.877900123596191, -5.121500015258789, -3.9554998874664307, -4.67080020904541, -4.883200168609619, -4.953800201416016, -5.11929988861084, -5.117499828338623, -5.118899822235107, -5.44320011138916, -5.0, -3.9440999031066895, -4.024899959564209, -4.3983001708984375, -5.499100208282471, -4.659900188446045, -5.07420015335083, -4.956099987030029, -4.858500003814697, -4.513599872589111, -4.348700046539307, -4.627600193023682, -4.34119987487793, -4.498199939727783, -4.46019983291626, -4.556000232696533, -4.597400188446045, -4.548999786376953, -5.039700031280518, -4.5619001388549805, -5.1107001304626465, -5.010000228881836, -5.389200210571289, -5.370800018310547, -5.985199928283691, -5.984600067138672, -5.9842000007629395, -5.984000205993652, -5.98199987411499, -5.968599796295166, -5.966700077056885, -5.966599941253662, -5.96619987487793, -5.964700222015381, -5.963600158691406, -5.961400032043457, -5.954500198364258, -5.95419979095459, -5.95419979095459, -5.954100131988525, -5.95389986038208, -5.95389986038208, -5.953800201416016, -5.953499794006348, -5.953499794006348, -5.953400135040283, -5.953400135040283, -5.953199863433838, -5.952899932861328, -5.9527997970581055, -5.952700138092041, -4.828400135040283, -4.472599983215332, -4.335899829864502, -5.065700054168701, -4.566500186920166, -4.171299934387207, -5.096499919891357, -4.144499778747559, -4.2642998695373535, -5.043799877166748, -4.297399997711182, -4.7017998695373535, -4.813199996948242, -4.229400157928467, -4.219699859619141, -4.399099826812744, -4.8668999671936035, -4.496099948883057, -5.061500072479248, -4.438499927520752, -4.713099956512451, -4.733699798583984, -5.166399955749512, -5.145500183105469, -5.117300033569336, -4.843699932098389, -5.713099956512451, -5.23960018157959, -5.159299850463867, -5.241099834442139, -5.214399814605713, -5.237400054931641, -5.972700119018555, -5.972700119018555, -5.9720001220703125, -5.97189998626709, -5.971799850463867, -5.971700191497803, -5.971499919891357, -5.970900058746338, -5.970900058746338, -5.970699787139893, -5.970600128173828, -5.970200061798096, -5.969600200653076, -5.9695000648498535, -5.969200134277344, -5.968900203704834, -5.96619987487793, -5.950900077819824, -5.94950008392334, -5.94950008392334, -5.9492998123168945, -5.94920015335083, -5.948500156402588, -5.948400020599365, -5.948200225830078, -5.947500228881836, -5.947199821472168, -5.946700096130371, -5.946499824523926, -5.946300029754639, -4.542200088500977, -4.542099952697754, -4.542099952697754, -4.697999954223633, -3.933300018310547, -5.13070011138916, -4.376699924468994, -3.97979998588562, -3.9721999168395996, -4.979000091552734, -4.681000232696533, -4.434199810028076, -4.424699783325195, -4.417799949645996, -4.552999973297119, -4.669899940490723, -4.543499946594238, -4.692299842834473, -4.5609002113342285, -4.992300033569336, -4.712900161743164, -5.061699867248535, -4.875400066375732, -5.12470006942749, -5.164899826049805, -4.884099960327148, -5.114999771118164, -5.500199794769287, -5.9415998458862305, -5.944799900054932, -5.183599948883057, -5.3256001472473145, -5.4008002281188965, -5.241000175476074, -5.216700077056885, -5.298999786376953, -5.295000076293945, -5.893599987030029, -5.8933000564575195, -5.89300012588501, -5.892499923706055, -5.892000198364258, -5.891300201416016, -5.89109992980957, -5.890699863433838, -5.889699935913086, -5.889699935913086, -5.888700008392334, -5.888500213623047, -5.888500213623047, -5.888299942016602, -5.887599945068359, -5.887599945068359, -5.88700008392334, -5.886899948120117, -5.8867998123168945, -5.886600017547607, -5.886499881744385, -5.88640022277832, -5.883500099182129, -5.1265997886657715, -5.660600185394287, -5.640500068664551, -5.631100177764893, -5.657199859619141, -4.035900115966797, -3.9749999046325684, -4.062699794769287, -4.408299922943115, -4.026700019836426, -4.2154998779296875, -4.731299877166748, -4.138000011444092, -4.3566999435424805, -4.548799991607666, -4.931300163269043, -5.0005998611450195, -5.084499835968018, -5.063700199127197, -4.871699810028076, -4.6921000480651855, -4.93120002746582, -5.035600185394287, -4.6803998947143555, -5.088399887084961, -5.162300109863281, -4.865099906921387, -4.822999954223633, -5.233399868011475, -5.053999900817871, -5.157700061798096, -5.329999923706055, -5.267499923706055, -5.151500225067139, -5.132500171661377, -5.1554999351501465], \"loglift\": [30.0, 29.0, 28.0, 27.0, 26.0, 25.0, 24.0, 23.0, 22.0, 21.0, 20.0, 19.0, 18.0, 17.0, 16.0, 15.0, 14.0, 13.0, 12.0, 11.0, 10.0, 9.0, 8.0, 7.0, 6.0, 5.0, 4.0, 3.0, 2.0, 1.0, 0.4301, 0.4121, 0.3786, 0.3724, 0.3647, 0.3643, 0.3523, 0.3409, 0.34, 0.3389, 0.3377, 0.328, 0.3275, 0.327, 0.3252, 0.3184, 0.3175, 0.3057, 0.3035, 0.3013, 0.3006, 0.2984, 0.2973, 0.2957, 0.2941, 0.2929, 0.2928, 0.2917, 0.2912, 0.2901, 0.2849, 0.2294, 0.2336, 0.1836, 0.1211, 0.1277, 0.178, 0.0952, 0.0963, 0.0814, 0.093, 0.1538, 0.0522, -0.0058, 0.0233, -0.0352, 0.108, 0.1528, 0.0835, -0.0417, -0.1313, -0.0327, 0.0893, -0.2741, -0.1644, -0.0955, 1.1916, 1.1298, 1.1127, 1.1093, 1.1074, 1.101, 1.0982, 1.0943, 1.0001, 0.9975, 0.9973, 0.9969, 0.9968, 0.9962, 0.9962, 0.9958, 0.9958, 0.9955, 0.9949, 0.9943, 0.9942, 0.994, 0.9939, 0.9938, 0.993, 0.9926, 0.9924, 0.9923, 0.9918, 0.9918, 0.8812, 0.8729, 0.801, 0.5201, 0.6559, 0.698, 0.5651, 0.5914, 0.5904, 0.5908, 0.6957, 0.5078, 0.0855, 0.075, 0.2119, 0.6482, 0.2559, 0.4449, 0.3883, 0.3402, 0.1468, -0.0165, 0.1313, -0.1594, -0.0521, -0.1063, -0.1257, -0.118, -0.2228, 0.329, -0.3157, 0.1975, 1.7784, 1.711, 1.6669, 1.5058, 1.5047, 1.5039, 1.5036, 1.5, 1.4761, 1.4728, 1.4726, 1.4719, 1.4694, 1.4674, 1.4636, 1.4518, 1.4514, 1.4513, 1.4512, 1.4509, 1.4508, 1.4507, 1.4502, 1.4501, 1.45, 1.45, 1.4496, 1.449, 1.4489, 1.4488, 1.0177, 0.6635, 0.423, 0.8575, 0.4905, 0.1608, 0.8259, 0.1017, 0.166, 0.7071, 0.0566, 0.3982, 0.4586, -0.1295, -0.1901, -0.0729, 0.3804, -0.05, 0.5114, -0.2567, -0.1028, -0.2581, 0.3524, 0.3134, 0.1806, -0.3644, 1.047, 0.1113, -0.0664, 0.0725, -0.5669, -0.577, 1.5632, 1.563, 1.5618, 1.5615, 1.5613, 1.5611, 1.5607, 1.5596, 1.5596, 1.5592, 1.559, 1.5583, 1.5572, 1.557, 1.5564, 1.5558, 1.5507, 1.5222, 1.5196, 1.5196, 1.5193, 1.5191, 1.5177, 1.5176, 1.5172, 1.5159, 1.5154, 1.5146, 1.5141, 1.5138, 1.026, 1.0259, 1.0259, 0.8932, 0.3988, 1.0082, 0.4779, 0.1201, 0.0574, 0.7082, 0.419, 0.0451, -0.0708, -0.236, -0.1227, -0.0224, -0.2173, -0.082, -0.3147, 0.2064, -0.2373, 0.2465, -0.1165, 0.1227, 0.1477, -0.438, -0.0784, 0.6664, 1.5053, 1.5111, 0.0188, 0.2879, 0.42, -0.3251, -0.5563, 1.8891, 1.8777, 1.6551, 1.6545, 1.6539, 1.6529, 1.6517, 1.6504, 1.6501, 1.6493, 1.6473, 1.6472, 1.6451, 1.6448, 1.6448, 1.6443, 1.643, 1.6429, 1.6419, 1.6417, 1.6413, 1.6411, 1.6407, 1.6406, 1.6348, 1.2136, 1.1527, 1.1364, 1.1289, 1.0316, 0.4397, 0.3572, 0.1836, 0.3506, 0.0732, 0.1384, 0.5405, -0.1084, -0.1749, -0.0695, 0.2673, 0.3075, 0.4343, 0.3952, 0.0442, -0.2618, 0.1258, 0.2624, -0.3542, 0.256, 0.3454, -0.2548, -0.3769, 0.4119, -0.0174, 0.1932, 0.4935, 0.3583, -0.0515, -0.485, -0.4951]}, \"token.table\": {\"Topic\": [1, 2, 3, 1, 1, 2, 1, 2, 1, 2, 1, 1, 2, 3, 1, 2, 3, 2, 1, 2, 1, 2, 3, 4, 1, 1, 2, 2, 1, 2, 3, 4, 5, 2, 1, 2, 3, 4, 1, 2, 3, 1, 2, 3, 4, 5, 1, 2, 1, 2, 4, 1, 2, 2, 2, 1, 2, 1, 2, 3, 1, 2, 3, 4, 1, 2, 3, 4, 5, 1, 1, 2, 3, 4, 5, 2, 2, 2, 2, 2, 1, 2, 3, 4, 5, 1, 2, 3, 4, 1, 2, 1, 2, 3, 4, 5, 1, 2, 4, 1, 2, 3, 1, 2, 2, 1, 2, 4, 1, 2, 3, 4, 5, 1, 1, 3, 2, 1, 1, 2, 3, 4, 5, 1, 2, 4, 1, 2, 3, 5, 1, 2, 3, 4, 5, 1, 2, 2, 1, 2, 1, 2, 1, 1, 2, 4, 1, 2, 1, 2, 3, 2, 2, 1, 2, 4, 1, 2, 3, 1, 2, 3, 4, 1, 2, 2, 1, 2, 3, 4, 5, 1, 1, 1, 2, 3, 2, 1, 1, 1, 2, 1, 1, 2, 1, 2, 3, 4, 5, 1, 2, 3, 4, 5, 1, 2, 1, 2, 1, 1, 2, 3, 1, 2, 4, 1, 2, 1, 2, 2, 2, 1, 1, 2, 1, 2, 3, 4, 5, 1, 2, 3, 4, 5, 1, 2, 3, 2, 1, 2, 2, 1, 2, 4, 1, 2, 3, 4, 5, 1, 1, 1, 1, 2, 3, 4, 5, 1, 2, 3, 4, 5, 1, 1, 1, 2, 4, 2, 2, 1, 2, 1, 2, 3, 3, 1, 2, 3, 1, 1, 1, 1, 2, 4, 1], \"Freq\": [0.598768436340597, 0.11975368726811939, 0.11975368726811939, 0.77195080071416, 0.8698550204640118, 0.07907772913309198, 0.3292151659848669, 0.3292151659848669, 0.9174375879155594, 1.0143155877540397, 0.6602572540770051, 0.56314959586164, 0.14078739896541, 0.14078739896541, 0.2629110166362157, 0.5258220332724314, 0.2629110166362157, 1.0104779204488192, 0.9564527224170847, 1.0182893475724288, 0.6697809437546377, 0.22326031458487924, 0.07442010486162641, 0.07442010486162641, 0.7738263910707978, 0.4250620728985382, 0.4250620728985382, 1.0125400548676577, 0.6456101187665177, 0.18446003393329077, 0.04611500848332269, 0.04611500848332269, 0.04611500848332269, 1.0112446551481602, 0.7230387428621771, 0.09037984285777213, 0.09037984285777213, 0.09037984285777213, 0.6881422925930385, 0.11469038209883976, 0.11469038209883976, 0.5764961785177257, 0.28824808925886286, 0.09608269641962096, 0.09608269641962096, 0.09608269641962096, 0.42545020643738063, 0.42545020643738063, 0.7588787876039713, 0.1084112553719959, 0.1084112553719959, 0.47496802410599953, 0.23748401205299977, 0.6099412836912057, 1.0255110901573459, 0.47628403827631277, 0.23814201913815639, 0.4871888628365288, 0.2435944314182644, 0.2435944314182644, 0.5775393721521256, 0.23101574886085022, 0.11550787443042511, 0.11550787443042511, 0.4823680210624241, 0.21438578713885514, 0.10719289356942757, 0.10719289356942757, 0.053596446784713786, 0.3356220077011492, 0.5099555232441951, 0.25497776162209757, 0.12748888081104878, 0.12748888081104878, 0.12748888081104878, 0.4705451381107461, 0.6071677414200208, 1.0146679537886776, 1.0204368755343018, 1.010479553502351, 0.6209654090788612, 0.18628962272365837, 0.06209654090788612, 0.06209654090788612, 0.06209654090788612, 0.6692232609042744, 0.1338446521808549, 0.1338446521808549, 0.1338446521808549, 0.6044240334977808, 0.3022120167488904, 0.6393473829273739, 0.15983684573184348, 0.05327894857728115, 0.05327894857728115, 0.05327894857728115, 0.3775760830243367, 0.18878804151216835, 0.18878804151216835, 0.4961166209285153, 0.33074441395234355, 0.16537220697617178, 0.9551614343694014, 0.6218390966528392, 1.0115652900818517, 0.415588754716943, 0.2077943773584715, 0.2077943773584715, 0.5523518378582184, 0.21244301456085324, 0.08497720582434129, 0.08497720582434129, 0.042488602912170645, 0.6591453050207139, 0.3992338335903359, 0.6249882163016645, 1.016034561996959, 0.7958252316638951, 0.5544642870317334, 0.2376275515850286, 0.0792091838616762, 0.0792091838616762, 0.0396045919308381, 0.5714794208602214, 0.2857397104301107, 0.14286985521505535, 0.5486544426578273, 0.13716361066445681, 0.13716361066445681, 0.13716361066445681, 0.5662644842151107, 0.28313224210755533, 0.07078306052688883, 0.07078306052688883, 0.07078306052688883, 0.5862630509512033, 0.19542101698373446, 0.6394240689212263, 0.43470403711935324, 0.43470403711935324, 0.9455416101108647, 0.6032185288994275, 0.9488993947722648, 0.5533460407689356, 0.18444868025631186, 0.18444868025631186, 0.44245113365175964, 0.2949674224345064, 0.7150902053878118, 0.14301804107756236, 0.14301804107756236, 1.014874670980528, 1.0194806224958186, 0.5533252541339981, 0.1844417513779994, 0.1844417513779994, 0.7413638574148064, 0.1853409643537016, 0.1853409643537016, 0.7346799464633584, 0.1469359892926717, 0.07346799464633585, 0.07346799464633585, 0.37377789028997194, 0.37377789028997194, 1.0170131913429992, 0.5912464161933951, 0.17737392485801853, 0.11824928323867902, 0.05912464161933951, 0.05912464161933951, 0.9368920893192336, 0.7755552975484766, 0.7422547138319483, 0.14845094276638965, 0.14845094276638965, 1.0176880718896544, 0.607516568766087, 0.9507885809279017, 0.7545283635782587, 0.10778976622546553, 0.9401180055558161, 0.9399766493148212, 1.0142225364263893, 0.6639119012783498, 0.11065198354639162, 0.11065198354639162, 0.11065198354639162, 0.11065198354639162, 0.49274361890426926, 0.24637180945213463, 0.16424787296808976, 0.08212393648404488, 0.08212393648404488, 0.520966525459863, 0.34731101697324196, 0.8473831915979897, 0.6164267594991436, 0.7769157713182641, 0.3511792553664159, 0.3511792553664159, 0.17558962768320796, 0.5790876981050184, 0.1930292327016728, 0.1930292327016728, 0.2367236493150647, 0.4734472986301294, 0.3985092204298534, 0.3985092204298534, 1.0207364329813178, 1.018375542009658, 0.9606736371954968, 0.4242754482098076, 0.4242754482098076, 0.6394029487061688, 0.14755452662450047, 0.09836968441633365, 0.049184842208166824, 0.049184842208166824, 0.6607331070477406, 0.18019993828574743, 0.06006664609524914, 0.06006664609524914, 0.06006664609524914, 0.9378342310887005, 1.0119263875641487, 0.8537453115860288, 1.019644189499798, 0.526922225324531, 0.3512814835496873, 0.5657468625929635, 0.5534308688993322, 0.1844769562997774, 0.1844769562997774, 0.6025513181744097, 0.16433217768392988, 0.10955478512261993, 0.054777392561309965, 0.054777392561309965, 0.6730700625455758, 0.9425627741301452, 0.672392802244195, 0.5689700018852031, 0.28448500094260154, 0.14224250047130077, 0.14224250047130077, 0.14224250047130077, 0.43304482063666, 0.3711812748314228, 0.06186354580523714, 0.06186354580523714, 0.06186354580523714, 0.904194255023277, 0.6693422810108006, 0.3264447269692517, 0.3264447269692517, 0.3264447269692517, 0.6184066766801781, 1.0139519988253716, 0.67173377630926, 1.0177091253368864, 0.22145570773449497, 0.44291141546898993, 0.22145570773449497, 0.8019848095374846, 0.5261621754580833, 0.26308108772904165, 0.26308108772904165, 0.6437910822359524, 0.8671975223970557, 0.9346890517183403, 0.6398344062157469, 0.1279668812431494, 0.1279668812431494, 0.9194618436588193], \"Term\": [\"\", \"\", \"\", \"\\\"\", \"-\", \"-\", \"/\", \"/\", \"1\", \"10\", \"15\", \"2\", \"2\", \"2\", \"3\", \"3\", \"3\", \"300\", \"399\", \"6\", \":\", \":\", \":\", \":\", \"\\u0e01\\u0e25\\u0e31\\u0e1a\\u0e21\\u0e32\", \"\\u0e01\\u0e30\\u0e1b\\u0e34\", \"\\u0e01\\u0e30\\u0e1b\\u0e34\", \"\\u0e01\\u0e33\", \"\\u0e01\\u0e34\\u0e19\", \"\\u0e01\\u0e34\\u0e19\", \"\\u0e01\\u0e34\\u0e19\", \"\\u0e01\\u0e34\\u0e19\", \"\\u0e01\\u0e34\\u0e19\", \"\\u0e01\\u0e34\\u0e19\\u0e17\\u0e35\\u0e48\", \"\\u0e01\\u0e38\\u0e49\\u0e07\", \"\\u0e01\\u0e38\\u0e49\\u0e07\", \"\\u0e01\\u0e38\\u0e49\\u0e07\", \"\\u0e01\\u0e38\\u0e49\\u0e07\", \"\\u0e02\\u0e2d\\u0e07\\u0e2b\\u0e27\\u0e32\\u0e19\", \"\\u0e02\\u0e2d\\u0e07\\u0e2b\\u0e27\\u0e32\\u0e19\", \"\\u0e02\\u0e2d\\u0e07\\u0e2b\\u0e27\\u0e32\\u0e19\", \"\\u0e04\\u0e19\", \"\\u0e04\\u0e19\", \"\\u0e04\\u0e19\", \"\\u0e04\\u0e19\", \"\\u0e04\\u0e19\", \"\\u0e04\\u0e34\\u0e27\", \"\\u0e04\\u0e34\\u0e27\", \"\\u0e04\\u0e38\\u0e49\\u0e21\", \"\\u0e04\\u0e38\\u0e49\\u0e21\", \"\\u0e04\\u0e38\\u0e49\\u0e21\", \"\\u0e04\\u0e38\\u0e49\\u0e21\\u0e04\\u0e48\\u0e32\", \"\\u0e04\\u0e38\\u0e49\\u0e21\\u0e04\\u0e48\\u0e32\", \"\\u0e04\\u0e48\\u0e32\", \"\\u0e04\\u0e48\\u0e32\\u0e19\\u0e49\\u0e33\", \"\\u0e08\\u0e32\\u0e19\", \"\\u0e08\\u0e32\\u0e19\", \"\\u0e08\\u0e48\\u0e32\\u0e22\", \"\\u0e08\\u0e48\\u0e32\\u0e22\", \"\\u0e08\\u0e48\\u0e32\\u0e22\", \"\\u0e0a\\u0e2d\\u0e1a\", \"\\u0e0a\\u0e2d\\u0e1a\", \"\\u0e0a\\u0e2d\\u0e1a\", \"\\u0e0a\\u0e2d\\u0e1a\", \"\\u0e0a\\u0e32\\u0e1a\\u0e39\", \"\\u0e0a\\u0e32\\u0e1a\\u0e39\", \"\\u0e0a\\u0e32\\u0e1a\\u0e39\", \"\\u0e0a\\u0e32\\u0e1a\\u0e39\", \"\\u0e0a\\u0e32\\u0e1a\\u0e39\", \"\\u0e0a\\u0e32\\u0e40\\u0e02\\u0e35\\u0e22\\u0e27\", \"\\u0e0a\\u0e34\", \"\\u0e0a\\u0e34\", \"\\u0e0a\\u0e34\", \"\\u0e0a\\u0e34\", \"\\u0e0a\\u0e34\", \"\\u0e0a\\u0e38\\u0e14\", \"\\u0e0a\\u0e39\", \"\\u0e0a\\u0e48\\u0e2d\\u0e07\", \"\\u0e0b\\u0e35\", \"\\u0e0b\\u0e36\\u0e1b\", \"\\u0e0b\\u0e38\\u0e1b\", \"\\u0e0b\\u0e38\\u0e1b\", \"\\u0e0b\\u0e38\\u0e1b\", \"\\u0e0b\\u0e38\\u0e1b\", \"\\u0e0b\\u0e38\\u0e1b\", \"\\u0e0b\\u0e39\\u0e0a\\u0e34\", \"\\u0e0b\\u0e39\\u0e0a\\u0e34\", \"\\u0e0b\\u0e39\\u0e0a\\u0e34\", \"\\u0e0b\\u0e39\\u0e0a\\u0e34\", \"\\u0e14\\u0e33\", \"\\u0e14\\u0e33\", \"\\u0e14\\u0e35\", \"\\u0e14\\u0e35\", \"\\u0e14\\u0e35\", \"\\u0e14\\u0e35\", \"\\u0e14\\u0e35\", \"\\u0e14\\u0e35\\u0e21\\u0e32\\u0e01\", \"\\u0e14\\u0e35\\u0e21\\u0e32\\u0e01\", \"\\u0e14\\u0e35\\u0e21\\u0e32\\u0e01\", \"\\u0e14\\u0e39\", \"\\u0e14\\u0e39\", \"\\u0e14\\u0e39\", \"\\u0e15\\u0e2d\\u0e19\\u0e19\\u0e35\\u0e49\", \"\\u0e15\\u0e49\\u0e21\\u0e22\\u0e33\", \"\\u0e16\\u0e39\\u0e01\\u0e2b\\u0e27\\u0e22\", \"\\u0e17\\u0e2d\\u0e14\", \"\\u0e17\\u0e2d\\u0e14\", \"\\u0e17\\u0e2d\\u0e14\", \"\\u0e17\\u0e32\\u0e19\", \"\\u0e17\\u0e32\\u0e19\", \"\\u0e17\\u0e32\\u0e19\", \"\\u0e17\\u0e32\\u0e19\", \"\\u0e17\\u0e32\\u0e19\", \"\\u0e19\\u0e30\\u0e04\\u0e30\", \"\\u0e19\\u0e31\\u0e48\\u0e07\", \"\\u0e19\\u0e36\\u0e01\\u0e16\\u0e36\\u0e07\", \"\\u0e19\\u0e36\\u0e07\", \"\\u0e19\\u0e38\\u0e48\\u0e21\", \"\\u0e19\\u0e49\\u0e33\", \"\\u0e19\\u0e49\\u0e33\", \"\\u0e19\\u0e49\\u0e33\", \"\\u0e19\\u0e49\\u0e33\", \"\\u0e19\\u0e49\\u0e33\", \"\\u0e19\\u0e49\\u0e33\\u0e08\\u0e34\\u0e49\\u0e21\", \"\\u0e19\\u0e49\\u0e33\\u0e08\\u0e34\\u0e49\\u0e21\", \"\\u0e19\\u0e49\\u0e33\\u0e08\\u0e34\\u0e49\\u0e21\", \"\\u0e1a\\u0e23\\u0e34\\u0e01\\u0e32\\u0e23\", \"\\u0e1a\\u0e23\\u0e34\\u0e01\\u0e32\\u0e23\", \"\\u0e1a\\u0e23\\u0e34\\u0e01\\u0e32\\u0e23\", \"\\u0e1a\\u0e23\\u0e34\\u0e01\\u0e32\\u0e23\", \"\\u0e1a\\u0e32\\u0e17\", \"\\u0e1a\\u0e32\\u0e17\", \"\\u0e1a\\u0e32\\u0e17\", \"\\u0e1a\\u0e32\\u0e17\", \"\\u0e1a\\u0e32\\u0e17\", \"\\u0e1a\\u0e38\", \"\\u0e1a\\u0e38\", \"\\u0e1a\\u0e38\\u0e1f\\u0e40\\u0e1f\\u0e15\\u0e4c\", \"\\u0e1a\\u0e38\\u0e1f\\u0e40\\u0e1f\\u0e48\\u0e15\\u0e4c\", \"\\u0e1a\\u0e38\\u0e1f\\u0e40\\u0e1f\\u0e48\\u0e15\\u0e4c\", \"\\u0e1a\\u0e39\", \"\\u0e1b\\u0e23\\u0e30\\u0e15\\u0e39\", \"\\u0e1b\\u0e23\\u0e30\\u0e17\\u0e31\\u0e1a\\u0e43\\u0e08\", \"\\u0e1b\\u0e38\\u0e23\\u0e30\", \"\\u0e1b\\u0e38\\u0e23\\u0e30\", \"\\u0e1b\\u0e38\\u0e23\\u0e30\", \"\\u0e1c\\u0e31\\u0e01\", \"\\u0e1c\\u0e31\\u0e01\", \"\\u0e1e\\u0e19\\u0e31\\u0e01\\u0e07\\u0e32\\u0e19\", \"\\u0e1e\\u0e19\\u0e31\\u0e01\\u0e07\\u0e32\\u0e19\", \"\\u0e1e\\u0e19\\u0e31\\u0e01\\u0e07\\u0e32\\u0e19\", \"\\u0e1f\\u0e23\\u0e35\", \"\\u0e1f\\u0e39\\u0e49\\u0e14\", \"\\u0e21\", \"\\u0e21\", \"\\u0e21\", \"\\u0e23\\u0e2a\", \"\\u0e23\\u0e2a\", \"\\u0e23\\u0e2a\", \"\\u0e23\\u0e2a\\u0e0a\\u0e32\\u0e15\\u0e34\", \"\\u0e23\\u0e2a\\u0e0a\\u0e32\\u0e15\\u0e34\", \"\\u0e23\\u0e2a\\u0e0a\\u0e32\\u0e15\\u0e34\", \"\\u0e23\\u0e2a\\u0e0a\\u0e32\\u0e15\\u0e34\", \"\\u0e23\\u0e2d\", \"\\u0e23\\u0e2d\", \"\\u0e23\\u0e31\\u0e1a\\u0e1b\\u0e23\\u0e30\\u0e01\\u0e31\\u0e19\", \"\\u0e23\\u0e32\\u0e04\\u0e32\", \"\\u0e23\\u0e32\\u0e04\\u0e32\", \"\\u0e23\\u0e32\\u0e04\\u0e32\", \"\\u0e23\\u0e32\\u0e04\\u0e32\", \"\\u0e23\\u0e32\\u0e04\\u0e32\", \"\\u0e23\\u0e35\\u0e48\", \"\\u0e23\\u0e39\\u0e49\\u0e2a\\u0e36\\u0e01\", \"\\u0e25\\u0e2d\\u0e07\", \"\\u0e25\\u0e2d\\u0e07\", \"\\u0e25\\u0e2d\\u0e07\", \"\\u0e25\\u0e2d\\u0e15\\u0e40\\u0e15\\u0e2d\\u0e23\\u0e35\\u0e48\", \"\\u0e25\\u0e39\\u0e01\\u0e04\\u0e49\\u0e32\", \"\\u0e27\", \"\\u0e2a\\u0e14\", \"\\u0e2a\\u0e14\", \"\\u0e2a\\u0e15\\u0e2d\", \"\\u0e2a\\u0e23\\u0e38\\u0e1b\", \"\\u0e2a\\u0e31\\u0e1b\\u0e14\\u0e32\\u0e2b\\u0e4c\", \"\\u0e2a\\u0e31\\u0e48\\u0e07\", \"\\u0e2a\\u0e31\\u0e48\\u0e07\", \"\\u0e2a\\u0e31\\u0e48\\u0e07\", \"\\u0e2a\\u0e31\\u0e48\\u0e07\", \"\\u0e2a\\u0e31\\u0e48\\u0e07\", \"\\u0e2a\\u0e32\\u0e02\\u0e32\", \"\\u0e2a\\u0e32\\u0e02\\u0e32\", \"\\u0e2a\\u0e32\\u0e02\\u0e32\", \"\\u0e2a\\u0e32\\u0e02\\u0e32\", \"\\u0e2a\\u0e32\\u0e02\\u0e32\", \"\\u0e2a\\u0e32\\u0e22\\u0e1e\\u0e32\\u0e19\", \"\\u0e2a\\u0e32\\u0e22\\u0e1e\\u0e32\\u0e19\", \"\\u0e2a\\u0e33\\u0e2b\\u0e23\\u0e31\\u0e1a\", \"\\u0e2a\\u0e38\\u0e01\\u0e35\\u0e49\", \"\\u0e2a\\u0e44\\u0e25\\u0e14\\u0e4c\", \"\\u0e2b\\u0e19\\u0e49\\u0e32\", \"\\u0e2b\\u0e19\\u0e49\\u0e32\", \"\\u0e2b\\u0e19\\u0e49\\u0e32\", \"\\u0e2b\\u0e21\\u0e39\", \"\\u0e2b\\u0e21\\u0e39\", \"\\u0e2b\\u0e21\\u0e39\", \"\\u0e2b\\u0e21\\u0e49\\u0e2d\", \"\\u0e2b\\u0e21\\u0e49\\u0e2d\", \"\\u0e2b\\u0e22\\u0e34\\u0e1a\", \"\\u0e2b\\u0e22\\u0e34\\u0e1a\", \"\\u0e2b\\u0e27\\u0e22\", \"\\u0e2b\\u0e31\\u0e27\", \"\\u0e2b\\u0e34\\u0e27\", \"\\u0e2b\\u0e49\\u0e32\\u0e07\", \"\\u0e2b\\u0e49\\u0e32\\u0e07\", \"\\u0e2d\\u0e23\\u0e48\\u0e2d\\u0e22\", \"\\u0e2d\\u0e23\\u0e48\\u0e2d\\u0e22\", \"\\u0e2d\\u0e23\\u0e48\\u0e2d\\u0e22\", \"\\u0e2d\\u0e23\\u0e48\\u0e2d\\u0e22\", \"\\u0e2d\\u0e23\\u0e48\\u0e2d\\u0e22\", \"\\u0e2d\\u0e32\\u0e2b\\u0e32\\u0e23\", \"\\u0e2d\\u0e32\\u0e2b\\u0e32\\u0e23\", \"\\u0e2d\\u0e32\\u0e2b\\u0e32\\u0e23\", \"\\u0e2d\\u0e32\\u0e2b\\u0e32\\u0e23\", \"\\u0e2d\\u0e32\\u0e2b\\u0e32\\u0e23\", \"\\u0e2d\\u0e34\\u0e48\\u0e21\", \"\\u0e2e\\u0e31\\u0e19\", \"\\u0e40\\u0e01\\u0e34\\u0e19\\u0e44\\u0e1b\", \"\\u0e40\\u0e07\\u0e34\\u0e19\", \"\\u0e40\\u0e14\\u0e2d\\u0e30\", \"\\u0e40\\u0e14\\u0e2d\\u0e30\", \"\\u0e40\\u0e14\\u0e34\\u0e19\", \"\\u0e40\\u0e17\", \"\\u0e40\\u0e17\", \"\\u0e40\\u0e17\", \"\\u0e40\\u0e19\\u0e37\\u0e49\\u0e2d\", \"\\u0e40\\u0e19\\u0e37\\u0e49\\u0e2d\", \"\\u0e40\\u0e19\\u0e37\\u0e49\\u0e2d\", \"\\u0e40\\u0e19\\u0e37\\u0e49\\u0e2d\", \"\\u0e40\\u0e19\\u0e37\\u0e49\\u0e2d\", \"\\u0e40\\u0e19\\u0e37\\u0e49\\u0e2d\\u0e2b\\u0e21\\u0e39\", \"\\u0e40\\u0e1a\", \"\\u0e40\\u0e1b\\u0e47\\u0e14\", \"\\u0e40\\u0e21\\u0e19\\u0e39\", \"\\u0e40\\u0e21\\u0e19\\u0e39\", \"\\u0e40\\u0e21\\u0e19\\u0e39\", \"\\u0e40\\u0e21\\u0e19\\u0e39\", \"\\u0e40\\u0e21\\u0e19\\u0e39\", \"\\u0e40\\u0e25\\u0e37\\u0e2d\\u0e01\", \"\\u0e40\\u0e25\\u0e37\\u0e2d\\u0e01\", \"\\u0e40\\u0e25\\u0e37\\u0e2d\\u0e01\", \"\\u0e40\\u0e25\\u0e37\\u0e2d\\u0e01\", \"\\u0e40\\u0e25\\u0e37\\u0e2d\\u0e01\", \"\\u0e40\\u0e27\\u0e25\\u0e32\", \"\\u0e40\\u0e2b\\u0e47\\u0e14\", \"\\u0e41\\u0e19\\u0e30\\u0e19\\u0e33\", \"\\u0e41\\u0e19\\u0e30\\u0e19\\u0e33\", \"\\u0e41\\u0e19\\u0e30\\u0e19\\u0e33\", \"\\u0e41\\u0e1a\\u0e48\\u0e07\", \"\\u0e41\\u0e25\\u0e01\", \"\\u0e42\\u0e0b\\u0e19\", \"\\u0e42\\u0e17\\u0e2a\", \"\\u0e42\\u0e21\", \"\\u0e42\\u0e21\", \"\\u0e42\\u0e21\", \"\\u0e42\\u0e21\\u0e48\", \"\\u0e42\\u0e2d\\u0e40\\u0e04\", \"\\u0e42\\u0e2d\\u0e40\\u0e04\", \"\\u0e42\\u0e2d\\u0e40\\u0e04\", \"\\u0e43\\u0e0a\\u0e49\\u0e44\\u0e14\\u0e49\", \"\\u0e44\\u0e01\\u0e48\", \"\\u0e44\\u0e1c\\u0e48\", \"\\u0e44\\u0e2d\\u0e15\\u0e34\\u0e21\", \"\\u0e44\\u0e2d\\u0e15\\u0e34\\u0e21\", \"\\u0e44\\u0e2d\\u0e15\\u0e34\\u0e21\", \"\\u200b\"]}, \"R\": 30, \"lambda.step\": 0.01, \"plot.opts\": {\"xlab\": \"PC1\", \"ylab\": \"PC2\"}, \"topic.order\": [3, 5, 2, 4, 1]};\n",
              "\n",
              "function LDAvis_load_lib(url, callback){\n",
              "  var s = document.createElement('script');\n",
              "  s.src = url;\n",
              "  s.async = true;\n",
              "  s.onreadystatechange = s.onload = callback;\n",
              "  s.onerror = function(){console.warn(\"failed to load library \" + url);};\n",
              "  document.getElementsByTagName(\"head\")[0].appendChild(s);\n",
              "}\n",
              "\n",
              "if(typeof(LDAvis) !== \"undefined\"){\n",
              "   // already loaded: just create the visualization\n",
              "   !function(LDAvis){\n",
              "       new LDAvis(\"#\" + \"ldavis_el6051396484080757283182745718\", ldavis_el6051396484080757283182745718_data);\n",
              "   }(LDAvis);\n",
              "}else if(typeof define === \"function\" && define.amd){\n",
              "   // require.js is available: use it to load d3/LDAvis\n",
              "   require.config({paths: {d3: \"https://cdnjs.cloudflare.com/ajax/libs/d3/3.5.5/d3.min\"}});\n",
              "   require([\"d3\"], function(d3){\n",
              "      window.d3 = d3;\n",
              "      LDAvis_load_lib(\"https://cdn.rawgit.com/bmabey/pyLDAvis/files/ldavis.v1.0.0.js\", function(){\n",
              "        new LDAvis(\"#\" + \"ldavis_el6051396484080757283182745718\", ldavis_el6051396484080757283182745718_data);\n",
              "      });\n",
              "    });\n",
              "}else{\n",
              "    // require.js not available: dynamically load d3 & LDAvis\n",
              "    LDAvis_load_lib(\"https://cdnjs.cloudflare.com/ajax/libs/d3/3.5.5/d3.min.js\", function(){\n",
              "         LDAvis_load_lib(\"https://cdn.rawgit.com/bmabey/pyLDAvis/files/ldavis.v1.0.0.js\", function(){\n",
              "                 new LDAvis(\"#\" + \"ldavis_el6051396484080757283182745718\", ldavis_el6051396484080757283182745718_data);\n",
              "            })\n",
              "         });\n",
              "}\n",
              "</script>"
            ],
            "text/plain": [
              "PreparedData(topic_coordinates=              x         y  topics  cluster       Freq\n",
              "topic                                                \n",
              "2      0.044777  0.014936       1        1  57.726283\n",
              "4     -0.043515  0.015713       2        1  21.055227\n",
              "1     -0.001134 -0.025662       3        1   8.313140\n",
              "3      0.002305 -0.005540       4        1   7.544213\n",
              "0     -0.002432  0.000552       5        1   5.361137, topic_info=       Term       Freq      Total Category  logprob  loglift\n",
              "58     ชาบู  18.000000  18.000000  Default  30.0000  30.0000\n",
              "118     ทาน  23.000000  23.000000  Default  29.0000  29.0000\n",
              "17      น้ำ  25.000000  25.000000  Default  28.0000  28.0000\n",
              "31    อร่อย  20.000000  20.000000  Default  27.0000  27.0000\n",
              "152   เลือก  16.000000  16.000000  Default  26.0000  26.0000\n",
              "..      ...        ...        ...      ...      ...      ...\n",
              "102     จาน   0.368774   4.199175   Topic5  -5.3300   0.4935\n",
              "205      บุ   0.392560   5.117157   Topic5  -5.2675   0.3583\n",
              "106     ชอบ   0.440830   8.657418   Topic5  -5.1515  -0.0515\n",
              "25   รสชาติ   0.449287  13.611369   Topic5  -5.1325  -0.4850\n",
              "92        :   0.439070  13.437229   Topic5  -5.1555  -0.4951\n",
              "\n",
              "[336 rows x 6 columns], token_table=      Topic      Freq   Term\n",
              "term                        \n",
              "87        1  0.598768       \n",
              "87        2  0.119754       \n",
              "87        3  0.119754       \n",
              "337       1  0.771951      \"\n",
              "338       1  0.869855      -\n",
              "...     ...       ...    ...\n",
              "168       1  0.934689    ไผ่\n",
              "47        1  0.639834  ไอติม\n",
              "47        2  0.127967  ไอติม\n",
              "47        4  0.127967  ไอติม\n",
              "48        1  0.919462      ​\n",
              "\n",
              "[275 rows x 3 columns], R=30, lambda_step=0.01, plot_opts={'xlab': 'PC1', 'ylab': 'PC2'}, topic_order=[3, 5, 2, 4, 1])"
            ]
          },
          "metadata": {
            "tags": []
          },
          "execution_count": 20
        }
      ]
    }
  ]
}