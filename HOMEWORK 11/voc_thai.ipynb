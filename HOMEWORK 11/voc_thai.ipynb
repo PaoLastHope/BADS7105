{
  "nbformat": 4,
  "nbformat_minor": 0,
  "metadata": {
    "colab": {
      "name": "voc_thai.ipynb",
      "provenance": []
    },
    "kernelspec": {
      "name": "python3",
      "display_name": "Python 3"
    },
    "language_info": {
      "name": "python"
    }
  },
  "cells": [
    {
      "cell_type": "markdown",
      "metadata": {
        "id": "QfwcwXth29ou"
      },
      "source": [
        "Install"
      ]
    },
    {
      "cell_type": "code",
      "metadata": {
        "colab": {
          "base_uri": "https://localhost:8080/"
        },
        "id": "K65Vf9aF2WpU",
        "outputId": "71091df9-0a42-4bd1-9899-5b90db6fee04"
      },
      "source": [
        "!pip install --upgrade pandas\n",
        "!pip install --upgrade gensim\n",
        "!pip install --upgrade pythainlp\n",
        "!pip install --upgrade pyLDAvis\n",
        "!pip install text2emotion\n",
        "!pip install fairseq\n",
        "!pip install sacremoses sentencepiece\n",
        "!pip install https://github.com/PyThaiNLP/pythainlp/archive/dev.zip"
      ],
      "execution_count": 34,
      "outputs": [
        {
          "output_type": "stream",
          "text": [
            "Requirement already up-to-date: pandas in /usr/local/lib/python3.7/dist-packages (1.2.4)\n",
            "Requirement already satisfied, skipping upgrade: python-dateutil>=2.7.3 in /usr/local/lib/python3.7/dist-packages (from pandas) (2.8.1)\n",
            "Requirement already satisfied, skipping upgrade: numpy>=1.16.5 in /usr/local/lib/python3.7/dist-packages (from pandas) (1.20.3)\n",
            "Requirement already satisfied, skipping upgrade: pytz>=2017.3 in /usr/local/lib/python3.7/dist-packages (from pandas) (2018.9)\n",
            "Requirement already satisfied, skipping upgrade: six>=1.5 in /usr/local/lib/python3.7/dist-packages (from python-dateutil>=2.7.3->pandas) (1.15.0)\n",
            "Requirement already up-to-date: gensim in /usr/local/lib/python3.7/dist-packages (4.0.1)\n",
            "Requirement already satisfied, skipping upgrade: smart-open>=1.8.1 in /usr/local/lib/python3.7/dist-packages (from gensim) (5.0.0)\n",
            "Requirement already satisfied, skipping upgrade: scipy>=0.18.1 in /usr/local/lib/python3.7/dist-packages (from gensim) (1.4.1)\n",
            "Requirement already satisfied, skipping upgrade: numpy>=1.11.3 in /usr/local/lib/python3.7/dist-packages (from gensim) (1.20.3)\n",
            "Requirement already up-to-date: pythainlp in /usr/local/lib/python3.7/dist-packages (2.3.1)\n",
            "Requirement already satisfied, skipping upgrade: tinydb>=3.0 in /usr/local/lib/python3.7/dist-packages (from pythainlp) (4.4.0)\n",
            "Requirement already satisfied, skipping upgrade: requests>=2.22.0 in /usr/local/lib/python3.7/dist-packages (from pythainlp) (2.23.0)\n",
            "Requirement already satisfied, skipping upgrade: python-crfsuite>=0.9.6 in /usr/local/lib/python3.7/dist-packages (from pythainlp) (0.9.7)\n",
            "Requirement already satisfied, skipping upgrade: chardet<4,>=3.0.2 in /usr/local/lib/python3.7/dist-packages (from requests>=2.22.0->pythainlp) (3.0.4)\n",
            "Requirement already satisfied, skipping upgrade: urllib3!=1.25.0,!=1.25.1,<1.26,>=1.21.1 in /usr/local/lib/python3.7/dist-packages (from requests>=2.22.0->pythainlp) (1.24.3)\n",
            "Requirement already satisfied, skipping upgrade: certifi>=2017.4.17 in /usr/local/lib/python3.7/dist-packages (from requests>=2.22.0->pythainlp) (2020.12.5)\n",
            "Requirement already satisfied, skipping upgrade: idna<3,>=2.5 in /usr/local/lib/python3.7/dist-packages (from requests>=2.22.0->pythainlp) (2.10)\n",
            "Requirement already up-to-date: pyLDAvis in /usr/local/lib/python3.7/dist-packages (3.3.1)\n",
            "Requirement already satisfied, skipping upgrade: joblib in /usr/local/lib/python3.7/dist-packages (from pyLDAvis) (1.0.1)\n",
            "Requirement already satisfied, skipping upgrade: scikit-learn in /usr/local/lib/python3.7/dist-packages (from pyLDAvis) (0.22.2.post1)\n",
            "Requirement already satisfied, skipping upgrade: setuptools in /usr/local/lib/python3.7/dist-packages (from pyLDAvis) (57.0.0)\n",
            "Requirement already satisfied, skipping upgrade: numpy>=1.20.0 in /usr/local/lib/python3.7/dist-packages (from pyLDAvis) (1.20.3)\n",
            "Requirement already satisfied, skipping upgrade: funcy in /usr/local/lib/python3.7/dist-packages (from pyLDAvis) (1.16)\n",
            "Requirement already satisfied, skipping upgrade: jinja2 in /usr/local/lib/python3.7/dist-packages (from pyLDAvis) (2.11.3)\n",
            "Requirement already satisfied, skipping upgrade: numexpr in /usr/local/lib/python3.7/dist-packages (from pyLDAvis) (2.7.3)\n",
            "Requirement already satisfied, skipping upgrade: sklearn in /usr/local/lib/python3.7/dist-packages (from pyLDAvis) (0.0)\n",
            "Requirement already satisfied, skipping upgrade: pandas>=1.2.0 in /usr/local/lib/python3.7/dist-packages (from pyLDAvis) (1.2.4)\n",
            "Requirement already satisfied, skipping upgrade: scipy in /usr/local/lib/python3.7/dist-packages (from pyLDAvis) (1.4.1)\n",
            "Requirement already satisfied, skipping upgrade: gensim in /usr/local/lib/python3.7/dist-packages (from pyLDAvis) (4.0.1)\n",
            "Requirement already satisfied, skipping upgrade: future in /usr/local/lib/python3.7/dist-packages (from pyLDAvis) (0.16.0)\n",
            "Requirement already satisfied, skipping upgrade: MarkupSafe>=0.23 in /usr/local/lib/python3.7/dist-packages (from jinja2->pyLDAvis) (2.0.1)\n",
            "Requirement already satisfied, skipping upgrade: python-dateutil>=2.7.3 in /usr/local/lib/python3.7/dist-packages (from pandas>=1.2.0->pyLDAvis) (2.8.1)\n",
            "Requirement already satisfied, skipping upgrade: pytz>=2017.3 in /usr/local/lib/python3.7/dist-packages (from pandas>=1.2.0->pyLDAvis) (2018.9)\n",
            "Requirement already satisfied, skipping upgrade: smart-open>=1.8.1 in /usr/local/lib/python3.7/dist-packages (from gensim->pyLDAvis) (5.0.0)\n",
            "Requirement already satisfied, skipping upgrade: six>=1.5 in /usr/local/lib/python3.7/dist-packages (from python-dateutil>=2.7.3->pandas>=1.2.0->pyLDAvis) (1.15.0)\n",
            "Requirement already satisfied: text2emotion in /usr/local/lib/python3.7/dist-packages (0.0.5)\n",
            "Requirement already satisfied: emoji>=0.6.0 in /usr/local/lib/python3.7/dist-packages (from text2emotion) (1.2.0)\n",
            "Requirement already satisfied: nltk in /usr/local/lib/python3.7/dist-packages (from text2emotion) (3.2.5)\n",
            "Requirement already satisfied: six in /usr/local/lib/python3.7/dist-packages (from nltk->text2emotion) (1.15.0)\n",
            "Requirement already satisfied: fairseq in /usr/local/lib/python3.7/dist-packages (0.10.2)\n",
            "Requirement already satisfied: hydra-core in /usr/local/lib/python3.7/dist-packages (from fairseq) (1.1.0)\n",
            "Requirement already satisfied: dataclasses in /usr/local/lib/python3.7/dist-packages (from fairseq) (0.6)\n",
            "Requirement already satisfied: tqdm in /usr/local/lib/python3.7/dist-packages (from fairseq) (4.41.1)\n",
            "Requirement already satisfied: torch in /usr/local/lib/python3.7/dist-packages (from fairseq) (1.8.1+cu101)\n",
            "Requirement already satisfied: numpy in /usr/local/lib/python3.7/dist-packages (from fairseq) (1.20.3)\n",
            "Requirement already satisfied: cffi in /usr/local/lib/python3.7/dist-packages (from fairseq) (1.14.5)\n",
            "Requirement already satisfied: regex in /usr/local/lib/python3.7/dist-packages (from fairseq) (2019.12.20)\n",
            "Requirement already satisfied: sacrebleu>=1.4.12 in /usr/local/lib/python3.7/dist-packages (from fairseq) (1.5.1)\n",
            "Requirement already satisfied: cython in /usr/local/lib/python3.7/dist-packages (from fairseq) (0.29.23)\n",
            "Requirement already satisfied: importlib-resources; python_version < \"3.9\" in /usr/local/lib/python3.7/dist-packages (from hydra-core->fairseq) (5.1.3)\n",
            "Requirement already satisfied: omegaconf==2.1.* in /usr/local/lib/python3.7/dist-packages (from hydra-core->fairseq) (2.1.0)\n",
            "Requirement already satisfied: antlr4-python3-runtime==4.8 in /usr/local/lib/python3.7/dist-packages (from hydra-core->fairseq) (4.8)\n",
            "Requirement already satisfied: typing-extensions in /usr/local/lib/python3.7/dist-packages (from torch->fairseq) (3.7.4.3)\n",
            "Requirement already satisfied: pycparser in /usr/local/lib/python3.7/dist-packages (from cffi->fairseq) (2.20)\n",
            "Requirement already satisfied: portalocker==2.0.0 in /usr/local/lib/python3.7/dist-packages (from sacrebleu>=1.4.12->fairseq) (2.0.0)\n",
            "Requirement already satisfied: zipp>=0.4; python_version < \"3.8\" in /usr/local/lib/python3.7/dist-packages (from importlib-resources; python_version < \"3.9\"->hydra-core->fairseq) (3.4.1)\n",
            "Requirement already satisfied: PyYAML>=5.1.* in /usr/local/lib/python3.7/dist-packages (from omegaconf==2.1.*->hydra-core->fairseq) (5.4.1)\n",
            "Requirement already satisfied: sacremoses in /usr/local/lib/python3.7/dist-packages (0.0.45)\n",
            "Requirement already satisfied: sentencepiece in /usr/local/lib/python3.7/dist-packages (0.1.95)\n",
            "Requirement already satisfied: six in /usr/local/lib/python3.7/dist-packages (from sacremoses) (1.15.0)\n",
            "Requirement already satisfied: tqdm in /usr/local/lib/python3.7/dist-packages (from sacremoses) (4.41.1)\n",
            "Requirement already satisfied: regex in /usr/local/lib/python3.7/dist-packages (from sacremoses) (2019.12.20)\n",
            "Requirement already satisfied: joblib in /usr/local/lib/python3.7/dist-packages (from sacremoses) (1.0.1)\n",
            "Requirement already satisfied: click in /usr/local/lib/python3.7/dist-packages (from sacremoses) (7.1.2)\n",
            "Collecting https://github.com/PyThaiNLP/pythainlp/archive/dev.zip\n",
            "  Using cached https://github.com/PyThaiNLP/pythainlp/archive/dev.zip\n",
            "Requirement already satisfied (use --upgrade to upgrade): pythainlp==2.3.1 from https://github.com/PyThaiNLP/pythainlp/archive/dev.zip in /usr/local/lib/python3.7/dist-packages\n",
            "Requirement already satisfied: python-crfsuite>=0.9.6 in /usr/local/lib/python3.7/dist-packages (from pythainlp==2.3.1) (0.9.7)\n",
            "Requirement already satisfied: requests>=2.22.0 in /usr/local/lib/python3.7/dist-packages (from pythainlp==2.3.1) (2.23.0)\n",
            "Requirement already satisfied: tinydb>=3.0 in /usr/local/lib/python3.7/dist-packages (from pythainlp==2.3.1) (4.4.0)\n",
            "Requirement already satisfied: urllib3!=1.25.0,!=1.25.1,<1.26,>=1.21.1 in /usr/local/lib/python3.7/dist-packages (from requests>=2.22.0->pythainlp==2.3.1) (1.24.3)\n",
            "Requirement already satisfied: certifi>=2017.4.17 in /usr/local/lib/python3.7/dist-packages (from requests>=2.22.0->pythainlp==2.3.1) (2020.12.5)\n",
            "Requirement already satisfied: idna<3,>=2.5 in /usr/local/lib/python3.7/dist-packages (from requests>=2.22.0->pythainlp==2.3.1) (2.10)\n",
            "Requirement already satisfied: chardet<4,>=3.0.2 in /usr/local/lib/python3.7/dist-packages (from requests>=2.22.0->pythainlp==2.3.1) (3.0.4)\n",
            "Building wheels for collected packages: pythainlp\n",
            "  Building wheel for pythainlp (setup.py) ... \u001b[?25l\u001b[?25hdone\n",
            "  Created wheel for pythainlp: filename=pythainlp-2.3.1-cp37-none-any.whl size=11617551 sha256=d85faa03aa3814e6287d3d16b63e57f478c227195c89e0d1491e00fc80118511\n",
            "  Stored in directory: /tmp/pip-ephem-wheel-cache-ovh_rvqf/wheels/79/4e/1e/26f3198c6712ecfbee92928ed1dde923a078da3d222401cc78\n",
            "Successfully built pythainlp\n"
          ],
          "name": "stdout"
        }
      ]
    },
    {
      "cell_type": "code",
      "metadata": {
        "id": "3kYPQZlm2oTK"
      },
      "source": [
        "import warnings\n",
        "warnings.filterwarnings(\"ignore\", category=DeprecationWarning) \n",
        "warnings.filterwarnings(\"ignore\", category=FutureWarning) \n",
        "\n",
        "import pandas as pd\n",
        "import numpy as np\n",
        "import re\n",
        "import string\n",
        "from pprint import pprint\n",
        "import matplotlib.pyplot as plt\n",
        "import seaborn as sns\n",
        "import networkx as nx\n",
        "\n",
        "import pythainlp \n",
        "from pythainlp.translate import EnThTranslator, ThEnTranslator\n",
        "from pythainlp.translate import download_model_all\n",
        "from pythainlp.corpus.common import *\n",
        "from pythainlp.util import normalize\n",
        "from pythainlp import Tokenizer\n",
        "download_model_all()\n",
        "\n",
        "import text2emotion as te\n",
        "\n",
        "import pyLDAvis\n",
        "import pyLDAvis.gensim_models\n",
        "pyLDAvis.enable_notebook()\n",
        "\n",
        "import gensim\n",
        "from gensim import corpora, models, similarities, downloader"
      ],
      "execution_count": 35,
      "outputs": []
    },
    {
      "cell_type": "markdown",
      "metadata": {
        "id": "DlVwtzka25Cv"
      },
      "source": [
        "Import source data"
      ]
    },
    {
      "cell_type": "code",
      "metadata": {
        "colab": {
          "base_uri": "https://localhost:8080/",
          "height": 307
        },
        "id": "6ClrrQ5H24jH",
        "outputId": "a82e45f0-31d9-4b67-db2e-e101377c44fd"
      },
      "source": [
        "url = 'https://raw.githubusercontent.com/PaoLastHope/BADS7105/012d3c593aefc5821bd07d549674f5cae46c2fcc/HOMEWORK%2011/CustomerReviews.csv'\n",
        "df = pd.read_csv(url)\n",
        "df.head(5)"
      ],
      "execution_count": 36,
      "outputs": [
        {
          "output_type": "execute_result",
          "data": {
            "text/html": [
              "<div>\n",
              "<style scoped>\n",
              "    .dataframe tbody tr th:only-of-type {\n",
              "        vertical-align: middle;\n",
              "    }\n",
              "\n",
              "    .dataframe tbody tr th {\n",
              "        vertical-align: top;\n",
              "    }\n",
              "\n",
              "    .dataframe thead th {\n",
              "        text-align: right;\n",
              "    }\n",
              "</style>\n",
              "<table border=\"1\" class=\"dataframe\">\n",
              "  <thead>\n",
              "    <tr style=\"text-align: right;\">\n",
              "      <th></th>\n",
              "      <th>Review ID</th>\n",
              "      <th>Restaurant_ID</th>\n",
              "      <th>Restaurant</th>\n",
              "      <th>User</th>\n",
              "      <th>Headline</th>\n",
              "      <th>Review</th>\n",
              "      <th>Rating</th>\n",
              "    </tr>\n",
              "  </thead>\n",
              "  <tbody>\n",
              "    <tr>\n",
              "      <th>0</th>\n",
              "      <td>1</td>\n",
              "      <td>352696Px-mo-mo-paradise-เดอะมอลล์-บางกะปิ</td>\n",
              "      <td>Mo-Mo-Paradise (โม โม พาราไดซ์) เดอะมอลล์ บางกะปิ</td>\n",
              "      <td>7b16469831074f7abc7824745ee75212</td>\n",
              "      <td>ที่สำคัญของร้านนี้คือบริการดีมากพนักงานน่ารักส...</td>\n",
              "      <td>ที่สำคัญของร้านนี้คือบริการดีมากพนักงานน่ารักส...</td>\n",
              "      <td>5.0</td>\n",
              "    </tr>\n",
              "    <tr>\n",
              "      <th>1</th>\n",
              "      <td>2</td>\n",
              "      <td>352696Px-mo-mo-paradise-เดอะมอลล์-บางกะปิ</td>\n",
              "      <td>Mo-Mo-Paradise (โม โม พาราไดซ์) เดอะมอลล์ บางกะปิ</td>\n",
              "      <td>pakkaramonpondej</td>\n",
              "      <td>รสชาติเหมือนทุกสาขา แต่สาขานี้ บริการดี ที่นั่งดี</td>\n",
              "      <td>นึกถึงชาบูญี่ปุ่นยังไงก็ต้อง คิดถึงโมโม่ พาราไ...</td>\n",
              "      <td>5.0</td>\n",
              "    </tr>\n",
              "    <tr>\n",
              "      <th>2</th>\n",
              "      <td>3</td>\n",
              "      <td>352696Px-mo-mo-paradise-เดอะมอลล์-บางกะปิ</td>\n",
              "      <td>Mo-Mo-Paradise (โม โม พาราไดซ์) เดอะมอลล์ บางกะปิ</td>\n",
              "      <td>saanowy</td>\n",
              "      <td>ชาบูพรีเมี่ยมสไตล์ญี่ปุ่น เนื้อดีมากกก</td>\n",
              "      <td>มาทานช่วงนี้ สามารถนั่งโต๊ะเดียวกัน หม้อเดียวก...</td>\n",
              "      <td>4.0</td>\n",
              "    </tr>\n",
              "    <tr>\n",
              "      <th>3</th>\n",
              "      <td>4</td>\n",
              "      <td>352696Px-mo-mo-paradise-เดอะมอลล์-บางกะปิ</td>\n",
              "      <td>Mo-Mo-Paradise (โม โม พาราไดซ์) เดอะมอลล์ บางกะปิ</td>\n",
              "      <td>ployynp</td>\n",
              "      <td>เนื้อดี ไอติมดี คุ้มค่าดี</td>\n",
              "      <td>ถ้านึกถึงชาบูที่มีเนื้อเน้นๆ ในราคาไม่โหดจนเกิ...</td>\n",
              "      <td>4.0</td>\n",
              "    </tr>\n",
              "    <tr>\n",
              "      <th>4</th>\n",
              "      <td>5</td>\n",
              "      <td>352696Px-mo-mo-paradise-เดอะมอลล์-บางกะปิ</td>\n",
              "      <td>Mo-Mo-Paradise (โม โม พาราไดซ์) เดอะมอลล์ บางกะปิ</td>\n",
              "      <td>665a902b335b434ab489f00f2fbb477e</td>\n",
              "      <td>อาหารมีคุณภาพ บริการดีค่ะ</td>\n",
              "      <td>เดินมาหน้าร้านแล้วได้กลิ่นชาบูหอมมาก ๆ  ประกอบ...</td>\n",
              "      <td>5.0</td>\n",
              "    </tr>\n",
              "  </tbody>\n",
              "</table>\n",
              "</div>"
            ],
            "text/plain": [
              "   Review ID  ... Rating\n",
              "0          1  ...    5.0\n",
              "1          2  ...    5.0\n",
              "2          3  ...    4.0\n",
              "3          4  ...    4.0\n",
              "4          5  ...    5.0\n",
              "\n",
              "[5 rows x 7 columns]"
            ]
          },
          "metadata": {
            "tags": []
          },
          "execution_count": 36
        }
      ]
    },
    {
      "cell_type": "markdown",
      "metadata": {
        "id": "o8C1xNzk4k68"
      },
      "source": [
        "# Tokenize Words"
      ]
    },
    {
      "cell_type": "code",
      "metadata": {
        "id": "7hSWjk5t4nOL"
      },
      "source": [
        "# Build thai words for tokenizer\n",
        "th_words = []\n",
        "th_words.extend(list(thai_words())) \n",
        "th_words.extend(list(thai_stopwords()))\n",
        "th_words.extend(list(thai_negations()))\n",
        "th_words.extend(list(countries()))\n",
        "th_words.extend(list(provinces()))\n",
        "\n",
        "# add additional words\n",
        "from pathlib import Path\n",
        "\n",
        "url_a1 = 'https://raw.githubusercontent.com/PaoLastHope/BADS7105/8001618620975c53c1742535958c124fdf207bef/HOMEWORK%2011/add_words.txt'\n",
        "url_a2 = 'https://raw.githubusercontent.com/PaoLastHope/BADS7105/8001618620975c53c1742535958c124fdf207bef/HOMEWORK%2011/add_places.txt'\n",
        "add_words = pd.read_fwf(url_a1, header=None)\n",
        "add_places = pd.read_fwf(url_a2, header=None)\n",
        "# additional words\n",
        "th_words.extend(str(add_words).split('|')) \n",
        "th_words.extend(str(add_places).split('|')) \n",
        "th_words = set(th_words)\n",
        "\n",
        "# remove from result list\n",
        "stopwords = list(pythainlp.corpus.thai_stopwords())\n",
        "removed_words = [' ', '  ', '\\n','/n/n','/n', '(', ')', ':', '–', '\"', ',','🤣','😆']\n",
        "screening_words = stopwords + removed_words\n",
        "\n",
        "def tokenize_with_space(text):\n",
        "  text = normalize(str(text))\n",
        "  custom_tokenizer = Tokenizer(th_words)\n",
        "  words = custom_tokenizer.word_tokenize(text=text)\n",
        "  words = [x for x in words if (x not in removed_words)]\n",
        "  print(words)\n",
        "  merged = ''\n",
        "  for word in words:\n",
        "    word = normalize(word)\n",
        "    if word not in screening_words:\n",
        "      merged = merged + ',' + word\n",
        "  return merged[1:]"
      ],
      "execution_count": 37,
      "outputs": []
    },
    {
      "cell_type": "code",
      "metadata": {
        "colab": {
          "base_uri": "https://localhost:8080/"
        },
        "id": "FYpKqxbSFEpC",
        "outputId": "b487bd0c-370e-4da1-cac1-97466e2a7d0f"
      },
      "source": [
        "print(list(pythainlp.corpus.thai_stopwords()))"
      ],
      "execution_count": 38,
      "outputs": [
        {
          "output_type": "stream",
          "text": [
            "['นับแต่นั้น', 'มิ', 'นี่นา', 'ทั้งเป็น', 'ด้วยเหตุนี้', 'เสียนี่', 'อันจะ', 'ขณะใดๆ', 'จัด', 'จากนั้น', 'เป็นการ', 'แล้ว', 'ทํา', 'ช่วงที่', 'เกี่ยวข้อง', 'พบ', 'เมื่อก่อน', 'ส่วนดี', 'พื้นๆ', 'ทว่า', 'ครบครัน', 'เช่นที่ว่า', 'ถึงเมื่อใด', 'ทุกคน', 'ค่อนข้าง', 'ถึงแม้ว่า', 'ด้วยเช่นกัน', 'เช่นดังเก่า', 'วันนั้น', 'ใหญ่ๆ', 'เมื่อคืน', 'ในเมื่อ', 'ตลอดเวลา', 'เล็กน้อย', 'เช่นนั้นเอง', 'ยิ่งขึ้นไป', 'พร้อมกัน', 'คง', 'เกือบ', 'เฉกเช่น', 'เสียยิ่ง', 'จวบจน', 'เสร็จสิ้น', 'ยืนยง', 'เคย', 'รึว่า', 'เท่า', 'จัดตั้ง', 'ให้', 'กำหนด', 'ทุกวัน', 'เพื่อให้', 'ได้ที่', 'ยืนยัน', 'คิดว่า', 'เข้า', 'เช่นกัน', 'พา', 'นั่นเป็น', 'ต่อกัน', 'ผิด', 'กล่าว', 'ได้แก่', 'ทุก', 'หลาย', 'ตามด้วย', 'นาย', 'ช่วงก่อน', 'เป็นเพื่อ', 'แค่นี้', 'ยังโง้น', 'ก็ต่อเมื่อ', 'ก็ตาม', 'ที่ใด', 'เกือบๆ', 'อีก', 'ครบถ้วน', 'บาง', 'จริงๆ', 'บัดนี้', 'ทุกสิ่ง', 'เห็นควร', 'เลย', 'ช้า', 'เสร็จ', 'เปลี่ยน', 'ทุกคราว', 'ใช่ไหม', 'ยังงี้', 'ยังคง', 'ช่วงท้าย', 'หน', 'เพิ่ม', 'เชื่อมั่น', 'นอก', 'ด้วยที่', 'ด้วยเหตุที่', 'ยังแต่', 'เหล่า', 'คราว', 'เป็นต้นมา', 'แสดง', 'กระนั้น', 'ฉะนั้น', 'เช่นดังว่า', 'ตรง', 'ช่วงนี้', 'ใช่', 'หนึ่ง', 'ช้านาน', 'มันๆ', 'ด้วยเหตุว่า', 'จนกระทั่ง', 'ฝ่าย', 'รวมด้วย', 'อย่างหนึ่ง', 'แค่ไหน', 'นอกเหนือ', 'และ', 'บ่อยๆ', 'ที่แท้', 'ก็ตามที', 'เช่นนี้', 'ที่นี้', 'ว่า', 'ทั้ง', 'ที่แท้จริง', 'แต่ทว่า', 'คราวหนึ่ง', 'นอกจากที่', 'ยิ่งจะ', 'ยาก', 'รวมกัน', 'นำ', 'หรือไร', 'ที่ๆ', 'ฉัน', 'อันใด', 'ภาค', 'เผื่อว่า', 'ครั้งหนึ่ง', 'ด้วยเหมือนกัน', 'อะไร', 'กว้าง', 'ดั่งเคย', 'ที', 'คราวหลัง', 'ยิ่งขึ้น', 'เสียจน', 'แท้จริง', 'ทีไร', 'ครั้งครา', 'ถึงเมื่อไร', 'ก็', 'ขอ', 'เชื่อว่า', 'มา', 'รวด', 'มัน', 'เพิ่งจะ', 'คราวนั้น', 'นอกจากนี้', 'นอกเหนือจาก', 'ที่ไหน', 'เสมือนกับ', 'อย่างเช่น', 'ทั้งนั้นเพราะ', 'เป็นแต่เพียง', 'พวกแก', 'ตลอดไป', 'สืบเนื่อง', 'เช่นใด', 'อาจ', 'เมื่อไร', 'ทุกเมื่อ', 'เสร็จสมบูรณ์', 'จวบกับ', 'ตลอดระยะเวลา', 'นานๆ', 'ในที่', 'คราหนึ่ง', 'คราวหน้า', 'ที่จริง', 'ทุกครั้ง', 'อย่างใด', 'ไร', 'แท้', 'มั้ยล่ะ', 'เช่นดัง', 'กว้างขวาง', 'พร้อมทั้ง', 'เรียก', 'ปรากฏว่า', 'พอๆ', 'เพียงใด', 'ครั้งละ', 'ครั้งใด', 'ตามแต่', 'ต่างๆ', 'ด้วย', 'ยิ่งใหญ่', 'อย่างไรเสีย', 'ก็ได้', 'มากมาย', 'เล็กๆ', 'แล้วแต่', 'เสียด้วย', 'ไม่', 'ครั้งๆ', 'เหตุนี้', 'พวกนี้', 'เช่นที่เคย', 'ได้แต่', 'เมื่อนี้', 'จากนี้', 'ข้าฯ', 'พวกคุณ', 'สมัยนั้น', 'แค่เพียง', 'ก็คือ', 'ล้วน', 'เพิ่มเติม', 'จ้า', 'ตั้ง', 'ทาง', 'โตๆ', 'ทั่ว', 'สูงๆ', 'รือว่า', 'เห็นแก่', 'แต่จะ', 'ข้างต้น', 'เช่นก่อน', 'ณ', 'ถ้าจะ', 'ที่แล้ว', 'ถึงบัดนั้น', 'ทุกที่', 'พอสม', 'ส่วนใด', 'เท่านี้', 'รวม', 'ง่าย', 'ข้างบน', 'ครั้งนี้', 'ยอม', 'สู่', 'เล็ก', 'นับจากนี้', 'กัน', 'สิ่งนี้', 'แยะ', 'ดัง', 'ทรง', 'ถึงอย่างไร', 'แค่จะ', 'เร็วๆ', 'เห็นจะ', 'แต่', 'แต่ไหน', 'มั๊ย', 'คราไหน', 'ซึ่งก็คือ', 'ใครๆ', 'พวกที่', 'แม้นว่า', 'ภายภาค', 'น้อย', 'จนทั่ว', 'เล่าว่า', 'ถูกๆ', 'ตลอด', 'ก็แล้วแต่', 'พร้อมด้วย', 'อันๆ', 'ตามที่', 'ถูก', 'ยกให้', 'จริง', 'นัก', 'ร่วมมือ', 'เสร็จแล้ว', 'ยอมรับ', 'คุณๆ', 'คราวนี้', 'มองว่า', 'หลังจาก', 'ช้าๆ', 'หากแม้', 'แล้วเสร็จ', 'นั่นแหละ', 'เสียยิ่งนัก', 'กว้างๆ', 'ครา', 'ไหนๆ', 'จากนี้ไป', 'เรื่อยๆ', 'ถึงแก่', 'ส่วนมาก', 'ทำๆ', 'แค่ว่า', 'เป็นต้น', 'ตน', 'ให้แก่', 'เช่นเคย', 'ดั่งกับว่า', 'นั่น', 'ผิดๆ', 'หมดกัน', 'อย่างนี้', 'เพราะ', 'พวกโน้น', 'เดียว', 'ด้วยกัน', 'สุด', 'ทุกหน', 'มิได้', 'แต่เมื่อ', 'อันที่จริง', 'จู่ๆ', 'แหละ', 'เต็มไปหมด', 'จวนเจียน', 'บอกแล้ว', 'ยืนนาน', 'แต่ว่า', 'พบว่า', 'ได้', 'ทั้งๆ', 'ซะก่อน', 'พึง', 'ด้วยเหตุนั้น', 'หารือ', 'เห็น', 'พอแล้ว', 'ขณะนั้น', 'ที่ได้', 'ทั้งตัว', 'เท่านั้น', 'เพียงพอ', 'อย่างมาก', 'ทีใด', 'เอ็ง', 'ต่างหาก', 'จึง', 'เช่นที่', 'แห่งไหน', 'เท่าที่', 'ภายภาคหน้า', 'เช่นดังที่', 'หมดสิ้น', 'ซะจนกระทั่ง', 'เท่ากัน', 'นอกจาก', 'ใกล้', 'จรดกับ', 'เร็ว', 'มิใช่', 'สําหรับ', 'แต่ต้อง', 'เคยๆ', 'เกิน', 'ภายหน้า', 'ยาว', 'สมัย', 'จึงจะ', 'แก่', 'หากว่า', 'บ่อยครั้ง', 'ค่อยๆ', 'ไม่ค่อยเป็น', 'ขาด', 'นู่น', 'จ้ะ', 'เสร็จกัน', 'คิด', 'เสียนี่กระไร', 'คล้ายกับว่า', 'จวน', 'เนื่องจาก', 'ได้มา', 'เขา', 'สิ่งนั้น', 'ปรับ', 'ที่นั้น', 'ครั้งหลังสุด', 'พร้อม', 'นี่เอง', 'อันได้แก่', 'ไม่ค่อยจะ', 'เต็มๆ', 'ข้างล่าง', 'แต่ที่', 'เพื่อว่า', 'บัดเดี๋ยวนี้', 'บางที', 'นับตั้งแต่', 'ช่วงแรก', 'นับแต่ที่', 'ก่อนหน้า', 'สิ่ง', 'ซึ่งกัน', 'เชื่อถือ', 'ส่วนด้อย', 'เธอ', 'จ๊ะ', 'นับ', 'ตรงๆ', 'ต่อ', 'ดั่งกับ', 'สิ่งไหน', 'จำ', 'อื่นๆ', 'ข้างๆ', 'ให้มา', 'ดังเก่า', 'เสียนั่น', 'ซึ่งกันและกัน', 'ช่วย', 'ที่สุด', 'ทั้งหลาย', 'แรก', 'บางที่', 'บางขณะ', 'พูด', 'จนกว่า', 'พอเพียง', 'หากแม้นว่า', 'ครั้งหลัง', 'เมื่อวันวาน', 'แค่', 'แล้วกัน', 'เป็นเพียง', 'ทีละ', 'เป็นอาทิ', 'คล้าย', 'กันเอง', 'ไม่ว่า', 'แต่นั้น', 'เพียงเพราะ', 'มึง', 'โดย', 'สิ้น', 'นั้นๆ', 'มิฉะนั้น', 'ที่แห่งนั้น', 'จน', 'แต่ไร', 'ทำไร', 'อยาก', 'นาง', 'จัง', 'จนขณะนี้', 'รับ', 'ตลอดปี', 'แต่เพียง', 'อย่างไหน', 'จังๆ', 'กลุ่มก้อน', 'หาใช่', 'เมื่อเช้า', 'เพียงไร', 'คะ', 'ได้รับ', 'ทุกๆ', 'น่า', 'ทั้งปวง', 'ทุกวันนี้', 'แต่ก็', 'บางแห่ง', 'ครานั้น', 'กู', 'จะได้', 'ของ', 'ขวางๆ', 'ตนเอง', 'ถือ', 'ครานี้', 'เกี่ยวๆ', 'ทุกที', 'ตลอดทั้ง', 'เผื่อที่', 'ต่างก็', 'นี่แหละ', 'คุณ', 'ที่ละ', 'กันดีไหม', 'ใหม่', 'ขั้น', 'ก็ดี', 'อันไหน', 'ทั้งหมด', 'ถึงแม้จะ', 'หาความ', 'คงอยู่', 'คราวโน้น', 'ส่วนใหญ่', 'มั้ยเนี่ย', 'ระหว่าง', 'ตลอดทั่วทั้ง', 'ยิ่งจน', 'ครั้ง', 'จัดงาน', 'แม้กระทั่ง', 'พอสมควร', 'เผื่อ', 'พวกกัน', 'คล้ายว่า', 'อย่างไรก็ได้', 'ทั้งที่', 'บน', 'เมื่อคราวที่', 'นิด', 'ดังเคย', 'ทั้งที', 'พวกกู', 'ถูกต้อง', 'รวมๆ', 'ทุกแห่ง', 'ควร', '\\ufeffๆ', 'มุ่ง', 'ตลอดทั่วถึง', 'เหลือ', 'ยังจะ', 'ยิ่งเมื่อ', 'เท่ากับ', 'เสียจนถึง', 'สมัยก่อน', 'หน่อย', 'ใช้', 'ซึ่ง', 'เรื่อย', 'ซะจนถึง', 'แห่ง', 'ครัน', 'กันดีกว่า', 'นอกจากนั้น', 'เป็นๆ', 'ฯล', 'จง', 'แม้แต่', 'พวกมัน', 'ตั้งแต่', 'เสียจนกระทั่ง', 'ระยะๆ', 'ดังกับว่า', 'ประกอบ', 'ข้างเคียง', 'แต่เดิม', 'จำพวก', 'คราใด', 'เมื่อครั้ง', 'ลง', 'ส่วนน้อย', 'เป็นเพียงว่า', 'จด', 'แม้ว่า', 'เกี่ยวเนื่อง', 'ประการฉะนี้', 'อันเนื่องมาจาก', 'ผ่าน', 'นาน', 'ดั่งเก่า', 'สบาย', 'เป็นที่สุด', 'ใคร่', 'บางคราว', 'ในช่วง', 'ครั้งนั้น', 'เมื่อคราวก่อน', 'พอตัว', 'ไกลๆ', 'พวกมึง', 'ตลอดวัน', 'แต่ก่อน', 'ร่วมด้วย', 'ครั้งกระนั้น', 'ทุกทาง', 'ส่วนนั้น', 'พร้อมเพียง', 'บางกว่า', 'แห่งนั้น', 'น่าจะ', 'แก', 'เยอะๆ', 'อย่างไรก็', 'คือ', 'พวกท่าน', 'เต็มไปด้วย', 'อื่น', 'บางๆ', 'ตลอดกาลนาน', 'จนบัดนี้', 'เสียก่อน', 'เป็นอันๆ', 'เหล่านั้น', 'นี่แน่ะ', 'เยอะ', 'จาก', 'พอที', 'ใหม่ๆ', 'ตามๆ', 'แม้', 'วันนี้', 'สำคัญ', 'นางสาว', 'ทั้งคน', 'กล่าวคือ', 'เริ่ม', 'ผล', 'พอดี', 'สูงสุด', 'ข้าพเจ้า', 'น้อยๆ', 'เป็นเพราะ', 'ปรากฏ', 'บ่อยกว่า', 'ดั่ง', 'จริงๆจังๆ', 'ขณะหนึ่ง', 'ต่าง', 'ช่วงหลัง', 'สามารถ', 'พวกนั้น', 'กันและกัน', 'เป็นดัง', 'แบบ', 'ซึ่งได้แก่', 'ดังกับ', 'ช่วงต่อไป', 'กลับ', 'เช่นไร', 'ไม่เป็นไร', 'เพียงแต่', 'พอเหมาะ', 'เกือบจะ', 'กว่า', 'ใหญ่โต', 'คราวก่อน', 'นี่ไง', 'ประการใด', 'มั้ย', 'อันละ', 'เช่นเมื่อ', 'เสมือนว่า', 'เรา', 'ความ', 'จริงจัง', 'เราๆ', 'เหลือเกิน', 'คล้ายกันกับ', 'ฯลฯ', 'เป็นที', 'พร้อมที่', 'วันใด', 'พวกนู้น', 'อย่างไร', 'ด้วยเหตุเพราะ', 'ส่วน', 'ทันใดนั้น', 'เนี่ยเอง', 'น่ะ', 'ทั้งนี้', 'คราวๆ', 'นอกนั้น', 'นับแต่', 'ตลอดกาล', 'ขณะใด', 'เมื่อครั้งก่อน', 'เป็นด้วย', 'มอง', 'ล้วนแต่', 'ตนฯ', 'เถิด', 'ช่วงหน้า', 'ด้วยเพราะ', 'ซึ่งๆ', 'หาก', 'กระทำ', 'มาก', 'นะ', 'อัน', 'พวกฉัน', 'รวมถึง', 'ทุกตัว', 'เมื่อวาน', 'คราวละ', 'โต', 'เป็น', 'สั้นๆ', 'ส่วนที่', 'มักจะ', 'บัดนั้น', 'ทั้งสิ้น', 'เพียง', 'เหล่านี้', 'บางครา', 'บัดดล', 'ล้วนจน', 'แห่งโน้น', 'ถึงจะ', 'รึ', 'นู้น', 'คราวใด', 'ยังไง', 'ยืนยาว', 'หรือเปล่า', 'ปิด', 'สิ่งใด', 'ยังงั้น', 'ด้วยประการฉะนี้', 'ถึงเมื่อ', 'วัน', 'นับแต่นี้', 'ค่อนข้างจะ', 'ภายหลัง', 'ยิ่งนัก', 'ไป', 'ต้อง', 'บอกว่า', 'กันเถอะ', 'เปลี่ยนแปลง', 'เพิ่ง', 'เหตุผล', 'นั่นไง', 'ครั้งที่', 'เพียงแค่', 'อย่าง', 'เพราะว่า', 'ร่วม', 'จัดแจง', 'เมื่อนั้น', 'เช่นเดียวกัน', 'ก็ตามแต่', 'อย่างนั้น', 'เสียแล้ว', 'คงจะ', 'เข้าใจ', 'ให้ไป', 'นั่นเอง', 'รวมทั้ง', 'ภายใน', 'เฉย', 'ก่อน', 'เป็นอันมาก', 'เปิด', 'ราย', 'จัดทำ', 'อย่างละ', 'เน้น', 'อาจเป็น', 'ภายใต้', 'เป็นเพราะว่า', 'ยิ่ง', 'ง่ายๆ', 'มี', 'ทำให้', 'ก่อนๆ', 'ครบ', 'ตาม', 'นํา', 'จวบ', 'พอ', 'สุดๆ', 'ให้ดี', 'เฉยๆ', 'บอก', 'การ', 'มั้ยนะ', 'พวก', 'ไม่ค่อย', 'กระผม', 'ภายนอก', 'อันที่', 'ถึง', 'ค่ะ', 'อย่างที่', 'ด้วยว่า', 'ชาว', 'หรือยัง', 'ใคร่จะ', 'เชื่อ', 'ทั้งนั้นด้วย', 'ดังกล่าว', 'ซะจน', 'ถ้า', 'ประมาณ', 'ก่อนหน้านี้', 'สมัยนี้', 'เป็นอัน', 'อาจเป็นด้วย', 'ส่วนเกิน', 'เถอะ', 'ขณะที่', 'ครั้งคราว', 'ผ่านๆ', 'จัดหา', 'ฉะนี้', 'ตลอดทั่ว', 'ทุกชิ้น', 'ครั้งไหน', 'ถ้าหาก', 'สิ้นกาลนาน', 'ฯ', 'สูงกว่า', 'ด้าน', 'ภาย', 'นำมา', 'แค่นั้น', 'ภาคฯ', 'ทุกอย่าง', 'เรียบ', 'รวดเร็ว', 'แห่งใด', 'มีแต่', 'ย่อม', 'หรือ', 'เกิด', 'ขณะเดียวกัน', 'ไป่', 'เมื่อใด', 'คราวไหน', 'เมื่อไหร่', 'แก้ไข', 'ช่วงระหว่าง', 'รือ', 'ที่', 'เก็บ', 'ทําให้', 'ซะ', 'พอที่', 'ใดๆ', 'อย่างๆ', 'ค่อย', 'จนถึง', 'ช่วงๆ', 'นี้', 'สมัยโน้น', 'เช่นนั้น', 'เขียน', 'ข้า', 'ประการหนึ่ง', 'ส่ง', 'ยิ่งแล้ว', 'อันที่จะ', 'จวนจะ', 'เช่น', 'กระทั่ง', 'กันนะ', 'พึ่ง', 'กำลังจะ', 'แยะๆ', 'ประสบ', 'เป็นแต่', 'ทำไม', 'ไม่ใช่', 'ปฏิบัติ', 'นอกจากว่า', 'ค่อยไปทาง', 'พวกเธอ', 'ใหญ่', 'แสดงว่า', 'ไฉน', 'ทีเถอะ', 'ล่าสุด', 'อย่างโน้น', 'แต่อย่างใด', 'คล้ายกับ', 'นำพา', 'เพื่อที่', 'พอควร', 'ช่วงนั้น', 'ตลอดจน', 'เพราะฉะนั้น', 'เสียนั่นเอง', 'หมด', 'สูง', 'หนอ', 'กำลัง', 'กลุ่มๆ', 'พอจะ', 'แต่ถ้า', 'หากแม้น', 'เท่าไหร่', 'เกี่ยวกัน', 'บ่อย', 'กลุ่ม', 'เป็นที่', 'เมื่อเย็น', 'เช่นดังก่อน', 'ๆ', 'ผู้ใด', 'จึงเป็น', 'ครับ', 'เกินๆ', 'ทุกอัน', 'ช่วง', 'เผื่อจะ', 'เป็นต้นไป', 'เพียงไหน', 'อดีต', 'นิดๆ', 'มากกว่า', 'นิดหน่อย', 'บางครั้ง', 'ที่ซึ่ง', 'หลัง', 'ยาวนาน', 'ปัจจุบัน', 'เดียวกัน', 'แห่งนี้', 'ถือว่า', 'เนี่ย', 'อย่างน้อย', 'ออก', 'นั้น', 'จนเมื่อ', 'เอา', 'ใน', 'นี้แหล่', 'มุ่งเน้น', 'จนตลอด', 'อยู่', 'เกี่ยวกับ', 'สูงส่ง', 'นั้นไว', 'นี้เอง', 'จ๋า', 'วันไหน', 'ตลอดถึง', 'คำ', 'ผู้', 'ย่อย', 'พอกัน', 'เท่าไร', 'ตลอดศก', 'ขณะ', 'ร่วมกัน', 'ทั้งมวล', 'ช่วงถัดไป', 'เป็นอันว่า', 'ทุกครา', 'จะ', 'นี่', 'ยัง', 'ก็แค่', 'เยอะแยะ', 'อนึ่ง', 'ทัน', 'เห็นว่า', 'ครั้งก่อน', 'อย่างเดียว', 'คราที่', 'เฉพาะ', 'มัก', 'ทั้งนั้น', 'ระยะ', 'ยก', 'ไกล', 'ก็จะ', 'ขวาง', 'ทันที', 'เหตุนั้น', 'คล้ายกัน', 'เมื่อ', 'จรด', 'หนอย', 'ทีๆ', 'เหตุ', 'ข้าง', 'ฝ่ายใด', 'ใต้', 'ประการ', 'เปิดเผย', 'น้อยกว่า', 'ถึงแม้', 'ซึ่งก็', 'ใคร', 'มั้ยนั่น', 'ทีเดียว', 'จับ', 'พยายาม', 'เพื่อที่จะ', 'หรือไม่', 'จนแม้น', 'เสีย', 'ใกล้ๆ', 'อย่างดี', 'กันไหม', 'ที่ว่า', 'หรือไง', 'เอง', 'ให้แด่', 'ค่อนมาทาง', 'เพื่อ', 'รับรอง', 'อย่างยิ่ง', 'นับจากนั้น', 'นักๆ', 'ขึ้น', 'เหตุไร', 'ละ', 'ตลอดมา', 'บ้าง', 'อาจจะ', 'จัดให้', 'ค่อน', 'ไว้', 'ไหน', 'พร้อมกับ', 'จนแม้', 'เพียงเพื่อ', 'เมื่อคราว', 'กับ', 'เช่นเดียวกับ', 'จำเป็น', 'คราวที่', 'แต่ละ', 'ไง', 'จัดการ', 'มุ่งหมาย', 'ถึงบัดนี้', 'สั้น', 'ในระหว่าง', 'ทันทีทันใด', 'ขณะนี้', 'พวกเขา', 'ยิ่งกว่า', 'เท่าใด']\n"
          ],
          "name": "stdout"
        }
      ]
    },
    {
      "cell_type": "code",
      "metadata": {
        "colab": {
          "base_uri": "https://localhost:8080/",
          "height": 1000
        },
        "id": "3egz4Ykm4q0z",
        "outputId": "b9731037-f512-4f3a-d617-d54b09594728"
      },
      "source": [
        "df['Review_tokenized'] = df['Review'].apply(lambda x: tokenize_with_space(x))\n",
        "df"
      ],
      "execution_count": 39,
      "outputs": [
        {
          "output_type": "stream",
          "text": [
            "['ที่', 'สำคัญ', 'ของ', 'ร้าน', 'นี้', 'คือ', 'บริการ', 'ดีมาก', 'พนักงาน', 'น่ารัก', 'สุดๆ', 'สะอาดสะอ้าน', 'ใส่ใจ', 'ค่อนข้าง', 'ประทับใจ', 'กับ', 'การ', 'บริการ', 'รสชาติ', 'อาหาร', 'อันนี้', 'แปลกใหม่', 'เซ็ท', '560', 'บาท', 'อาหาร', 'จำกัด', 'ไม่', 'ได้', 'หลากหลาย', 'แต่เพียง', 'พอกับ', 'ความต้องการ', 'เรา', 'ไม่', 'กิน', 'เนื้อ', 'กิน', 'สัน', 'คอ', '4', 'ถาด', 'เป็ด', '1', 'แฟน', 'กิน', 'เนื้อ', 'คุณภาพดี', 'น้ำ', 'ซุป', 'ดำ', 'กับ', 'เผ็ด', 'ที่', 'สำคัญ', 'คือ', 'น้ำจิ้ม', 'อร่อย', 'มาก', 'ไม่', 'เคย', 'กิน', 'รสชาติ', 'แบบนี้', 'มา', 'ก่อน', 'เป็น', 'เต้าเจี้ยว', 'นิดๆ', 'แต่ก็', 'ไม่', 'ได้', 'เคลม', 'ก็', 'รสชาติ', 'ดี', 'นะ', 'ถาม', 'ราคา', 'โดยรวม', 'ก็', 'ถือว่า', 'คุ้ม', 'เพราะว่า', 'โมจิ', 'อร่อย', 'มาก', 'ไอติม', 'ก็', 'อร่อย', 'ไม่ต้อง', 'ออก', 'ไป', 'กิน', 'ข้างนอก', 'สรุป', 'รวมๆ', 'ละ', 'กัน', 'ว่า', 'ประทับใจ', 'ใน', 'บริการ', 'และ', 'คุณภาพ', 'ของ', 'อาหาร']\n",
            "['นึกถึง', 'ชาบู', 'ญี่ปุ่น', 'ยังไง', 'ก็', 'ต้อง', 'คิดถึง', 'โมโม่', 'พาราไดซ์', 'คุณภาพ', 'เค้า', 'มาตรา', 'ฐาน', 'จริงๆ', 'วันนี้', 'มีโอ', 'กา', 'สมาทาน', 'ก่อน', 'ร้าน', 'ปิด', '30', 'นาที', 'ทาง', 'ร้าน', 'ก็', 'บริการ', 'ดี', 'จะ', 'มี', 'ก็', 'แต่', 'อาหาร', 'เครื่องดื่ม', 'ที่ทาง', 'ร้าน', 'เริ่ม', 'ทะยอย', 'เก็บ', 'แต่', 'เรา', 'ก็', 'เข้าใจ', 'เพราะ', 'ทาง', 'ร้าน', 'แจ้ง', 'รายละเอียด', 'การงด', 'รับ', 'ออร์เดอร์', 'แล้ว', 'สาขา', 'นี้', 'พนักงานบริการ', 'ดี', 'น่ารัก', 'เป็นกันเอง', 'ขอ', 'อะไร', 'ก็ได้', 'หมด', 'ไม่', 'มี', 'เหวี่ยง', 'เคย', 'เจอ', 'สาขา', 'พระราม', '9', 'คือ', 'ไม่', 'โอเค', 'พนักงาน', 'ไม่', 'พร้อม', 'ทำงาน', 'มาก', 'CTW', 'แม้', 'จะ', 'เป็น', 'พรีเมียม', 'การ', 'บริการ', 'ก็', 'สู้', 'สาขา', 'นี้', 'ไม่', 'ได้', 'Terminal', '21', 'ลูกค้า', 'เยอะ']\n",
            "['มา', 'ทาน', 'ช่วงนี้', 'สามารถ', 'นั่ง', 'โต๊ะ', 'เดียวกัน', 'หม้อ', 'เดียวกัน', 'ได้', 'แล้ว', 'แต่', 'ระหว่าง', 'โต๊ะ', 'ยังมี', 'ฉาก', 'กั้น', 'อยู่', 'น้ำ', 'ซุป', 'เลือก', 'ได้', '2', 'รส', 'น้ำจิ้ม', 'ก็จะ', 'แตก', 'ต่างกัน', 'ตามน้ำ', 'ซุป', 'เลือก', 'มา', 'เป็น', 'ชาบู', 'น้ำ', 'ดำ', 'กับ', 'น้ำ', 'ซุป', 'เห็ด', 'ชาบู', 'น้ำ', 'ดำ', 'หวาน', 'ๆ', 'เค็ม', 'ๆ', 'รสชาติ', 'เข้มข้น', 'เสิร์ฟ', 'พร้อม', 'ไข่', 'สด', 'ถ้า', 'เป็นผู้ใหญ่', 'ที่', 'ไม่', 'ชอบ', 'หวาน', 'ๆ', 'อาจจะ', 'ไม่ค่อย', 'ชอบ', 'น้ำ', 'ซุป', 'เห็ด', 'มีชื่อ', 'ด้วย', 'เป็น', 'ภาษา', 'ญี่ปุ่น', 'แต่', 'จำ', 'ไม่', 'ได้', '555', 'เสิร์ฟ', 'มา', 'กับ', 'เห็ด', 'และ', 'น้ำจิ้ม', 'ซอย', 'ซอส', 'รสชาติ', 'จืด', 'ๆ', 'แนว', 'น้ำ', 'ซุป', 'ใส', 'เนื้อสัตว์', 'จะ', 'มี', 'ให้', 'เลือก', 'เนื้อวัว', '2', 'แบบ', 'เนื้อหมู', '2', 'แบบ', 'เนื้อ', 'เป็ด', 'ไก่', 'ไม้', 'ไผ่', 'เลย', 'สั่ง', 'มา', 'ลอง', 'ทุกอย่าง', 'เนื้อวัว', 'อร่อย', 'มา', 'กก', 'ชิ้น', 'ไม่', 'บาง', 'เนื้อ', 'นุ่ม', 'มาก', 'ๆ', 'กิน', 'กับ', 'ชาบู', 'น้ำ', 'ดำ', 'เข้ากัน', 'มาก', 'เนื้อหมู', 'เป็น', 'คุ', 'โร', 'บู', 'ตะ', 'อร่อย', 'นุ่ม', 'ลิ้น', 'เนื้อ', 'เป็ด', 'จะ', 'หนึบ', 'ๆ', 'ไม่', 'เหนียว', 'ไม่', 'คาว', 'แต่', 'ทาน', 'ได้', 'จาน', 'เดียว', 'รู้สึก', 'ว่า', 'พอแล้ว', 'ไก่', 'ไม้', 'ไผ่', 'เป็น', 'ไก่', 'บด', 'ลืม', 'ถ่ายรูป', 'มา', 'รสชาติ', 'กรุบ', 'ๆ', 'แตา', 'ส่วนตัว', 'เฉยๆ', 'ช่วง', 'โควิด', 'บาร์', 'ผัก', 'กับ', 'น้ำ', 'จะ', 'มี', 'พนักงาน', 'ตัก', 'ให้', 'เรา', 'อยากได้', 'อะไร', 'ก็', 'ไป', 'จิ้ม', 'ๆ', 'เลือก', 'ๆ', 'ได้', 'เลย', 'ของหวาน', 'มี', 'ไอติม', 'กับ', 'ไดฟูกุ', 'ลอง', 'สั่ง', 'แต่', 'ไดฟูกุ', 'ไอติม', 'ไม่', 'ไหว', 'แย้', 'ววว', 'สั่ง', 'มา', 'สามรส', 'สตอ', 'เบอ', 'รี่', 'ชาเขียว', 'ถั่ว', 'แดง', 'อร่อย', 'ทั้งหมด', 'ค่ะ', '::', 'สรุป', '::', 'อร่อย', 'คุ้มค่า', 'กับ', 'ราคา', 'แต่', 'คง', 'ไม่', 'ได้มา', 'ทาน', 'บ่อยๆ', 'ตก', 'คนละ', '600', '++', 'แต่ถ้า', 'ใคร', 'ไม่', 'ทาน', 'เนื้อวัว', 'อาจจะ', 'ไม่', 'คุ้ม', 'เท่าไร']\n",
            "['ถ้า', 'นึกถึง', 'ชาบู', 'ที่', 'มี', 'เนื้อ', 'เน้น', 'ๆ', 'ใน', 'ราคา', 'ไม่', 'โหด', 'จน', 'เกินไป', 'ก็', 'นึกถึง', 'โมโม่', 'ตลอด', 'บางที', 'ทาง', 'ร้าน', 'ก็จะ', 'มี', 'โปร', 'มา', '4', 'จ่าย', '3', 'ใน', 'วัน', 'ธรรมดา', 'ด้วย', 'นะ', 'ส่วนตัว', 'ชอบ', 'เนื้อ', 'ออ', 'ส', 'เพราะ', 'มัน', 'ไม่', 'เยอะ', 'เกินไป', 'จริงๆ', 'มัน', 'เยอะ', 'ก็', 'อร่อย', 'นะ', 'แต่', 'ทาน', 'มาก', 'ๆ', 'แล้ว', 'เลี่ยน', 'ไว', 'อีก', 'อย่างที่', 'ชอบ', 'ก็คือ', 'ไอศกรีม', 'รส', 'ชาเขียว', 'และ', 'รส', 'ข้าว', 'ไป', 'ทีไร', 'สั่ง', '2', 'ถ้วย', 'ตลอด']\n",
            "['เดิน', 'มา', 'หน้า', 'ร้าน', 'แล้ว', 'ได้กลิ่น', 'ชาบู', 'หอ', 'มมาก', 'ๆ', 'ประกอบ', 'กับ', 'มี', 'โปร', 'บัตรเครดิต', 'ด้วย', 'เลย', 'ตัดสินใจ', 'ว่า', 'กิน', 'ร้าน', 'นี้', 'ละ', 'กัน', 'น้ำ', 'ชาบู', 'เลือก', 'ได้', '2', 'อย่าง', 'พวก', 'เนื้อ', 'ต่าง ๆ', 'ต้อง', 'สั่ง', 'มา', 'ส่วน', 'ผัก', 'เส้น', 'และ', 'ลูกชิ้น', 'ไป', 'ตัก', 'เอง', 'ได้', 'เลย', 'มี', 'ให้', 'เลือก', 'หลากหลาย', 'ค่ะ', 'สาขา', 'นี้', 'ที่นั่ง', 'กว้างขวาง', 'นั่ง', 'สบาย', 'ไม่', 'เหมือนกับ', 'สาขา', 'CTW', 'ที่จะ', 'ค่อนข้าง', 'แคบ', 'มี', 'เด็ก', 'มา', 'ด้วย', 'นั่ง', 'สบายดี', 'ค่ะ', 'เนื้อ', 'ต่าง ๆ', 'คุณภาพดี', 'บริการ', 'รวดเร็ว', 'ขนม', 'อร่อย', 'ค่ะ']\n",
            "['ร้าน', 'บุฟเฟ่', 'ชาบู', 'แนว', 'ญี่ปุ่น', 'สาย', 'เนื้อหมู', 'เนื้อวัว', 'น่าจะ', 'คุ้ม', 'มาก', 'ค่ะ', 'ทาง', 'ร้าน', 'มี', 'โซน', 'ผัก', 'ให้', 'เลือก', 'หยิบ', 'ได้', 'เอง', 'เนื้อ', 'สามารถ', 'สั่ง', 'ผ่าน', 'พนักงาน', 'ได้', 'เลย', 'ค่ะ', 'รา', 'คามี', 'โปรโมชั่น', 'เป็น', 'บาง', 'ช่วง', 'นะคะ', 'ใคร', 'ชอบ', 'น้ำจิ้ม', 'พอน', 'ซึ', 'ต้อง', 'ลอง', 'ค่ะ', 'ของหวาน', 'เรา', 'ชอบ', 'นะ', 'ไอติม', 'บ๋วย', 'อร่อย', 'ดี']\n",
            "['Number', '20', 'โม', 'โม', 'พารา', 'ได', 'ส์', 'สาขา', 'เดอะ', 'มอ', 'ล', 'บางกะปิ', 'ร้านอาหาร', 'บุฟเฟ่', 'สุกี้', 'ชาบู', 'น้ำ', 'ดำ', 'สไตล์', 'ญี่ปุ่น', 'ที่แท้จริง', 'กรรมวิธี', 'ดังเดิม', 'แต่', 'รสชาติ', 'ไทย', 'ประ', 'ยุค', 'ก์', 'วันนี้', 'มา', 'ทาน', 'Menu', 'บุฟเฟ่ต์', 'สุกี้', 'ชาบู', 'น้ำ', 'ดำ', 'รายละเอียด', 'เมนู', 'เลือก', 'น้ำ', 'ได้', 'หลาย', 'แบบ', 'แต่', 'น้ำจิ้ม', 'มีแต่', 'พอน', 'ซึ', 'และ', 'น้ำจิ้ม', 'เฉพาะ', 'แบบฉบับ', 'ของ', 'ร้าน', 'โม', 'โม', 'ฯ', 'อาหาร', 'แบ่ง', 'เป็น', 'ชุด', 'เซ็ท', 'หมู', 'หรือ', 'เนื้อ', 'เลือก', 'ได้', 'ผัก', 'มี', 'หลาก', 'หลายชนิด', 'ราคา', '600', '+', 'บาท', '/', 'คน', 'คะแนน', '4.0', '/', '5']\n",
            "['ร้าน', 'ชาบู', 'เฟรนไชส์', 'รสชาติ', 'ดีมาก', 'คุ้มค่า', 'เหมาะสม', 'กับ', 'ราคา', 'ประมาณ', '500', 'กว่า', 'บาท', 'ติด', 'แต่', 'เรื่อง', 'น้ำ', 'ซุป', 'ตอนที่', 'เริ่ม', 'งวด', 'อาจจะ', 'เค็ม', 'ขึ้น', 'บ้าง', 'แต่ก็', 'เป็นปกติ', 'ของ', 'การ', 'กิน', 'ชาบู', 'อยู่แล้ว', 'ครับ', 'มี', 'น้ำ', 'ชาเขียว', 'ร้อน', 'และ', 'กาแฟ', 'ด้วย', 'ซึ่ง', 'ร้าน', 'ทั่วไป', 'ไม่ค่อย', 'มี', 'แต่ที่', 'ชอบ', 'เลย', 'คือ', 'เนื้อ', 'ออสเตรเลีย', 'ดีมาก', 'ๆ', 'ครับ', 'หมู', 'สัน', 'คอ', 'ก็', 'รสชาติ', 'ดีมาก', 'เลย', 'แนะนำ', 'น้ำ', 'ซุป', 'สุกี้ยากี้', 'เสิร์ฟ', 'กับ', 'น้ำจิ้ม', 'ไข่ไก่', 'และ', 'โช', 'ยุ', 'หวาน', 'ส่ง', 'น', 'ไอศครีม', 'บ๊วย', 'คือ', 'ดี', 'ที่สุด', 'ครับ', 'แนะนำ', 'ต้อง', 'ไป', 'ตำ', 'ครับ', 'ลุย', '!!!!']\n",
            "['มาน', 'ที่', 'ขา', 'บู', 'ชิ', 'ต้อง', 'มา', 'ตอน', 'หิว', 'ไม่งั้น', 'จะ', 'ไม่', 'คุ้ม', 'นะ', 'ครับ', 'ฮ่า', 'ๆ', 'เพราะ', 'เมนู', 'ของกิน', 'มัน', 'เยอะ', 'มาก', 'ทั้ง', 'อาหาร', 'บน', 'สายพาน', 'อาหาร', 'ทาน', 'เล่น', 'ซูชิ', 'ปูอัด', 'เกี๊ยว', 'ซ่า', 'กุ้ง', 'เท', 'ม', 'ปุระ', 'มัน', 'ละลานตา', 'มาก', 'ราคา', 'ตอนนี้', '399', 'บาท', 'แพง', 'มั้ย', '..', 'ก็', 'นิดนึง', 'แต่ถ้า', 'เทียบ', 'กับ', 'อาหาร', 'แล้วก็', 'ถือว่า', 'คุ้ม', 'ครับ']\n",
            "['ใคร', 'ชอบ', 'กุ้ง', 'ทอด', 'เท', 'ม', 'ปุระ', 'แค่', 'กุ้ง', 'เท', 'ม', 'ปุระ', 'ก็', 'คุ้ม', 'แล้ว', 'ครั้งนี้', 'มา', 'ทาน', 'ดึก', 'ไป', 'หน่อย', 'มี', 'ของ', 'ไม่ค่อย', 'มาก', 'แล้ว', 'นึก', 'ผิดหวัง', 'อยู่', 'เพราะ', 'เหลือ', 'กุ้ง', 'เท', 'ม', 'ปุระ', 'อยู่', 'ไม่', 'กี่', 'ตัว', 'แต่', 'ไม่', 'นาน', 'ก็', 'ทอด', 'ใหม่', 'มา', 'เติม', 'เลย', 'ได้', 'ทาน', 'สมใจ', 'กลาย', 'เป็นมา', 'ชาบู', 'ชิ', 'เพื่อ', 'ทานอาหาร', 'ญี่', 'ปุ', 'นพ', 'วก', 'ซูชิ', 'กุ้ง', 'เท', 'ม', 'ปุระ', 'เป็นหลัก', 'ส่วน', 'ชาบู', 'เป็น', 'อาหารเสริม', 'ซะงั้น', 'แต่', 'ช่วงนี้', 'จะ', 'ไม่', 'มี', 'เมนู', 'ปลา', 'ไข่', 'ชั่วคราว', 'น้ะ', 'ครับ', 'และ', 'ยังไง', 'ก็', 'อย่า', 'ลืม', 'ทาน', 'ไอติม', 'ให้', 'เย็น', 'ชื่นใจ', 'ตบท้าย', 'ด้วย']\n",
            "['กลับมา', 'อัพเดท', 'ราคา', 'ชาบู', 'ชิ', 'ตอนนี้', 'อยู่', 'ที่', '399', 'บาท', 'net', 'ทาน', 'ได้', 'ประมาณ', '1.15', 'ชม.', 'น้ำ', 'ซุป', 'มี', 'ให้', 'เลือก', '4', 'รส', 'ซูชิ', 'ลายตา', 'มาก', 'ๆ', 'เท', 'ม', 'ปุระ', 'ก็', 'ทาน', 'เพลินๆ', 'ดี', 'ไป', 'ยืน', 'ตรงนั้น', 'มีแต่', 'ของ', 'น่า', 'ทาน', 'ไป', 'หมด', 'ไลน์', 'ของคาว', 'บุฟเฟ่ต์', 'เน้น', 'กุ้ง', 'สด', 'เบ', 'ค่อน', 'และ', 'เนื้อ', 'สไลด์', 'เป็นหลัก', 'อิ่ม', 'คุ้ม', 'มาก']\n",
            "['ห่างหาย', 'ไป', 'นาน', 'สำหรับ', 'ชาบู', 'ชิ', 'ตั้งแต่', 'ทาง', 'ร้าน', 'ได้', 'ปรับ', 'ขึ้นราคา', 'แถม', 'ลด', 'เวลา', 'ลง', 'ด้วย', 'คุณภาพ', 'อาหาร', 'ดู', 'แย่', 'ลง', 'ก็', 'ลา', 'ขาด', 'วันนี้', 'กลับมา', 'อีกครั้ง', 'เนื่องจาก', 'ได้ยิน', 'ข่าว', 'มา', 'ว่า', 'กุ้ง', 'ปอกเปลือก', 'กลับมา', 'แล้ว', 'งาน', 'นี้', 'เลย', 'มา', 'เพราะ', 'กุ้ง', 'ค่ะ', 'Shabushi', 'ตั้งอยู่', 'ชั้น', 'G', 'ของ', 'ห้าง', 'เดอะมอลล์', 'บางกะปิ', 'ตัว', 'ร้าน', 'ตั้งอยู่', 'โซน', 'หน้า', 'ห้าง', 'ฝั่ง', 'ติด', 'ถนนใหญ่', 'หาไม่', 'ยาก', 'ค่ะ', 'ร้าน', 'ใหญ่', 'เด่น', 'มาก', 'สำหรับ', 'สาขา', 'นี้', 'ถ้า', 'เป็น', 'วัน', 'เสาร์', '-', 'อาทิตย์', 'หรือ', 'ถ้า', 'ตรง', 'กับ', 'วันหยุด', 'คน', 'จะ', 'เยอะ', 'มาก', 'รอ', 'คิว', 'นาน', 'มาก', 'ๆ', 'นี่', 'เป็น', 'อีก', 'หนึ่ง', 'สาเหตุ', 'ที่', 'เลิก', 'กิน', 'แต่ถ้า', 'เป็น', 'วัน', 'ธรรมดา', 'คน', 'ไม่ค่อย', 'เยอะ', 'เท่าไหร่', 'ค่ะ', 'ร้าน', 'กว้างขวาง', 'จุ', 'คน', 'ได้', 'เยอะ', 'แต่ถ้า', 'คน', 'แน่น', 'ๆ', 'ก็', 'รู้สึก', 'แออัด', 'เหมือนกัน', 'ค่ะ', 'สำหรับ', 'อาหาร', 'ของ', 'สาขา', 'นี้', 'ถ้า', 'เทียบ', 'กับ', 'สาขา', 'อื่น', 'ที่', 'เคย', 'กิน', 'แล้ว', 'รู้สึก', 'ว่า', 'สด', 'สะอาด', 'ใน', 'ระดับ', 'ใช้ได้', 'ค่ะ', 'แต่', 'ของ', 'บน', 'สายพาน', 'ออก', 'ไม่', 'ครบ', 'นะคะ', 'บาง', 'รายการ', 'ต้อง', 'ขอ', 'จาก', 'พนักงาน', 'ค่ะ', 'ถึง', 'จะได้', 'กิน', 'แต่', 'กุ้ง', 'สด', 'ออกมา', 'ตลอด', 'ค่ะ', 'ไม่', 'ขาด', 'ถูกใจ', 'มาก', 'เพราะ', 'วันนี้', 'ตั้ง', 'ใจมา', 'กิน', 'กุ้ง', 'ราคา', 'บุฟเฟ่ต์', '359', 'Net', '/คน', 'กิน', 'ได้', '1', 'ชั่วโมง', '15', 'นาที', 'โดยประมาณ', 'ค่ะ', 'อาหาร', 'ที่', 'ทาน', 'วันนี้', '-', 'ซูชิ', 'รสชาติ', 'ธรรมดา', 'ค่ะ', 'ปลาดิบ', 'สด', 'ใช้ได้', '-', 'โอ', 'เด้ง', 'ส่วนใหญ่', 'เป็น', 'ลูกชิ้น', 'รสชาติ', 'โอเค', 'เลย', '-', 'กุ้ง', 'เท', 'ม', 'ปุระ', 'ทอด', 'มา', 'ได้', 'กรอ', 'บดี', 'ไม่', 'อม', 'น้ำมัน', 'แต่', 'แป้ง', 'หนา', 'ไป', 'นิด', '-', 'เนื้อ', 'สไลด์', 'เนื้อ', 'ส่วน', 'นี้', 'ติด', 'มัน', 'มา', 'นิดๆ', 'นุ่ม', 'ดี', 'ค่ะ', '-', 'เบคอน', 'สไลด์', 'มา', 'บาง', 'มาก', 'นุ่ม', 'และ', 'หอม', 'อร่อย', '-', 'กุ้ง', 'สด', 'ปอกเปลือก', 'มา', 'อย่างดี', 'จาก', 'ที่', 'เมื่อก่อน', 'เหมือน', 'กุ้ง', 'ขาดสารอาหาร', 'สด', 'ดี', 'ตัว', 'ใหญ่', 'ใช้ได้', 'กิน', 'คนเดียว', '5', 'จาน', 'ได้', 'ค่ะ', '-', 'หอย', 'ตลับ', 'ตัว', 'ไม่', 'ใหญ่', 'มาก', 'แต่', 'สด', 'เนื้อ', 'หวาน', 'เด้ง', 'ดี', '-', 'ตับ', 'หมู', 'สด', 'และ', 'นุ่ม', 'ดี', '-', 'น้ำ', 'ฝรั่ง', 'เปรี้ยวหวาน', 'ชื่น', 'ใจดี', 'แต่', 'วาง', 'ทิ้ง', 'ไว้', 'นานๆ', 'แล้ว', 'จืด', 'ค่ะ', '-', 'โฟลต', 'ไอศกรีม', 'วานิลา', 'เมนู', 'ของหวาน', 'ที่', 'ทำ', 'เอง', 'โดย', 'การ', 'กด', 'สไปรท์', 'ครึ่ง', 'แก้ว', 'แล้ว', 'ตัก', 'ไอติม', 'วานิลา', '1', 'ลูก', 'ใส่', 'ลง', 'ไป', 'ก็', 'กิน', 'ได้', 'แล้ว', 'ค่ะ', 'หวาน', 'หอม', 'ชื่น', 'ใจดี', 'ค่ะ', 'โดยรวม', 'แล้ว', 'สำหรับ', 'มื้อ', 'นี้', 'ถือว่า', 'คุ้ม', 'ค่ะ', 'ไม่', 'ผิดหวัง', 'ที่', 'กลับมา', 'อีกครั้ง', 'แต่', 'ขอ', 'ติง', 'เรื่อง', 'เวลา', '1', 'ชั่วโมง', '15', 'นาที', 'ส่วนตัว', 'แล้ว', 'คิดว่า', 'น้อย', 'ไป', 'หน่อย', 'ค่ะ', 'ใคร', 'ที่', 'ไป', 'กิน', 'ก็', 'ดู', 'เวลา', 'นิดนึง', 'อย่า', 'กิน', 'เพลิน', 'เหลือ', 'เวลา', 'ไว้', 'ตอน', 'เช็คบิล', 'ด้วย', 'ก็ดี', 'ค่ะ', 'เพราะ', 'ถ้า', 'คน', 'รอ', 'เช็คบิล', 'เยอะ', 'แล้ว', 'ยัง', 'ไม่', 'ถึง', 'คิว', 'เรา', 'ถ้า', 'เกิน', 'เวลา', 'จะ', 'โดน', 'ปรับ', 'เอา', 'ได้', 'นะคะ', 'เพื่อน', 'โดน', 'มา', 'แล้ว', 'ค่ะ']\n",
            "['เมื่อ', 'หลาย', 'วันก่อน', 'นัด', 'หา', 'ข้าว', 'ทาน', 'กับ', 'เดอะแกงค์', 'และ', 'ก็', 'ลงเอย', 'ด้วย', 'อาหาร', 'บุฟเฟ่ต์', 'ร้าน', 'นี้', 'ค่ะ', 'ร้าน', 'นี้', 'ตั้ง', 'อยุ่', 'ชั้น', 'G', 'ใหญ่', 'พอสมควร', 'ราคา', 'ต่อ', 'คน', '359', 'บาท', 'เวลา', '1', '15', 'ชม.', 'รสชาติ', 'อาหารสด', 'ใหม่', 'ห', 'มุ', 'สไลด์', 'รสชาติ', 'ดี', 'นุ่ม', 'อร่อย', 'ซูชิ', 'พอ', 'ทาน', 'ได้', 'ค่ะ', 'ออก', 'ตลอด', 'ไอศกรีม', 'หลาก', 'รส', 'ว', 'นิ', 'ลา', 'สตอ', 'เบอร์', 'รี่', 'ชอค', 'โก', 'แล', 'ต', 'มะนาว', 'ฯ', 'และ', 'อื่นๆ', 'อีก', 'มากมาย']\n",
            "['บอก', 'ตรงๆ', 'ว่า', 'หลาย', 'ครั้งที่', 'เลือก', 'จะ', 'กิน', 'บุฟเฟต์', 'จะ', 'ต้อง', 'อาราม', 'ณ', '์', 'เสีย', 'กับ', 'การ', 'รอ', 'คิว', 'นานๆ', 'จน', 'สุดท้าย', 'เลิก', 'รอ', 'ไม่', 'กิน', 'มัน', 'ซะ', 'เลย', 'ยิ่ง', 'Shabushi', 'นะ', 'คน', 'เยอะ', 'ตลอด', 'แต่', 'วันนี้', 'โชคดี', 'คน', 'น้อย', 'น่าจะ', 'รอ', 'ได้', 'ขอ', 'จัด', 'ซะ', 'หน่อย', 'พลาด', 'มา', 'หลาย', 'รอบ', 'หล่ะ', 'เลย', 'ไป', 'จอง', 'คิว', 'วันนี้', 'มา', 'กินที่', 'สาขา', 'เดอะมอลล์', 'บางกะปิ', 'ร้าน', 'อยู่', 'ชั้น', 'G', 'ใกล้ๆ', 'กับ', 'ประตู', 'ป', 'ทาง', 'เข้าหน้า', 'ห้าง', 'เลย', 'พอได้', 'ที่นั่ง', 'แล้วก็', 'หยิบ', 'ๆ', 'ทุก', 'อย่างที่', 'อยาก', 'กิน', 'แบบ', 'ชั่วโมง', 'ครึ่ง', 'นับจากนี้', 'พี่', 'ขอ', 'จัด', 'เต็ม', 'โดย', 'ร่วม', 'ๆ', 'เรา', 'ว่า', 'พวก', 'เนื้อ', 'ผัก', 'ชู', 'ชิ', 'ก็', 'ดู', 'โอเค', 'นะ', 'ผัก', 'ดู', 'สด', 'กว่า', 'หลาย', 'ๆ', 'ร้าน', 'ที่', 'เป็น', 'บุฟเฟต์', 'สายพาน', 'ร้าน', 'อื่นๆ', 'พนักงาน', 'ขยัน', 'เดิน', 'ดี', 'ราคา', 'สาม', 'ร้อย', 'กว่า', 'บาท', 'ต่อ', 'คน', 'ก็', 'ไม่', 'แพง', 'นะ']\n",
            "['สวัสดี', 'ครับ', 'วันนี้', 'จะ', 'ขอ', 'มา', 'รีวิว', 'ร้าน', 'ชาบู', 'ชิ', 'บุ', 'ฟเฟ', 'ขวัญใจ', 'ของ', 'ใครๆ', 'หลาย', 'คน', 'เมนู', 'ทาง', 'ร้าน', 'มี', 'ให้', 'เลือก', 'มากมาย', 'ผ่าน', 'ระบบ', 'สายพาน', 'ที่', 'ให้', 'ลูกค้า', 'สามารถ', 'หยิบ', 'ได้', 'อย่าง', 'ทั่วถึง', 'มี', 'ทั้ง', 'ข้อดี', 'และ', 'เสีย', '555', 'การ', 'บริการ', 'ก็ดี', 'ครับ', 'เก้', 'บ', 'จาน', 'ที่', 'ใช้แล้ว', 'อยู่', 'เรื่อย', 'น้ำ', 'ซุป', 'ก็', 'สามารถ', 'เลือก', 'ได้', 'ตาม', 'แบบ', 'ที่', 'ต้องการ', 'น้ำจิ้ม', 'ก็', 'อร่อย', 'ครับ', 'ใคร', 'มี่', 'ไม่', 'เคย', 'ทาน', 'ต้อง', 'ลอง', 'ทาน', 'ดู', 'นะ', 'ครับ', 'อร่อย', 'คุ้ม']\n",
            "['ชาบู', 'ชิ', 'สาขา', 'เดอะมอลล์', 'บางกะปิ', 'ตั้งอยู่', 'ประตู', 'หน้า', 'ห้าง', 'ตรงข้าม', 'แมค', 'โด', 'นัล', 'เลย', 'ค่ะ', 'ขนาด', 'ร้าน', 'ใหญ่โต', 'ดี', 'แต่', 'ไป', 'ทีไร', 'ต้อง', 'ต่อ', 'คิว', 'ตลอด', 'สั้น', 'บ้าง', 'ยาว', 'บ้าง', 'แล้วแต่', 'โชคชะตา', 'แต่', 'ห้าง', 'มักจะ', 'จัด', 'ซุ้ม', 'ออกร้าน', 'โน้น', 'นี่', 'ตรง', 'บริเวณ', 'ลาน', 'หน้า', 'ร้าน', 'ให้', 'เลือก', 'ชอป', 'เบาๆ', 'ระหว่าง', 'รอ', 'เป็น', 'กลยุทธ์', 'ที่', 'ดีมาก', 'ๆ', '555', 'ใน', 'ร้าน', 'ก็จะ', 'มี', 'ทั้ง', 'เคาน์เตอร์', 'ยาว', 'หน้า', 'สายพาน', 'ยาว', 'เป็นแนว', 'แบบ', 'หม้อ', 'ใคร', 'หม้อ', 'ท่าน', 'และ', 'โต๊ะ', 'แบบ', 'หมู่คณะ', 'หม้อ', 'รวมด้วย', 'อาหาร', 'บน', 'สายพาน', 'ก็', 'เคลื่อนตัว', 'มา', 'ให้', 'เลือก', 'มากมาย', 'คอ', 'เนื้อ', 'ก็', 'แน่น', 'จาน', 'ดำ', 'หยิบ', 'วาง', 'ต้ม', 'กัน', 'เลย', 'ค่า', 'น้ำ', 'ซุป', 'มี', 'ให้', 'เลือก', '3', 'แบบ', 'ใส', 'ข้น', 'ต้มยำ', 'ถ้า', 'จำ', 'ไม่', 'ผิด', 'อิอิ', 'คุณภาพ', 'อาหาร', 'ล่าสุด', 'ที่', 'ไป', 'ทาน', 'ปรับปรุง', 'ดีขึ้น', 'มาก', 'ของ', 'ทาน', 'เล่น', 'เช่น', 'ชู', 'ชิ', 'ข้าวปั้น', 'ของ', 'ทอด', 'สลัด', 'ของหวาน', 'ไอติม', 'มี', 'เมนู', 'ใหม่ๆ', 'เยอะ', 'มากขึ้น', 'และ', 'เติม', 'ตลอด', 'ยอด', 'ไป', 'เลย', 'คุ้มค่า', 'ใน', 'ราคา', '3', 'xx', 'บาท', 'แถม', 'มี', 'บัตรสมาชิก', 'เครือ', 'โออิชิ', 'ลด', 'อีก', 'มันดี', 'ตรงนี้', 'ละ', 'ค่า', '^^']\n",
            "['หลังจากที่', 'เคย', 'ลอง', 'สาขา', 'ยูเนี่ยนมอลล์', 'ไป', 'รอบ', 'นี้', 'มา', 'ที่', 'สาขา', 'เดอะมอลล์', 'บางกะปิ', 'ชั้น', '4', 'โซน', 'MCC', 'HALL', 'ด้านใน', 'สุด', 'ติดกับ', 'พวก', 'ค่ายมวย', 'ตอนแรก', 'ก็', 'นึก', 'ว่า', 'ชาบู', '199', 'ธรรมดา', 'แต่', 'ที่ไหนได้', 'มี', 'พิซซ่า', 'จาก', 'นา', 'ราย', 'พิซ', 'เซ', 'อเรีย', 'ด้วย', 'สำหรับ', 'ราคา', '199', 'บาท', 'จะ', 'ทาน', 'พวก', 'หมู', 'ได้', 'ทั้งหมด', 'รวมถึง', 'พิซซ่า', 'ของ', 'ทอด', 'ซุป', 'ต่างๆ', 'แกงเขียวหวาน', 'ได้', 'น้ำ', 'ซุป', '1', 'รสชาติ', '-', 'ถ้า', 'อยากได้', 'น้ำ', 'ซุป', 'เพิ่ม', 'เป็น', '2', 'รสชาติ', 'จ่าย', 'เพิ่ม', 'คนละ', '40', 'บาท', '-', 'น้ำดื่ม', 'รี', 'ฟี', 'ล', '39', 'บาท', '-', 'ส่วน', 'ใคร', 'อยาก', 'ทาน', 'เนื้อ', 'ก็', 'เพิ่ม', 'คนละ', '49', 'บาท', '-', 'ซูชิ', 'และ', 'ของหวาน', 'สั่ง', 'เพิ่ม', 'โดย', 'จ่าย', 'ราคา', 'ตาม', 'เมนู', 'รวมๆ', 'ก็', 'ถือว่า', 'อิ่ม', 'คุ้ม', 'ดี', 'นะ', 'ถึง', 'เบ', 'ค่อน', 'จะ', 'มัน', 'เยอะ', 'ไป', 'หน่อย', 'น้ำ', 'ซุป', 'จะ', 'ไม่', 'ได้', 'เข้มข้น', 'มาก', 'นัก', 'แต่', 'ใน', 'ราคา', 'นี้', 'มี', 'ตัวเลือก', 'ให้', 'เท่านี้', 'วันไหน', 'หิว', 'มาก', 'ๆ', 'ก็จะ', 'แวะ', 'ไป', 'ใหม่', 'แน่นอน']\n",
            "['ร้าน', 'บุฟเฟ่ต์', 'ที่', 'มี', 'โปรโมชั่น', 'หัว', 'ละ', '199', 'บาท', 'ไม่', 'รวม', 'น้ำ', 'ไม่', 'รวม', 'VAT', 'ไป', 'ทาน', 'วัน', 'ธรรมดา', 'ชอบ', 'มาก', 'เพราะ', 'ได้เวลา', 'ทาน', 'ตั้ง', '2', 'ชม.', 'เต็มๆ', 'มี', 'ค่าน้ำ', 'ซุป', 'คนละ', '10', 'บาท', 'มี', 'น้ำ', 'ซุป', 'เลือก', 'ได้', '6', 'แบบ', 'แต่', 'หม้อ', 'แบ่ง', 'ได้', '3', 'ช่อง', 'น้ำ', 'ซึป', 'ต้มยำ', 'อร่อย', 'ดี', 'ครับ', 'แนะนำ', 'ให้', 'เลือก', 'อันนี้', 'อัน', 'นึง', 'ใน', 'ชุด', 'บุฟเฟ่ต์', 'ไม่', 'มี', 'ซี', 'ฟู้ด', 'น่ะ', 'ครับ', 'แต่', 'อาหาร', 'ก็', 'มี', 'ให้', 'เลือก', 'เยอะ', 'น่ะ', 'ครับ', 'ที่', 'สำคัญ', 'มี', 'พิซซ่า', 'อยู่', 'ใน', 'ชุด', 'บุฟเฟ่ต์', 'ด้วย', 'ของ', 'นา', 'ราย', 'พิซ', 'เซ', 'อเรีย', 'รับประกัน', 'ความ', 'อร่อย', 'นอกจากนี้', 'ทุก', 'สัปดาห์', 'หลัง', 'วัน', 'หวย', 'ออก', 'เอา', 'ลอตเตอรี่', 'ที่', 'ถูกหวย', 'กิน', 'มา', 'แลก', 'ฮัน', 'นี่', 'โทส', 'ฟรี', 'น่ะ', 'ครับ', 'แนะนำ', 'ให้มา', 'ทาน', 'เลย', 'จ้า', 'บุฟเฟ่ต์', 'ร้าน', 'นี้', 'กำ', 'เงิน', 'มา', 'คนละ', '300', 'มี', 'ทอน', 'แน่นอน', 'ครับ']\n",
            "['เคย', 'รู้จัก', 'ร้าน', 'นี้', 'จาก', 'ที่', 'union', 'mall', 'ไม่', 'เคย', 'ได้', 'ลอง', 'กิน', 'แต่', 'จำได้', 'ขึ้นใจ', 'จาก', 'ชื่อ', 'ร้าน', 'จาก', 'ชื่อ', 'ก็', 'บอก', 'อยู่แล้ว', 'ว่า', 'เป็น', 'ร้าน', 'ชาบู', 'แต่', 'เนื่องจาก', 'เป็น', 'ของ', 'Narai', 'pizzeria', 'ใน', 'ไลน์', 'อาหาร', 'จึง', 'มี', 'pizza', 'ด้วย', 'ซะ', 'เลย', 'ยังมี', 'สปา', 'เก', 'ตตี้', 'ไก่', 'นิว', 'ออ', 'ลี', 'น', 'อาหาร', 'ปรุง', 'สุก', 'ก็', 'มี', 'อย่าง', 'อื่น', 'อีก', 'นิดหน่อย', 'ที่', 'รู้สึก', 'ว่า', 'อร่อย', 'เลย', 'คือ', 'ข้าวมันไก่', 'ตัดกำลัง', 'จริงๆ', 'พวก', 'ของสด', 'ก็', 'หลากหลาย', 'บางส่วน', 'อยู่', 'ใน', 'ตู้', 'ให้', 'หยิบ', 'บางส่วน', 'ก็', 'ใช้', 'เขียน', 'สั่ง', 'เอา', 'คุณภาพ', 'ก็', 'เหมาะสม', 'ตาม', 'ราคา', 'บริการ', 'ค่อนข้าง', 'ดี', 'พนักงาน', 'ขยัน']\n",
            "['อร่อย', 'มาก', 'ค่ะ', 'คุ้มค่า', 'สมราคา', 'บุฟเฟ่', 'หมู', 'ผัก', 'ต่างๆ', 'รวม', 'น้ำ', 'ด้วย', 'จบ', 'ที่', '255', '/', 'ท่าน', 'เด็ดๆ', 'คือ', 'มี', 'พิซซ่า', 'บุพ', 'เฟ่', 'ดี', 'เริส', 'มาก', 'ๆ', 'รส', 'ชาต', 'ไม่', 'กา', 'ไก่', 'เรย', 'นะ', 'คือ', 'งาน', 'ดี', 'แป้ง', 'นุ่ม', 'หอ', 'มมาก', 'ๆ', 'ตบท้าย', 'ด้วย', 'ของหวาน', 'อร่อย', 'โชค', 'ดีมาก', 'ๆ', 'ไป', 'ช่วง', 'โปรโมชั่น', 'ของหวาน', 'ราคา', '29', 'จาก', '128', 'คือ', 'เซต', 'ไอติม', '+', 'บรา', 'ว', 'นี่', '+', 'วิป', 'ครีม', 'อร่อย', 'ย', 'มาก', 'กก', 'บุฟเฟ่', 'จุก', 'ๆ', 'ปิดท้าย', 'ของหวาน', 'แบบ', 'สวย', 'ๆ']\n",
            "['ก็', 'ตามที่', 'เขียน', 'เลย', 'ครับ', 'ว่า', 'ถ้าจะ', 'จ่าย', 'ใน', 'ราคา', '199', 'บาท', 'คุณ', 'ต้อง', 'จ่าย', 'ด้วย', 'เงินสด', 'นะ', 'ครับ', 'และ', 'ราคา', 'นี้', 'ยัง', 'ไม่', 'รวม', 'น้ำ', 'และ', 'VAT', '7', '%', 'รวมถึง', 'อย่าง', 'อื่นๆ', 'ที่', 'คุณ', 'สั่ง', 'เพิ่ม', 'ได้', 'เช่น', 'เนื้อวัว', 'ซูชิ', 'ของหวาน', 'เป็นต้น', 'แม้', 'จะ', 'ดู', 'แปลก', 'หน่อย', 'แต่ก็', 'ถือว่า', 'โอเค', 'มาก', 'แม้', 'ซูชิ', 'ต้อง', 'สั่ง', 'เพิ่ม', 'แต่ก็', 'มี', 'อาหาร', 'อื่นๆ', 'ทดแทน', 'โดยเฉพาะ', 'พิซซ่า', 'ที่ได้', 'ลอง', 'ทั้ง', '3', 'หน้า', 'อร่อย', 'มาก', 'และ', 'ถ้า', 'กิน', 'ตอน', 'นำ', 'ของ', 'มา', 'ลง', 'สดๆ ร้อนๆ', 'จะ', 'อร่อย', 'กว่า', 'ปรกติ', 'ครับ']\n"
          ],
          "name": "stdout"
        },
        {
          "output_type": "execute_result",
          "data": {
            "text/html": [
              "<div>\n",
              "<style scoped>\n",
              "    .dataframe tbody tr th:only-of-type {\n",
              "        vertical-align: middle;\n",
              "    }\n",
              "\n",
              "    .dataframe tbody tr th {\n",
              "        vertical-align: top;\n",
              "    }\n",
              "\n",
              "    .dataframe thead th {\n",
              "        text-align: right;\n",
              "    }\n",
              "</style>\n",
              "<table border=\"1\" class=\"dataframe\">\n",
              "  <thead>\n",
              "    <tr style=\"text-align: right;\">\n",
              "      <th></th>\n",
              "      <th>Review ID</th>\n",
              "      <th>Restaurant_ID</th>\n",
              "      <th>Restaurant</th>\n",
              "      <th>User</th>\n",
              "      <th>Headline</th>\n",
              "      <th>Review</th>\n",
              "      <th>Rating</th>\n",
              "      <th>Review_tokenized</th>\n",
              "    </tr>\n",
              "  </thead>\n",
              "  <tbody>\n",
              "    <tr>\n",
              "      <th>0</th>\n",
              "      <td>1</td>\n",
              "      <td>352696Px-mo-mo-paradise-เดอะมอลล์-บางกะปิ</td>\n",
              "      <td>Mo-Mo-Paradise (โม โม พาราไดซ์) เดอะมอลล์ บางกะปิ</td>\n",
              "      <td>7b16469831074f7abc7824745ee75212</td>\n",
              "      <td>ที่สำคัญของร้านนี้คือบริการดีมากพนักงานน่ารักส...</td>\n",
              "      <td>ที่สำคัญของร้านนี้คือบริการดีมากพนักงานน่ารักส...</td>\n",
              "      <td>5.0</td>\n",
              "      <td>ร้าน,บริการ,ดีมาก,พนักงาน,น่ารัก,สะอาดสะอ้าน,ใ...</td>\n",
              "    </tr>\n",
              "    <tr>\n",
              "      <th>1</th>\n",
              "      <td>2</td>\n",
              "      <td>352696Px-mo-mo-paradise-เดอะมอลล์-บางกะปิ</td>\n",
              "      <td>Mo-Mo-Paradise (โม โม พาราไดซ์) เดอะมอลล์ บางกะปิ</td>\n",
              "      <td>pakkaramonpondej</td>\n",
              "      <td>รสชาติเหมือนทุกสาขา แต่สาขานี้ บริการดี ที่นั่งดี</td>\n",
              "      <td>นึกถึงชาบูญี่ปุ่นยังไงก็ต้อง คิดถึงโมโม่ พาราไ...</td>\n",
              "      <td>5.0</td>\n",
              "      <td>นึกถึง,ชาบู,ญี่ปุ่น,คิดถึง,โมโม่,พาราไดซ์,คุณภ...</td>\n",
              "    </tr>\n",
              "    <tr>\n",
              "      <th>2</th>\n",
              "      <td>3</td>\n",
              "      <td>352696Px-mo-mo-paradise-เดอะมอลล์-บางกะปิ</td>\n",
              "      <td>Mo-Mo-Paradise (โม โม พาราไดซ์) เดอะมอลล์ บางกะปิ</td>\n",
              "      <td>saanowy</td>\n",
              "      <td>ชาบูพรีเมี่ยมสไตล์ญี่ปุ่น เนื้อดีมากกก</td>\n",
              "      <td>มาทานช่วงนี้ สามารถนั่งโต๊ะเดียวกัน หม้อเดียวก...</td>\n",
              "      <td>4.0</td>\n",
              "      <td>ทาน,นั่ง,โต๊ะ,หม้อ,โต๊ะ,ยังมี,ฉาก,กั้น,น้ำ,ซุป...</td>\n",
              "    </tr>\n",
              "    <tr>\n",
              "      <th>3</th>\n",
              "      <td>4</td>\n",
              "      <td>352696Px-mo-mo-paradise-เดอะมอลล์-บางกะปิ</td>\n",
              "      <td>Mo-Mo-Paradise (โม โม พาราไดซ์) เดอะมอลล์ บางกะปิ</td>\n",
              "      <td>ployynp</td>\n",
              "      <td>เนื้อดี ไอติมดี คุ้มค่าดี</td>\n",
              "      <td>ถ้านึกถึงชาบูที่มีเนื้อเน้นๆ ในราคาไม่โหดจนเกิ...</td>\n",
              "      <td>4.0</td>\n",
              "      <td>นึกถึง,ชาบู,เนื้อ,ราคา,โหด,เกินไป,นึกถึง,โมโม่...</td>\n",
              "    </tr>\n",
              "    <tr>\n",
              "      <th>4</th>\n",
              "      <td>5</td>\n",
              "      <td>352696Px-mo-mo-paradise-เดอะมอลล์-บางกะปิ</td>\n",
              "      <td>Mo-Mo-Paradise (โม โม พาราไดซ์) เดอะมอลล์ บางกะปิ</td>\n",
              "      <td>665a902b335b434ab489f00f2fbb477e</td>\n",
              "      <td>อาหารมีคุณภาพ บริการดีค่ะ</td>\n",
              "      <td>เดินมาหน้าร้านแล้วได้กลิ่นชาบูหอมมาก ๆ  ประกอบ...</td>\n",
              "      <td>5.0</td>\n",
              "      <td>เดิน,หน้า,ร้าน,ได้กลิ่น,ชาบู,หอ,มมาก,โปร,บัตรเ...</td>\n",
              "    </tr>\n",
              "    <tr>\n",
              "      <th>5</th>\n",
              "      <td>6</td>\n",
              "      <td>352696Px-mo-mo-paradise-เดอะมอลล์-บางกะปิ</td>\n",
              "      <td>Mo-Mo-Paradise (โม โม พาราไดซ์) เดอะมอลล์ บางกะปิ</td>\n",
              "      <td>12f2b56b28bb4849a92690cedc1cc50a</td>\n",
              "      <td>กินให้อิ่ม ที่ momo</td>\n",
              "      <td>ร้านบุฟเฟ่ ชาบูแนวญี่ปุ่น สายเนื้อหมู เนื้อวัว...</td>\n",
              "      <td>4.0</td>\n",
              "      <td>ร้าน,บุฟเฟ่,ชาบู,แนว,ญี่ปุ่น,สาย,เนื้อหมู,เนื้...</td>\n",
              "    </tr>\n",
              "    <tr>\n",
              "      <th>6</th>\n",
              "      <td>7</td>\n",
              "      <td>352696Px-mo-mo-paradise-เดอะมอลล์-บางกะปิ</td>\n",
              "      <td>Mo-Mo-Paradise (โม โม พาราไดซ์) เดอะมอลล์ บางกะปิ</td>\n",
              "      <td>f2628bf47a394345b133fec76a79661d</td>\n",
              "      <td>ชาบู - สุกกี้สไลต์ญี่ปุ่นที่แท้ทรู</td>\n",
              "      <td>Number 20 : โมโม – พาราไดส์ (สาขาเดอะมอลบางกะป...</td>\n",
              "      <td>4.0</td>\n",
              "      <td>Number,20,โม,โม,พารา,ได,ส์,สาขา,เดอะ,มอ,ล,บางก...</td>\n",
              "    </tr>\n",
              "    <tr>\n",
              "      <th>7</th>\n",
              "      <td>8</td>\n",
              "      <td>352696Px-mo-mo-paradise-เดอะมอลล์-บางกะปิ</td>\n",
              "      <td>Mo-Mo-Paradise (โม โม พาราไดซ์) เดอะมอลล์ บางกะปิ</td>\n",
              "      <td>backscrash</td>\n",
              "      <td>ร้านชาบูเฟรนไชส์ ที่ราคาเหมาะสมกับคุณภาพ ถือว่...</td>\n",
              "      <td>ร้านชาบูเฟรนไชส์รสชาติดีมากคุ้มค่าเหมาะสมกับรา...</td>\n",
              "      <td>4.0</td>\n",
              "      <td>ร้าน,ชาบู,เฟรนไชส์,รสชาติ,ดีมาก,คุ้มค่า,เหมาะส...</td>\n",
              "    </tr>\n",
              "    <tr>\n",
              "      <th>8</th>\n",
              "      <td>9</td>\n",
              "      <td>4621tm-shabushi-เดอะมอลล์บางกะปิ-ชั้น-g</td>\n",
              "      <td>Shabushi (ชาบูชิ) เดอะมอลล์บางกะปิ ชั้น G</td>\n",
              "      <td>a477a5812ada4d5b80fd04fca22bdbca</td>\n",
              "      <td>อร่อยคุ้ม ของทานเล่นเยอะมาก</td>\n",
              "      <td>มา านที่ขาบูชิต้องมาตอนหิว ไม่งั้นจะไม่คุ้มนะค...</td>\n",
              "      <td>4.0</td>\n",
              "      <td>มาน,ขา,บู,ชิ,ตอน,หิว,ไม่งั้น,คุ้ม,ฮ่า,เมนู,ของ...</td>\n",
              "    </tr>\n",
              "    <tr>\n",
              "      <th>9</th>\n",
              "      <td>10</td>\n",
              "      <td>4621tm-shabushi-เดอะมอลล์บางกะปิ-ชั้น-g</td>\n",
              "      <td>Shabushi (ชาบูชิ) เดอะมอลล์บางกะปิ ชั้น G</td>\n",
              "      <td>fd2ba94ec1bc4948ae109e2cb6c9cbc6</td>\n",
              "      <td>ทานอีก ชอบกุ้งทอดเทมปุระ</td>\n",
              "      <td>ใครชอบกุ้งทอดเทมปุระ แค่กุ้งเทมปุระก็คุ้มแล้ว ...</td>\n",
              "      <td>3.0</td>\n",
              "      <td>ชอบ,กุ้ง,ทอด,เท,ม,ปุระ,กุ้ง,เท,ม,ปุระ,คุ้ม,ทาน...</td>\n",
              "    </tr>\n",
              "    <tr>\n",
              "      <th>10</th>\n",
              "      <td>11</td>\n",
              "      <td>4621tm-shabushi-เดอะมอลล์บางกะปิ-ชั้น-g</td>\n",
              "      <td>Shabushi (ชาบูชิ) เดอะมอลล์บางกะปิ ชั้น G</td>\n",
              "      <td>ployynp</td>\n",
              "      <td>บุฟเฟ่ต์คุ้มๆในห้าง</td>\n",
              "      <td>กลับมาอัพเดทราคาชาบูชิ ตอนนี้อยู่ที่ 399 บาท n...</td>\n",
              "      <td>3.0</td>\n",
              "      <td>กลับมา,อัพเดท,ราคา,ชาบู,ชิ,ตอนนี้,399,บาท,net,...</td>\n",
              "    </tr>\n",
              "    <tr>\n",
              "      <th>11</th>\n",
              "      <td>12</td>\n",
              "      <td>4621tm-shabushi-เดอะมอลล์บางกะปิ-ชั้น-g</td>\n",
              "      <td>Shabushi (ชาบูชิ) เดอะมอลล์บางกะปิ ชั้น G</td>\n",
              "      <td>c08b2776067a4026b882abfc6fca8330</td>\n",
              "      <td>เปลี่ยนจากกุ้งขาดสารอาหารเป็นกุ้งปอกเปลือกแล้ว...</td>\n",
              "      <td>ห่างหายไปนานสำหรับชาบูชิ ตั้งแต่ทางร้านได้ปรับ...</td>\n",
              "      <td>3.0</td>\n",
              "      <td>ห่างหาย,สำหรับ,ชาบู,ชิ,ร้าน,ขึ้นราคา,แถม,ลด,เว...</td>\n",
              "    </tr>\n",
              "    <tr>\n",
              "      <th>12</th>\n",
              "      <td>13</td>\n",
              "      <td>4621tm-shabushi-เดอะมอลล์บางกะปิ-ชั้น-g</td>\n",
              "      <td>Shabushi (ชาบูชิ) เดอะมอลล์บางกะปิ ชั้น G</td>\n",
              "      <td>a96ec47b6cff4bd1834c90d603ef0a7e</td>\n",
              "      <td>อิ่ม อร่อย ฝุดฝุด</td>\n",
              "      <td>เมื่อหลายวันก่อนนัดหาข้าวทานกับเดอะแกงค์ และก็...</td>\n",
              "      <td>4.0</td>\n",
              "      <td>วันก่อน,นัด,หา,ข้าว,ทาน,เดอะแกงค์,ลงเอย,อาหาร,...</td>\n",
              "    </tr>\n",
              "    <tr>\n",
              "      <th>13</th>\n",
              "      <td>14</td>\n",
              "      <td>4621tm-shabushi-เดอะมอลล์บางกะปิ-ชั้น-g</td>\n",
              "      <td>Shabushi (ชาบูชิ) เดอะมอลล์บางกะปิ ชั้น G</td>\n",
              "      <td>a6991f1e0e9b4916ab3ca91d86f8e481</td>\n",
              "      <td>จัดให้เต็มคราบกับชั่วโมงครึ่ง@Shabushi</td>\n",
              "      <td>บอกตรงๆว่าหลายครั้งที่เลือกจะกินบุฟเฟต์จะต้องอ...</td>\n",
              "      <td>3.0</td>\n",
              "      <td>เลือก,กิน,บุฟเฟต์,อาราม,,รอ,คิว,สุดท้าย,เลิก,ร...</td>\n",
              "    </tr>\n",
              "    <tr>\n",
              "      <th>14</th>\n",
              "      <td>15</td>\n",
              "      <td>4621tm-shabushi-เดอะมอลล์บางกะปิ-ชั้น-g</td>\n",
              "      <td>Shabushi (ชาบูชิ) เดอะมอลล์บางกะปิ ชั้น G</td>\n",
              "      <td>7eb0c7d8683e407f83cc4d18e51d800d</td>\n",
              "      <td>ชาบู ชาบูชิ</td>\n",
              "      <td>สวัสดีครับวันนี้จะขอมารีวิวร้านชาบูชิ บุฟเฟขวั...</td>\n",
              "      <td>4.0</td>\n",
              "      <td>สวัสดี,รีวิว,ร้าน,ชาบู,ชิ,บุ,ฟเฟ,ขวัญใจ,คน,เมน...</td>\n",
              "    </tr>\n",
              "    <tr>\n",
              "      <th>15</th>\n",
              "      <td>16</td>\n",
              "      <td>4621tm-shabushi-เดอะมอลล์บางกะปิ-ชั้น-g</td>\n",
              "      <td>Shabushi (ชาบูชิ) เดอะมอลล์บางกะปิ ชั้น G</td>\n",
              "      <td>qvanqvan</td>\n",
              "      <td>บุฟเฟต์น้ำเดือด สายพานร่อน</td>\n",
              "      <td>ชาบูชิ สาขาเดอะมอลล์บางกะปิ ตั้งอยู่ประตูหน้าห...</td>\n",
              "      <td>4.0</td>\n",
              "      <td>ชาบู,ชิ,สาขา,เดอะมอลล์,บางกะปิ,ตั้งอยู่,ประตู,...</td>\n",
              "    </tr>\n",
              "    <tr>\n",
              "      <th>16</th>\n",
              "      <td>17</td>\n",
              "      <td>436045MJ-ข้าน้อยขอชาบู</td>\n",
              "      <td>ข้าน้อยขอชาบู</td>\n",
              "      <td>ployynp</td>\n",
              "      <td>บุฟเฟ่ต์ชาบูและพิซซ่าไม่อั้นในราคา 199 บาท เน้...</td>\n",
              "      <td>หลังจากที่เคยลองสาขายูเนี่ยนมอลล์ไป รอบนี้มาที...</td>\n",
              "      <td>4.0</td>\n",
              "      <td>หลังจากที่,ลอง,สาขา,ยูเนี่ยนมอลล์,รอบ,สาขา,เดอ...</td>\n",
              "    </tr>\n",
              "    <tr>\n",
              "      <th>17</th>\n",
              "      <td>18</td>\n",
              "      <td>436045MJ-ข้าน้อยขอชาบู</td>\n",
              "      <td>ข้าน้อยขอชาบู</td>\n",
              "      <td>27a91236fe5e4559a4f097c97a480781</td>\n",
              "      <td>ร้านบุฟเฟ่ต์ ราคามิตรภาพ อยู่ชั้น4 ติดโรงหนัง ...</td>\n",
              "      <td>ร้านบุฟเฟ่ต์ที่มีโปรโมชั่นหัวละ199บาท ไม่รวมน้...</td>\n",
              "      <td>4.0</td>\n",
              "      <td>ร้าน,บุฟเฟ่ต์,โปรโมชั่น,หัว,199,บาท,น้ำ,VAT,ทา...</td>\n",
              "    </tr>\n",
              "    <tr>\n",
              "      <th>18</th>\n",
              "      <td>19</td>\n",
              "      <td>436045MJ-ข้าน้อยขอชาบู</td>\n",
              "      <td>ข้าน้อยขอชาบู</td>\n",
              "      <td>0b81d251e4db486f9bcdba73b374ed99</td>\n",
              "      <td>ของหลากหลาย ปนๆ งงๆ นิดหน่อย</td>\n",
              "      <td>เคยรู้จักร้านนี้จากที่ union mall ไม่เคยได้ลอง...</td>\n",
              "      <td>3.0</td>\n",
              "      <td>รู้จัก,ร้าน,union,mall,ลอง,กิน,จำได้,ขึ้นใจ,ชื...</td>\n",
              "    </tr>\n",
              "    <tr>\n",
              "      <th>19</th>\n",
              "      <td>20</td>\n",
              "      <td>436045MJ-ข้าน้อยขอชาบู</td>\n",
              "      <td>ข้าน้อยขอชาบู</td>\n",
              "      <td>40e0e087f3914fd49a8933b5a29936ca</td>\n",
              "      <td>อร่อยมากค่ะ คุ้มค่าสมราคา บุฟเฟ่หมูผักต่างๆ รว...</td>\n",
              "      <td>อร่อยมากค่ะ คุ้มค่าสมราคา บุฟเฟ่หมูผักต่างๆ รว...</td>\n",
              "      <td>5.0</td>\n",
              "      <td>อร่อย,คุ้มค่า,สมราคา,บุฟเฟ่,หมู,ผัก,น้ำ,จบ,255...</td>\n",
              "    </tr>\n",
              "    <tr>\n",
              "      <th>20</th>\n",
              "      <td>21</td>\n",
              "      <td>436045MJ-ข้าน้อยขอชาบู</td>\n",
              "      <td>ข้าน้อยขอชาบู</td>\n",
              "      <td>41841cb99ea243a3a8d4b006e946c586</td>\n",
              "      <td>แม้จะแปลกบ้าง แต่ก็ถือว่าอยู่ในเกณฑ์ที่ดี มีอา...</td>\n",
              "      <td>ก็ตามที่เขียนเลยครับ ว่า ถ้าจะจ่ายในราคา 199 บ...</td>\n",
              "      <td>NaN</td>\n",
              "      <td>จ่าย,ราคา,199,บาท,จ่าย,เงินสด,ราคา,น้ำ,VAT,7,%...</td>\n",
              "    </tr>\n",
              "  </tbody>\n",
              "</table>\n",
              "</div>"
            ],
            "text/plain": [
              "    Review ID  ...                                   Review_tokenized\n",
              "0           1  ...  ร้าน,บริการ,ดีมาก,พนักงาน,น่ารัก,สะอาดสะอ้าน,ใ...\n",
              "1           2  ...  นึกถึง,ชาบู,ญี่ปุ่น,คิดถึง,โมโม่,พาราไดซ์,คุณภ...\n",
              "2           3  ...  ทาน,นั่ง,โต๊ะ,หม้อ,โต๊ะ,ยังมี,ฉาก,กั้น,น้ำ,ซุป...\n",
              "3           4  ...  นึกถึง,ชาบู,เนื้อ,ราคา,โหด,เกินไป,นึกถึง,โมโม่...\n",
              "4           5  ...  เดิน,หน้า,ร้าน,ได้กลิ่น,ชาบู,หอ,มมาก,โปร,บัตรเ...\n",
              "5           6  ...  ร้าน,บุฟเฟ่,ชาบู,แนว,ญี่ปุ่น,สาย,เนื้อหมู,เนื้...\n",
              "6           7  ...  Number,20,โม,โม,พารา,ได,ส์,สาขา,เดอะ,มอ,ล,บางก...\n",
              "7           8  ...  ร้าน,ชาบู,เฟรนไชส์,รสชาติ,ดีมาก,คุ้มค่า,เหมาะส...\n",
              "8           9  ...  มาน,ขา,บู,ชิ,ตอน,หิว,ไม่งั้น,คุ้ม,ฮ่า,เมนู,ของ...\n",
              "9          10  ...  ชอบ,กุ้ง,ทอด,เท,ม,ปุระ,กุ้ง,เท,ม,ปุระ,คุ้ม,ทาน...\n",
              "10         11  ...  กลับมา,อัพเดท,ราคา,ชาบู,ชิ,ตอนนี้,399,บาท,net,...\n",
              "11         12  ...  ห่างหาย,สำหรับ,ชาบู,ชิ,ร้าน,ขึ้นราคา,แถม,ลด,เว...\n",
              "12         13  ...  วันก่อน,นัด,หา,ข้าว,ทาน,เดอะแกงค์,ลงเอย,อาหาร,...\n",
              "13         14  ...  เลือก,กิน,บุฟเฟต์,อาราม,,รอ,คิว,สุดท้าย,เลิก,ร...\n",
              "14         15  ...  สวัสดี,รีวิว,ร้าน,ชาบู,ชิ,บุ,ฟเฟ,ขวัญใจ,คน,เมน...\n",
              "15         16  ...  ชาบู,ชิ,สาขา,เดอะมอลล์,บางกะปิ,ตั้งอยู่,ประตู,...\n",
              "16         17  ...  หลังจากที่,ลอง,สาขา,ยูเนี่ยนมอลล์,รอบ,สาขา,เดอ...\n",
              "17         18  ...  ร้าน,บุฟเฟ่ต์,โปรโมชั่น,หัว,199,บาท,น้ำ,VAT,ทา...\n",
              "18         19  ...  รู้จัก,ร้าน,union,mall,ลอง,กิน,จำได้,ขึ้นใจ,ชื...\n",
              "19         20  ...  อร่อย,คุ้มค่า,สมราคา,บุฟเฟ่,หมู,ผัก,น้ำ,จบ,255...\n",
              "20         21  ...  จ่าย,ราคา,199,บาท,จ่าย,เงินสด,ราคา,น้ำ,VAT,7,%...\n",
              "\n",
              "[21 rows x 8 columns]"
            ]
          },
          "metadata": {
            "tags": []
          },
          "execution_count": 39
        }
      ]
    },
    {
      "cell_type": "markdown",
      "metadata": {
        "id": "ENsSo82d4wVz"
      },
      "source": [
        "# Simple words count"
      ]
    },
    {
      "cell_type": "code",
      "metadata": {
        "colab": {
          "base_uri": "https://localhost:8080/"
        },
        "id": "TdbaK7-k4vQz",
        "outputId": "a9419967-2725-4535-b230-bdb2a085d19d"
      },
      "source": [
        "df1 = df\n",
        "df1 = (df1['Review_tokenized'].str.split(pat=',', expand=True)\n",
        "              .stack()\n",
        "              .value_counts()\n",
        "              .rename_axis('vals')\n",
        "              .reset_index(name='count'))\n",
        "print (df1)"
      ],
      "execution_count": 40,
      "outputs": [
        {
          "output_type": "stream",
          "text": [
            "            vals  count\n",
            "0           ร้าน     32\n",
            "1            น้ำ     28\n",
            "2            ทาน     25\n",
            "3            กิน     23\n",
            "4          อร่อย     22\n",
            "..           ...    ...\n",
            "598          บดี      1\n",
            "599        เบคอน      1\n",
            "600  เปรี้ยวหวาน      1\n",
            "601         ร้อน      1\n",
            "602                   1\n",
            "\n",
            "[603 rows x 2 columns]\n"
          ],
          "name": "stdout"
        }
      ]
    },
    {
      "cell_type": "markdown",
      "metadata": {
        "id": "msbPyN1EMjt6"
      },
      "source": [
        "# Text to Emotion"
      ]
    },
    {
      "cell_type": "code",
      "metadata": {
        "id": "jhGrgAH_MoPz",
        "colab": {
          "base_uri": "https://localhost:8080/",
          "height": 204
        },
        "outputId": "48f7b218-546e-4583-fcaa-2a92cdd30ac5"
      },
      "source": [
        "df2 = df\n",
        "df2['Trans'] = df2['Review'].apply(lambda x: ThEnTranslator().translate(x))\n",
        "df2['Emotion'] = df2['Trans'].apply(lambda x: te.get_emotion(x))\n",
        "df2[['Review','Trans','Emotion']].head()"
      ],
      "execution_count": 41,
      "outputs": [
        {
          "output_type": "execute_result",
          "data": {
            "text/html": [
              "<div>\n",
              "<style scoped>\n",
              "    .dataframe tbody tr th:only-of-type {\n",
              "        vertical-align: middle;\n",
              "    }\n",
              "\n",
              "    .dataframe tbody tr th {\n",
              "        vertical-align: top;\n",
              "    }\n",
              "\n",
              "    .dataframe thead th {\n",
              "        text-align: right;\n",
              "    }\n",
              "</style>\n",
              "<table border=\"1\" class=\"dataframe\">\n",
              "  <thead>\n",
              "    <tr style=\"text-align: right;\">\n",
              "      <th></th>\n",
              "      <th>Review</th>\n",
              "      <th>Trans</th>\n",
              "      <th>Emotion</th>\n",
              "    </tr>\n",
              "  </thead>\n",
              "  <tbody>\n",
              "    <tr>\n",
              "      <th>0</th>\n",
              "      <td>ที่สำคัญของร้านนี้คือบริการดีมากพนักงานน่ารักส...</td>\n",
              "      <td>What's important about this restaurant is very...</td>\n",
              "      <td>{'Happy': 0.45, 'Angry': 0.05, 'Surprise': 0.0...</td>\n",
              "    </tr>\n",
              "    <tr>\n",
              "      <th>1</th>\n",
              "      <td>นึกถึงชาบูญี่ปุ่นยังไงก็ต้อง คิดถึงโมโม่ พาราไ...</td>\n",
              "      <td>Think of Japanese shabu tea anyways. Think of ...</td>\n",
              "      <td>{'Happy': 0.32, 'Angry': 0.0, 'Surprise': 0.21...</td>\n",
              "    </tr>\n",
              "    <tr>\n",
              "      <th>2</th>\n",
              "      <td>มาทานช่วงนี้ สามารถนั่งโต๊ะเดียวกัน หม้อเดียวก...</td>\n",
              "      <td>You can sit at the same table with the same po...</td>\n",
              "      <td>{'Happy': 0.06, 'Angry': 0.11, 'Surprise': 0.0...</td>\n",
              "    </tr>\n",
              "    <tr>\n",
              "      <th>3</th>\n",
              "      <td>ถ้านึกถึงชาบูที่มีเนื้อเน้นๆ ในราคาไม่โหดจนเกิ...</td>\n",
              "      <td>If you're thinking about a full-on teabu at an...</td>\n",
              "      <td>{'Happy': 0.12, 'Angry': 0.12, 'Surprise': 0.5...</td>\n",
              "    </tr>\n",
              "    <tr>\n",
              "      <th>4</th>\n",
              "      <td>เดินมาหน้าร้านแล้วได้กลิ่นชาบูหอมมาก ๆ  ประกอบ...</td>\n",
              "      <td>Walked up to the store and smelled a lot of ch...</td>\n",
              "      <td>{'Happy': 0.25, 'Angry': 0.0, 'Surprise': 0.0,...</td>\n",
              "    </tr>\n",
              "  </tbody>\n",
              "</table>\n",
              "</div>"
            ],
            "text/plain": [
              "                                              Review  ...                                            Emotion\n",
              "0  ที่สำคัญของร้านนี้คือบริการดีมากพนักงานน่ารักส...  ...  {'Happy': 0.45, 'Angry': 0.05, 'Surprise': 0.0...\n",
              "1  นึกถึงชาบูญี่ปุ่นยังไงก็ต้อง คิดถึงโมโม่ พาราไ...  ...  {'Happy': 0.32, 'Angry': 0.0, 'Surprise': 0.21...\n",
              "2  มาทานช่วงนี้ สามารถนั่งโต๊ะเดียวกัน หม้อเดียวก...  ...  {'Happy': 0.06, 'Angry': 0.11, 'Surprise': 0.0...\n",
              "3  ถ้านึกถึงชาบูที่มีเนื้อเน้นๆ ในราคาไม่โหดจนเกิ...  ...  {'Happy': 0.12, 'Angry': 0.12, 'Surprise': 0.5...\n",
              "4  เดินมาหน้าร้านแล้วได้กลิ่นชาบูหอมมาก ๆ  ประกอบ...  ...  {'Happy': 0.25, 'Angry': 0.0, 'Surprise': 0.0,...\n",
              "\n",
              "[5 rows x 3 columns]"
            ]
          },
          "metadata": {
            "tags": []
          },
          "execution_count": 41
        }
      ]
    },
    {
      "cell_type": "markdown",
      "metadata": {
        "id": "q37TFWr6441e"
      },
      "source": [
        "# Create Dictionary\n",
        "\n"
      ]
    },
    {
      "cell_type": "code",
      "metadata": {
        "colab": {
          "base_uri": "https://localhost:8080/"
        },
        "id": "-Wo68gn_43tW",
        "outputId": "a795c32a-9579-43db-88e0-07b55687f55c"
      },
      "source": [
        "documents = df['Review_tokenized'].to_list()\n",
        "texts = [[text for text in doc.split(',')] for doc in documents]\n",
        "texts = [x for x in texts if (x not in removed_words)]\n",
        "dictionary = gensim.corpora.Dictionary(texts)\n",
        "\n",
        "print(dictionary.token2id.keys())"
      ],
      "execution_count": 42,
      "outputs": [
        {
          "output_type": "stream",
          "text": [
            "dict_keys(['1', '4', '560', 'กิน', 'ข้างนอก', 'ความต้องการ', 'คอ', 'คุณภาพ', 'คุณภาพดี', 'คุ้ม', 'จำกัด', 'ซุป', 'ดำ', 'ดี', 'ดีมาก', 'ถาด', 'ถาม', 'น่ารัก', 'น้ำ', 'น้ำจิ้ม', 'บริการ', 'บาท', 'ประทับใจ', 'พนักงาน', 'พอกับ', 'รสชาติ', 'ราคา', 'ร้าน', 'สรุป', 'สะอาดสะอ้าน', 'สัน', 'หลากหลาย', 'อร่อย', 'อันนี้', 'อาหาร', 'เคลม', 'เซ็ท', 'เต้าเจี้ยว', 'เนื้อ', 'เป็ด', 'เผ็ด', 'แบบนี้', 'แปลกใหม่', 'แฟน', 'โดยรวม', 'โมจิ', 'ใส่ใจ', 'ไม่ต้อง', 'ไอติม', '21', '30', '9', 'CTW', 'Terminal', 'กา', 'การงด', 'คิดถึง', 'ชาบู', 'ญี่ปุ่น', 'ฐาน', 'ทะยอย', 'ทำงาน', 'ที่ทาง', 'นาที', 'นึกถึง', 'พนักงานบริการ', 'พระราม', 'พรีเมียม', 'พาราไดซ์', 'มาตรา', 'มีโอ', 'รายละเอียด', 'ลูกค้า', 'สมาทาน', 'สาขา', 'สู้', 'ออร์เดอร์', 'เครื่องดื่ม', 'เค้า', 'เจอ', 'เป็นกันเอง', 'เหวี่ยง', 'แจ้ง', 'โมโม่', 'โอเค', '++', '2', '555', '600', '::', 'กก', 'กรุบ', 'กั้น', 'ของหวาน', 'คนละ', 'คาว', 'คุ', 'คุ้มค่า', 'จาน', 'จิ้ม', 'จืด', 'ฉาก', 'ชอบ', 'ชาเขียว', 'ชิ้น', 'ซอย', 'ซอส', 'ตก', 'ตะ', 'ตัก', 'ตามน้ำ', 'ต่างกัน', 'ถั่ว', 'ถ่ายรูป', 'ทาน', 'นั่ง', 'นุ่ม', 'บด', 'บาร์', 'บู', 'ผัก', 'ภาษา', 'มีชื่อ', 'ยังมี', 'รส', 'รี่', 'รู้สึก', 'ลอง', 'ลิ้น', 'ลืม', 'ววว', 'สด', 'สตอ', 'สั่ง', 'สามรส', 'ส่วนตัว', 'หนึบ', 'หม้อ', 'หวาน', 'อยากได้', 'เข้มข้น', 'เข้ากัน', 'เค็ม', 'เนื้อวัว', 'เนื้อสัตว์', 'เนื้อหมู', 'เบอ', 'เป็นผู้ใหญ่', 'เลือก', 'เสิร์ฟ', 'เหนียว', 'เห็ด', 'แดง', 'แตก', 'แตา', 'แนว', 'แย้', 'โควิด', 'โต๊ะ', 'โร', 'ใส', 'ไก่', 'ไข่', 'ไดฟูกุ', 'ไผ่', 'ไม้', 'ไหว', '3', 'ข้าว', 'จ่าย', 'ถ้วย', 'ธรรมดา', 'ส', 'ออ', 'เกินไป', 'เลี่ยน', 'โปร', 'โหด', 'ไว', 'ไอศกรีม', 'ขนม', 'ตัดสินใจ', 'ต่าง ๆ', 'ที่จะ', 'ที่นั่ง', 'บัตรเครดิต', 'มมาก', 'ลูกชิ้น', 'สบายดี', 'หน้า', 'หอ', 'เดิน', 'เด็ก', 'เส้น', 'เหมือนกับ', 'แคบ', 'ได้กลิ่น', 'คามี', 'ซึ', 'นะคะ', 'บุฟเฟ่', 'บ๋วย', 'พอน', 'รา', 'สาย', 'หยิบ', 'โซน', 'โปรโมชั่น', '+', '/', '20', '4.0', '5', 'Menu', 'Number', 'กรรมวิธี', 'ก์', 'คน', 'คะแนน', 'ชุด', 'ดังเดิม', 'บางกะปิ', 'บุฟเฟ่ต์', 'ประ', 'พารา', 'มอ', 'ยุค', 'ร้านอาหาร', 'ล', 'สุกี้', 'สไตล์', 'ส์', 'หมู', 'หลาก', 'หลายชนิด', 'เดอะ', 'เมนู', 'แบบฉบับ', 'แบ่ง', 'โม', 'ได', 'ไทย', '!!!!', '500', 'กาแฟ', 'งวด', 'ตอนที่', 'ตำ', 'ติด', 'ทั่วไป', 'น', 'บ๊วย', 'ยุ', 'ร้อน', 'ลุย', 'สุกี้ยากี้', 'อยู่แล้ว', 'ออสเตรเลีย', 'เป็นปกติ', 'เฟรนไชส์', 'เรื่อง', 'เหมาะสม', 'แนะนำ', 'โช', 'ไข่ไก่', 'ไอศครีม', '..', '399', 'กุ้ง', 'ของกิน', 'ขา', 'ชิ', 'ซูชิ', 'ซ่า', 'ตอน', 'ตอนนี้', 'นิดนึง', 'ปุระ', 'ปูอัด', 'ม', 'มาน', 'ละลานตา', 'สายพาน', 'หิว', 'ฮ่า', 'เกี๊ยว', 'เท', 'เทียบ', 'เล่น', 'แพง', 'แล้วก็', 'ไม่งั้น', 'กลาย', 'กี่', 'ชั่วคราว', 'ชื่นใจ', 'ซะงั้น', 'ญี่', 'ดึก', 'ตบท้าย', 'ตัว', 'ทอด', 'ทานอาหาร', 'นพ', 'นึก', 'น้ะ', 'ปลา', 'ปุ', 'ผิดหวัง', 'วก', 'สมใจ', 'อย่า', 'อาหารเสริม', 'เติม', 'เป็นมา', 'เป็นหลัก', 'เย็น', '1.15', 'net', 'กลับมา', 'ของคาว', 'ชม.', 'ตรงนั้น', 'ยืน', 'ลายตา', 'สไลด์', 'อัพเดท', 'อิ่ม', 'เบ', 'เพลินๆ', 'ไลน์', '-', '/คน', '15', '359', 'G', 'Net', 'Shabushi', 'กด', 'กรอ', 'ขาดสารอาหาร', 'ขึ้นราคา', 'ข่าว', 'คนเดียว', 'ครึ่ง', 'คิว', 'งาน', 'จุ', 'ชั่วโมง', 'ชั้น', 'ชื่น', 'ดู', 'ตลับ', 'ตับ', 'ตั้งอยู่', 'ติง', 'ถนนใหญ่', 'ถูกใจ', 'ทำ', 'ทิ้ง', 'น้ำมัน', 'บดี', 'ปลาดิบ', 'ปอกเปลือก', 'ฝรั่ง', 'ฝั่ง', 'มื้อ', 'รอ', 'ระดับ', 'รายการ', 'ลด', 'ลา', 'ลูก', 'วันหยุด', 'วาง', 'วานิลา', 'สะอาด', 'สาเหตุ', 'สำหรับ', 'สไปรท์', 'หนา', 'หอม', 'หอย', 'หาไม่', 'ห่างหาย', 'ห้าง', 'อม', 'ออกมา', 'อาทิตย์', 'อีกครั้ง', 'เช็คบิล', 'เดอะมอลล์', 'เด่น', 'เด้ง', 'เบคอน', 'เปรี้ยวหวาน', 'เพลิน', 'เพื่อน', 'เลิก', 'เวลา', 'เสาร์', 'เหมือน', 'เหมือนกัน', 'แก้ว', 'แถม', 'แน่น', 'แป้ง', 'แย่', 'แออัด', 'โดน', 'โดยประมาณ', 'โฟลต', 'โอ', 'ใจดี', 'ใจมา', 'ใช้ได้', 'ใส่', 'ได้ยิน', 'ชอค', 'ต', 'นัด', 'นิ', 'มะนาว', 'มุ', 'ลงเอย', 'ว', 'วันก่อน', 'ห', 'หา', 'อยุ่', 'อาหารสด', 'เดอะแกงค์', 'เบอร์', 'แล', 'โก', '', 'กินที่', 'ขยัน', 'จอง', 'ชู', 'บุฟเฟต์', 'ป', 'ประตู', 'พลาด', 'พอได้', 'พี่', 'รอบ', 'ร้อย', 'สาม', 'สุดท้าย', 'หล่ะ', 'อาราม', 'เข้าหน้า', 'เต็ม', 'โชคดี', 'ขวัญใจ', 'ข้อดี', 'ต้องการ', 'ทั่วถึง', 'บ', 'บุ', 'ฟเฟ', 'มี่', 'ระบบ', 'รีวิว', 'สวัสดี', 'เก้', 'ใช้แล้ว', '^^', 'xx', 'กลยุทธ์', 'ขนาด', 'ข้น', 'ข้าวปั้น', 'ค่า', 'ชอป', 'ซุ้ม', 'ดีขึ้น', 'ตรงข้าม', 'ตรงนี้', 'ต้ม', 'ต้มยำ', 'ท่าน', 'นัล', 'บริเวณ', 'บัตรสมาชิก', 'ปรับปรุง', 'มันดี', 'มากขึ้น', 'ยอด', 'ลาน', 'สลัด', 'หมู่คณะ', 'ออกร้าน', 'อิอิ', 'เครือ', 'เคลื่อนตัว', 'เคาน์เตอร์', 'เบาๆ', 'เป็นแนว', 'แมค', 'โชคชะตา', 'โด', 'โน้น', 'โออิชิ', '199', '39', '40', '49', 'HALL', 'MCC', 'ค่ายมวย', 'ด้านใน', 'ตอนแรก', 'ตัวเลือก', 'ติดกับ', 'ที่ไหนได้', 'นา', 'น้ำดื่ม', 'พิซ', 'พิซซ่า', 'ฟี', 'ยูเนี่ยนมอลล์', 'รี', 'หลังจากที่', 'อเรีย', 'เซ', 'แกงเขียวหวาน', 'แน่นอน', 'แวะ', '10', '300', '6', 'VAT', 'กำ', 'ค่าน้ำ', 'ช่อง', 'ซี', 'ซึป', 'ถูกหวย', 'ทอน', 'นึง', 'ฟรี', 'ฟู้ด', 'รับประกัน', 'ลอตเตอรี่', 'สัปดาห์', 'หวย', 'หัว', 'ฮัน', 'เงิน', 'แลก', 'โทส', 'ได้เวลา', 'Narai', 'mall', 'pizza', 'pizzeria', 'union', 'ของสด', 'ขึ้นใจ', 'ข้าวมันไก่', 'จำได้', 'ชื่อ', 'ตตี้', 'ตัดกำลัง', 'ตู้', 'นิว', 'บางส่วน', 'ปรุง', 'รู้จัก', 'ลี', 'สปา', 'สุก', 'เก', '128', '255', '29', 'ครีม', 'จบ', 'จุก', 'ชาต', 'บรา', 'บุพ', 'ปิดท้าย', 'ย', 'วิป', 'สมราคา', 'สวย', 'เซต', 'เด็ดๆ', 'เฟ่', 'เรย', 'เริส', 'โชค', '%', '7', 'ทดแทน', 'ปรกติ', 'สดๆ ร้อนๆ', 'เงินสด', 'แปลก', 'โดยเฉพาะ'])\n"
          ],
          "name": "stdout"
        }
      ]
    },
    {
      "cell_type": "code",
      "metadata": {
        "id": "QQ7sScsF4-kb"
      },
      "source": [
        "gensim_corpus = [dictionary.doc2bow(text, allow_update=True) for text in texts]\n",
        "word_frequencies = [[(dictionary[id], frequence) for id, frequence in couple] for couple in gensim_corpus]"
      ],
      "execution_count": 43,
      "outputs": []
    },
    {
      "cell_type": "code",
      "metadata": {
        "id": "PHYOOTZ04_8j"
      },
      "source": [
        "num_topics = 4\n",
        "chunksize = 1000 # size of the doc looked at every pass\n",
        "passes = 50 # number of passes through documents\n",
        "iterations = 20\n",
        "eval_every = 1  # Don't evaluate model perplexity, takes too much time.\n",
        "\n",
        "temp = dictionary[0]  # This is only to \"load\" the dictionary.\n",
        "id2word = dictionary.id2token\n",
        "\n",
        "model = gensim.models.LdaModel(corpus=gensim_corpus, id2word=id2word, chunksize=chunksize, \\\n",
        "                       alpha='auto', eta='auto', \\\n",
        "                       iterations=iterations, num_topics=num_topics, \\\n",
        "                       passes=passes, eval_every=eval_every, per_word_topics=True )"
      ],
      "execution_count": 44,
      "outputs": []
    },
    {
      "cell_type": "code",
      "metadata": {
        "colab": {
          "base_uri": "https://localhost:8080/",
          "height": 204
        },
        "id": "HW9y14QgqYF8",
        "outputId": "fdcb325d-005d-4c48-8ba0-3c83b05a86cf"
      },
      "source": [
        "df['topics'] = df['Review_tokenized'].apply(lambda x: model.get_document_topics(dictionary.doc2bow(x.split(',')))[0][0])\n",
        "df['score'] = df['Review_tokenized'].apply(lambda x: model.get_document_topics(dictionary.doc2bow(x.split(',')))[0][1])\n",
        "df[['Review','topics','score']].tail()"
      ],
      "execution_count": 45,
      "outputs": [
        {
          "output_type": "execute_result",
          "data": {
            "text/html": [
              "<div>\n",
              "<style scoped>\n",
              "    .dataframe tbody tr th:only-of-type {\n",
              "        vertical-align: middle;\n",
              "    }\n",
              "\n",
              "    .dataframe tbody tr th {\n",
              "        vertical-align: top;\n",
              "    }\n",
              "\n",
              "    .dataframe thead th {\n",
              "        text-align: right;\n",
              "    }\n",
              "</style>\n",
              "<table border=\"1\" class=\"dataframe\">\n",
              "  <thead>\n",
              "    <tr style=\"text-align: right;\">\n",
              "      <th></th>\n",
              "      <th>Review</th>\n",
              "      <th>topics</th>\n",
              "      <th>score</th>\n",
              "    </tr>\n",
              "  </thead>\n",
              "  <tbody>\n",
              "    <tr>\n",
              "      <th>16</th>\n",
              "      <td>หลังจากที่เคยลองสาขายูเนี่ยนมอลล์ไป รอบนี้มาที...</td>\n",
              "      <td>2</td>\n",
              "      <td>0.999232</td>\n",
              "    </tr>\n",
              "    <tr>\n",
              "      <th>17</th>\n",
              "      <td>ร้านบุฟเฟ่ต์ที่มีโปรโมชั่นหัวละ199บาท ไม่รวมน้...</td>\n",
              "      <td>1</td>\n",
              "      <td>0.999271</td>\n",
              "    </tr>\n",
              "    <tr>\n",
              "      <th>18</th>\n",
              "      <td>เคยรู้จักร้านนี้จากที่ union mall ไม่เคยได้ลอง...</td>\n",
              "      <td>3</td>\n",
              "      <td>0.998879</td>\n",
              "    </tr>\n",
              "    <tr>\n",
              "      <th>19</th>\n",
              "      <td>อร่อยมากค่ะ คุ้มค่าสมราคา บุฟเฟ่หมูผักต่างๆ รว...</td>\n",
              "      <td>0</td>\n",
              "      <td>0.998729</td>\n",
              "    </tr>\n",
              "    <tr>\n",
              "      <th>20</th>\n",
              "      <td>ก็ตามที่เขียนเลยครับ ว่า ถ้าจะจ่ายในราคา 199 บ...</td>\n",
              "      <td>3</td>\n",
              "      <td>0.998337</td>\n",
              "    </tr>\n",
              "  </tbody>\n",
              "</table>\n",
              "</div>"
            ],
            "text/plain": [
              "                                               Review  topics     score\n",
              "16  หลังจากที่เคยลองสาขายูเนี่ยนมอลล์ไป รอบนี้มาที...       2  0.999232\n",
              "17  ร้านบุฟเฟ่ต์ที่มีโปรโมชั่นหัวละ199บาท ไม่รวมน้...       1  0.999271\n",
              "18  เคยรู้จักร้านนี้จากที่ union mall ไม่เคยได้ลอง...       3  0.998879\n",
              "19  อร่อยมากค่ะ คุ้มค่าสมราคา บุฟเฟ่หมูผักต่างๆ รว...       0  0.998729\n",
              "20  ก็ตามที่เขียนเลยครับ ว่า ถ้าจะจ่ายในราคา 199 บ...       3  0.998337"
            ]
          },
          "metadata": {
            "tags": []
          },
          "execution_count": 45
        }
      ]
    },
    {
      "cell_type": "markdown",
      "metadata": {
        "id": "4cUoMTSE5CL3"
      },
      "source": [
        "# Display Topic Model"
      ]
    },
    {
      "cell_type": "code",
      "metadata": {
        "colab": {
          "base_uri": "https://localhost:8080/",
          "height": 861
        },
        "id": "HaqtXPhW5BgL",
        "outputId": "a57ff5c0-4085-459b-a8bf-ec254607f334"
      },
      "source": [
        "vis = pyLDAvis.gensim_models.prepare(model, gensim_corpus, dictionary)\n",
        "vis"
      ],
      "execution_count": 46,
      "outputs": [
        {
          "output_type": "execute_result",
          "data": {
            "text/html": [
              "\n",
              "<link rel=\"stylesheet\" type=\"text/css\" href=\"https://cdn.jsdelivr.net/gh/bmabey/pyLDAvis@3.3.1/pyLDAvis/js/ldavis.v1.0.0.css\">\n",
              "\n",
              "\n",
              "<div id=\"ldavis_el2401401355575644968456770544\"></div>\n",
              "<script type=\"text/javascript\">\n",
              "\n",
              "var ldavis_el2401401355575644968456770544_data = {\"mdsDat\": {\"x\": [-0.10746251715937899, 0.03470008237495698, 0.09850053536933188, -0.025738100584909916], \"y\": [0.04257045883910937, -0.08921395265125096, 0.07140270847878709, -0.02475921466664546], \"topics\": [1, 2, 3, 4], \"cluster\": [1, 1, 1, 1], \"Freq\": [36.30759868899375, 27.87907951280299, 20.682405043703973, 15.130916754499285]}, \"tinfo\": {\"Term\": [\"-\", \"\\u0e0b\\u0e38\\u0e1b\", \"\\u0e01\\u0e38\\u0e49\\u0e07\", \"\\u0e1a\\u0e32\\u0e17\", \"\\u0e2a\\u0e14\", \"\\u0e19\\u0e49\\u0e33\", \"\\u0e23\\u0e2a\\u0e0a\\u0e32\\u0e15\\u0e34\", \"\\u0e40\\u0e27\\u0e25\\u0e32\", \"\\u0e2a\\u0e33\\u0e2b\\u0e23\\u0e31\\u0e1a\", \"\\u0e19\\u0e49\\u0e33\\u0e08\\u0e34\\u0e49\\u0e21\", \"\\u0e19\\u0e38\\u0e48\\u0e21\", \"\\u0e40\\u0e25\\u0e37\\u0e2d\\u0e01\", \"\\u0e0a\\u0e34\", \"\\u0e01\\u0e34\\u0e19\", \"\\u0e43\\u0e0a\\u0e49\\u0e44\\u0e14\\u0e49\", \"\\u0e04\\u0e38\\u0e49\\u0e21\", \"2\", \"\\u0e17\\u0e32\\u0e19\", \"\\u0e21\", \"\\u0e1b\\u0e38\\u0e23\\u0e30\", \"\\u0e40\\u0e17\", \"\\u0e23\\u0e2d\", \"\\u0e23\\u0e32\\u0e04\\u0e32\", \"\\u0e14\\u0e35\\u0e21\\u0e32\\u0e01\", \"\\u0e04\\u0e19\\u0e25\\u0e30\", \"\\u0e15\\u0e31\\u0e27\", \"\\u0e01\\u0e25\\u0e31\\u0e1a\\u0e21\\u0e32\", \"\\u0e40\\u0e21\\u0e19\\u0e39\", \"\\u0e2b\\u0e34\\u0e27\", \"\\u0e2a\\u0e32\\u0e22\\u0e1e\\u0e32\\u0e19\", \"\\u0e42\\u0e21\", \"\\u0e0a\\u0e38\\u0e14\", \"\\u0e19\\u0e31\\u0e48\\u0e07\", \"\\u0e40\\u0e19\\u0e37\\u0e49\\u0e2d\\u0e2b\\u0e21\\u0e39\", \"\\u0e40\\u0e1b\\u0e47\\u0e14\", \"\\u0e40\\u0e2b\\u0e47\\u0e14\", \"2\", \"\\u0e14\\u0e33\", \"\\u0e40\\u0e01\\u0e34\\u0e19\\u0e44\\u0e1b\", \"\\u0e42\\u0e1b\\u0e23\", \"\\u0e02\\u0e49\\u0e32\\u0e27\", \"\\u0e41\\u0e1a\\u0e48\\u0e07\", \"\\u0e0b\\u0e36\", \"\\u0e2a\\u0e38\\u0e01\\u0e35\\u0e49\", \"\\u0e15\\u0e48\\u0e32\\u0e07 \\u0e46\", \"\\u0e1e\\u0e2d\\u0e19\", \"\\u0e04\\u0e38\\u0e13\\u0e20\\u0e32\\u0e1e\\u0e14\\u0e35\", \"\\u0e40\\u0e0b\\u0e47\\u0e17\", \"\\u0e2b\\u0e25\\u0e32\\u0e01\", \"\\u0e2d\\u0e31\\u0e19\\u0e19\\u0e35\\u0e49\", \"\\u0e41\\u0e19\\u0e27\", \"\\u0e23\\u0e35\\u0e48\", \"\\u0e1b\\u0e23\\u0e30\\u0e17\\u0e31\\u0e1a\\u0e43\\u0e08\", \"600\", \"\\u0e2a\\u0e15\\u0e2d\", \"\\u0e2a\\u0e23\\u0e38\\u0e1b\", \"::\", \"\\u0e44\\u0e1c\\u0e48\", \"\\u0e44\\u0e21\\u0e49\", \"\\u0e44\\u0e14\\u0e1f\\u0e39\\u0e01\\u0e38\", \"\\u0e0a\\u0e2d\\u0e1a\", \"\\u0e19\\u0e49\\u0e33\\u0e08\\u0e34\\u0e49\\u0e21\", \"\\u0e1a\\u0e38\\u0e1f\\u0e40\\u0e1f\\u0e48\\u0e15\\u0e4c\", \"\\u0e40\\u0e19\\u0e37\\u0e49\\u0e2d\\u0e27\\u0e31\\u0e27\", \"\\u0e40\\u0e25\\u0e37\\u0e2d\\u0e01\", \"\\u0e19\\u0e49\\u0e33\", \"\\u0e2d\\u0e23\\u0e48\\u0e2d\\u0e22\", \"\\u0e23\\u0e2a\\u0e0a\\u0e32\\u0e15\\u0e34\", \"\\u0e40\\u0e19\\u0e37\\u0e49\\u0e2d\", \"\\u0e2a\\u0e31\\u0e48\\u0e07\", \"\\u0e17\\u0e32\\u0e19\", \"\\u0e0b\\u0e38\\u0e1b\", \"\\u0e23\\u0e2a\", \"\\u0e0a\\u0e32\\u0e1a\\u0e39\", \"\\u0e0d\\u0e35\\u0e48\\u0e1b\\u0e38\\u0e48\\u0e19\", \"\\u0e23\\u0e49\\u0e32\\u0e19\", \"\\u0e1c\\u0e31\\u0e01\", \"\\u0e01\\u0e34\\u0e19\", \"\\u0e1a\\u0e23\\u0e34\\u0e01\\u0e32\\u0e23\", \"\\u0e44\\u0e2d\\u0e15\\u0e34\\u0e21\", \"\\u0e04\\u0e19\\u0e25\\u0e30\", \"\\u0e2d\\u0e32\\u0e2b\\u0e32\\u0e23\", \"\\u0e1a\\u0e32\\u0e17\", \"\\u0e23\\u0e32\\u0e04\\u0e32\", \"\\u0e14\\u0e35\", \"\\u0e04\\u0e38\\u0e49\\u0e21\", \"\\u0e2a\\u0e32\\u0e02\\u0e32\", \"\\u0e25\\u0e2d\\u0e07\", \"\\u0e1e\\u0e19\\u0e31\\u0e01\\u0e07\\u0e32\\u0e19\", \"\\u0e0a\\u0e39\", \"\\u0e1a\\u0e38\\u0e1f\\u0e40\\u0e1f\\u0e15\\u0e4c\", \"\\u0e40\\u0e15\\u0e34\\u0e21\", \"\\u0e02\\u0e22\\u0e31\\u0e19\", \"\\u0e1b\\u0e23\\u0e30\\u0e15\\u0e39\", \"\\u0e44\\u0e25\\u0e19\\u0e4c\", \"\\u0e40\\u0e1b\\u0e47\\u0e19\\u0e2b\\u0e25\\u0e31\\u0e01\", \"\\u0e04\\u0e48\\u0e32\", \"\\u0e1a\\u0e32\\u0e07\\u0e2a\\u0e48\\u0e27\\u0e19\", \"\\u0e0a\\u0e37\\u0e48\\u0e2d\", \"\\u0e21\", \"\\u0e40\\u0e17\", \"\\u0e1b\\u0e38\\u0e23\\u0e30\", \"\\u0e42\\u0e2d\\u0e40\\u0e04\", \"\\u0e2d\\u0e2d\\u0e23\\u0e4c\\u0e40\\u0e14\\u0e2d\\u0e23\\u0e4c\", \"\\u0e40\\u0e1b\\u0e47\\u0e19\\u0e01\\u0e31\\u0e19\\u0e40\\u0e2d\\u0e07\", \"7\", \"\\u0e40\\u0e07\\u0e34\\u0e19\\u0e2a\\u0e14\", \"\\u0e1b\\u0e23\\u0e01\\u0e15\\u0e34\", \"\\u0e2a\\u0e39\\u0e49\", \"\\u0e42\\u0e14\\u0e22\\u0e40\\u0e09\\u0e1e\\u0e32\\u0e30\", \"\\u0e1e\\u0e23\\u0e30\\u0e23\\u0e32\\u0e21\", \"9\", \"\\u0e41\\u0e1b\\u0e25\\u0e01\", \"\\u0e1e\\u0e19\\u0e31\\u0e01\\u0e07\\u0e32\\u0e19\\u0e1a\\u0e23\\u0e34\\u0e01\\u0e32\\u0e23\", \"\\u0e17\\u0e30\\u0e22\\u0e2d\\u0e22\", \"\\u0e21\\u0e32\\u0e15\\u0e23\\u0e32\", \"\\u0e1e\\u0e23\\u0e35\\u0e40\\u0e21\\u0e35\\u0e22\\u0e21\", \"\\u0e17\\u0e33\\u0e07\\u0e32\\u0e19\", \"\\u0e40\\u0e04\\u0e23\\u0e37\\u0e48\\u0e2d\\u0e07\\u0e14\\u0e37\\u0e48\\u0e21\", \"\\u0e23\\u0e2d\", \"\\u0e0a\\u0e34\", \"\\u0e2b\\u0e19\\u0e49\\u0e32\", \"\\u0e17\\u0e2d\\u0e14\", \"\\u0e2b\\u0e49\\u0e32\\u0e07\", \"\\u0e04\\u0e34\\u0e27\", \"\\u0e2b\\u0e22\\u0e34\\u0e1a\", \"\\u0e04\\u0e38\\u0e13\\u0e20\\u0e32\\u0e1e\", \"\\u0e23\\u0e49\\u0e32\\u0e19\", \"\\u0e2b\\u0e21\\u0e49\\u0e2d\", \"3\", \"\\u0e0b\\u0e39\\u0e0a\\u0e34\", \"\\u0e2a\\u0e32\\u0e22\\u0e1e\\u0e32\\u0e19\", \"\\u0e14\\u0e39\", \"\\u0e01\\u0e38\\u0e49\\u0e07\", \"\\u0e2a\\u0e32\\u0e02\\u0e32\", \"\\u0e17\\u0e32\\u0e19\", \"\\u0e23\\u0e32\\u0e04\\u0e32\", \"\\u0e14\\u0e35\", \"\\u0e2d\\u0e32\\u0e2b\\u0e32\\u0e23\", \"\\u0e0a\\u0e32\\u0e1a\\u0e39\", \"\\u0e40\\u0e25\\u0e37\\u0e2d\\u0e01\", \"\\u0e01\\u0e34\\u0e19\", \"\\u0e1a\\u0e32\\u0e17\", \"\\u0e1e\\u0e19\\u0e31\\u0e01\\u0e07\\u0e32\\u0e19\", \"\\u0e1a\\u0e23\\u0e34\\u0e01\\u0e32\\u0e23\", \"\\u0e19\\u0e49\\u0e33\", \"\\u0e2d\\u0e23\\u0e48\\u0e2d\\u0e22\", \"\\u0e40\\u0e19\\u0e37\\u0e49\\u0e2d\", \"\\u0e04\\u0e19\", \"\\u0e2a\\u0e31\\u0e48\\u0e07\", \"\\u0e43\\u0e0a\\u0e49\\u0e44\\u0e14\\u0e49\", \"\\u0e42\\u0e14\\u0e19\", \"\\u0e27\\u0e32\\u0e19\\u0e34\\u0e25\\u0e32\", \"\\u0e41\\u0e1b\\u0e49\\u0e07\", \"\\u0e40\\u0e0a\\u0e47\\u0e04\\u0e1a\\u0e34\\u0e25\", \"\\u0e07\\u0e32\\u0e19\", \"\\u0e1b\\u0e2d\\u0e01\\u0e40\\u0e1b\\u0e25\\u0e37\\u0e2d\\u0e01\", \"\\u0e40\\u0e14\\u0e49\\u0e07\", \"\\u0e2d\\u0e35\\u0e01\\u0e04\\u0e23\\u0e31\\u0e49\\u0e07\", \"\\u0e2b\\u0e2d\\u0e21\", \"\\u0e43\\u0e08\\u0e14\\u0e35\", \"\\u0e0a\\u0e37\\u0e48\\u0e19\", \"\\u0e40\\u0e27\\u0e25\\u0e32\", \"-\", \"\\u0e2a\\u0e33\\u0e2b\\u0e23\\u0e31\\u0e1a\", \"\\u0e2a\\u0e14\", \"\\u0e15\\u0e31\\u0e27\", \"\\u0e01\\u0e25\\u0e31\\u0e1a\\u0e21\\u0e32\", \"\\u0e1b\\u0e25\\u0e32\\u0e14\\u0e34\\u0e1a\", \"\\u0e40\\u0e1b\\u0e23\\u0e35\\u0e49\\u0e22\\u0e27\\u0e2b\\u0e27\\u0e32\\u0e19\", \"\\u0e40\\u0e1a\\u0e04\\u0e2d\\u0e19\", \"\\u0e2a\\u0e27\\u0e22\", \"\\u0e1d\\u0e31\\u0e48\\u0e07\", \"\\u0e43\\u0e08\\u0e21\\u0e32\", \"\\u0e0a\\u0e32\\u0e15\", \"\\u0e15\\u0e25\\u0e31\\u0e1a\", \"\\u0e17\\u0e33\", \"\\u0e41\\u0e2d\\u0e2d\\u0e31\\u0e14\", \"\\u0e40\\u0e2b\\u0e21\\u0e37\\u0e2d\\u0e19\", \"\\u0e1d\\u0e23\\u0e31\\u0e48\\u0e07\", \"\\u0e01\\u0e38\\u0e49\\u0e07\", \"\\u0e15\\u0e34\\u0e14\", \"\\u0e19\\u0e38\\u0e48\\u0e21\", \"\\u0e15\\u0e31\\u0e49\\u0e07\\u0e2d\\u0e22\\u0e39\\u0e48\", \"\\u0e19\\u0e32\\u0e17\\u0e35\", \"\\u0e0a\\u0e31\\u0e48\\u0e27\\u0e42\\u0e21\\u0e07\", \"15\", \"\\u0e19\\u0e30\\u0e04\\u0e30\", \"+\", \"\\u0e01\\u0e34\\u0e19\", \"\\u0e04\\u0e19\", \"1\", \"\\u0e02\\u0e2d\\u0e07\\u0e2b\\u0e27\\u0e32\\u0e19\", \"\\u0e14\\u0e35\", \"\\u0e2d\\u0e23\\u0e48\\u0e2d\\u0e22\", \"\\u0e23\\u0e49\\u0e32\\u0e19\", \"\\u0e2a\\u0e32\\u0e02\\u0e32\", \"\\u0e2d\\u0e32\\u0e2b\\u0e32\\u0e23\", \"\\u0e40\\u0e19\\u0e37\\u0e49\\u0e2d\", \"\\u0e19\\u0e49\\u0e33\", \"\\u0e23\\u0e2a\\u0e0a\\u0e32\\u0e15\\u0e34\", \"\\u0e23\\u0e32\\u0e04\\u0e32\", \"\\u0e2b\\u0e27\\u0e32\\u0e19\", \"\\u0e44\\u0e2d\\u0e15\\u0e34\\u0e21\", \"\\u0e23\\u0e39\\u0e49\\u0e2a\\u0e36\\u0e01\", \"\\u0e2a\\u0e44\\u0e25\\u0e14\\u0e4c\", \"\\u0e23\\u0e2d\", \"\\u0e2b\\u0e49\\u0e32\\u0e07\", \"\\u0e04\\u0e34\\u0e27\", \"\\u0e2b\\u0e34\\u0e27\", \"\\u0e23\\u0e30\\u0e1a\\u0e1a\", \"\\u0e40\\u0e01\\u0e49\", \"\\u0e15\\u0e34\\u0e14\\u0e01\\u0e31\\u0e1a\", \"\\u0e14\\u0e49\\u0e32\\u0e19\\u0e43\\u0e19\", \"49\", \"\\u0e22\\u0e39\\u0e40\\u0e19\\u0e35\\u0e48\\u0e22\\u0e19\\u0e21\\u0e2d\\u0e25\\u0e25\\u0e4c\", \"\\u0e2b\\u0e25\\u0e31\\u0e07\\u0e08\\u0e32\\u0e01\\u0e17\\u0e35\\u0e48\", \"\\u0e43\\u0e0a\\u0e49\\u0e41\\u0e25\\u0e49\\u0e27\", \"\\u0e17\\u0e31\\u0e48\\u0e27\\u0e16\\u0e36\\u0e07\", \"\\u0e15\\u0e31\\u0e27\\u0e40\\u0e25\\u0e37\\u0e2d\\u0e01\", \"\\u0e17\\u0e35\\u0e48\\u0e44\\u0e2b\\u0e19\\u0e44\\u0e14\\u0e49\", \"HALL\", \"\\u0e41\\u0e01\\u0e07\\u0e40\\u0e02\\u0e35\\u0e22\\u0e27\\u0e2b\\u0e27\\u0e32\\u0e19\", \"\\u0e19\\u0e49\\u0e33\\u0e14\\u0e37\\u0e48\\u0e21\", \"\\u0e15\\u0e49\\u0e2d\\u0e07\\u0e01\\u0e32\\u0e23\", \"\\u0e41\\u0e27\\u0e30\", \"\\u0e23\\u0e35\\u0e27\\u0e34\\u0e27\", \"\\u0e15\\u0e2d\\u0e19\\u0e41\\u0e23\\u0e01\", \"\\u0e1f\\u0e35\", \"\\u0e02\\u0e49\\u0e2d\\u0e14\\u0e35\", \"\\u0e40\\u0e01\\u0e35\\u0e4a\\u0e22\\u0e27\", \"..\", \"40\", \"\\u0e21\\u0e35\\u0e48\", \"\\u0e1a\\u0e38\", \"\\u0e23\\u0e35\", \"\\u0e1a\", \"\\u0e02\\u0e27\\u0e31\\u0e0d\\u0e43\\u0e08\", \"MCC\", \"\\u0e0b\\u0e38\\u0e1b\", \"\\u0e1a\\u0e32\\u0e17\", \"\\u0e14\\u0e35\\u0e21\\u0e32\\u0e01\", \"\\u0e04\\u0e38\\u0e49\\u0e21\", \"\\u0e40\\u0e21\\u0e19\\u0e39\", \"\\u0e19\\u0e49\\u0e33\", \"\\u0e23\\u0e32\\u0e04\\u0e32\", \"199\", \"\\u0e41\\u0e19\\u0e30\\u0e19\\u0e33\", \"-\", \"\\u0e23\\u0e2a\\u0e0a\\u0e32\\u0e15\\u0e34\", \"\\u0e17\\u0e32\\u0e19\", \"\\u0e2b\\u0e21\\u0e39\", \"\\u0e1e\\u0e34\\u0e0b\\u0e0b\\u0e48\\u0e32\", \"\\u0e08\\u0e48\\u0e32\\u0e22\", \"\\u0e0a\\u0e32\\u0e1a\\u0e39\", \"\\u0e04\\u0e19\\u0e25\\u0e30\", \"\\u0e2a\\u0e32\\u0e22\\u0e1e\\u0e32\\u0e19\", \"\\u0e23\\u0e49\\u0e32\\u0e19\", \"\\u0e2d\\u0e32\\u0e2b\\u0e32\\u0e23\", \"\\u0e25\\u0e2d\\u0e07\", \"\\u0e0a\\u0e34\", \"\\u0e0b\\u0e39\\u0e0a\\u0e34\", \"\\u0e19\\u0e49\\u0e33\\u0e08\\u0e34\\u0e49\\u0e21\", \"\\u0e2a\\u0e32\\u0e02\\u0e32\", \"\\u0e14\\u0e35\", \"\\u0e40\\u0e19\\u0e37\\u0e49\\u0e2d\", \"\\u0e40\\u0e25\\u0e37\\u0e2d\\u0e01\", \"\\u0e2d\\u0e23\\u0e48\\u0e2d\\u0e22\"], \"Freq\": [10.0, 12.0, 9.0, 10.0, 7.0, 20.0, 11.0, 4.0, 3.0, 6.0, 5.0, 14.0, 6.0, 16.0, 2.0, 7.0, 5.0, 18.0, 5.0, 5.0, 5.0, 4.0, 13.0, 4.0, 4.0, 3.0, 3.0, 5.0, 1.0, 4.0, 3.271211943767144, 2.5014988926291566, 2.501498188619883, 2.5014977192803673, 2.5014977192803673, 2.501496780601336, 4.8106352300060236, 4.810635699345539, 1.7317852548167747, 1.731784902812138, 1.731784902812138, 1.7317845508075012, 1.7317845508075012, 1.7317843161377433, 1.7317843161377433, 1.7317841988028644, 1.7317841988028644, 1.7317841988028644, 1.7317841988028644, 1.7317841988028644, 1.7317841988028644, 1.7317839641331065, 1.7317839641331065, 1.7317837294633485, 1.7317833774587117, 1.7317832601238328, 1.7317832601238328, 1.731783025454075, 1.731783025454075, 1.7317826734494381, 5.5803506278415895, 4.810637576703602, 4.810638046043119, 3.271209831739323, 9.428916352871042, 12.507757293274611, 10.19862471061387, 7.119774852759501, 8.659202363054023, 4.810636638024571, 8.659202363054023, 6.350061801621513, 3.271213586455449, 7.1197753220990165, 2.501498423289641, 8.659205179091117, 3.2712131171159333, 6.350065086998124, 3.271211943767144, 3.27121123975787, 2.501498423289641, 4.81063898472215, 4.040926872263194, 4.040926872263194, 3.2712126477764176, 2.5015014739964934, 2.501500300647704, 2.50149959663843, 2.5014988926291566, 1.6190918292356522, 1.619091649042605, 1.619091288656511, 1.619091288656511, 1.619091288656511, 1.619090928270417, 1.619090928270417, 1.619090928270417, 1.6190902074982285, 1.6190896669190875, 3.777953372488107, 3.777951930943731, 3.777951930943731, 2.3387136650688154, 0.8994667499276416, 0.8994667499276416, 0.8994667499276416, 0.8994667499276416, 0.8994667499276416, 0.8994667499276416, 0.8994667499276416, 0.8994667499276416, 0.8994667499276416, 0.8994667499276416, 0.8994667499276416, 0.8994667499276416, 0.8994667499276416, 0.8994667499276416, 0.8994667499276416, 0.8994667499276416, 3.0583340593576027, 3.777951930943731, 3.0583340593576027, 2.3387124037174862, 2.3387131244896744, 2.3387131244896744, 2.338712223524439, 2.3387134848757687, 9.534917247570592, 2.33871276410358, 2.33871276410358, 3.058334780129791, 2.3387136650688154, 2.3387138452618625, 3.7779551744185778, 3.77795625557686, 5.936810591107433, 4.497577010251741, 4.4975795329544, 4.497575568707365, 4.4975748479351765, 3.777955895190766, 3.777960940596084, 3.058337663218544, 2.3387138452618625, 2.3387145660340507, 2.338719791632416, 2.338718169894992, 2.3387165481575685, 2.3387158273853803, 2.3387152868062393, 2.131331639525175, 1.4755247642815916, 1.4755244969251617, 1.4755244969251617, 1.4755244969251617, 1.4755244969251617, 1.4755244969251617, 1.4755244969251617, 1.4755244969251617, 1.4755242295687316, 1.4755242295687316, 1.4755242295687316, 3.442944454264836, 7.377780893310595, 2.787138648446973, 4.754559274177723, 2.131331906881605, 2.131331639525175, 0.8197144802435258, 0.8197144134044183, 0.8197144134044183, 0.8197144134044183, 0.8197144134044183, 0.8197144134044183, 0.8197144134044183, 0.8197144134044183, 0.8197144134044183, 0.8197144134044183, 0.8197144134044183, 0.8197144134044183, 4.754558204752002, 1.4755247642815916, 2.7871410546548434, 1.4755247642815916, 1.4755247642815916, 1.4755247642815916, 1.4755254326726668, 1.4755244969251617, 1.4755244969251617, 6.066170885813449, 3.442946593116276, 2.13133257527268, 2.787139717872693, 4.098753735716289, 2.7871431935062834, 2.7871429261498535, 2.1313348478023353, 2.131335115158765, 2.13133498148055, 1.4755338544002123, 1.475529309340902, 1.475528507271612, 1.4755273041676769, 1.4755259673855268, 1.4755257000290969, 1.4755257000290969, 1.4755257000290969, 1.4755257000290969, 1.4755251653162367, 1.3098753811671209, 0.7276930171272533, 0.7276929682288312, 0.7276929682288312, 0.7276929682288312, 0.7276929682288312, 0.7276929682288312, 0.7276929682288312, 0.7276929193304091, 0.7276929193304091, 0.7276929682288312, 0.7276929682288312, 0.7276929682288312, 0.7276929682288312, 0.7276929682288312, 0.7276929193304091, 0.7276929682288312, 0.7276929193304091, 0.7276929682288312, 0.7276929682288312, 0.7276929193304091, 0.7276929193304091, 0.7276929193304091, 0.7276929193304091, 0.7276929193304091, 0.7276929193304091, 0.7276929193304091, 0.727692821533565, 0.727692821533565, 0.727692821533565, 4.220778008463106, 3.638596524594836, 1.8920557892701049, 2.474238446700505, 1.8920577452069884, 4.2207799643999895, 3.056418952600333, 1.3098758701513418, 1.3098750877765883, 2.474238837887882, 2.4742376643257518, 3.0564246248172955, 1.3098763591355627, 1.3098761635418743, 1.3098758701513418, 2.474241771793207, 1.3098760657450301, 1.3098764569324068, 2.4742427497616486, 1.8920610702996903, 1.3098768481197836, 1.309877728291381, 1.3098773371040044, 1.3098763591355627, 1.309877728291381, 1.309878804056667, 1.309879390837732, 1.3098794886345762, 1.3098801732124854], \"Total\": [10.0, 12.0, 9.0, 10.0, 7.0, 20.0, 11.0, 4.0, 3.0, 6.0, 5.0, 14.0, 6.0, 16.0, 2.0, 7.0, 5.0, 18.0, 5.0, 5.0, 5.0, 4.0, 13.0, 4.0, 4.0, 3.0, 3.0, 5.0, 1.0, 4.0, 3.7606164342758213, 2.99090263779088, 2.990902899582488, 2.990902512528242, 2.990902598198754, 2.99090265657399, 5.882191424419809, 6.0196049979112765, 2.22118757773587, 2.2211875478195053, 2.2211876836520554, 2.2211874638718774, 2.2211874742696764, 2.2211874501684448, 2.2211874753435543, 2.221187417927248, 2.2211874448709827, 2.2211874881124856, 2.2211874996756262, 2.2211875049004894, 2.221187532505689, 2.221187453835322, 2.221187459375055, 2.2211872517081925, 2.2211874480811375, 2.2211873982859442, 2.221187415415118, 2.221187371172365, 2.2211873933954207, 2.2211871460363426, 7.371467058572023, 6.464375236783164, 6.675369054399996, 4.48017864672205, 14.680707332175515, 20.54279090370723, 16.634366247227632, 11.249451531183118, 14.439133283529873, 8.041002280024728, 18.47215787422463, 12.353891848475953, 5.135942019635861, 14.911311301325773, 3.7104648902606363, 23.455508102573212, 5.855568053127858, 16.9218943313929, 6.501575235345372, 6.511378529255138, 4.155234621708932, 13.33161073888797, 10.901816087423292, 13.07045134238688, 13.177424720503772, 7.414548081346911, 9.720669132318282, 5.594422878618946, 5.8054762542748914, 2.1210181430016903, 2.121018344965237, 2.121018034016469, 2.1210181048098247, 2.121018141914999, 2.1210178874653964, 2.12101790908635, 2.1210179995822225, 2.12101776897358, 2.121017644862598, 5.517794526156332, 5.5177934839443346, 5.517793549133632, 3.496403834364811, 1.4013920067424035, 1.401392009597329, 1.4013920169240919, 1.4013920368881316, 1.4013920462578118, 1.401392053997246, 1.401392053997246, 1.4013920568521714, 1.40139206338026, 1.4013920703076854, 1.401392076835774, 1.4013920800900368, 1.4013920829316284, 1.4013920915026337, 1.4013920935455508, 1.4013920935455508, 4.8718356690104665, 6.099977182615114, 4.985662275437416, 4.078552217565365, 4.152214443327598, 4.1522145417186325, 4.192426088136262, 4.266040811823372, 23.455508102573212, 4.379997630913221, 4.3799978881592105, 6.149993901380575, 4.66073575964078, 4.734363302173967, 9.452639885942304, 9.720669132318282, 18.47215787422463, 13.07045134238688, 13.177424720503772, 13.33161073888797, 14.911311301325773, 14.680707332175515, 16.9218943313929, 10.901816087423292, 5.8054762542748914, 6.501575235345372, 20.54279090370723, 16.634366247227632, 14.439133283529873, 8.241143010102887, 8.041002280024728, 2.649212186161454, 1.9934042948237485, 1.9934041336252741, 1.99340416760141, 1.993404194374744, 1.993404206815957, 1.9934042085377637, 1.993404212387924, 1.9934042132653218, 1.993404079213739, 1.9934040935203752, 1.9934041027855522, 4.7304631034518705, 10.224359605693467, 3.887168192986029, 7.4812649722420055, 3.3687743119190228, 3.368774226903649, 1.3375933311786066, 1.3375932741936585, 1.3375932838908677, 1.3375932856456636, 1.3375932981256955, 1.3375933065001406, 1.3375933076526203, 1.3375933113128409, 1.3375933113128409, 1.3375933127074133, 1.337593317677064, 1.3375933206498265, 9.452639885942304, 2.575553115040528, 5.614091615156899, 2.7129663395133967, 2.7129665018902154, 2.7129665720744565, 2.763041419074611, 2.763041240524006, 2.7630413946704886, 16.9218943313929, 8.241143010102887, 4.7707182564549715, 6.865713954040689, 13.177424720503772, 16.634366247227632, 23.455508102573212, 9.720669132318282, 13.33161073888797, 14.439133283529873, 20.54279090370723, 11.249451531183118, 13.07045134238688, 4.11491024754127, 6.511378529255138, 3.4826030969059905, 3.4826033970630554, 4.8718356690104665, 4.152214443327598, 4.1522145417186325, 1.8461618901499623, 1.263978495762066, 1.2639785164265063, 1.2639785673942185, 1.263978594266133, 1.2639786055804438, 1.2639786127044297, 1.2639786127044297, 1.2639785330575597, 1.2639785374577908, 1.26397864004768, 1.26397864004768, 1.2639786410429146, 1.2639786410429146, 1.2639786479049508, 1.2639785674723485, 1.2639786557097747, 1.2639785712437854, 1.2639786607908436, 1.2639786693813995, 1.2639785961252303, 1.2639786050301836, 1.2639786302780691, 1.2639786344165522, 1.2639786377684958, 1.2639786428495647, 1.263978658669203, 1.2639785450527206, 1.263978569672216, 1.2639785710344966, 12.353891848475953, 10.901816087423292, 4.573306495087119, 7.414548081346911, 5.29293159891567, 20.54279090370723, 13.07045134238688, 3.335361346835632, 3.385519934319622, 10.224359605693467, 11.249451531183118, 18.47215787422463, 3.9273734921051355, 3.991124607309517, 4.054987257703071, 14.911311301325773, 4.155234621708932, 4.66073575964078, 23.455508102573212, 13.33161073888797, 5.594422878618946, 6.099977182615114, 6.149993901380575, 6.464375236783164, 9.720669132318282, 13.177424720503772, 14.439133283529873, 14.680707332175515, 16.634366247227632], \"Category\": [\"Default\", \"Default\", \"Default\", \"Default\", \"Default\", \"Default\", \"Default\", \"Default\", \"Default\", \"Default\", \"Default\", \"Default\", \"Default\", \"Default\", \"Default\", \"Default\", \"Default\", \"Default\", \"Default\", \"Default\", \"Default\", \"Default\", \"Default\", \"Default\", \"Default\", \"Default\", \"Default\", \"Default\", \"Default\", \"Default\", \"Topic1\", \"Topic1\", \"Topic1\", \"Topic1\", \"Topic1\", \"Topic1\", \"Topic1\", \"Topic1\", \"Topic1\", \"Topic1\", \"Topic1\", \"Topic1\", \"Topic1\", \"Topic1\", \"Topic1\", \"Topic1\", \"Topic1\", \"Topic1\", \"Topic1\", \"Topic1\", \"Topic1\", \"Topic1\", \"Topic1\", \"Topic1\", \"Topic1\", \"Topic1\", \"Topic1\", \"Topic1\", \"Topic1\", \"Topic1\", \"Topic1\", \"Topic1\", \"Topic1\", \"Topic1\", \"Topic1\", \"Topic1\", \"Topic1\", \"Topic1\", \"Topic1\", \"Topic1\", \"Topic1\", \"Topic1\", \"Topic1\", \"Topic1\", \"Topic1\", \"Topic1\", \"Topic1\", \"Topic1\", \"Topic1\", \"Topic1\", \"Topic1\", \"Topic1\", \"Topic1\", \"Topic1\", \"Topic1\", \"Topic1\", \"Topic1\", \"Topic1\", \"Topic1\", \"Topic2\", \"Topic2\", \"Topic2\", \"Topic2\", \"Topic2\", \"Topic2\", \"Topic2\", \"Topic2\", \"Topic2\", \"Topic2\", \"Topic2\", \"Topic2\", \"Topic2\", \"Topic2\", \"Topic2\", \"Topic2\", \"Topic2\", \"Topic2\", \"Topic2\", \"Topic2\", \"Topic2\", \"Topic2\", \"Topic2\", \"Topic2\", \"Topic2\", \"Topic2\", \"Topic2\", \"Topic2\", \"Topic2\", \"Topic2\", \"Topic2\", \"Topic2\", \"Topic2\", \"Topic2\", \"Topic2\", \"Topic2\", \"Topic2\", \"Topic2\", \"Topic2\", \"Topic2\", \"Topic2\", \"Topic2\", \"Topic2\", \"Topic2\", \"Topic2\", \"Topic2\", \"Topic2\", \"Topic2\", \"Topic2\", \"Topic2\", \"Topic2\", \"Topic2\", \"Topic2\", \"Topic2\", \"Topic2\", \"Topic2\", \"Topic2\", \"Topic2\", \"Topic2\", \"Topic2\", \"Topic2\", \"Topic3\", \"Topic3\", \"Topic3\", \"Topic3\", \"Topic3\", \"Topic3\", \"Topic3\", \"Topic3\", \"Topic3\", \"Topic3\", \"Topic3\", \"Topic3\", \"Topic3\", \"Topic3\", \"Topic3\", \"Topic3\", \"Topic3\", \"Topic3\", \"Topic3\", \"Topic3\", \"Topic3\", \"Topic3\", \"Topic3\", \"Topic3\", \"Topic3\", \"Topic3\", \"Topic3\", \"Topic3\", \"Topic3\", \"Topic3\", \"Topic3\", \"Topic3\", \"Topic3\", \"Topic3\", \"Topic3\", \"Topic3\", \"Topic3\", \"Topic3\", \"Topic3\", \"Topic3\", \"Topic3\", \"Topic3\", \"Topic3\", \"Topic3\", \"Topic3\", \"Topic3\", \"Topic3\", \"Topic3\", \"Topic3\", \"Topic3\", \"Topic3\", \"Topic3\", \"Topic3\", \"Topic3\", \"Topic3\", \"Topic3\", \"Topic3\", \"Topic3\", \"Topic3\", \"Topic4\", \"Topic4\", \"Topic4\", \"Topic4\", \"Topic4\", \"Topic4\", \"Topic4\", \"Topic4\", \"Topic4\", \"Topic4\", \"Topic4\", \"Topic4\", \"Topic4\", \"Topic4\", \"Topic4\", \"Topic4\", \"Topic4\", \"Topic4\", \"Topic4\", \"Topic4\", \"Topic4\", \"Topic4\", \"Topic4\", \"Topic4\", \"Topic4\", \"Topic4\", \"Topic4\", \"Topic4\", \"Topic4\", \"Topic4\", \"Topic4\", \"Topic4\", \"Topic4\", \"Topic4\", \"Topic4\", \"Topic4\", \"Topic4\", \"Topic4\", \"Topic4\", \"Topic4\", \"Topic4\", \"Topic4\", \"Topic4\", \"Topic4\", \"Topic4\", \"Topic4\", \"Topic4\", \"Topic4\", \"Topic4\", \"Topic4\", \"Topic4\", \"Topic4\", \"Topic4\", \"Topic4\", \"Topic4\", \"Topic4\", \"Topic4\", \"Topic4\", \"Topic4\"], \"logprob\": [30.0, 29.0, 28.0, 27.0, 26.0, 25.0, 24.0, 23.0, 22.0, 21.0, 20.0, 19.0, 18.0, 17.0, 16.0, 15.0, 14.0, 13.0, 12.0, 11.0, 10.0, 9.0, 8.0, 7.0, 6.0, 5.0, 4.0, 3.0, 2.0, 1.0, -5.0373, -5.3056, -5.3056, -5.3056, -5.3056, -5.3056, -4.6516, -4.6516, -5.6733, -5.6733, -5.6733, -5.6733, -5.6733, -5.6733, -5.6733, -5.6733, -5.6733, -5.6733, -5.6733, -5.6733, -5.6733, -5.6733, -5.6733, -5.6733, -5.6733, -5.6733, -5.6733, -5.6733, -5.6733, -5.6733, -4.5032, -4.6516, -4.6516, -5.0373, -3.9787, -3.6961, -3.9002, -4.2596, -4.0639, -4.6516, -4.0639, -4.374, -5.0373, -4.2596, -5.3056, -4.0639, -5.0373, -4.374, -5.0373, -5.0373, -5.3056, -4.6516, -4.826, -4.826, -5.0373, -5.3056, -5.3056, -5.3056, -5.3056, -5.4765, -5.4765, -5.4765, -5.4765, -5.4765, -5.4765, -5.4765, -5.4765, -5.4765, -5.4765, -4.6291, -4.6291, -4.6291, -5.1087, -6.0643, -6.0643, -6.0643, -6.0643, -6.0643, -6.0643, -6.0643, -6.0643, -6.0643, -6.0643, -6.0643, -6.0643, -6.0643, -6.0643, -6.0643, -6.0643, -4.8405, -4.6291, -4.8405, -5.1087, -5.1087, -5.1087, -5.1087, -5.1087, -3.7034, -5.1087, -5.1087, -4.8405, -5.1087, -5.1087, -4.6291, -4.6291, -4.1772, -4.4548, -4.4548, -4.4548, -4.4548, -4.6291, -4.6291, -4.8405, -5.1087, -5.1087, -5.1087, -5.1087, -5.1087, -5.1087, -5.1087, -4.903, -5.2707, -5.2707, -5.2707, -5.2707, -5.2707, -5.2707, -5.2707, -5.2707, -5.2707, -5.2707, -5.2707, -4.4234, -3.6613, -4.6347, -4.1006, -4.903, -4.903, -5.8585, -5.8585, -5.8585, -5.8585, -5.8585, -5.8585, -5.8585, -5.8585, -5.8585, -5.8585, -5.8585, -5.8585, -4.1006, -5.2707, -4.6347, -5.2707, -5.2707, -5.2707, -5.2707, -5.2707, -5.2707, -3.857, -4.4234, -4.903, -4.6347, -4.249, -4.6347, -4.6347, -4.903, -4.903, -4.903, -5.2707, -5.2707, -5.2707, -5.2707, -5.2707, -5.2707, -5.2707, -5.2707, -5.2707, -5.2707, -5.0773, -5.6651, -5.6651, -5.6651, -5.6651, -5.6651, -5.6651, -5.6651, -5.6651, -5.6651, -5.6651, -5.6651, -5.6651, -5.6651, -5.6651, -5.6651, -5.6651, -5.6651, -5.6651, -5.6651, -5.6651, -5.6651, -5.6651, -5.6651, -5.6651, -5.6651, -5.6651, -5.6651, -5.6651, -5.6651, -3.9072, -4.0556, -4.7095, -4.4413, -4.7095, -3.9072, -4.2299, -5.0773, -5.0773, -4.4413, -4.4413, -4.2299, -5.0773, -5.0773, -5.0773, -4.4413, -5.0773, -5.0773, -4.4413, -4.7095, -5.0773, -5.0773, -5.0773, -5.0773, -5.0773, -5.0773, -5.0773, -5.0773, -5.0773], \"loglift\": [30.0, 29.0, 28.0, 27.0, 26.0, 25.0, 24.0, 23.0, 22.0, 21.0, 20.0, 19.0, 18.0, 17.0, 16.0, 15.0, 14.0, 13.0, 12.0, 11.0, 10.0, 9.0, 8.0, 7.0, 6.0, 5.0, 4.0, 3.0, 2.0, 1.0, 0.8737, 0.8345, 0.8345, 0.8345, 0.8345, 0.8345, 0.812, 0.789, 0.7643, 0.7643, 0.7643, 0.7643, 0.7643, 0.7643, 0.7643, 0.7643, 0.7643, 0.7643, 0.7643, 0.7643, 0.7643, 0.7643, 0.7643, 0.7643, 0.7643, 0.7643, 0.7643, 0.7643, 0.7643, 0.7643, 0.7348, 0.7177, 0.6855, 0.6986, 0.5704, 0.517, 0.5239, 0.5557, 0.5018, 0.4994, 0.2555, 0.3476, 0.562, 0.2739, 0.6189, 0.0167, 0.4309, 0.033, 0.3263, 0.3248, 0.5057, -0.0062, 0.0207, -0.1607, -0.3802, -0.0734, -0.3442, 0.2083, 0.1712, 1.0073, 1.0073, 1.0073, 1.0073, 1.0073, 1.0073, 1.0073, 1.0073, 1.0073, 1.0073, 0.8985, 0.8985, 0.8985, 0.8752, 0.8339, 0.8339, 0.8339, 0.8339, 0.8339, 0.8339, 0.8339, 0.8339, 0.8339, 0.8339, 0.8339, 0.8339, 0.8339, 0.8339, 0.8339, 0.8339, 0.8117, 0.7982, 0.7886, 0.7212, 0.7033, 0.7033, 0.6936, 0.6762, 0.3771, 0.6498, 0.6498, 0.5787, 0.5877, 0.572, 0.3602, 0.3322, 0.1422, 0.2105, 0.2023, 0.1907, 0.0787, -0.0801, -0.2221, 0.0062, 0.3681, 0.2549, -0.8956, -0.6846, -0.543, 0.0178, 0.0423, 1.3584, 1.2751, 1.2751, 1.2751, 1.2751, 1.2751, 1.2751, 1.2751, 1.2751, 1.2751, 1.2751, 1.2751, 1.2582, 1.2496, 1.2432, 1.1226, 1.1181, 1.1181, 1.0862, 1.0862, 1.0862, 1.0862, 1.0862, 1.0862, 1.0862, 1.0862, 1.0862, 1.0862, 1.0862, 1.0862, 0.8887, 1.0188, 0.8756, 0.9669, 0.9669, 0.9669, 0.9486, 0.9486, 0.9486, 0.55, 0.7031, 0.7701, 0.6744, 0.4081, -0.2106, -0.5542, 0.0584, -0.2575, -0.3373, -1.0576, -0.4554, -0.6055, 0.5503, 0.0914, 0.7171, 0.7171, 0.3814, 0.5413, 0.5413, 1.5453, 1.3363, 1.3363, 1.3363, 1.3363, 1.3363, 1.3363, 1.3363, 1.3363, 1.3363, 1.3363, 1.3363, 1.3363, 1.3363, 1.3363, 1.3363, 1.3363, 1.3363, 1.3363, 1.3363, 1.3363, 1.3363, 1.3363, 1.3363, 1.3363, 1.3363, 1.3363, 1.3363, 1.3363, 1.3363, 0.8145, 0.7911, 1.0059, 0.7909, 0.8597, 0.3059, 0.4353, 0.9538, 0.9389, 0.4696, 0.374, 0.0894, 0.7904, 0.7743, 0.7584, 0.0922, 0.734, 0.6192, -0.3607, -0.064, 0.4366, 0.3501, 0.3419, 0.2921, -0.1159, -0.4201, -0.5116, -0.5282, -0.6531]}, \"token.table\": {\"Topic\": [1, 3, 3, 4, 4, 1, 3, 4, 1, 3, 1, 2, 4, 1, 4, 1, 2, 4, 4, 1, 2, 2, 1, 4, 4, 2, 3, 1, 2, 3, 4, 2, 3, 4, 2, 4, 1, 2, 3, 4, 4, 1, 1, 2, 3, 4, 1, 4, 2, 3, 1, 2, 3, 1, 1, 2, 3, 4, 2, 3, 1, 2, 4, 1, 2, 4, 2, 3, 3, 1, 2, 3, 4, 2, 3, 4, 3, 2, 1, 2, 1, 1, 2, 4, 1, 2, 3, 4, 1, 2, 1, 2, 1, 2, 3, 4, 1, 2, 3, 4, 2, 3, 4, 4, 3, 4, 2, 3, 4, 2, 3, 3, 4, 4, 1, 4, 2, 3, 4, 2, 4, 1, 2, 3, 4, 3, 2, 4, 1, 3, 1, 2, 3, 1, 3, 1, 2, 3, 4, 1, 4, 4, 4, 1, 2, 4, 2, 1, 2, 4, 4, 2, 1, 2, 3, 2, 2, 1, 3, 3, 2, 3, 4, 1, 2, 3, 3, 3, 1, 2, 3, 2, 2, 2, 1, 1, 2, 3, 4, 4, 2, 3, 4, 2, 4, 4, 1, 2, 3, 1, 3, 4, 2, 3, 4, 1, 2, 3, 4, 4, 4, 1, 1, 2, 3, 1, 2, 3, 4, 1, 2, 4, 3, 1, 2, 3, 1, 1, 3, 1, 2, 4, 1, 2, 3, 4, 2, 3, 4, 3, 4, 1, 2, 1, 2, 3, 1, 2, 3, 1, 3, 4, 1, 2, 1, 2, 4, 4, 1, 1, 3, 4, 3, 4, 2, 3, 1, 2, 3, 4, 2, 1, 1, 2, 3, 4, 3, 1, 4, 4, 2, 2, 3, 1, 3, 2, 2, 3, 4, 1, 2, 3, 4, 1, 2, 1, 3, 3, 1, 2, 2, 1, 2, 3, 4, 1, 2, 4, 1, 3, 3, 1, 4, 1, 1, 4, 1, 2, 3, 4, 3, 3, 2, 1, 1, 2, 3, 3, 3, 4, 3, 1, 1, 1, 2, 1, 2, 3], \"Freq\": [0.3619200211509161, 0.3619200211509161, 0.6846394561574329, 0.19561127318783797, 0.7911526160691537, 0.4192240858688145, 0.4192240858688145, 0.20961204293440724, 0.3619200179543153, 0.3619200179543153, 0.29981758976391965, 0.29981758976391965, 0.29981758976391965, 0.8500233398121986, 0.1700046679624397, 0.4566212247286136, 0.4566212247286136, 0.7911526134787842, 0.7911526315279525, 0.900419358368778, 0.7135762070308456, 0.7135761833757835, 0.9004192920056769, 0.7911526093311952, 0.7911526531510382, 0.29684387633157977, 0.5936877526631595, 0.3545702320613723, 0.2363801547075815, 0.3545702320613723, 0.059095038676895376, 0.4231622116429809, 0.5289527645537261, 0.10579055291074523, 0.9429433890567024, 0.7911526540037204, 0.29130255256599163, 0.29130255256599163, 0.4369538288489875, 0.14565127628299582, 0.7911526374461832, 0.9004191832684842, 0.24268478262641277, 0.24268478262641277, 0.36402717393961914, 0.12134239131320639, 0.7219808923247235, 0.2406602974415745, 0.48167067956276294, 0.24083533978138147, 0.2344093842769836, 0.4688187685539672, 0.2344093842769836, 0.9004192800649338, 0.40460995964773977, 0.2697399730984932, 0.1348699865492466, 0.2697399730984932, 0.9429434358378573, 0.50165440435048, 0.2466098994763415, 0.493219798952683, 0.2466098994763415, 0.8139492386420976, 0.1356582064403496, 0.1356582064403496, 0.36860019223729507, 0.36860019223729507, 0.7476113959892098, 0.46944228167093704, 0.2682527323833926, 0.06706318309584815, 0.1341263661916963, 0.6557401577500925, 0.16393503943752313, 0.16393503943752313, 0.5016544305304756, 0.9429435935359992, 1.0030416778179847, 0.9429433720777023, 0.9004192681473667, 0.4856769084262458, 0.16189230280874858, 0.32378460561749717, 0.16260178725958022, 0.4878053617787407, 0.16260178725958022, 0.16260178725958022, 0.8085240229262133, 0.26950800764207106, 0.8306192851083973, 0.16612385702167948, 0.22766208600168047, 0.3035494480022406, 0.3035494480022406, 0.07588736200056015, 0.21866017531828477, 0.21866017531828477, 0.21866017531828477, 0.43732035063656954, 0.42244328800910197, 0.21122164400455098, 0.21122164400455098, 0.7911526386098341, 0.747611393943429, 0.7911525969705232, 0.29684386884034086, 0.5936877376806817, 0.7911526099541348, 0.36860022383446234, 0.36860022383446234, 0.38826611424174196, 0.38826611424174196, 0.7911526554295703, 0.9004192677120408, 0.7911526553806669, 0.49037008558734896, 0.24518504279367448, 0.24518504279367448, 0.7135761748673162, 0.7911526741674552, 0.4872197423430572, 0.3248131615620381, 0.05413552692700636, 0.16240658078101905, 0.747611393943429, 0.7135761680158901, 0.7911526099541348, 0.3619200413419641, 0.3619200413419641, 1.0030415900224585, 0.36860020177295455, 0.36860020177295455, 0.534369619459115, 0.534369619459115, 0.632825406291507, 0.09735775481407799, 0.048678877407038995, 0.19471550962815598, 0.7734699513650334, 0.15469399027300668, 0.7911526050360926, 0.7911526694136173, 0.4614266376078683, 0.3076177584052455, 0.15380887920262276, 0.9429435383598206, 0.3669113446716953, 0.2751835085037715, 0.3669113446716953, 0.7911526082003723, 0.9429432822905544, 0.7490222576839111, 0.1498044515367822, 0.1498044515367822, 0.7135761920943796, 0.9429433725608137, 0.9004192741853101, 0.7476113828399998, 0.5016544039171751, 0.7249274486951499, 0.18123186217378748, 0.18123186217378748, 0.512332872367096, 0.34155524824473066, 0.17077762412236533, 0.747611388724775, 0.7476114013140253, 0.5167534701034967, 0.3445023134023311, 0.17225115670116556, 0.7135761765243573, 0.7135761866998273, 0.7135761690561251, 0.9004192909873161, 0.25055594560203837, 0.25055594560203837, 0.25055594560203837, 0.25055594560203837, 0.7911525915935017, 0.7249273203339777, 0.18123183008349442, 0.18123183008349442, 0.7135761734204034, 0.7911526113807275, 0.7911526270688896, 0.584118743656047, 0.19470624788534902, 0.19470624788534902, 0.6222525587666408, 0.08889322268094868, 0.17778644536189736, 0.6157843170045469, 0.20526143900151564, 0.7911527002657506, 0.3060338082609421, 0.3060338082609421, 0.07650845206523553, 0.2295253561957066, 0.7911525982985057, 0.7911526530200396, 0.900419276430993, 0.28714153527527114, 0.28714153527527114, 0.28714153527527114, 0.38370518176976287, 0.4263390908552921, 0.12790172725658763, 0.08526781817105841, 0.5362483432322491, 0.3574988954881661, 0.17874944774408305, 0.5016544227694387, 0.1336672345800255, 0.267334469160051, 0.6683361729001275, 0.9004192787636094, 0.9004192989494578, 0.7476114082893998, 0.621813030997502, 0.24872521239900078, 0.12436260619950039, 0.30862072961890125, 0.41149430615853505, 0.20574715307926753, 0.10287357653963376, 0.42911679681968223, 0.21455839840984112, 0.21455839840984112, 0.7717700524029737, 0.25725668413432456, 0.9004192779174621, 0.7135761881535295, 0.28714151052724485, 0.28714151052724485, 0.28714151052724485, 0.20057515827468786, 0.6017254748240636, 0.20057515827468786, 0.2546230965835602, 0.2546230965835602, 0.2546230965835602, 0.45662125154688815, 0.45662125154688815, 0.23852537384732972, 0.47705074769465944, 0.23852537384732972, 0.7911526270688896, 0.9004192578483682, 0.4860373324533711, 0.24301866622668555, 0.24301866622668555, 0.5016544364624915, 0.5416643065461452, 0.4816706909764501, 0.24083534548822505, 0.6011650730406787, 0.12023301460813574, 0.1803495219122036, 0.06011650730406787, 0.7135762122152697, 0.9004192557303267, 0.37504845422879973, 0.3000387633830398, 0.1500193816915199, 0.1500193816915199, 0.5016544027274513, 0.9004192262045092, 0.7911526318723727, 0.7911526873314106, 0.7135761680158901, 0.7135761968653362, 0.5016544074814001, 0.9004192625358044, 0.5016544029482547, 0.9429434205293846, 0.7249274572597167, 0.1812318643149292, 0.1812318643149292, 0.623306110088057, 0.13851246890845711, 0.13851246890845711, 0.06925623445422856, 0.6696161551939382, 0.22320538506464607, 1.003041719826591, 0.7476114092701953, 0.7476114146901869, 1.0030416910957665, 0.7135762107615674, 0.9429434760697143, 0.1889312153976945, 0.377862430795389, 0.1889312153976945, 0.377862430795389, 0.6130494802709415, 0.272466435675974, 0.0681166089189935, 0.21139579320897547, 0.6341873796269264, 0.7476113903863196, 1.003041671518802, 0.7911526093311952, 0.9004192445398023, 0.590751210685733, 0.2953756053428665, 0.9004192723623998, 0.713576179848401, 0.501654414219101, 0.7911526001508782, 0.7476113931639707, 0.5016543822026918, 0.7135761881535295, 0.9004192383319272, 0.7977415544581343, 0.5720163043933221, 0.28600815219666104, 0.5016544328621239, 0.747611396633357, 0.791152676921659, 0.7549414163377669, 0.9004194012057715, 0.9004193099406917, 0.9004193009319658, 0.9429434856817676, 0.46073193050000455, 0.30715462033333635, 0.15357731016666817], \"Term\": [\"+\", \"+\", \"-\", \"-\", \"..\", \"1\", \"1\", \"1\", \"15\", \"15\", \"199\", \"199\", \"199\", \"2\", \"2\", \"3\", \"3\", \"40\", \"49\", \"600\", \"7\", \"9\", \"::\", \"HALL\", \"MCC\", \"\\u0e01\\u0e25\\u0e31\\u0e1a\\u0e21\\u0e32\", \"\\u0e01\\u0e25\\u0e31\\u0e1a\\u0e21\\u0e32\", \"\\u0e01\\u0e34\\u0e19\", \"\\u0e01\\u0e34\\u0e19\", \"\\u0e01\\u0e34\\u0e19\", \"\\u0e01\\u0e34\\u0e19\", \"\\u0e01\\u0e38\\u0e49\\u0e07\", \"\\u0e01\\u0e38\\u0e49\\u0e07\", \"\\u0e01\\u0e38\\u0e49\\u0e07\", \"\\u0e02\\u0e22\\u0e31\\u0e19\", \"\\u0e02\\u0e27\\u0e31\\u0e0d\\u0e43\\u0e08\", \"\\u0e02\\u0e2d\\u0e07\\u0e2b\\u0e27\\u0e32\\u0e19\", \"\\u0e02\\u0e2d\\u0e07\\u0e2b\\u0e27\\u0e32\\u0e19\", \"\\u0e02\\u0e2d\\u0e07\\u0e2b\\u0e27\\u0e32\\u0e19\", \"\\u0e02\\u0e2d\\u0e07\\u0e2b\\u0e27\\u0e32\\u0e19\", \"\\u0e02\\u0e49\\u0e2d\\u0e14\\u0e35\", \"\\u0e02\\u0e49\\u0e32\\u0e27\", \"\\u0e04\\u0e19\", \"\\u0e04\\u0e19\", \"\\u0e04\\u0e19\", \"\\u0e04\\u0e19\", \"\\u0e04\\u0e19\\u0e25\\u0e30\", \"\\u0e04\\u0e19\\u0e25\\u0e30\", \"\\u0e04\\u0e34\\u0e27\", \"\\u0e04\\u0e34\\u0e27\", \"\\u0e04\\u0e38\\u0e13\\u0e20\\u0e32\\u0e1e\", \"\\u0e04\\u0e38\\u0e13\\u0e20\\u0e32\\u0e1e\", \"\\u0e04\\u0e38\\u0e13\\u0e20\\u0e32\\u0e1e\", \"\\u0e04\\u0e38\\u0e13\\u0e20\\u0e32\\u0e1e\\u0e14\\u0e35\", \"\\u0e04\\u0e38\\u0e49\\u0e21\", \"\\u0e04\\u0e38\\u0e49\\u0e21\", \"\\u0e04\\u0e38\\u0e49\\u0e21\", \"\\u0e04\\u0e38\\u0e49\\u0e21\", \"\\u0e04\\u0e48\\u0e32\", \"\\u0e07\\u0e32\\u0e19\", \"\\u0e08\\u0e48\\u0e32\\u0e22\", \"\\u0e08\\u0e48\\u0e32\\u0e22\", \"\\u0e08\\u0e48\\u0e32\\u0e22\", \"\\u0e0a\\u0e2d\\u0e1a\", \"\\u0e0a\\u0e2d\\u0e1a\", \"\\u0e0a\\u0e2d\\u0e1a\", \"\\u0e0a\\u0e31\\u0e48\\u0e27\\u0e42\\u0e21\\u0e07\", \"\\u0e0a\\u0e31\\u0e48\\u0e27\\u0e42\\u0e21\\u0e07\", \"\\u0e0a\\u0e32\\u0e15\", \"\\u0e0a\\u0e32\\u0e1a\\u0e39\", \"\\u0e0a\\u0e32\\u0e1a\\u0e39\", \"\\u0e0a\\u0e32\\u0e1a\\u0e39\", \"\\u0e0a\\u0e32\\u0e1a\\u0e39\", \"\\u0e0a\\u0e34\", \"\\u0e0a\\u0e34\", \"\\u0e0a\\u0e34\", \"\\u0e0a\\u0e37\\u0e48\\u0e19\", \"\\u0e0a\\u0e37\\u0e48\\u0e2d\", \"\\u0e0a\\u0e38\\u0e14\", \"\\u0e0a\\u0e39\", \"\\u0e0b\\u0e36\", \"\\u0e0b\\u0e38\\u0e1b\", \"\\u0e0b\\u0e38\\u0e1b\", \"\\u0e0b\\u0e38\\u0e1b\", \"\\u0e0b\\u0e39\\u0e0a\\u0e34\", \"\\u0e0b\\u0e39\\u0e0a\\u0e34\", \"\\u0e0b\\u0e39\\u0e0a\\u0e34\", \"\\u0e0b\\u0e39\\u0e0a\\u0e34\", \"\\u0e0d\\u0e35\\u0e48\\u0e1b\\u0e38\\u0e48\\u0e19\", \"\\u0e0d\\u0e35\\u0e48\\u0e1b\\u0e38\\u0e48\\u0e19\", \"\\u0e14\\u0e33\", \"\\u0e14\\u0e33\", \"\\u0e14\\u0e35\", \"\\u0e14\\u0e35\", \"\\u0e14\\u0e35\", \"\\u0e14\\u0e35\", \"\\u0e14\\u0e35\\u0e21\\u0e32\\u0e01\", \"\\u0e14\\u0e35\\u0e21\\u0e32\\u0e01\", \"\\u0e14\\u0e35\\u0e21\\u0e32\\u0e01\", \"\\u0e14\\u0e35\\u0e21\\u0e32\\u0e01\", \"\\u0e14\\u0e39\", \"\\u0e14\\u0e39\", \"\\u0e14\\u0e39\", \"\\u0e14\\u0e49\\u0e32\\u0e19\\u0e43\\u0e19\", \"\\u0e15\\u0e25\\u0e31\\u0e1a\", \"\\u0e15\\u0e2d\\u0e19\\u0e41\\u0e23\\u0e01\", \"\\u0e15\\u0e31\\u0e27\", \"\\u0e15\\u0e31\\u0e27\", \"\\u0e15\\u0e31\\u0e27\\u0e40\\u0e25\\u0e37\\u0e2d\\u0e01\", \"\\u0e15\\u0e31\\u0e49\\u0e07\\u0e2d\\u0e22\\u0e39\\u0e48\", \"\\u0e15\\u0e31\\u0e49\\u0e07\\u0e2d\\u0e22\\u0e39\\u0e48\", \"\\u0e15\\u0e34\\u0e14\", \"\\u0e15\\u0e34\\u0e14\", \"\\u0e15\\u0e34\\u0e14\\u0e01\\u0e31\\u0e1a\", \"\\u0e15\\u0e48\\u0e32\\u0e07 \\u0e46\", \"\\u0e15\\u0e49\\u0e2d\\u0e07\\u0e01\\u0e32\\u0e23\", \"\\u0e17\\u0e2d\\u0e14\", \"\\u0e17\\u0e2d\\u0e14\", \"\\u0e17\\u0e2d\\u0e14\", \"\\u0e17\\u0e30\\u0e22\\u0e2d\\u0e22\", \"\\u0e17\\u0e31\\u0e48\\u0e27\\u0e16\\u0e36\\u0e07\", \"\\u0e17\\u0e32\\u0e19\", \"\\u0e17\\u0e32\\u0e19\", \"\\u0e17\\u0e32\\u0e19\", \"\\u0e17\\u0e32\\u0e19\", \"\\u0e17\\u0e33\", \"\\u0e17\\u0e33\\u0e07\\u0e32\\u0e19\", \"\\u0e17\\u0e35\\u0e48\\u0e44\\u0e2b\\u0e19\\u0e44\\u0e14\\u0e49\", \"\\u0e19\\u0e30\\u0e04\\u0e30\", \"\\u0e19\\u0e30\\u0e04\\u0e30\", \"\\u0e19\\u0e31\\u0e48\\u0e07\", \"\\u0e19\\u0e32\\u0e17\\u0e35\", \"\\u0e19\\u0e32\\u0e17\\u0e35\", \"\\u0e19\\u0e38\\u0e48\\u0e21\", \"\\u0e19\\u0e38\\u0e48\\u0e21\", \"\\u0e19\\u0e49\\u0e33\", \"\\u0e19\\u0e49\\u0e33\", \"\\u0e19\\u0e49\\u0e33\", \"\\u0e19\\u0e49\\u0e33\", \"\\u0e19\\u0e49\\u0e33\\u0e08\\u0e34\\u0e49\\u0e21\", \"\\u0e19\\u0e49\\u0e33\\u0e08\\u0e34\\u0e49\\u0e21\", \"\\u0e19\\u0e49\\u0e33\\u0e14\\u0e37\\u0e48\\u0e21\", \"\\u0e1a\", \"\\u0e1a\\u0e23\\u0e34\\u0e01\\u0e32\\u0e23\", \"\\u0e1a\\u0e23\\u0e34\\u0e01\\u0e32\\u0e23\", \"\\u0e1a\\u0e23\\u0e34\\u0e01\\u0e32\\u0e23\", \"\\u0e1a\\u0e32\\u0e07\\u0e2a\\u0e48\\u0e27\\u0e19\", \"\\u0e1a\\u0e32\\u0e17\", \"\\u0e1a\\u0e32\\u0e17\", \"\\u0e1a\\u0e32\\u0e17\", \"\\u0e1a\\u0e38\", \"\\u0e1a\\u0e38\\u0e1f\\u0e40\\u0e1f\\u0e15\\u0e4c\", \"\\u0e1a\\u0e38\\u0e1f\\u0e40\\u0e1f\\u0e48\\u0e15\\u0e4c\", \"\\u0e1a\\u0e38\\u0e1f\\u0e40\\u0e1f\\u0e48\\u0e15\\u0e4c\", \"\\u0e1a\\u0e38\\u0e1f\\u0e40\\u0e1f\\u0e48\\u0e15\\u0e4c\", \"\\u0e1b\\u0e23\\u0e01\\u0e15\\u0e34\", \"\\u0e1b\\u0e23\\u0e30\\u0e15\\u0e39\", \"\\u0e1b\\u0e23\\u0e30\\u0e17\\u0e31\\u0e1a\\u0e43\\u0e08\", \"\\u0e1b\\u0e25\\u0e32\\u0e14\\u0e34\\u0e1a\", \"\\u0e1b\\u0e2d\\u0e01\\u0e40\\u0e1b\\u0e25\\u0e37\\u0e2d\\u0e01\", \"\\u0e1b\\u0e38\\u0e23\\u0e30\", \"\\u0e1b\\u0e38\\u0e23\\u0e30\", \"\\u0e1b\\u0e38\\u0e23\\u0e30\", \"\\u0e1c\\u0e31\\u0e01\", \"\\u0e1c\\u0e31\\u0e01\", \"\\u0e1c\\u0e31\\u0e01\", \"\\u0e1d\\u0e23\\u0e31\\u0e48\\u0e07\", \"\\u0e1d\\u0e31\\u0e48\\u0e07\", \"\\u0e1e\\u0e19\\u0e31\\u0e01\\u0e07\\u0e32\\u0e19\", \"\\u0e1e\\u0e19\\u0e31\\u0e01\\u0e07\\u0e32\\u0e19\", \"\\u0e1e\\u0e19\\u0e31\\u0e01\\u0e07\\u0e32\\u0e19\", \"\\u0e1e\\u0e19\\u0e31\\u0e01\\u0e07\\u0e32\\u0e19\\u0e1a\\u0e23\\u0e34\\u0e01\\u0e32\\u0e23\", \"\\u0e1e\\u0e23\\u0e30\\u0e23\\u0e32\\u0e21\", \"\\u0e1e\\u0e23\\u0e35\\u0e40\\u0e21\\u0e35\\u0e22\\u0e21\", \"\\u0e1e\\u0e2d\\u0e19\", \"\\u0e1e\\u0e34\\u0e0b\\u0e0b\\u0e48\\u0e32\", \"\\u0e1e\\u0e34\\u0e0b\\u0e0b\\u0e48\\u0e32\", \"\\u0e1e\\u0e34\\u0e0b\\u0e0b\\u0e48\\u0e32\", \"\\u0e1e\\u0e34\\u0e0b\\u0e0b\\u0e48\\u0e32\", \"\\u0e1f\\u0e35\", \"\\u0e21\", \"\\u0e21\", \"\\u0e21\", \"\\u0e21\\u0e32\\u0e15\\u0e23\\u0e32\", \"\\u0e21\\u0e35\\u0e48\", \"\\u0e22\\u0e39\\u0e40\\u0e19\\u0e35\\u0e48\\u0e22\\u0e19\\u0e21\\u0e2d\\u0e25\\u0e25\\u0e4c\", \"\\u0e23\\u0e2a\", \"\\u0e23\\u0e2a\", \"\\u0e23\\u0e2a\", \"\\u0e23\\u0e2a\\u0e0a\\u0e32\\u0e15\\u0e34\", \"\\u0e23\\u0e2a\\u0e0a\\u0e32\\u0e15\\u0e34\", \"\\u0e23\\u0e2a\\u0e0a\\u0e32\\u0e15\\u0e34\", \"\\u0e23\\u0e2d\", \"\\u0e23\\u0e2d\", \"\\u0e23\\u0e30\\u0e1a\\u0e1a\", \"\\u0e23\\u0e32\\u0e04\\u0e32\", \"\\u0e23\\u0e32\\u0e04\\u0e32\", \"\\u0e23\\u0e32\\u0e04\\u0e32\", \"\\u0e23\\u0e32\\u0e04\\u0e32\", \"\\u0e23\\u0e35\", \"\\u0e23\\u0e35\\u0e27\\u0e34\\u0e27\", \"\\u0e23\\u0e35\\u0e48\", \"\\u0e23\\u0e39\\u0e49\\u0e2a\\u0e36\\u0e01\", \"\\u0e23\\u0e39\\u0e49\\u0e2a\\u0e36\\u0e01\", \"\\u0e23\\u0e39\\u0e49\\u0e2a\\u0e36\\u0e01\", \"\\u0e23\\u0e49\\u0e32\\u0e19\", \"\\u0e23\\u0e49\\u0e32\\u0e19\", \"\\u0e23\\u0e49\\u0e32\\u0e19\", \"\\u0e23\\u0e49\\u0e32\\u0e19\", \"\\u0e25\\u0e2d\\u0e07\", \"\\u0e25\\u0e2d\\u0e07\", \"\\u0e25\\u0e2d\\u0e07\", \"\\u0e27\\u0e32\\u0e19\\u0e34\\u0e25\\u0e32\", \"\\u0e2a\\u0e14\", \"\\u0e2a\\u0e14\", \"\\u0e2a\\u0e14\", \"\\u0e2a\\u0e15\\u0e2d\", \"\\u0e2a\\u0e23\\u0e38\\u0e1b\", \"\\u0e2a\\u0e27\\u0e22\", \"\\u0e2a\\u0e31\\u0e48\\u0e07\", \"\\u0e2a\\u0e31\\u0e48\\u0e07\", \"\\u0e2a\\u0e31\\u0e48\\u0e07\", \"\\u0e2a\\u0e32\\u0e02\\u0e32\", \"\\u0e2a\\u0e32\\u0e02\\u0e32\", \"\\u0e2a\\u0e32\\u0e02\\u0e32\", \"\\u0e2a\\u0e32\\u0e02\\u0e32\", \"\\u0e2a\\u0e32\\u0e22\\u0e1e\\u0e32\\u0e19\", \"\\u0e2a\\u0e32\\u0e22\\u0e1e\\u0e32\\u0e19\", \"\\u0e2a\\u0e32\\u0e22\\u0e1e\\u0e32\\u0e19\", \"\\u0e2a\\u0e33\\u0e2b\\u0e23\\u0e31\\u0e1a\", \"\\u0e2a\\u0e33\\u0e2b\\u0e23\\u0e31\\u0e1a\", \"\\u0e2a\\u0e38\\u0e01\\u0e35\\u0e49\", \"\\u0e2a\\u0e39\\u0e49\", \"\\u0e2a\\u0e44\\u0e25\\u0e14\\u0e4c\", \"\\u0e2a\\u0e44\\u0e25\\u0e14\\u0e4c\", \"\\u0e2a\\u0e44\\u0e25\\u0e14\\u0e4c\", \"\\u0e2b\\u0e19\\u0e49\\u0e32\", \"\\u0e2b\\u0e19\\u0e49\\u0e32\", \"\\u0e2b\\u0e19\\u0e49\\u0e32\", \"\\u0e2b\\u0e21\\u0e39\", \"\\u0e2b\\u0e21\\u0e39\", \"\\u0e2b\\u0e21\\u0e39\", \"\\u0e2b\\u0e21\\u0e49\\u0e2d\", \"\\u0e2b\\u0e21\\u0e49\\u0e2d\", \"\\u0e2b\\u0e22\\u0e34\\u0e1a\", \"\\u0e2b\\u0e22\\u0e34\\u0e1a\", \"\\u0e2b\\u0e22\\u0e34\\u0e1a\", \"\\u0e2b\\u0e25\\u0e31\\u0e07\\u0e08\\u0e32\\u0e01\\u0e17\\u0e35\\u0e48\", \"\\u0e2b\\u0e25\\u0e32\\u0e01\", \"\\u0e2b\\u0e27\\u0e32\\u0e19\", \"\\u0e2b\\u0e27\\u0e32\\u0e19\", \"\\u0e2b\\u0e27\\u0e32\\u0e19\", \"\\u0e2b\\u0e2d\\u0e21\", \"\\u0e2b\\u0e34\\u0e27\", \"\\u0e2b\\u0e49\\u0e32\\u0e07\", \"\\u0e2b\\u0e49\\u0e32\\u0e07\", \"\\u0e2d\\u0e23\\u0e48\\u0e2d\\u0e22\", \"\\u0e2d\\u0e23\\u0e48\\u0e2d\\u0e22\", \"\\u0e2d\\u0e23\\u0e48\\u0e2d\\u0e22\", \"\\u0e2d\\u0e23\\u0e48\\u0e2d\\u0e22\", \"\\u0e2d\\u0e2d\\u0e23\\u0e4c\\u0e40\\u0e14\\u0e2d\\u0e23\\u0e4c\", \"\\u0e2d\\u0e31\\u0e19\\u0e19\\u0e35\\u0e49\", \"\\u0e2d\\u0e32\\u0e2b\\u0e32\\u0e23\", \"\\u0e2d\\u0e32\\u0e2b\\u0e32\\u0e23\", \"\\u0e2d\\u0e32\\u0e2b\\u0e32\\u0e23\", \"\\u0e2d\\u0e32\\u0e2b\\u0e32\\u0e23\", \"\\u0e2d\\u0e35\\u0e01\\u0e04\\u0e23\\u0e31\\u0e49\\u0e07\", \"\\u0e40\\u0e01\\u0e34\\u0e19\\u0e44\\u0e1b\", \"\\u0e40\\u0e01\\u0e35\\u0e4a\\u0e22\\u0e27\", \"\\u0e40\\u0e01\\u0e49\", \"\\u0e40\\u0e04\\u0e23\\u0e37\\u0e48\\u0e2d\\u0e07\\u0e14\\u0e37\\u0e48\\u0e21\", \"\\u0e40\\u0e07\\u0e34\\u0e19\\u0e2a\\u0e14\", \"\\u0e40\\u0e0a\\u0e47\\u0e04\\u0e1a\\u0e34\\u0e25\", \"\\u0e40\\u0e0b\\u0e47\\u0e17\", \"\\u0e40\\u0e14\\u0e49\\u0e07\", \"\\u0e40\\u0e15\\u0e34\\u0e21\", \"\\u0e40\\u0e17\", \"\\u0e40\\u0e17\", \"\\u0e40\\u0e17\", \"\\u0e40\\u0e19\\u0e37\\u0e49\\u0e2d\", \"\\u0e40\\u0e19\\u0e37\\u0e49\\u0e2d\", \"\\u0e40\\u0e19\\u0e37\\u0e49\\u0e2d\", \"\\u0e40\\u0e19\\u0e37\\u0e49\\u0e2d\", \"\\u0e40\\u0e19\\u0e37\\u0e49\\u0e2d\\u0e27\\u0e31\\u0e27\", \"\\u0e40\\u0e19\\u0e37\\u0e49\\u0e2d\\u0e27\\u0e31\\u0e27\", \"\\u0e40\\u0e19\\u0e37\\u0e49\\u0e2d\\u0e2b\\u0e21\\u0e39\", \"\\u0e40\\u0e1a\\u0e04\\u0e2d\\u0e19\", \"\\u0e40\\u0e1b\\u0e23\\u0e35\\u0e49\\u0e22\\u0e27\\u0e2b\\u0e27\\u0e32\\u0e19\", \"\\u0e40\\u0e1b\\u0e47\\u0e14\", \"\\u0e40\\u0e1b\\u0e47\\u0e19\\u0e01\\u0e31\\u0e19\\u0e40\\u0e2d\\u0e07\", \"\\u0e40\\u0e1b\\u0e47\\u0e19\\u0e2b\\u0e25\\u0e31\\u0e01\", \"\\u0e40\\u0e21\\u0e19\\u0e39\", \"\\u0e40\\u0e21\\u0e19\\u0e39\", \"\\u0e40\\u0e21\\u0e19\\u0e39\", \"\\u0e40\\u0e21\\u0e19\\u0e39\", \"\\u0e40\\u0e25\\u0e37\\u0e2d\\u0e01\", \"\\u0e40\\u0e25\\u0e37\\u0e2d\\u0e01\", \"\\u0e40\\u0e25\\u0e37\\u0e2d\\u0e01\", \"\\u0e40\\u0e27\\u0e25\\u0e32\", \"\\u0e40\\u0e27\\u0e25\\u0e32\", \"\\u0e40\\u0e2b\\u0e21\\u0e37\\u0e2d\\u0e19\", \"\\u0e40\\u0e2b\\u0e47\\u0e14\", \"\\u0e41\\u0e01\\u0e07\\u0e40\\u0e02\\u0e35\\u0e22\\u0e27\\u0e2b\\u0e27\\u0e32\\u0e19\", \"\\u0e41\\u0e19\\u0e27\", \"\\u0e41\\u0e19\\u0e30\\u0e19\\u0e33\", \"\\u0e41\\u0e19\\u0e30\\u0e19\\u0e33\", \"\\u0e41\\u0e1a\\u0e48\\u0e07\", \"\\u0e41\\u0e1b\\u0e25\\u0e01\", \"\\u0e41\\u0e1b\\u0e49\\u0e07\", \"\\u0e41\\u0e27\\u0e30\", \"\\u0e41\\u0e2d\\u0e2d\\u0e31\\u0e14\", \"\\u0e42\\u0e14\\u0e19\", \"\\u0e42\\u0e14\\u0e22\\u0e40\\u0e09\\u0e1e\\u0e32\\u0e30\", \"\\u0e42\\u0e1b\\u0e23\", \"\\u0e42\\u0e21\", \"\\u0e42\\u0e2d\\u0e40\\u0e04\", \"\\u0e42\\u0e2d\\u0e40\\u0e04\", \"\\u0e43\\u0e08\\u0e14\\u0e35\", \"\\u0e43\\u0e08\\u0e21\\u0e32\", \"\\u0e43\\u0e0a\\u0e49\\u0e41\\u0e25\\u0e49\\u0e27\", \"\\u0e43\\u0e0a\\u0e49\\u0e44\\u0e14\\u0e49\", \"\\u0e44\\u0e14\\u0e1f\\u0e39\\u0e01\\u0e38\", \"\\u0e44\\u0e1c\\u0e48\", \"\\u0e44\\u0e21\\u0e49\", \"\\u0e44\\u0e25\\u0e19\\u0e4c\", \"\\u0e44\\u0e2d\\u0e15\\u0e34\\u0e21\", \"\\u0e44\\u0e2d\\u0e15\\u0e34\\u0e21\", \"\\u0e44\\u0e2d\\u0e15\\u0e34\\u0e21\"]}, \"R\": 30, \"lambda.step\": 0.01, \"plot.opts\": {\"xlab\": \"PC1\", \"ylab\": \"PC2\"}, \"topic.order\": [2, 4, 1, 3]};\n",
              "\n",
              "function LDAvis_load_lib(url, callback){\n",
              "  var s = document.createElement('script');\n",
              "  s.src = url;\n",
              "  s.async = true;\n",
              "  s.onreadystatechange = s.onload = callback;\n",
              "  s.onerror = function(){console.warn(\"failed to load library \" + url);};\n",
              "  document.getElementsByTagName(\"head\")[0].appendChild(s);\n",
              "}\n",
              "\n",
              "if(typeof(LDAvis) !== \"undefined\"){\n",
              "   // already loaded: just create the visualization\n",
              "   !function(LDAvis){\n",
              "       new LDAvis(\"#\" + \"ldavis_el2401401355575644968456770544\", ldavis_el2401401355575644968456770544_data);\n",
              "   }(LDAvis);\n",
              "}else if(typeof define === \"function\" && define.amd){\n",
              "   // require.js is available: use it to load d3/LDAvis\n",
              "   require.config({paths: {d3: \"https://d3js.org/d3.v5\"}});\n",
              "   require([\"d3\"], function(d3){\n",
              "      window.d3 = d3;\n",
              "      LDAvis_load_lib(\"https://cdn.jsdelivr.net/gh/bmabey/pyLDAvis@3.3.1/pyLDAvis/js/ldavis.v3.0.0.js\", function(){\n",
              "        new LDAvis(\"#\" + \"ldavis_el2401401355575644968456770544\", ldavis_el2401401355575644968456770544_data);\n",
              "      });\n",
              "    });\n",
              "}else{\n",
              "    // require.js not available: dynamically load d3 & LDAvis\n",
              "    LDAvis_load_lib(\"https://d3js.org/d3.v5.js\", function(){\n",
              "         LDAvis_load_lib(\"https://cdn.jsdelivr.net/gh/bmabey/pyLDAvis@3.3.1/pyLDAvis/js/ldavis.v3.0.0.js\", function(){\n",
              "                 new LDAvis(\"#\" + \"ldavis_el2401401355575644968456770544\", ldavis_el2401401355575644968456770544_data);\n",
              "            })\n",
              "         });\n",
              "}\n",
              "</script>"
            ],
            "text/plain": [
              "PreparedData(topic_coordinates=              x         y  topics  cluster       Freq\n",
              "topic                                                \n",
              "1     -0.107463  0.042570       1        1  36.307599\n",
              "3      0.034700 -0.089214       2        1  27.879080\n",
              "0      0.098501  0.071403       3        1  20.682405\n",
              "2     -0.025738 -0.024759       4        1  15.130917, topic_info=      Term       Freq      Total Category  logprob  loglift\n",
              "331      -  10.000000  10.000000  Default  30.0000  30.0000\n",
              "11     ซุป  12.000000  12.000000  Default  29.0000  29.0000\n",
              "268   กุ้ง   9.000000   9.000000  Default  28.0000  28.0000\n",
              "21     บาท  10.000000  10.000000  Default  27.0000  27.0000\n",
              "131     สด   7.000000   7.000000  Default  26.0000  26.0000\n",
              "..     ...        ...        ...      ...      ...      ...\n",
              "74    สาขา   1.309878   9.720669   Topic4  -5.0773  -0.1159\n",
              "13      ดี   1.309879  13.177425   Topic4  -5.0773  -0.4201\n",
              "38   เนื้อ   1.309879  14.439133   Topic4  -5.0773  -0.5116\n",
              "148  เลือก   1.309879  14.680707   Topic4  -5.0773  -0.5282\n",
              "32   อร่อย   1.309880  16.634366   Topic4  -5.0773  -0.6531\n",
              "\n",
              "[268 rows x 6 columns], token_table=      Topic      Freq   Term\n",
              "term                        \n",
              "208       1  0.361920      +\n",
              "208       3  0.361920      +\n",
              "331       3  0.684639      -\n",
              "331       4  0.195611      -\n",
              "266       4  0.791153     ..\n",
              "...     ...       ...    ...\n",
              "165       1  0.900419    ไม้\n",
              "330       2  0.942943   ไลน์\n",
              "48        1  0.460732  ไอติม\n",
              "48        2  0.307155  ไอติม\n",
              "48        3  0.153577  ไอติม\n",
              "\n",
              "[328 rows x 3 columns], R=30, lambda_step=0.01, plot_opts={'xlab': 'PC1', 'ylab': 'PC2'}, topic_order=[2, 4, 1, 3])"
            ]
          },
          "metadata": {
            "tags": []
          },
          "execution_count": 46
        }
      ]
    },
    {
      "cell_type": "code",
      "metadata": {
        "colab": {
          "base_uri": "https://localhost:8080/",
          "height": 297
        },
        "id": "3T4Qyy73Y5ey",
        "outputId": "1c84b2f7-bb08-4dff-a414-4e049c2c0679"
      },
      "source": [
        "score = []\n",
        "for k in range(1,11):\n",
        "    model = gensim.models.LdaModel(corpus=gensim_corpus, id2word=id2word, chunksize=chunksize, \n",
        "                        alpha='auto', eta='auto', \n",
        "                        iterations=iterations, num_topics=k, \n",
        "                        passes=passes, eval_every=eval_every)\n",
        "    coherence_model_lda = gensim.models.CoherenceModel(model=model, texts=texts, dictionary=dictionary, coherence='c_v')\n",
        "    score.append((k,coherence_model_lda.get_coherence(),model.log_perplexity(gensim_corpus)))\n",
        "\n",
        "x, y, z = zip(*score)\n",
        "plt.figure(figsize=(10,4), tight_layout=True)\n",
        "plt.subplot(121)\n",
        "plt.plot(x, y, label='Coherence')\n",
        "plt.grid(True)\n",
        "plt.subplot(122)\n",
        "plt.plot(x, z, label='perplexity')\n",
        "plt.grid(True)\n",
        "plt.show()"
      ],
      "execution_count": 47,
      "outputs": [
        {
          "output_type": "display_data",
          "data": {
            "image/png": "[encoded data removed]",
            "text/plain": [
              "<Figure size 720x288 with 2 Axes>"
            ]
          },
          "metadata": {
            "tags": [],
            "needs_background": "light"
          }
        }
      ]
    }
  ]
}