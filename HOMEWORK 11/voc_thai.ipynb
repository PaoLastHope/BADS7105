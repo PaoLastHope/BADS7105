{
  "nbformat": 4,
  "nbformat_minor": 0,
  "metadata": {
    "colab": {
      "name": "voc_thai.ipynb",
      "provenance": []
    },
    "kernelspec": {
      "name": "python3",
      "display_name": "Python 3"
    },
    "language_info": {
      "name": "python"
    }
  },
  "cells": [
    {
      "cell_type": "markdown",
      "metadata": {
        "id": "QfwcwXth29ou"
      },
      "source": [
        "Install"
      ]
    },
    {
      "cell_type": "code",
      "metadata": {
        "colab": {
          "base_uri": "https://localhost:8080/"
        },
        "id": "K65Vf9aF2WpU",
        "outputId": "8b07298c-8f57-477c-fe39-29c64e1a0596"
      },
      "source": [
        "!pip install --upgrade pandas\n",
        "!pip install --upgrade gensim\n",
        "!pip install --upgrade pythainlp\n",
        "!pip install --upgrade pyLDAvis\n",
        "!pip install text2emotion\n",
        "!pip install fairseq\n",
        "!pip install sacremoses sentencepiece\n",
        "!pip install https://github.com/PyThaiNLP/pythainlp/archive/dev.zip"
      ],
      "execution_count": 108,
      "outputs": [
        {
          "output_type": "stream",
          "text": [
            "Requirement already up-to-date: pandas in /usr/local/lib/python3.7/dist-packages (1.2.4)\n",
            "Requirement already satisfied, skipping upgrade: pytz>=2017.3 in /usr/local/lib/python3.7/dist-packages (from pandas) (2018.9)\n",
            "Requirement already satisfied, skipping upgrade: python-dateutil>=2.7.3 in /usr/local/lib/python3.7/dist-packages (from pandas) (2.8.1)\n",
            "Requirement already satisfied, skipping upgrade: numpy>=1.16.5 in /usr/local/lib/python3.7/dist-packages (from pandas) (1.20.3)\n",
            "Requirement already satisfied, skipping upgrade: six>=1.5 in /usr/local/lib/python3.7/dist-packages (from python-dateutil>=2.7.3->pandas) (1.15.0)\n",
            "Requirement already up-to-date: gensim in /usr/local/lib/python3.7/dist-packages (4.0.1)\n",
            "Requirement already satisfied, skipping upgrade: smart-open>=1.8.1 in /usr/local/lib/python3.7/dist-packages (from gensim) (5.0.0)\n",
            "Requirement already satisfied, skipping upgrade: numpy>=1.11.3 in /usr/local/lib/python3.7/dist-packages (from gensim) (1.20.3)\n",
            "Requirement already satisfied, skipping upgrade: scipy>=0.18.1 in /usr/local/lib/python3.7/dist-packages (from gensim) (1.4.1)\n",
            "Requirement already up-to-date: pythainlp in /usr/local/lib/python3.7/dist-packages (2.3.1)\n",
            "Requirement already satisfied, skipping upgrade: tinydb>=3.0 in /usr/local/lib/python3.7/dist-packages (from pythainlp) (4.4.0)\n",
            "Requirement already satisfied, skipping upgrade: requests>=2.22.0 in /usr/local/lib/python3.7/dist-packages (from pythainlp) (2.23.0)\n",
            "Requirement already satisfied, skipping upgrade: python-crfsuite>=0.9.6 in /usr/local/lib/python3.7/dist-packages (from pythainlp) (0.9.7)\n",
            "Requirement already satisfied, skipping upgrade: idna<3,>=2.5 in /usr/local/lib/python3.7/dist-packages (from requests>=2.22.0->pythainlp) (2.10)\n",
            "Requirement already satisfied, skipping upgrade: certifi>=2017.4.17 in /usr/local/lib/python3.7/dist-packages (from requests>=2.22.0->pythainlp) (2020.12.5)\n",
            "Requirement already satisfied, skipping upgrade: chardet<4,>=3.0.2 in /usr/local/lib/python3.7/dist-packages (from requests>=2.22.0->pythainlp) (3.0.4)\n",
            "Requirement already satisfied, skipping upgrade: urllib3!=1.25.0,!=1.25.1,<1.26,>=1.21.1 in /usr/local/lib/python3.7/dist-packages (from requests>=2.22.0->pythainlp) (1.24.3)\n",
            "Requirement already up-to-date: pyLDAvis in /usr/local/lib/python3.7/dist-packages (3.3.1)\n",
            "Requirement already satisfied, skipping upgrade: future in /usr/local/lib/python3.7/dist-packages (from pyLDAvis) (0.16.0)\n",
            "Requirement already satisfied, skipping upgrade: scipy in /usr/local/lib/python3.7/dist-packages (from pyLDAvis) (1.4.1)\n",
            "Requirement already satisfied, skipping upgrade: setuptools in /usr/local/lib/python3.7/dist-packages (from pyLDAvis) (57.0.0)\n",
            "Requirement already satisfied, skipping upgrade: joblib in /usr/local/lib/python3.7/dist-packages (from pyLDAvis) (1.0.1)\n",
            "Requirement already satisfied, skipping upgrade: scikit-learn in /usr/local/lib/python3.7/dist-packages (from pyLDAvis) (0.22.2.post1)\n",
            "Requirement already satisfied, skipping upgrade: gensim in /usr/local/lib/python3.7/dist-packages (from pyLDAvis) (4.0.1)\n",
            "Requirement already satisfied, skipping upgrade: pandas>=1.2.0 in /usr/local/lib/python3.7/dist-packages (from pyLDAvis) (1.2.4)\n",
            "Requirement already satisfied, skipping upgrade: numpy>=1.20.0 in /usr/local/lib/python3.7/dist-packages (from pyLDAvis) (1.20.3)\n",
            "Requirement already satisfied, skipping upgrade: jinja2 in /usr/local/lib/python3.7/dist-packages (from pyLDAvis) (2.11.3)\n",
            "Requirement already satisfied, skipping upgrade: sklearn in /usr/local/lib/python3.7/dist-packages (from pyLDAvis) (0.0)\n",
            "Requirement already satisfied, skipping upgrade: funcy in /usr/local/lib/python3.7/dist-packages (from pyLDAvis) (1.16)\n",
            "Requirement already satisfied, skipping upgrade: numexpr in /usr/local/lib/python3.7/dist-packages (from pyLDAvis) (2.7.3)\n",
            "Requirement already satisfied, skipping upgrade: smart-open>=1.8.1 in /usr/local/lib/python3.7/dist-packages (from gensim->pyLDAvis) (5.0.0)\n",
            "Requirement already satisfied, skipping upgrade: python-dateutil>=2.7.3 in /usr/local/lib/python3.7/dist-packages (from pandas>=1.2.0->pyLDAvis) (2.8.1)\n",
            "Requirement already satisfied, skipping upgrade: pytz>=2017.3 in /usr/local/lib/python3.7/dist-packages (from pandas>=1.2.0->pyLDAvis) (2018.9)\n",
            "Requirement already satisfied, skipping upgrade: MarkupSafe>=0.23 in /usr/local/lib/python3.7/dist-packages (from jinja2->pyLDAvis) (2.0.1)\n",
            "Requirement already satisfied, skipping upgrade: six>=1.5 in /usr/local/lib/python3.7/dist-packages (from python-dateutil>=2.7.3->pandas>=1.2.0->pyLDAvis) (1.15.0)\n",
            "Requirement already satisfied: text2emotion in /usr/local/lib/python3.7/dist-packages (0.0.5)\n",
            "Requirement already satisfied: emoji>=0.6.0 in /usr/local/lib/python3.7/dist-packages (from text2emotion) (1.2.0)\n",
            "Requirement already satisfied: nltk in /usr/local/lib/python3.7/dist-packages (from text2emotion) (3.2.5)\n",
            "Requirement already satisfied: six in /usr/local/lib/python3.7/dist-packages (from nltk->text2emotion) (1.15.0)\n",
            "Requirement already satisfied: fairseq in /usr/local/lib/python3.7/dist-packages (0.10.2)\n",
            "Requirement already satisfied: cffi in /usr/local/lib/python3.7/dist-packages (from fairseq) (1.14.5)\n",
            "Requirement already satisfied: cython in /usr/local/lib/python3.7/dist-packages (from fairseq) (0.29.23)\n",
            "Requirement already satisfied: regex in /usr/local/lib/python3.7/dist-packages (from fairseq) (2019.12.20)\n",
            "Requirement already satisfied: numpy in /usr/local/lib/python3.7/dist-packages (from fairseq) (1.20.3)\n",
            "Requirement already satisfied: sacrebleu>=1.4.12 in /usr/local/lib/python3.7/dist-packages (from fairseq) (1.5.1)\n",
            "Requirement already satisfied: torch in /usr/local/lib/python3.7/dist-packages (from fairseq) (1.8.1+cu101)\n",
            "Requirement already satisfied: dataclasses in /usr/local/lib/python3.7/dist-packages (from fairseq) (0.6)\n",
            "Requirement already satisfied: hydra-core in /usr/local/lib/python3.7/dist-packages (from fairseq) (1.1.0)\n",
            "Requirement already satisfied: tqdm in /usr/local/lib/python3.7/dist-packages (from fairseq) (4.41.1)\n",
            "Requirement already satisfied: pycparser in /usr/local/lib/python3.7/dist-packages (from cffi->fairseq) (2.20)\n",
            "Requirement already satisfied: portalocker==2.0.0 in /usr/local/lib/python3.7/dist-packages (from sacrebleu>=1.4.12->fairseq) (2.0.0)\n",
            "Requirement already satisfied: typing-extensions in /usr/local/lib/python3.7/dist-packages (from torch->fairseq) (3.7.4.3)\n",
            "Requirement already satisfied: importlib-resources; python_version < \"3.9\" in /usr/local/lib/python3.7/dist-packages (from hydra-core->fairseq) (5.1.3)\n",
            "Requirement already satisfied: antlr4-python3-runtime==4.8 in /usr/local/lib/python3.7/dist-packages (from hydra-core->fairseq) (4.8)\n",
            "Requirement already satisfied: omegaconf==2.1.* in /usr/local/lib/python3.7/dist-packages (from hydra-core->fairseq) (2.1.0)\n",
            "Requirement already satisfied: zipp>=0.4; python_version < \"3.8\" in /usr/local/lib/python3.7/dist-packages (from importlib-resources; python_version < \"3.9\"->hydra-core->fairseq) (3.4.1)\n",
            "Requirement already satisfied: PyYAML>=5.1.* in /usr/local/lib/python3.7/dist-packages (from omegaconf==2.1.*->hydra-core->fairseq) (5.4.1)\n",
            "Requirement already satisfied: sacremoses in /usr/local/lib/python3.7/dist-packages (0.0.45)\n",
            "Requirement already satisfied: sentencepiece in /usr/local/lib/python3.7/dist-packages (0.1.95)\n",
            "Requirement already satisfied: six in /usr/local/lib/python3.7/dist-packages (from sacremoses) (1.15.0)\n",
            "Requirement already satisfied: regex in /usr/local/lib/python3.7/dist-packages (from sacremoses) (2019.12.20)\n",
            "Requirement already satisfied: tqdm in /usr/local/lib/python3.7/dist-packages (from sacremoses) (4.41.1)\n",
            "Requirement already satisfied: joblib in /usr/local/lib/python3.7/dist-packages (from sacremoses) (1.0.1)\n",
            "Requirement already satisfied: click in /usr/local/lib/python3.7/dist-packages (from sacremoses) (7.1.2)\n",
            "Collecting https://github.com/PyThaiNLP/pythainlp/archive/dev.zip\n",
            "  Using cached https://github.com/PyThaiNLP/pythainlp/archive/dev.zip\n",
            "Requirement already satisfied (use --upgrade to upgrade): pythainlp==2.3.1 from https://github.com/PyThaiNLP/pythainlp/archive/dev.zip in /usr/local/lib/python3.7/dist-packages\n",
            "Requirement already satisfied: python-crfsuite>=0.9.6 in /usr/local/lib/python3.7/dist-packages (from pythainlp==2.3.1) (0.9.7)\n",
            "Requirement already satisfied: requests>=2.22.0 in /usr/local/lib/python3.7/dist-packages (from pythainlp==2.3.1) (2.23.0)\n",
            "Requirement already satisfied: tinydb>=3.0 in /usr/local/lib/python3.7/dist-packages (from pythainlp==2.3.1) (4.4.0)\n",
            "Requirement already satisfied: urllib3!=1.25.0,!=1.25.1,<1.26,>=1.21.1 in /usr/local/lib/python3.7/dist-packages (from requests>=2.22.0->pythainlp==2.3.1) (1.24.3)\n",
            "Requirement already satisfied: idna<3,>=2.5 in /usr/local/lib/python3.7/dist-packages (from requests>=2.22.0->pythainlp==2.3.1) (2.10)\n",
            "Requirement already satisfied: certifi>=2017.4.17 in /usr/local/lib/python3.7/dist-packages (from requests>=2.22.0->pythainlp==2.3.1) (2020.12.5)\n",
            "Requirement already satisfied: chardet<4,>=3.0.2 in /usr/local/lib/python3.7/dist-packages (from requests>=2.22.0->pythainlp==2.3.1) (3.0.4)\n",
            "Building wheels for collected packages: pythainlp\n",
            "  Building wheel for pythainlp (setup.py) ... \u001b[?25l\u001b[?25hdone\n",
            "  Created wheel for pythainlp: filename=pythainlp-2.3.1-cp37-none-any.whl size=11617888 sha256=beadc763cadecef0db2172e7a9b8db305f417bb32176e9fb4f3124cde28070df\n",
            "  Stored in directory: /tmp/pip-ephem-wheel-cache-21od1e6e/wheels/79/4e/1e/26f3198c6712ecfbee92928ed1dde923a078da3d222401cc78\n",
            "Successfully built pythainlp\n"
          ],
          "name": "stdout"
        }
      ]
    },
    {
      "cell_type": "code",
      "metadata": {
        "id": "3kYPQZlm2oTK"
      },
      "source": [
        "import warnings\n",
        "warnings.filterwarnings(\"ignore\", category=DeprecationWarning) \n",
        "warnings.filterwarnings(\"ignore\", category=FutureWarning) \n",
        "\n",
        "import pandas as pd\n",
        "import numpy as np\n",
        "import re\n",
        "import string\n",
        "from pprint import pprint\n",
        "import matplotlib.pyplot as plt\n",
        "import seaborn as sns\n",
        "import networkx as nx\n",
        "\n",
        "import pythainlp \n",
        "from pythainlp.translate import EnThTranslator, ThEnTranslator\n",
        "from pythainlp.translate import download_model_all\n",
        "from pythainlp.corpus.common import *\n",
        "from pythainlp.util import normalize\n",
        "from pythainlp import Tokenizer\n",
        "download_model_all()\n",
        "\n",
        "import text2emotion as te\n",
        "\n",
        "import pyLDAvis\n",
        "import pyLDAvis.gensim_models\n",
        "pyLDAvis.enable_notebook()\n",
        "\n",
        "import gensim\n",
        "from gensim import corpora, models, similarities, downloader"
      ],
      "execution_count": 118,
      "outputs": []
    },
    {
      "cell_type": "markdown",
      "metadata": {
        "id": "DlVwtzka25Cv"
      },
      "source": [
        "Import source data"
      ]
    },
    {
      "cell_type": "code",
      "metadata": {
        "colab": {
          "base_uri": "https://localhost:8080/",
          "height": 307
        },
        "id": "6ClrrQ5H24jH",
        "outputId": "6589c51c-5876-4efb-eb3a-cc10a8abca97"
      },
      "source": [
        "url = 'https://raw.githubusercontent.com/PaoLastHope/BADS7105/012d3c593aefc5821bd07d549674f5cae46c2fcc/HOMEWORK%2011/CustomerReviews.csv'\n",
        "df = pd.read_csv(url)\n",
        "df.head(5)"
      ],
      "execution_count": 110,
      "outputs": [
        {
          "output_type": "execute_result",
          "data": {
            "text/html": [
              "<div>\n",
              "<style scoped>\n",
              "    .dataframe tbody tr th:only-of-type {\n",
              "        vertical-align: middle;\n",
              "    }\n",
              "\n",
              "    .dataframe tbody tr th {\n",
              "        vertical-align: top;\n",
              "    }\n",
              "\n",
              "    .dataframe thead th {\n",
              "        text-align: right;\n",
              "    }\n",
              "</style>\n",
              "<table border=\"1\" class=\"dataframe\">\n",
              "  <thead>\n",
              "    <tr style=\"text-align: right;\">\n",
              "      <th></th>\n",
              "      <th>Review ID</th>\n",
              "      <th>Restaurant_ID</th>\n",
              "      <th>Restaurant</th>\n",
              "      <th>User</th>\n",
              "      <th>Headline</th>\n",
              "      <th>Review</th>\n",
              "      <th>Rating</th>\n",
              "    </tr>\n",
              "  </thead>\n",
              "  <tbody>\n",
              "    <tr>\n",
              "      <th>0</th>\n",
              "      <td>1</td>\n",
              "      <td>352696Px-mo-mo-paradise-เดอะมอลล์-บางกะปิ</td>\n",
              "      <td>Mo-Mo-Paradise (โม โม พาราไดซ์) เดอะมอลล์ บางกะปิ</td>\n",
              "      <td>7b16469831074f7abc7824745ee75212</td>\n",
              "      <td>ที่สำคัญของร้านนี้คือบริการดีมากพนักงานน่ารักส...</td>\n",
              "      <td>ที่สำคัญของร้านนี้คือบริการดีมากพนักงานน่ารักส...</td>\n",
              "      <td>5.0</td>\n",
              "    </tr>\n",
              "    <tr>\n",
              "      <th>1</th>\n",
              "      <td>2</td>\n",
              "      <td>352696Px-mo-mo-paradise-เดอะมอลล์-บางกะปิ</td>\n",
              "      <td>Mo-Mo-Paradise (โม โม พาราไดซ์) เดอะมอลล์ บางกะปิ</td>\n",
              "      <td>pakkaramonpondej</td>\n",
              "      <td>รสชาติเหมือนทุกสาขา แต่สาขานี้ บริการดี ที่นั่งดี</td>\n",
              "      <td>นึกถึงชาบูญี่ปุ่นยังไงก็ต้อง คิดถึงโมโม่ พาราไ...</td>\n",
              "      <td>5.0</td>\n",
              "    </tr>\n",
              "    <tr>\n",
              "      <th>2</th>\n",
              "      <td>3</td>\n",
              "      <td>352696Px-mo-mo-paradise-เดอะมอลล์-บางกะปิ</td>\n",
              "      <td>Mo-Mo-Paradise (โม โม พาราไดซ์) เดอะมอลล์ บางกะปิ</td>\n",
              "      <td>saanowy</td>\n",
              "      <td>ชาบูพรีเมี่ยมสไตล์ญี่ปุ่น เนื้อดีมากกก</td>\n",
              "      <td>มาทานช่วงนี้ สามารถนั่งโต๊ะเดียวกัน หม้อเดียวก...</td>\n",
              "      <td>4.0</td>\n",
              "    </tr>\n",
              "    <tr>\n",
              "      <th>3</th>\n",
              "      <td>4</td>\n",
              "      <td>352696Px-mo-mo-paradise-เดอะมอลล์-บางกะปิ</td>\n",
              "      <td>Mo-Mo-Paradise (โม โม พาราไดซ์) เดอะมอลล์ บางกะปิ</td>\n",
              "      <td>ployynp</td>\n",
              "      <td>เนื้อดี ไอติมดี คุ้มค่าดี</td>\n",
              "      <td>ถ้านึกถึงชาบูที่มีเนื้อเน้นๆ ในราคาไม่โหดจนเกิ...</td>\n",
              "      <td>4.0</td>\n",
              "    </tr>\n",
              "    <tr>\n",
              "      <th>4</th>\n",
              "      <td>5</td>\n",
              "      <td>352696Px-mo-mo-paradise-เดอะมอลล์-บางกะปิ</td>\n",
              "      <td>Mo-Mo-Paradise (โม โม พาราไดซ์) เดอะมอลล์ บางกะปิ</td>\n",
              "      <td>665a902b335b434ab489f00f2fbb477e</td>\n",
              "      <td>อาหารมีคุณภาพ บริการดีค่ะ</td>\n",
              "      <td>เดินมาหน้าร้านแล้วได้กลิ่นชาบูหอมมาก ๆ  ประกอบ...</td>\n",
              "      <td>5.0</td>\n",
              "    </tr>\n",
              "  </tbody>\n",
              "</table>\n",
              "</div>"
            ],
            "text/plain": [
              "   Review ID  ... Rating\n",
              "0          1  ...    5.0\n",
              "1          2  ...    5.0\n",
              "2          3  ...    4.0\n",
              "3          4  ...    4.0\n",
              "4          5  ...    5.0\n",
              "\n",
              "[5 rows x 7 columns]"
            ]
          },
          "metadata": {
            "tags": []
          },
          "execution_count": 110
        }
      ]
    },
    {
      "cell_type": "markdown",
      "metadata": {
        "id": "o8C1xNzk4k68"
      },
      "source": [
        "# Tokenize Words"
      ]
    },
    {
      "cell_type": "code",
      "metadata": {
        "id": "7hSWjk5t4nOL"
      },
      "source": [
        "# Build thai words for tokenizer\n",
        "th_words = []\n",
        "th_words.extend(list(thai_words())) \n",
        "th_words.extend(list(thai_stopwords()))\n",
        "th_words.extend(list(thai_negations()))\n",
        "th_words.extend(list(countries()))\n",
        "th_words.extend(list(provinces()))\n",
        "# specific words\n",
        "th_words.extend(['เทมปุระ', 'บุฟเฟ่', 'เด็ดๆ','เดอะแกงค์', 'เพลินๆ', 'เบาๆ','หวานๆ', 'เนื้อออส']) \n",
        "# additional words\n",
        "th_words.extend(['ชั้น G', 'ยูเนี่ยนมอลล์', 'โมโม่', 'เดอะมอลล์', 'บางกะปิ', 'ชาบูชิ', 'นารายพิซเซอเรีย']) \n",
        "th_words = set(th_words)\n",
        "\n",
        "# remove from result list\n",
        "stopwords = list(pythainlp.corpus.thai_stopwords())\n",
        "removed_words = [' ', '  ', '\\n', 'ร้าน', '(', ')', ':', '–', '\"', ',']\n",
        "screening_words = stopwords + removed_words\n",
        "\n",
        "def tokenize_with_space(text):\n",
        "  text = normalize(str(text))\n",
        "  custom_tokenizer = Tokenizer(th_words)\n",
        "  words = custom_tokenizer.word_tokenize(text=text)\n",
        "  words = [x for x in words if (x not in removed_words)]\n",
        "  print(words)\n",
        "  merged = ''\n",
        "  for word in words:\n",
        "    word = normalize(word)\n",
        "    if word not in screening_words:\n",
        "      merged = merged + ',' + word\n",
        "  return merged[1:]"
      ],
      "execution_count": 111,
      "outputs": []
    },
    {
      "cell_type": "code",
      "metadata": {
        "colab": {
          "base_uri": "https://localhost:8080/"
        },
        "id": "FYpKqxbSFEpC",
        "outputId": "5031e798-c3c4-4596-85a3-ec59d39c7a57"
      },
      "source": [
        "print(list(pythainlp.corpus.thai_stopwords()))"
      ],
      "execution_count": 112,
      "outputs": [
        {
          "output_type": "stream",
          "text": [
            "['เฉยๆ', 'สุด', 'ด้วยเหมือนกัน', 'ครานั้น', 'หาก', 'เรียก', 'เกี่ยวกัน', 'ให้', 'คง', 'ผล', 'ก็ได้', 'ประสบ', 'ปรับ', 'ข้าพเจ้า', 'ฉะนั้น', 'เข้า', 'จะได้', 'เช่นที่เคย', 'อื่นๆ', 'คงจะ', 'แค่เพียง', 'กันเถอะ', 'คงอยู่', 'เผื่อว่า', 'อันจะ', 'เยอะแยะ', 'มิ', 'ใกล้', 'เป็นการ', 'เป็นที่', 'ซึ่งกันและกัน', 'พวกเธอ', 'เมื่อคราวก่อน', 'แห่งไหน', 'ทําให้', 'บัดดล', 'จนกว่า', 'เล่าว่า', 'เพื่อที่', 'บ่อยกว่า', 'พร้อมกับ', 'เสียจนกระทั่ง', 'ที่ละ', 'การ', 'แค่นี้', 'ทั้งตัว', 'ทีเถอะ', 'อันที่จริง', 'เสีย', 'ถูกๆ', 'บ่อยๆ', 'นอกจากนั้น', 'ผิดๆ', 'ฉะนี้', 'ทุกหน', 'กันดีกว่า', 'เมื่อเย็น', 'เชื่อ', 'ตน', 'จัด', 'เหตุนั้น', 'เช่นกัน', 'นับแต่', 'เสมือนกับ', 'ถึงเมื่อไร', 'อย่างไรก็', 'ที่แห่งนั้น', 'เมื่อใด', 'รวดเร็ว', 'ลง', 'หลาย', 'มุ่งหมาย', 'เหตุไร', 'ซะจนกระทั่ง', 'ก็ดี', 'ทุกที', 'พวกนั้น', 'ที่ไหน', 'ตนเอง', 'มากมาย', 'ถูกต้อง', 'เท่า', 'เท่าไหร่', 'เปิดเผย', 'กันและกัน', 'ทุกวันนี้', 'มี', 'หากแม้นว่า', 'พอ', 'นี้', 'ทํา', 'สิ้น', 'อย่างน้อย', 'น่ะ', 'กำลัง', 'นอกนั้น', 'ภายภาค', 'ฯ', 'ซะ', 'ยืนยง', 'ของ', 'ผู้', 'พอๆ', 'ขอ', 'แต่ก่อน', 'ที', 'เคย', 'ทุกๆ', 'ทำให้', 'พอควร', 'ส่ง', 'ใหญ่ๆ', 'ถึงแก่', 'นิดๆ', 'สิ่งใด', 'ตลอดระยะเวลา', 'กระทำ', 'ทั้งที่', 'คล้ายกับว่า', 'มันๆ', 'ขาด', 'จง', 'ระหว่าง', 'อนึ่ง', 'จังๆ', 'ครั้งหลัง', 'สมัยนั้น', 'เท่ากับ', 'ค่อนข้าง', 'ดังกล่าว', 'เท่าไร', 'อันไหน', 'นอกจาก', 'ฝ่ายใด', 'เพียงใด', 'แห่งโน้น', 'วัน', 'ตามด้วย', 'ดั่งเก่า', 'เป็นเพราะว่า', 'ทั้งเป็น', 'ข้าง', 'ระยะ', 'เพิ่งจะ', 'คราวละ', 'จวบ', 'นักๆ', 'แม้ว่า', 'เพื่อที่จะ', 'นี่ไง', 'ทรง', 'ตามๆ', 'พอจะ', 'จริงๆ', 'ยาวนาน', 'ได้แต่', 'นี้แหล่', 'ส่วนนั้น', 'เพียงไหน', 'เพียงแต่', 'เต็มไปหมด', 'ยังโง้น', 'ด้วยที่', 'ตลอดกาล', 'พบว่า', 'ส่วนมาก', 'อัน', 'ด้วยว่า', 'ความ', 'ทำไร', 'จ้ะ', 'ถ้าจะ', 'จวน', 'รวมทั้ง', 'ดั่งกับว่า', 'ประการฉะนี้', 'ถึงจะ', 'เสียยิ่งนัก', 'ที่สุด', 'ขณะนี้', 'เพราะว่า', 'ยิ่งขึ้นไป', 'ค่อย', 'เสร็จสมบูรณ์', 'มัก', 'แม้แต่', 'อะไร', 'ทุกทาง', 'เสียนี่กระไร', 'อันที่จะ', 'ต่างก็', 'แท้', 'ยาก', 'ข้างบน', 'เมื่อครั้งก่อน', 'แต่', 'ให้แด่', 'อดีต', 'พวกท่าน', 'จากนั้น', 'คราวหนึ่ง', 'แต่อย่างใด', 'ปัจจุบัน', 'เต็มไปด้วย', 'เสียจน', 'หรือไร', 'เขียน', 'นี่แน่ะ', 'เสียด้วย', 'ถึง', 'บางที', 'จากนี้', 'แสดง', 'ตลอดวัน', 'ไฉน', 'ดั่งเคย', 'ประการ', 'ไม่ว่า', 'สําหรับ', 'พวกแก', 'พร้อมที่', 'ใคร', 'ครบถ้วน', 'พร้อมด้วย', 'พร้อมทั้ง', 'วันนั้น', 'เพียงเพื่อ', 'แสดงว่า', 'ที่ได้', 'เพิ่ม', 'เมื่อคราวที่', 'เหตุ', 'นั่นแหละ', 'ทั้งสิ้น', 'ประการหนึ่ง', 'ซึ่งกัน', 'พวกเขา', 'เห็นว่า', 'นานๆ', 'ทั่ว', 'คราวนี้', 'จึงเป็น', 'เช่นดังที่', 'คราไหน', 'ร่วมด้วย', 'ช่วงระหว่าง', 'เช่นเดียวกับ', 'ถึงแม้', 'ที่', 'ที่ใด', 'ผ่าน', 'หลัง', 'ถึงเมื่อใด', 'นำมา', 'เขา', 'แรก', 'ย่อย', 'ครั้งละ', 'คราวหลัง', 'ช่วงนี้', 'ตลอดปี', 'เมื่อเช้า', 'จรดกับ', 'ทีๆ', 'สั้น', 'ไป่', 'ค่ะ', 'บอกว่า', 'หน่อย', 'ครั้ง', 'เยอะๆ', 'แค่ไหน', 'นาย', 'เหตุนี้', 'เผื่อจะ', 'เสียแล้ว', 'พอสมควร', 'ปฏิบัติ', 'พอที่', 'เฉพาะ', 'น้อยๆ', 'อยาก', 'ภาค', 'ทั้งๆ', 'ผ่านๆ', 'ง่ายๆ', 'ช่วงหน้า', 'ตลอดทั้ง', 'แต่ละ', 'แม้', 'ข้างต้น', 'เป็นอาทิ', 'อย่าง', 'แค่นั้น', 'เป็นแต่เพียง', 'ดั่งกับ', 'รึว่า', 'แก่', 'อย่างไรก็ได้', 'ค่อนมาทาง', 'ฉัน', 'พอกัน', 'สูงกว่า', 'ช่วงถัดไป', 'ทั้งหลาย', 'ขึ้น', 'มั้ยล่ะ', 'แค่จะ', 'ภายใน', 'ทุกเมื่อ', 'มอง', 'ใน', 'ทีไร', 'เสียยิ่ง', 'สั้นๆ', 'ซะจนถึง', 'เราๆ', 'น่าจะ', 'หลังจาก', 'ค่อยๆ', 'จำ', 'ซึ่งก็คือ', 'ภาคฯ', 'พื้นๆ', 'เร็ว', 'เท่าที่', 'นี่', 'ซึ่ง', 'อย่างโน้น', 'ล้วนจน', 'กู', 'ดังกับ', 'เป็นแต่', 'ข้างล่าง', 'เก็บ', 'ส่วน', 'ภายนอก', 'เน้น', 'เป็นอันมาก', 'ล้วนแต่', 'จวนจะ', 'หนอ', 'สูงส่ง', 'คราหนึ่ง', 'ส่วนใหญ่', 'ค่อน', 'นับแต่ที่', 'นับ', 'แต่ไร', 'ตลอดไป', 'เอา', 'ร่วม', 'พยายาม', 'ดัง', 'เรื่อยๆ', 'เมื่อวันวาน', 'เป็นอันๆ', 'ล่าสุด', 'ถึงบัดนั้น', 'แท้จริง', 'ช่วงที่', 'ครั้งนั้น', 'เสียนี่', 'เช่นเมื่อ', 'ส่วนดี', 'ตาม', 'ก็ตาม', 'หรือเปล่า', 'ใกล้ๆ', 'นู้น', 'ก่อน', 'กว้างขวาง', 'อย่างยิ่ง', 'ภายหน้า', 'นับจากนั้น', 'พบ', 'ทุกคราว', 'ภายภาคหน้า', 'อย่างไรเสีย', 'ถึงเมื่อ', 'พร้อม', 'หาใช่', 'พอดี', 'สูง', 'แก้ไข', 'เช่นเคย', 'เกือบจะ', 'อย่างไหน', 'ที่แท้จริง', 'ถึงแม้ว่า', 'เช่นดัง', 'ขั้น', 'ครบ', 'นับแต่นี้', 'ตลอดศก', 'คราวนั้น', 'เสร็จกัน', 'จ๊ะ', 'แต่ก็', 'บ่อยครั้ง', 'เพียงแค่', 'ขณะนั้น', 'ได้มา', 'ค่อยไปทาง', 'เมื่อวาน', 'เมื่อคราว', 'ขวาง', 'ข้าฯ', 'นี้เอง', 'พวกมึง', 'ทุกครั้ง', 'เช่นนั้นเอง', 'ไกลๆ', 'ใหญ่โต', 'ช่วงนั้น', 'ดั่ง', 'เท่านี้', 'ครั้งหนึ่ง', 'อย่างนั้น', 'เลย', 'ยกให้', 'เพราะฉะนั้น', 'ทั้งที', 'กระทั่ง', 'แต่ต้อง', 'วันใด', 'ยิ่งขึ้น', 'กัน', 'นำ', 'ก็', 'ที่ว่า', 'อย่างหนึ่ง', 'ให้ไป', 'แต่จะ', 'ใช่', 'พอเหมาะ', 'สืบเนื่อง', 'คราวที่', 'ทั้งนั้น', 'เสียก่อน', 'แล้วกัน', 'อันเนื่องมาจาก', 'คุณๆ', 'ประมาณ', 'ยิ่งแล้ว', 'จ๋า', 'อย่างเดียว', 'ทุกสิ่ง', 'ร่วมกัน', 'นับตั้งแต่', 'กว้างๆ', 'จนขณะนี้', 'สิ้นกาลนาน', 'เปลี่ยน', 'เคยๆ', 'พวกนี้', 'พอสม', 'แก', 'ว่า', 'กลุ่ม', 'ได้', 'ไม่ค่อย', 'สิ่งนี้', 'ตลอดถึง', 'สมัย', 'นอก', 'พึง', 'ซึ่งๆ', 'เป็นเพียงว่า', 'เห็น', 'นิด', 'ด้วยเหตุนี้', 'จ้า', 'เพียงพอ', 'เกี่ยวข้อง', 'หนึ่ง', 'ที่แท้', 'นั้นๆ', 'ที่ๆ', 'จรด', 'เท่ากัน', 'นอกจากนี้', 'แยะๆ', 'ณ', 'มุ่ง', 'เถิด', 'แต่ทว่า', 'พวกนู้น', 'ทุกอย่าง', 'สมัยโน้น', 'ข้างเคียง', 'แยะ', 'พอตัว', 'ครั้งๆ', 'พวกที่', 'แม้นว่า', 'นอกเหนือ', 'ด้วยเช่นกัน', 'ด้วยประการฉะนี้', 'เร็วๆ', 'นั่นเอง', 'เมื่อก่อน', 'เอง', 'คราวๆ', 'จนแม้น', 'นั้น', 'หาความ', 'แค่', 'พวกคุณ', 'เช่นที่', 'ในระหว่าง', 'นะ', 'มักจะ', 'ตลอดทั่วถึง', 'มาก', 'ๆ', 'เสร็จสิ้น', 'เยอะ', 'ทุกที่', 'อันที่', 'ทั้งมวล', 'เฉกเช่น', 'เมื่อไหร่', 'เฉย', 'ภายหลัง', 'เถอะ', 'เป็นเพียง', 'กล่าวคือ', 'เป็นอัน', 'ถือ', 'อันใด', 'ยืนยัน', 'ที่แล้ว', 'เหล่านั้น', 'ขณะที่', 'ส่วนที่', 'นาง', 'จะ', 'มา', 'สบาย', 'เพิ่ง', 'หารือ', 'หรือยัง', 'จนทั่ว', 'ซึ่งก็', 'ไกล', 'เช่นดังว่า', 'ที่ซึ่ง', 'อาจจะ', 'ครั้งใด', 'พวกมัน', 'จัง', 'เอ็ง', 'ยืนนาน', 'ยิ่งเมื่อ', 'ช่วงต่อไป', 'ด้วยเหตุนั้น', 'เมื่อนั้น', 'คล้ายกันกับ', 'เริ่ม', 'ในช่วง', 'นัก', 'แต่เมื่อ', 'ทั้ง', 'จึงจะ', 'ราย', 'เป็นๆ', 'ใดๆ', 'เล็กๆ', 'พอแล้ว', 'ด้วยเพราะ', 'พวกกู', 'มุ่งเน้น', 'หมด', 'ถ้าหาก', 'คิดว่า', 'เพื่อให้', 'เช่นไร', 'ด้วยกัน', 'ทั้งนั้นด้วย', 'บอก', 'หรือไม่', 'มิฉะนั้น', 'หมดกัน', 'คล้ายกัน', 'เล็กน้อย', 'บาง', 'สู่', 'ก็คือ', 'บัดนั้น', 'สิ่งนั้น', 'เปิด', 'เมื่อนี้', 'ไม่เป็นไร', 'หากแม้น', 'ชาว', 'แห่งใด', 'อย่างนี้', 'ยืนยาว', 'จำเป็น', 'แต่ไหน', 'ช่วย', 'คล้าย', 'ถูก', 'ยิ่งกว่า', 'เสียนั่นเอง', 'สามารถ', 'ทันใดนั้น', 'เหตุผล', 'เพียง', 'ครั้งคราว', 'ไร', 'มั๊ย', 'กระผม', 'กำลังจะ', 'ส่วนเกิน', 'ไว้', 'ครั้งก่อน', 'ทุกอัน', 'พวกกัน', 'แต่เพียง', 'มั้ยเนี่ย', 'ค่อนข้างจะ', 'เช่น', 'ซะจน', 'ได้ที่', 'ที่จริง', 'เนี่ย', 'หมดสิ้น', 'โตๆ', 'คำ', 'ใคร่จะ', 'ตลอดทั่ว', 'ครับ', 'เพียงไร', 'ทุกชิ้น', 'เช่นนั้น', 'พอที', 'ขณะใด', 'แบบ', 'นู่น', 'นั่นไง', 'ยังแต่', 'เช่นดังเก่า', 'ก่อนหน้านี้', 'เกี่ยวกับ', 'เสมือนว่า', 'กว้าง', 'รับรอง', 'พูด', 'ตรงๆ', 'ล้วน', 'อันๆ', 'ทันที', 'ยังงี้', 'คราวโน้น', 'กันเอง', 'คล้ายว่า', 'พวก', 'จัดทำ', 'บัดเดี๋ยวนี้', 'อย่างๆ', 'ปิด', 'ฝ่าย', 'ต้อง', 'ช้า', 'ทั้งปวง', 'ก็แค่', 'ครานี้', 'เช่นนี้', 'นอกเหนือจาก', 'จวบจน', 'ที่นี้', 'นำพา', 'บางที่', 'เนี่ยเอง', 'เสร็จ', 'เป็นต้นมา', 'เชื่อว่า', 'ไหนๆ', 'จนแม้', 'ยังคง', 'ต่าง', 'พอเพียง', 'เกี่ยวๆ', 'รึ', 'ในเมื่อ', 'ใต้', 'ด้าน', 'ทัน', 'เท่าใด', 'ดังเคย', 'เป็นต้น', 'กว่า', 'กันดีไหม', 'ทันทีทันใด', 'บัดนี้', 'เข้าใจ', 'เพิ่มเติม', 'เล็ก', 'รวมกัน', 'เหลือเกิน', 'เธอ', 'รวมด้วย', 'อย่างดี', 'ถึงอย่างไร', 'มีแต่', 'แห่งนั้น', '\\ufeffๆ', 'โต', 'เรื่อย', 'คราวหน้า', 'อีก', 'ละ', 'รวม', 'บางครา', 'อย่างใด', 'ทำไม', 'เท่านั้น', 'เนื่องจาก', 'คล้ายกับ', 'ตนฯ', 'แต่ว่า', 'บ่อย', 'นั้นไว', 'เปลี่ยนแปลง', 'มิใช่', 'จำพวก', 'ผู้ใด', 'ไง', 'ส่วนใด', 'ระยะๆ', 'ตั้งแต่', 'นํา', 'ยิ่งจะ', 'หนอย', 'คุณ', 'ไม่ใช่', 'กำหนด', 'เป็น', 'ยก', 'กันนะ', 'เช่นดังก่อน', 'นอกจากที่', 'ตามแต่', 'เช่นเดียวกัน', 'เดียวกัน', 'บางกว่า', 'เสียนั่น', 'เช่นใด', 'ยิ่งจน', 'มัน', 'ทีละ', 'สิ่ง', 'ทุกวัน', 'นี่แหละ', 'แต่ถ้า', 'เกือบๆ', 'เรา', 'จวนเจียน', 'คราใด', 'ช้าๆ', 'มากกว่า', 'ออก', 'ขณะหนึ่ง', 'ต่อ', 'ช่วงๆ', 'ปรากฏ', 'เหลือ', 'และ', 'ถือว่า', 'จนตลอด', 'จับ', 'บางขณะ', 'แต่ที่', 'พวกฉัน', 'ไป', 'เต็มๆ', 'ทีเดียว', 'บางคราว', 'ยอมรับ', 'ได้รับ', 'เชื่อถือ', 'มิได้', 'จนบัดนี้', 'ประการใด', 'เดียว', 'จัดให้', 'ยังจะ', 'ช่วงก่อน', 'ตลอดกาลนาน', 'อาจเป็นด้วย', 'พา', 'ทุกคน', 'แล้วเสร็จ', 'บางๆ', 'รวมถึง', 'ตลอดมา', 'กล่าว', 'ให้มา', 'ข้างๆ', 'คราว', 'มั้ย', 'วันนี้', 'กับ', 'นั่นเป็น', 'เป็นที่สุด', 'อย่างมาก', 'เป็นต้นไป', 'ใครๆ', 'เป็นอันว่า', 'ตามที่', 'ขวางๆ', 'ถ้า', 'ช่วงท้าย', 'คิด', 'กลับ', 'คราวไหน', 'สมัยนี้', 'ทั้งนี้', 'ที่นั้น', 'ครั้งไหน', 'ร่วมมือ', 'น้อย', 'แห่งนี้', 'ครั้งหลังสุด', 'จนกระทั่ง', 'จัดตั้ง', 'เหล่านี้', 'ครั้งกระนั้น', 'นอกจากว่า', 'เมื่อไร', 'ยาว', 'ปรากฏว่า', 'ย่อม', 'มั้ยนะ', 'กันไหม', 'ได้แก่', 'นางสาว', 'รับ', 'จนเมื่อ', 'ใหม่', 'กลุ่มๆ', 'จัดการ', 'บางแห่ง', 'พวกโน้น', 'ฯลฯ', 'เพียงเพราะ', 'ครัน', 'ไม่ค่อยจะ', 'ยิ่งใหญ่', 'เกิด', 'ยิ่งนัก', 'สูงสุด', 'สูงๆ', 'ส่วนน้อย', 'ทาง', 'มองว่า', 'หากว่า', 'นับจากนี้', 'รวมๆ', 'ผิด', 'อย่างไร', 'หากแม้', 'ตลอด', 'เช่นที่ว่า', 'เกิน', 'ทุกตัว', 'จากนี้ไป', 'ส่วนด้อย', 'ขณะเดียวกัน', 'ไม่', 'เป็นเพื่อ', 'บน', 'อาจ', 'ภายใต้', 'ก่อนหน้า', 'เสร็จแล้ว', 'โดย', 'ต่างๆ', 'แล้วแต่', 'ทีใด', 'ก็ตามที', 'ไหน', 'แต่เดิม', 'จนถึง', 'เสียจนถึง', 'จน', 'ต่างหาก', 'นาน', 'จริงๆจังๆ', 'ใช้', 'ด้วยเหตุว่า', 'ยัง', 'หรือไง', 'กระนั้น', 'จาก', 'ถึงแม้จะ', 'เกี่ยวเนื่อง', 'มั้ยนั่น', 'จวบกับ', 'แต่นั้น', 'แห่ง', 'จริงจัง', 'บางครั้ง', 'ใคร่', 'คือ', 'ไม่ค่อยเป็น', 'ใหญ่', 'เกือบ', 'ยังไง', 'ให้แก่', 'สิ่งไหน', 'ครบครัน', 'ใช่ไหม', 'หรือ', 'กลุ่มก้อน', 'ทั้งคน', 'เพราะ', 'ครั้งนี้', 'พร้อมกัน', 'เพื่อ', 'จัดแจง', 'น่า', 'เมื่อคืน', 'ยังงั้น', 'ทว่า', 'ใหม่ๆ', 'ให้ดี', 'ก็จะ', 'จึง', 'ทุกครา', 'ประกอบ', 'ทำๆ', 'ทั้งนั้นเพราะ', 'รือว่า', 'สุดๆ', 'ด้วยเหตุที่', 'ครั้งครา', 'วันไหน', 'มึง', 'แค่ว่า', 'ง่าย', 'เชื่อมั่น', 'น้อยกว่า', 'แล้ว', 'สำคัญ', 'เผื่อที่', 'นิดหน่อย', 'เป็นด้วย', 'เป็นที', 'จด', 'ซะก่อน', 'ถึงบัดนี้', 'อันละ', 'นี่เอง', 'คราวใด', 'ก่อนๆ', 'อันได้แก่', 'ซึ่งได้แก่', 'อยู่', 'เห็นจะ', 'พร้อมเพียง', 'คะ', 'ตลอดจน', 'อย่างเช่น', 'ยิ่ง', 'ข้า', 'ยอม', 'ตรง', 'ช่วงแรก', 'ขณะ', 'เหล่า', 'เพื่อว่า', 'ก็ตามแต่', 'เกินๆ', 'ทุกแห่ง', 'เห็นควร', 'เป็นเพราะ', 'ด้วยเหตุเพราะ', 'ขณะใดๆ', 'ครา', 'ภาย', 'ก็แล้วแต่', 'พึ่ง', 'เผื่อ', 'เป็นดัง', 'เมื่อ', 'เห็นแก่', 'ดังเก่า', 'จัดงาน', 'ต่อกัน', 'จู่ๆ', 'ช่วง', 'เรียบ', 'อย่างละ', 'อาจเป็น', 'นับแต่นั้น', 'คราที่', 'ตลอดเวลา', 'รือ', 'บ้าง', 'ช้านาน', 'เช่นก่อน', 'รวด', 'ในที่', 'อย่างที่', 'ควร', 'ครั้งที่', 'สมัยก่อน', 'ก็ต่อเมื่อ', 'ตั้ง', 'ฯล', 'ทุก', 'บอกแล้ว', 'แม้กระทั่ง', 'ด้วย', 'นั่น', 'เมื่อครั้ง', 'หน', 'จริง', 'แหละ', 'คราวก่อน', 'ตลอดทั่วทั้ง', 'นี่นา', 'จัดหา', 'ทั้งหมด', 'ดังกับว่า', 'ช่วงหลัง', 'อื่น']\n"
          ],
          "name": "stdout"
        }
      ]
    },
    {
      "cell_type": "code",
      "metadata": {
        "colab": {
          "base_uri": "https://localhost:8080/",
          "height": 1000
        },
        "id": "3egz4Ykm4q0z",
        "outputId": "33286fcc-cdca-4a9d-d4fa-210348b75a74"
      },
      "source": [
        "df['Review_tokenized'] = df['Review'].apply(lambda x: tokenize_with_space(x))\n",
        "df"
      ],
      "execution_count": 113,
      "outputs": [
        {
          "output_type": "stream",
          "text": [
            "['ที่', 'สำคัญ', 'ของ', 'นี้', 'คือ', 'บริการ', 'ดีมาก', 'พนักงาน', 'น่ารัก', 'สุดๆ', 'สะอาดสะอ้าน', 'ใส่ใจ', 'ค่อนข้าง', 'ประทับใจ', 'กับ', 'การ', 'บริการ', 'รสชาติ', 'อาหาร', 'อันนี้', 'แปลกใหม่', 'เซ็ท', '560', 'บาท', 'อาหาร', 'จำกัด', 'ไม่', 'ได้', 'หลากหลาย', 'แต่เพียง', 'พอกับ', 'ความต้องการ', 'เรา', 'ไม่', 'กิน', 'เนื้อ', 'กิน', 'สัน', 'คอ', '4', 'ถาด', 'เป็ด', '1', 'แฟน', 'กิน', 'เนื้อ', 'คุณภาพดี', 'น้ำ', 'ซุป', 'ดำ', 'กับ', 'เผ็ด', 'ที่', 'สำคัญ', 'คือ', 'น้ำจิ้ม', 'อร่อย', 'มาก', 'ไม่', 'เคย', 'กิน', 'รสชาติ', 'แบบนี้', 'มา', 'ก่อน', 'เป็น', 'เต้าเจี้ยว', 'นิดๆ', 'แต่ก็', 'ไม่', 'ได้', 'เคลม', 'ก็', 'รสชาติ', 'ดี', 'นะ', 'ถาม', 'ราคา', 'โดยรวม', 'ก็', 'ถือว่า', 'คุ้ม', 'เพราะว่า', 'โมจิ', 'อร่อย', 'มาก', 'ไอติม', 'ก็', 'อร่อย', 'ไม่ต้อง', 'ออก', 'ไป', 'กิน', 'ข้างนอก', 'สรุป', 'รวมๆ', 'ละ', 'กัน', 'ว่า', 'ประทับใจ', 'ใน', 'บริการ', 'และ', 'คุณภาพ', 'ของ', 'อาหาร']\n",
            "['นึกถึง', 'ชาบู', 'ญี่ปุ่น', 'ยังไง', 'ก็', 'ต้อง', 'คิดถึง', 'โมโม่', 'พาราไดซ์', 'คุณภาพ', 'เค้า', 'มาตรา', 'ฐาน', 'จริงๆ', 'วันนี้', 'มีโอ', 'กา', 'สมาทาน', 'ก่อน', 'ปิด', '30', 'นาที', 'ทาง', 'ก็', 'บริการ', 'ดี', 'จะ', 'มี', 'ก็', 'แต่', 'อาหาร', 'เครื่องดื่ม', 'ที่ทาง', 'เริ่ม', 'ทะยอย', 'เก็บ', 'แต่', 'เรา', 'ก็', 'เข้าใจ', 'เพราะ', 'ทาง', 'แจ้ง', 'รายละเอียด', 'การงด', 'รับ', 'ออร์เดอร์', 'แล้ว', 'สาขา', 'นี้', 'พนักงานบริการ', 'ดี', 'น่ารัก', 'เป็นกันเอง', 'ขอ', 'อะไร', 'ก็ได้', 'หมด', 'ไม่', 'มี', 'เหวี่ยง', 'เคย', 'เจอ', 'สาขา', 'พระราม', '9', 'คือ', 'ไม่', 'โอเค', 'พนักงาน', 'ไม่', 'พร้อม', 'ทำงาน', 'มาก', 'CTW', 'แม้', 'จะ', 'เป็น', 'พรีเมียม', 'การ', 'บริการ', 'ก็', 'สู้', 'สาขา', 'นี้', 'ไม่', 'ได้', 'Terminal', '21', 'ลูกค้า', 'เยอะ']\n",
            "['มา', 'ทาน', 'ช่วงนี้', 'สามารถ', 'นั่ง', 'โต๊ะ', 'เดียวกัน', 'หม้อ', 'เดียวกัน', 'ได้', 'แล้ว', 'แต่', 'ระหว่าง', 'โต๊ะ', 'ยังมี', 'ฉาก', 'กั้น', 'อยู่', 'น้ำ', 'ซุป', 'เลือก', 'ได้', '2', 'รส', 'น้ำจิ้ม', 'ก็จะ', 'แตก', 'ต่างกัน', 'ตามน้ำ', 'ซุป', 'เลือก', 'มา', 'เป็น', 'ชาบู', 'น้ำ', 'ดำ', 'กับ', 'น้ำ', 'ซุป', 'เห็ด', 'ชาบู', 'น้ำ', 'ดำ', 'หวานๆ', 'เค็ม', 'ๆ', 'รสชาติ', 'เข้มข้น', 'เสิร์ฟ', 'พร้อม', 'ไข่', 'สด', 'ถ้า', 'เป็นผู้ใหญ่', 'ที่', 'ไม่', 'ชอบ', 'หวานๆ', 'อาจจะ', 'ไม่ค่อย', 'ชอบ', 'น้ำ', 'ซุป', 'เห็ด', 'มีชื่อ', 'ด้วย', 'เป็น', 'ภาษา', 'ญี่ปุ่น', 'แต่', 'จำ', 'ไม่', 'ได้', '555', 'เสิร์ฟ', 'มา', 'กับ', 'เห็ด', 'และ', 'น้ำจิ้ม', 'ซอย', 'ซอส', 'รสชาติ', 'จืด', 'ๆ', 'แนว', 'น้ำ', 'ซุป', 'ใส', 'เนื้อสัตว์', 'จะ', 'มี', 'ให้', 'เลือก', 'เนื้อวัว', '2', 'แบบ', 'เนื้อหมู', '2', 'แบบ', 'เนื้อ', 'เป็ด', 'ไก่', 'ไม้', 'ไผ่', 'เลย', 'สั่ง', 'มา', 'ลอง', 'ทุกอย่าง', 'เนื้อวัว', 'อร่อย', 'มา', 'กก', 'ชิ้น', 'ไม่', 'บาง', 'เนื้อ', 'นุ่ม', 'มาก', 'ๆ', 'กิน', 'กับ', 'ชาบู', 'น้ำ', 'ดำ', 'เข้ากัน', 'มาก', 'เนื้อหมู', 'เป็น', 'คุ', 'โร', 'บู', 'ตะ', 'อร่อย', 'นุ่ม', 'ลิ้น', 'เนื้อ', 'เป็ด', 'จะ', 'หนึบ', 'ๆ', 'ไม่', 'เหนียว', 'ไม่', 'คาว', 'แต่', 'ทาน', 'ได้', 'จาน', 'เดียว', 'รู้สึก', 'ว่า', 'พอแล้ว', 'ไก่', 'ไม้', 'ไผ่', 'เป็น', 'ไก่', 'บด', 'ลืม', 'ถ่ายรูป', 'มา', 'รสชาติ', 'กรุบ', 'ๆ', 'แตา', 'ส่วนตัว', 'เฉยๆ', 'ช่วง', 'โควิด', 'บาร์', 'ผัก', 'กับ', 'น้ำ', 'จะ', 'มี', 'พนักงาน', 'ตัก', 'ให้', 'เรา', 'อยากได้', 'อะไร', 'ก็', 'ไป', 'จิ้ม', 'ๆ', 'เลือก', 'ๆ', 'ได้', 'เลย', 'ของหวาน', 'มี', 'ไอติม', 'กับ', 'ไดฟูกุ', 'ลอง', 'สั่ง', 'แต่', 'ไดฟูกุ', 'ไอติม', 'ไม่', 'ไหว', 'แย้', 'ววว', 'สั่ง', 'มา', 'สามรส', 'สตอ', 'เบอ', 'รี่', 'ชาเขียว', 'ถั่ว', 'แดง', 'อร่อย', 'ทั้งหมด', 'ค่ะ', '::', 'สรุป', '::', 'อร่อย', 'คุ้มค่า', 'กับ', 'ราคา', 'แต่', 'คง', 'ไม่', 'ได้มา', 'ทาน', 'บ่อยๆ', 'ตก', 'คนละ', '600', '++', 'แต่ถ้า', 'ใคร', 'ไม่', 'ทาน', 'เนื้อวัว', 'อาจจะ', 'ไม่', 'คุ้ม', 'เท่าไร']\n",
            "['ถ้า', 'นึกถึง', 'ชาบู', 'ที่', 'มี', 'เนื้อ', 'เน้น', 'ๆ', 'ใน', 'ราคา', 'ไม่', 'โหด', 'จน', 'เกินไป', 'ก็', 'นึกถึง', 'โมโม่', 'ตลอด', 'บางที', 'ทาง', 'ก็จะ', 'มี', 'โปร', 'มา', '4', 'จ่าย', '3', 'ใน', 'วัน', 'ธรรมดา', 'ด้วย', 'นะ', 'ส่วนตัว', 'ชอบ', 'เนื้อออส', 'เพราะ', 'มัน', 'ไม่', 'เยอะ', 'เกินไป', 'จริงๆ', 'มัน', 'เยอะ', 'ก็', 'อร่อย', 'นะ', 'แต่', 'ทาน', 'มาก', 'ๆ', 'แล้ว', 'เลี่ยน', 'ไว', 'อีก', 'อย่างที่', 'ชอบ', 'ก็คือ', 'ไอศกรีม', 'รส', 'ชาเขียว', 'และ', 'รส', 'ข้าว', 'ไป', 'ทีไร', 'สั่ง', '2', 'ถ้วย', 'ตลอด']\n",
            "['เดิน', 'มา', 'หน้า', 'แล้ว', 'ได้กลิ่น', 'ชาบู', 'หอ', 'มมาก', 'ๆ', 'ประกอบ', 'กับ', 'มี', 'โปร', 'บัตรเครดิต', 'ด้วย', 'เลย', 'ตัดสินใจ', 'ว่า', 'กิน', 'นี้', 'ละ', 'กัน', 'น้ำ', 'ชาบู', 'เลือก', 'ได้', '2', 'อย่าง', 'พวก', 'เนื้อ', 'ต่าง ๆ', 'ต้อง', 'สั่ง', 'มา', 'ส่วน', 'ผัก', 'เส้น', 'และ', 'ลูกชิ้น', 'ไป', 'ตัก', 'เอง', 'ได้', 'เลย', 'มี', 'ให้', 'เลือก', 'หลากหลาย', 'ค่ะ', 'สาขา', 'นี้', 'ที่นั่ง', 'กว้างขวาง', 'นั่ง', 'สบาย', 'ไม่', 'เหมือนกับ', 'สาขา', 'CTW', 'ที่จะ', 'ค่อนข้าง', 'แคบ', 'มี', 'เด็ก', 'มา', 'ด้วย', 'นั่ง', 'สบายดี', 'ค่ะ', 'เนื้อ', 'ต่าง ๆ', 'คุณภาพดี', 'บริการ', 'รวดเร็ว', 'ขนม', 'อร่อย', 'ค่ะ']\n",
            "['บุฟเฟ่', 'ชาบู', 'แนว', 'ญี่ปุ่น', 'สาย', 'เนื้อหมู', 'เนื้อวัว', 'น่าจะ', 'คุ้ม', 'มาก', 'ค่ะ', 'ทาง', 'มี', 'โซน', 'ผัก', 'ให้', 'เลือก', 'หยิบ', 'ได้', 'เอง', 'เนื้อ', 'สามารถ', 'สั่ง', 'ผ่าน', 'พนักงาน', 'ได้', 'เลย', 'ค่ะ', 'รา', 'คามี', 'โปรโมชั่น', 'เป็น', 'บาง', 'ช่วง', 'นะคะ', 'ใคร', 'ชอบ', 'น้ำจิ้ม', 'พอน', 'ซึ', 'ต้อง', 'ลอง', 'ค่ะ', 'ของหวาน', 'เรา', 'ชอบ', 'นะ', 'ไอติม', 'บ๋วย', 'อร่อย', 'ดี']\n",
            "['Number', '20', 'โม', 'โม', 'พารา', 'ได', 'ส์', 'สาขา', 'เดอะ', 'มอ', 'ล', 'บางกะปิ', 'ร้านอาหาร', 'บุฟเฟ่', 'สุกี้', 'ชาบู', 'น้ำ', 'ดำ', 'สไตล์', 'ญี่ปุ่น', 'ที่แท้จริง', 'กรรมวิธี', 'ดังเดิม', 'แต่', 'รสชาติ', 'ไทย', 'ประ', 'ยุค', 'ก์', 'วันนี้', 'มา', 'ทาน', 'Menu', 'บุฟเฟ่ต์', 'สุกี้', 'ชาบู', 'น้ำ', 'ดำ', 'รายละเอียด', 'เมนู', 'เลือก', 'น้ำ', 'ได้', 'หลาย', 'แบบ', 'แต่', 'น้ำจิ้ม', 'มีแต่', 'พอน', 'ซึ', 'และ', 'น้ำจิ้ม', 'เฉพาะ', 'แบบฉบับ', 'ของ', 'โม', 'โม', 'ฯ', 'อาหาร', 'แบ่ง', 'เป็น', 'ชุด', 'เซ็ท', 'หมู', 'หรือ', 'เนื้อ', 'เลือก', 'ได้', 'ผัก', 'มี', 'หลาก', 'หลายชนิด', 'ราคา', '600', '+', 'บาท', '/', 'คน', 'คะแนน', '4.0', '/', '5']\n",
            "['ชาบู', 'เฟรนไชส์', 'รสชาติ', 'ดีมาก', 'คุ้มค่า', 'เหมาะสม', 'กับ', 'ราคา', 'ประมาณ', '500', 'กว่า', 'บาท', 'ติด', 'แต่', 'เรื่อง', 'น้ำ', 'ซุป', 'ตอนที่', 'เริ่ม', 'งวด', 'อาจจะ', 'เค็ม', 'ขึ้น', 'บ้าง', 'แต่ก็', 'เป็นปกติ', 'ของ', 'การ', 'กิน', 'ชาบู', 'อยู่แล้ว', 'ครับ', 'มี', 'น้ำ', 'ชาเขียว', 'ร้อน', 'และ', 'กาแฟ', 'ด้วย', 'ซึ่ง', 'ทั่วไป', 'ไม่ค่อย', 'มี', 'แต่ที่', 'ชอบ', 'เลย', 'คือ', 'เนื้อ', 'ออสเตรเลีย', 'ดีมาก', 'ๆ', 'ครับ', 'หมู', 'สัน', 'คอ', 'ก็', 'รสชาติ', 'ดีมาก', 'เลย', 'แนะนำ', 'น้ำ', 'ซุป', 'สุกี้ยากี้', 'เสิร์ฟ', 'กับ', 'น้ำจิ้ม', 'ไข่ไก่', 'และ', 'โช', 'ยุ', 'หวาน', 'ส่ง', 'น', 'ไอศครีม', 'บ๊วย', 'คือ', 'ดี', 'ที่สุด', 'ครับ', 'แนะนำ', 'ต้อง', 'ไป', 'ตำ', 'ครับ', 'ลุย', '!!!!']\n",
            "['มาน', 'ที่', 'ขา', 'บู', 'ชิ', 'ต้อง', 'มา', 'ตอน', 'หิว', 'ไม่งั้น', 'จะ', 'ไม่', 'คุ้ม', 'นะ', 'ครับ', 'ฮ่า', 'ๆ', 'เพราะ', 'เมนู', 'ของกิน', 'มัน', 'เยอะ', 'มาก', 'ทั้ง', 'อาหาร', 'บน', 'สายพาน', 'อาหาร', 'ทาน', 'เล่น', 'ซูชิ', 'ปูอัด', 'เกี๊ยว', 'ซ่า', 'กุ้ง', 'เทมปุระ', 'มัน', 'ละลานตา', 'มาก', 'ราคา', 'ตอนนี้', '399', 'บาท', 'แพง', 'มั้ย', '..', 'ก็', 'นิดนึง', 'แต่ถ้า', 'เทียบ', 'กับ', 'อาหาร', 'แล้วก็', 'ถือว่า', 'คุ้ม', 'ครับ']\n",
            "['ใคร', 'ชอบ', 'กุ้ง', 'ทอด', 'เทมปุระ', 'แค่', 'กุ้ง', 'เทมปุระ', 'ก็', 'คุ้ม', 'แล้ว', 'ครั้งนี้', 'มา', 'ทาน', 'ดึก', 'ไป', 'หน่อย', 'มี', 'ของ', 'ไม่ค่อย', 'มาก', 'แล้ว', 'นึก', 'ผิดหวัง', 'อยู่', 'เพราะ', 'เหลือ', 'กุ้ง', 'เทมปุระ', 'อยู่', 'ไม่', 'กี่', 'ตัว', 'แต่', 'ไม่', 'นาน', 'ก็', 'ทอด', 'ใหม่', 'มา', 'เติม', 'เลย', 'ได้', 'ทาน', 'สมใจ', 'กลาย', 'เป็นมา', 'ชาบูชิ', 'เพื่อ', 'ทานอาหาร', 'ญี่', 'ปุ', 'นพ', 'วก', 'ซูชิ', 'กุ้ง', 'เทมปุระ', 'เป็นหลัก', 'ส่วน', 'ชาบู', 'เป็น', 'อาหารเสริม', 'ซะงั้น', 'แต่', 'ช่วงนี้', 'จะ', 'ไม่', 'มี', 'เมนู', 'ปลา', 'ไข่', 'ชั่วคราว', 'น้ะ', 'ครับ', 'และ', 'ยังไง', 'ก็', 'อย่า', 'ลืม', 'ทาน', 'ไอติม', 'ให้', 'เย็น', 'ชื่นใจ', 'ตบท้าย', 'ด้วย']\n",
            "['กลับมา', 'อัพเดท', 'ราคา', 'ชาบูชิ', 'ตอนนี้', 'อยู่', 'ที่', '399', 'บาท', 'net', 'ทาน', 'ได้', 'ประมาณ', '1.15', 'ชม.', 'น้ำ', 'ซุป', 'มี', 'ให้', 'เลือก', '4', 'รส', 'ซูชิ', 'ลายตา', 'มาก', 'ๆ', 'เทมปุระ', 'ก็', 'ทาน', 'เพลินๆ', 'ดี', 'ไป', 'ยืน', 'ตรงนั้น', 'มีแต่', 'ของ', 'น่า', 'ทาน', 'ไป', 'หมด', 'ไลน์', 'ของคาว', 'บุฟเฟ่ต์', 'เน้น', 'กุ้ง', 'สด', 'เบ', 'ค่อน', 'และ', 'เนื้อ', 'สไลด์', 'เป็นหลัก', 'อิ่ม', 'คุ้ม', 'มาก']\n",
            "['ห่างหาย', 'ไป', 'นาน', 'สำหรับ', 'ชาบูชิ', 'ตั้งแต่', 'ทาง', 'ได้', 'ปรับ', 'ขึ้นราคา', 'แถม', 'ลด', 'เวลา', 'ลง', 'ด้วย', 'คุณภาพ', 'อาหาร', 'ดู', 'แย่', 'ลง', 'ก็', 'ลา', 'ขาด', 'วันนี้', 'กลับมา', 'อีกครั้ง', 'เนื่องจาก', 'ได้ยิน', 'ข่าว', 'มา', 'ว่า', 'กุ้ง', 'ปอกเปลือก', 'กลับมา', 'แล้ว', 'งาน', 'นี้', 'เลย', 'มา', 'เพราะ', 'กุ้ง', 'ค่ะ', 'Shabushi', 'ตั้งอยู่', 'ชั้น G', 'ของ', 'ห้าง', 'เดอะมอลล์', 'บางกะปิ', 'ตัว', 'ตั้งอยู่', 'โซน', 'หน้า', 'ห้าง', 'ฝั่ง', 'ติด', 'ถนนใหญ่', 'หาไม่', 'ยาก', 'ค่ะ', 'ใหญ่', 'เด่น', 'มาก', 'สำหรับ', 'สาขา', 'นี้', 'ถ้า', 'เป็น', 'วัน', 'เสาร์', '-', 'อาทิตย์', 'หรือ', 'ถ้า', 'ตรง', 'กับ', 'วันหยุด', 'คน', 'จะ', 'เยอะ', 'มาก', 'รอ', 'คิว', 'นาน', 'มาก', 'ๆ', 'นี่', 'เป็น', 'อีก', 'หนึ่ง', 'สาเหตุ', 'ที่', 'เลิก', 'กิน', 'แต่ถ้า', 'เป็น', 'วัน', 'ธรรมดา', 'คน', 'ไม่ค่อย', 'เยอะ', 'เท่าไหร่', 'ค่ะ', 'กว้างขวาง', 'จุ', 'คน', 'ได้', 'เยอะ', 'แต่ถ้า', 'คน', 'แน่น', 'ๆ', 'ก็', 'รู้สึก', 'แออัด', 'เหมือนกัน', 'ค่ะ', 'สำหรับ', 'อาหาร', 'ของ', 'สาขา', 'นี้', 'ถ้า', 'เทียบ', 'กับ', 'สาขา', 'อื่น', 'ที่', 'เคย', 'กิน', 'แล้ว', 'รู้สึก', 'ว่า', 'สด', 'สะอาด', 'ใน', 'ระดับ', 'ใช้ได้', 'ค่ะ', 'แต่', 'ของ', 'บน', 'สายพาน', 'ออก', 'ไม่', 'ครบ', 'นะคะ', 'บาง', 'รายการ', 'ต้อง', 'ขอ', 'จาก', 'พนักงาน', 'ค่ะ', 'ถึง', 'จะได้', 'กิน', 'แต่', 'กุ้ง', 'สด', 'ออกมา', 'ตลอด', 'ค่ะ', 'ไม่', 'ขาด', 'ถูกใจ', 'มาก', 'เพราะ', 'วันนี้', 'ตั้ง', 'ใจมา', 'กิน', 'กุ้ง', 'ราคา', 'บุฟเฟ่ต์', '359', 'Net', '/คน', 'กิน', 'ได้', '1', 'ชั่วโมง', '15', 'นาที', 'โดยประมาณ', 'ค่ะ', 'อาหาร', 'ที่', 'ทาน', 'วันนี้', '-', 'ซูชิ', 'รสชาติ', 'ธรรมดา', 'ค่ะ', 'ปลาดิบ', 'สด', 'ใช้ได้', '-', 'โอ', 'เด้ง', 'ส่วนใหญ่', 'เป็น', 'ลูกชิ้น', 'รสชาติ', 'โอเค', 'เลย', '-', 'กุ้ง', 'เทมปุระ', 'ทอด', 'มา', 'ได้', 'กรอ', 'บดี', 'ไม่', 'อม', 'น้ำมัน', 'แต่', 'แป้ง', 'หนา', 'ไป', 'นิด', '-', 'เนื้อ', 'สไลด์', 'เนื้อ', 'ส่วน', 'นี้', 'ติด', 'มัน', 'มา', 'นิดๆ', 'นุ่ม', 'ดี', 'ค่ะ', '-', 'เบคอน', 'สไลด์', 'มา', 'บาง', 'มาก', 'นุ่ม', 'และ', 'หอม', 'อร่อย', '-', 'กุ้ง', 'สด', 'ปอกเปลือก', 'มา', 'อย่างดี', 'จาก', 'ที่', 'เมื่อก่อน', 'เหมือน', 'กุ้ง', 'ขาดสารอาหาร', 'สด', 'ดี', 'ตัว', 'ใหญ่', 'ใช้ได้', 'กิน', 'คนเดียว', '5', 'จาน', 'ได้', 'ค่ะ', '-', 'หอย', 'ตลับ', 'ตัว', 'ไม่', 'ใหญ่', 'มาก', 'แต่', 'สด', 'เนื้อ', 'หวาน', 'เด้ง', 'ดี', '-', 'ตับ', 'หมู', 'สด', 'และ', 'นุ่ม', 'ดี', '-', 'น้ำ', 'ฝรั่ง', 'เปรี้ยวหวาน', 'ชื่น', 'ใจดี', 'แต่', 'วาง', 'ทิ้ง', 'ไว้', 'นานๆ', 'แล้ว', 'จืด', 'ค่ะ', '-', 'โฟลต', 'ไอศกรีม', 'วานิลา', 'เมนู', 'ของหวาน', 'ที่', 'ทำ', 'เอง', 'โดย', 'การ', 'กด', 'สไปรท์', 'ครึ่ง', 'แก้ว', 'แล้ว', 'ตัก', 'ไอติม', 'วานิลา', '1', 'ลูก', 'ใส่', 'ลง', 'ไป', 'ก็', 'กิน', 'ได้', 'แล้ว', 'ค่ะ', 'หวาน', 'หอม', 'ชื่น', 'ใจดี', 'ค่ะ', 'โดยรวม', 'แล้ว', 'สำหรับ', 'มื้อ', 'นี้', 'ถือว่า', 'คุ้ม', 'ค่ะ', 'ไม่', 'ผิดหวัง', 'ที่', 'กลับมา', 'อีกครั้ง', 'แต่', 'ขอ', 'ติง', 'เรื่อง', 'เวลา', '1', 'ชั่วโมง', '15', 'นาที', 'ส่วนตัว', 'แล้ว', 'คิดว่า', 'น้อย', 'ไป', 'หน่อย', 'ค่ะ', 'ใคร', 'ที่', 'ไป', 'กิน', 'ก็', 'ดู', 'เวลา', 'นิดนึง', 'อย่า', 'กิน', 'เพลิน', 'เหลือ', 'เวลา', 'ไว้', 'ตอน', 'เช็คบิล', 'ด้วย', 'ก็ดี', 'ค่ะ', 'เพราะ', 'ถ้า', 'คน', 'รอ', 'เช็คบิล', 'เยอะ', 'แล้ว', 'ยัง', 'ไม่', 'ถึง', 'คิว', 'เรา', 'ถ้า', 'เกิน', 'เวลา', 'จะ', 'โดน', 'ปรับ', 'เอา', 'ได้', 'นะคะ', 'เพื่อน', 'โดน', 'มา', 'แล้ว', 'ค่ะ']\n",
            "['เมื่อ', 'หลาย', 'วันก่อน', 'นัด', 'หา', 'ข้าว', 'ทาน', 'กับ', 'เดอะแกงค์', 'และ', 'ก็', 'ลงเอย', 'ด้วย', 'อาหาร', 'บุฟเฟ่ต์', 'นี้', 'ค่ะ', 'นี้', 'ตั้ง', 'อยุ่', 'ชั้น G', 'ใหญ่', 'พอสมควร', 'ราคา', 'ต่อ', 'คน', '359', 'บาท', 'เวลา', '1', '15', 'ชม.', 'รสชาติ', 'อาหารสด', 'ใหม่', 'ห', 'มุ', 'สไลด์', 'รสชาติ', 'ดี', 'นุ่ม', 'อร่อย', 'ซูชิ', 'พอ', 'ทาน', 'ได้', 'ค่ะ', 'ออก', 'ตลอด', 'ไอศกรีม', 'หลาก', 'รส', 'ว', 'นิ', 'ลา', 'สตอ', 'เบอร์', 'รี่', 'ชอค', 'โก', 'แล', 'ต', 'มะนาว', 'ฯ', 'และ', 'อื่นๆ', 'อีก', 'มากมาย']\n",
            "['บอก', 'ตรงๆ', 'ว่า', 'หลาย', 'ครั้งที่', 'เลือก', 'จะ', 'กิน', 'บุฟเฟต์', 'จะ', 'ต้อง', 'อาราม', 'ณ', '์', 'เสีย', 'กับ', 'การ', 'รอ', 'คิว', 'นานๆ', 'จน', 'สุดท้าย', 'เลิก', 'รอ', 'ไม่', 'กิน', 'มัน', 'ซะ', 'เลย', 'ยิ่ง', 'Shabushi', 'นะ', 'คน', 'เยอะ', 'ตลอด', 'แต่', 'วันนี้', 'โชคดี', 'คน', 'น้อย', 'น่าจะ', 'รอ', 'ได้', 'ขอ', 'จัด', 'ซะ', 'หน่อย', 'พลาด', 'มา', 'หลาย', 'รอบ', 'หล่ะ', 'เลย', 'ไป', 'จอง', 'คิว', 'วันนี้', 'มา', 'กินที่', 'สาขา', 'เดอะมอลล์', 'บางกะปิ', 'อยู่', 'ชั้น G', 'ใกล้ๆ', 'กับ', 'ประตู', 'ป', 'ทาง', 'เข้าหน้า', 'ห้าง', 'เลย', 'พอได้', 'ที่นั่ง', 'แล้วก็', 'หยิบ', 'ๆ', 'ทุก', 'อย่างที่', 'อยาก', 'กิน', 'แบบ', 'ชั่วโมง', 'ครึ่ง', 'นับจากนี้', 'พี่', 'ขอ', 'จัด', 'เต็ม', 'โดย', 'ร่วม', 'ๆ', 'เรา', 'ว่า', 'พวก', 'เนื้อ', 'ผัก', 'ชู', 'ชิ', 'ก็', 'ดู', 'โอเค', 'นะ', 'ผัก', 'ดู', 'สด', 'กว่า', 'หลาย', 'ๆ', 'ที่', 'เป็น', 'บุฟเฟต์', 'สายพาน', 'อื่นๆ', 'พนักงาน', 'ขยัน', 'เดิน', 'ดี', 'ราคา', 'สาม', 'ร้อย', 'กว่า', 'บาท', 'ต่อ', 'คน', 'ก็', 'ไม่', 'แพง', 'นะ']\n",
            "['สวัสดี', 'ครับ', 'วันนี้', 'จะ', 'ขอ', 'มา', 'รีวิว', 'ชาบูชิ', 'บุ', 'ฟเฟ', 'ขวัญใจ', 'ของ', 'ใครๆ', 'หลาย', 'คน', 'เมนู', 'ทาง', 'มี', 'ให้', 'เลือก', 'มากมาย', 'ผ่าน', 'ระบบ', 'สายพาน', 'ที่', 'ให้', 'ลูกค้า', 'สามารถ', 'หยิบ', 'ได้', 'อย่าง', 'ทั่วถึง', 'มี', 'ทั้ง', 'ข้อดี', 'และ', 'เสีย', '555', 'การ', 'บริการ', 'ก็ดี', 'ครับ', 'เก้', 'บ', 'จาน', 'ที่', 'ใช้แล้ว', 'อยู่', 'เรื่อย', 'น้ำ', 'ซุป', 'ก็', 'สามารถ', 'เลือก', 'ได้', 'ตาม', 'แบบ', 'ที่', 'ต้องการ', 'น้ำจิ้ม', 'ก็', 'อร่อย', 'ครับ', 'ใคร', 'มี่', 'ไม่', 'เคย', 'ทาน', 'ต้อง', 'ลอง', 'ทาน', 'ดู', 'นะ', 'ครับ', 'อร่อย', 'คุ้ม']\n",
            "['ชาบูชิ', 'สาขา', 'เดอะมอลล์', 'บางกะปิ', 'ตั้งอยู่', 'ประตู', 'หน้า', 'ห้าง', 'ตรงข้าม', 'แมค', 'โด', 'นัล', 'เลย', 'ค่ะ', 'ขนาด', 'ใหญ่โต', 'ดี', 'แต่', 'ไป', 'ทีไร', 'ต้อง', 'ต่อ', 'คิว', 'ตลอด', 'สั้น', 'บ้าง', 'ยาว', 'บ้าง', 'แล้วแต่', 'โชคชะตา', 'แต่', 'ห้าง', 'มักจะ', 'จัด', 'ซุ้ม', 'ออกร้าน', 'โน้น', 'นี่', 'ตรง', 'บริเวณ', 'ลาน', 'หน้า', 'ให้', 'เลือก', 'ชอป', 'เบาๆ', 'ระหว่าง', 'รอ', 'เป็น', 'กลยุทธ์', 'ที่', 'ดีมาก', 'ๆ', '555', 'ใน', 'ก็จะ', 'มี', 'ทั้ง', 'เคาน์เตอร์', 'ยาว', 'หน้า', 'สายพาน', 'ยาว', 'เป็นแนว', 'แบบ', 'หม้อ', 'ใคร', 'หม้อ', 'ท่าน', 'และ', 'โต๊ะ', 'แบบ', 'หมู่คณะ', 'หม้อ', 'รวมด้วย', 'อาหาร', 'บน', 'สายพาน', 'ก็', 'เคลื่อนตัว', 'มา', 'ให้', 'เลือก', 'มากมาย', 'คอ', 'เนื้อ', 'ก็', 'แน่น', 'จาน', 'ดำ', 'หยิบ', 'วาง', 'ต้ม', 'กัน', 'เลย', 'ค่า', 'น้ำ', 'ซุป', 'มี', 'ให้', 'เลือก', '3', 'แบบ', 'ใส', 'ข้น', 'ต้มยำ', 'ถ้า', 'จำ', 'ไม่', 'ผิด', 'อิอิ', 'คุณภาพ', 'อาหาร', 'ล่าสุด', 'ที่', 'ไป', 'ทาน', 'ปรับปรุง', 'ดีขึ้น', 'มาก', 'ของ', 'ทาน', 'เล่น', 'เช่น', 'ชู', 'ชิ', 'ข้าวปั้น', 'ของ', 'ทอด', 'สลัด', 'ของหวาน', 'ไอติม', 'มี', 'เมนู', 'ใหม่ๆ', 'เยอะ', 'มากขึ้น', 'และ', 'เติม', 'ตลอด', 'ยอด', 'ไป', 'เลย', 'คุ้มค่า', 'ใน', 'ราคา', '3', 'xx', 'บาท', 'แถม', 'มี', 'บัตรสมาชิก', 'เครือ', 'โออิชิ', 'ลด', 'อีก', 'มันดี', 'ตรงนี้', 'ละ', 'ค่า', '^^']\n",
            "['หลังจากที่', 'เคย', 'ลอง', 'สาขา', 'ยูเนี่ยนมอลล์', 'ไป', 'รอบ', 'นี้', 'มา', 'ที่', 'สาขา', 'เดอะมอลล์', 'บางกะปิ', 'ชั้น', '4', 'โซน', 'MCC', 'HALL', 'ด้านใน', 'สุด', 'ติดกับ', 'พวก', 'ค่ายมวย', 'ตอนแรก', 'ก็', 'นึก', 'ว่า', 'ชาบู', '199', 'ธรรมดา', 'แต่', 'ที่ไหนได้', 'มี', 'พิซซ่า', 'จาก', 'นารายพิซเซอเรีย', 'ด้วย', 'สำหรับ', 'ราคา', '199', 'บาท', 'จะ', 'ทาน', 'พวก', 'หมู', 'ได้', 'ทั้งหมด', 'รวมถึง', 'พิซซ่า', 'ของ', 'ทอด', 'ซุป', 'ต่างๆ', 'แกงเขียวหวาน', 'ได้', 'น้ำ', 'ซุป', '1', 'รสชาติ', '-', 'ถ้า', 'อยากได้', 'น้ำ', 'ซุป', 'เพิ่ม', 'เป็น', '2', 'รสชาติ', 'จ่าย', 'เพิ่ม', 'คนละ', '40', 'บาท', '-', 'น้ำดื่ม', 'รี', 'ฟี', 'ล', '39', 'บาท', '-', 'ส่วน', 'ใคร', 'อยาก', 'ทาน', 'เนื้อ', 'ก็', 'เพิ่ม', 'คนละ', '49', 'บาท', '-', 'ซูชิ', 'และ', 'ของหวาน', 'สั่ง', 'เพิ่ม', 'โดย', 'จ่าย', 'ราคา', 'ตาม', 'เมนู', 'รวมๆ', 'ก็', 'ถือว่า', 'อิ่ม', 'คุ้ม', 'ดี', 'นะ', 'ถึง', 'เบ', 'ค่อน', 'จะ', 'มัน', 'เยอะ', 'ไป', 'หน่อย', 'น้ำ', 'ซุป', 'จะ', 'ไม่', 'ได้', 'เข้มข้น', 'มาก', 'นัก', 'แต่', 'ใน', 'ราคา', 'นี้', 'มี', 'ตัวเลือก', 'ให้', 'เท่านี้', 'วันไหน', 'หิว', 'มาก', 'ๆ', 'ก็จะ', 'แวะ', 'ไป', 'ใหม่', 'แน่นอน']\n",
            "['บุฟเฟ่ต์', 'ที่', 'มี', 'โปรโมชั่น', 'หัว', 'ละ', '199', 'บาท', 'ไม่', 'รวม', 'น้ำ', 'ไม่', 'รวม', 'VAT', 'ไป', 'ทาน', 'วัน', 'ธรรมดา', 'ชอบ', 'มาก', 'เพราะ', 'ได้เวลา', 'ทาน', 'ตั้ง', '2', 'ชม.', 'เต็มๆ', 'มี', 'ค่าน้ำ', 'ซุป', 'คนละ', '10', 'บาท', 'มี', 'น้ำ', 'ซุป', 'เลือก', 'ได้', '6', 'แบบ', 'แต่', 'หม้อ', 'แบ่ง', 'ได้', '3', 'ช่อง', 'น้ำ', 'ซึป', 'ต้มยำ', 'อร่อย', 'ดี', 'ครับ', 'แนะนำ', 'ให้', 'เลือก', 'อันนี้', 'อัน', 'นึง', 'ใน', 'ชุด', 'บุฟเฟ่ต์', 'ไม่', 'มี', 'ซี', 'ฟู้ด', 'น่ะ', 'ครับ', 'แต่', 'อาหาร', 'ก็', 'มี', 'ให้', 'เลือก', 'เยอะ', 'น่ะ', 'ครับ', 'ที่', 'สำคัญ', 'มี', 'พิซซ่า', 'อยู่', 'ใน', 'ชุด', 'บุฟเฟ่ต์', 'ด้วย', 'ของ', 'นารายพิซเซอเรีย', 'รับประกัน', 'ความ', 'อร่อย', 'นอกจากนี้', 'ทุก', 'สัปดาห์', 'หลัง', 'วัน', 'หวย', 'ออก', 'เอา', 'ลอตเตอรี่', 'ที่', 'ถูกหวย', 'กิน', 'มา', 'แลก', 'ฮัน', 'นี่', 'โทส', 'ฟรี', 'น่ะ', 'ครับ', 'แนะนำ', 'ให้มา', 'ทาน', 'เลย', 'จ้า', 'บุฟเฟ่ต์', 'นี้', 'กำ', 'เงิน', 'มา', 'คนละ', '300', 'มี', 'ทอน', 'แน่นอน', 'ครับ']\n",
            "['เคย', 'รู้จัก', 'นี้', 'จาก', 'ที่', 'union', 'mall', 'ไม่', 'เคย', 'ได้', 'ลอง', 'กิน', 'แต่', 'จำได้', 'ขึ้นใจ', 'จาก', 'ชื่อ', '😆', 'จาก', 'ชื่อ', 'ก็', 'บอก', 'อยู่แล้ว', 'ว่า', 'เป็น', 'ชาบู', 'แต่', 'เนื่องจาก', 'เป็น', 'ของ', 'Narai', 'pizzeria', 'ใน', 'ไลน์', 'อาหาร', 'จึง', 'มี', 'pizza', 'ด้วย', 'ซะ', 'เลย', 'ยังมี', 'สปา', 'เก', 'ตตี้', 'ไก่', 'นิว', 'ออ', 'ลี', 'น', 'อาหาร', 'ปรุง', 'สุก', 'ก็', 'มี', 'อย่าง', 'อื่น', 'อีก', 'นิดหน่อย', 'ที่', 'รู้สึก', 'ว่า', 'อร่อย', 'เลย', 'คือ', 'ข้าวมันไก่', '🤣', 'ตัดกำลัง', 'จริงๆ', 'พวก', 'ของสด', 'ก็', 'หลากหลาย', 'บางส่วน', 'อยู่', 'ใน', 'ตู้', 'ให้', 'หยิบ', 'บางส่วน', 'ก็', 'ใช้', 'เขียน', 'สั่ง', 'เอา', 'คุณภาพ', 'ก็', 'เหมาะสม', 'ตาม', 'ราคา', 'บริการ', 'ค่อนข้าง', 'ดี', 'พนักงาน', 'ขยัน']\n",
            "['อร่อย', 'มาก', 'ค่ะ', 'คุ้มค่า', 'สมราคา', 'บุฟเฟ่', 'หมู', 'ผัก', 'ต่างๆ', 'รวม', 'น้ำ', 'ด้วย', 'จบ', 'ที่', '255', '/', 'ท่าน', 'เด็ดๆ', 'คือ', 'มี', 'พิซซ่า', 'บุพ', 'เฟ่', 'ดี', 'เริส', 'มาก', 'ๆ', 'รส', 'ชาต', 'ไม่', 'กา', 'ไก่', 'เรย', 'นะ', 'คือ', 'งาน', 'ดี', 'แป้ง', 'นุ่ม', 'หอ', 'มมาก', 'ๆ', 'ตบท้าย', 'ด้วย', 'ของหวาน', 'อร่อย', 'โชค', 'ดีมาก', 'ๆ', 'ไป', 'ช่วง', 'โปรโมชั่น', 'ของหวาน', 'ราคา', '29', 'จาก', '128', 'คือ', 'เซต', 'ไอติม', '+', 'บรา', 'ว', 'นี่', '+', 'วิป', 'ครีม', 'อร่อย', 'ย', 'มาก', 'กก', 'บุฟเฟ่', 'จุก', 'ๆ', 'ปิดท้าย', 'ของหวาน', 'แบบ', 'สวย', 'ๆ']\n",
            "['ก็', 'ตามที่', 'เขียน', 'เลย', 'ครับ', 'ว่า', 'ถ้าจะ', 'จ่าย', 'ใน', 'ราคา', '199', 'บาท', 'คุณ', 'ต้อง', 'จ่าย', 'ด้วย', 'เงินสด', 'นะ', 'ครับ', 'และ', 'ราคา', 'นี้', 'ยัง', 'ไม่', 'รวม', 'น้ำ', 'และ', 'VAT', '7', '%', 'รวมถึง', 'อย่าง', 'อื่นๆ', 'ที่', 'คุณ', 'สั่ง', 'เพิ่ม', 'ได้', 'เช่น', 'เนื้อวัว', 'ซูชิ', 'ของหวาน', 'เป็นต้น', 'แม้', 'จะ', 'ดู', 'แปลก', 'หน่อย', 'แต่ก็', 'ถือว่า', 'โอเค', 'มาก', 'แม้', 'ซูชิ', 'ต้อง', 'สั่ง', 'เพิ่ม', 'แต่ก็', 'มี', 'อาหาร', 'อื่นๆ', 'ทดแทน', 'โดยเฉพาะ', 'พิซซ่า', 'ที่ได้', 'ลอง', 'ทั้ง', '3', 'หน้า', 'อร่อย', 'มาก', 'และ', 'ถ้า', 'กิน', 'ตอน', 'นำ', 'ของ', 'มา', 'ลง', 'สดๆ ร้อนๆ', 'จะ', 'อร่อย', 'กว่า', 'ปรกติ', 'ครับ']\n"
          ],
          "name": "stdout"
        },
        {
          "output_type": "execute_result",
          "data": {
            "text/html": [
              "<div>\n",
              "<style scoped>\n",
              "    .dataframe tbody tr th:only-of-type {\n",
              "        vertical-align: middle;\n",
              "    }\n",
              "\n",
              "    .dataframe tbody tr th {\n",
              "        vertical-align: top;\n",
              "    }\n",
              "\n",
              "    .dataframe thead th {\n",
              "        text-align: right;\n",
              "    }\n",
              "</style>\n",
              "<table border=\"1\" class=\"dataframe\">\n",
              "  <thead>\n",
              "    <tr style=\"text-align: right;\">\n",
              "      <th></th>\n",
              "      <th>Review ID</th>\n",
              "      <th>Restaurant_ID</th>\n",
              "      <th>Restaurant</th>\n",
              "      <th>User</th>\n",
              "      <th>Headline</th>\n",
              "      <th>Review</th>\n",
              "      <th>Rating</th>\n",
              "      <th>Review_tokenized</th>\n",
              "    </tr>\n",
              "  </thead>\n",
              "  <tbody>\n",
              "    <tr>\n",
              "      <th>0</th>\n",
              "      <td>1</td>\n",
              "      <td>352696Px-mo-mo-paradise-เดอะมอลล์-บางกะปิ</td>\n",
              "      <td>Mo-Mo-Paradise (โม โม พาราไดซ์) เดอะมอลล์ บางกะปิ</td>\n",
              "      <td>7b16469831074f7abc7824745ee75212</td>\n",
              "      <td>ที่สำคัญของร้านนี้คือบริการดีมากพนักงานน่ารักส...</td>\n",
              "      <td>ที่สำคัญของร้านนี้คือบริการดีมากพนักงานน่ารักส...</td>\n",
              "      <td>5.0</td>\n",
              "      <td>บริการ,ดีมาก,พนักงาน,น่ารัก,สะอาดสะอ้าน,ใส่ใจ,...</td>\n",
              "    </tr>\n",
              "    <tr>\n",
              "      <th>1</th>\n",
              "      <td>2</td>\n",
              "      <td>352696Px-mo-mo-paradise-เดอะมอลล์-บางกะปิ</td>\n",
              "      <td>Mo-Mo-Paradise (โม โม พาราไดซ์) เดอะมอลล์ บางกะปิ</td>\n",
              "      <td>pakkaramonpondej</td>\n",
              "      <td>รสชาติเหมือนทุกสาขา แต่สาขานี้ บริการดี ที่นั่งดี</td>\n",
              "      <td>นึกถึงชาบูญี่ปุ่นยังไงก็ต้อง คิดถึงโมโม่ พาราไ...</td>\n",
              "      <td>5.0</td>\n",
              "      <td>นึกถึง,ชาบู,ญี่ปุ่น,คิดถึง,โมโม่,พาราไดซ์,คุณภ...</td>\n",
              "    </tr>\n",
              "    <tr>\n",
              "      <th>2</th>\n",
              "      <td>3</td>\n",
              "      <td>352696Px-mo-mo-paradise-เดอะมอลล์-บางกะปิ</td>\n",
              "      <td>Mo-Mo-Paradise (โม โม พาราไดซ์) เดอะมอลล์ บางกะปิ</td>\n",
              "      <td>saanowy</td>\n",
              "      <td>ชาบูพรีเมี่ยมสไตล์ญี่ปุ่น เนื้อดีมากกก</td>\n",
              "      <td>มาทานช่วงนี้ สามารถนั่งโต๊ะเดียวกัน หม้อเดียวก...</td>\n",
              "      <td>4.0</td>\n",
              "      <td>ทาน,นั่ง,โต๊ะ,หม้อ,โต๊ะ,ยังมี,ฉาก,กั้น,น้ำ,ซุป...</td>\n",
              "    </tr>\n",
              "    <tr>\n",
              "      <th>3</th>\n",
              "      <td>4</td>\n",
              "      <td>352696Px-mo-mo-paradise-เดอะมอลล์-บางกะปิ</td>\n",
              "      <td>Mo-Mo-Paradise (โม โม พาราไดซ์) เดอะมอลล์ บางกะปิ</td>\n",
              "      <td>ployynp</td>\n",
              "      <td>เนื้อดี ไอติมดี คุ้มค่าดี</td>\n",
              "      <td>ถ้านึกถึงชาบูที่มีเนื้อเน้นๆ ในราคาไม่โหดจนเกิ...</td>\n",
              "      <td>4.0</td>\n",
              "      <td>นึกถึง,ชาบู,เนื้อ,ราคา,โหด,เกินไป,นึกถึง,โมโม่...</td>\n",
              "    </tr>\n",
              "    <tr>\n",
              "      <th>4</th>\n",
              "      <td>5</td>\n",
              "      <td>352696Px-mo-mo-paradise-เดอะมอลล์-บางกะปิ</td>\n",
              "      <td>Mo-Mo-Paradise (โม โม พาราไดซ์) เดอะมอลล์ บางกะปิ</td>\n",
              "      <td>665a902b335b434ab489f00f2fbb477e</td>\n",
              "      <td>อาหารมีคุณภาพ บริการดีค่ะ</td>\n",
              "      <td>เดินมาหน้าร้านแล้วได้กลิ่นชาบูหอมมาก ๆ  ประกอบ...</td>\n",
              "      <td>5.0</td>\n",
              "      <td>เดิน,หน้า,ได้กลิ่น,ชาบู,หอ,มมาก,โปร,บัตรเครดิต...</td>\n",
              "    </tr>\n",
              "    <tr>\n",
              "      <th>5</th>\n",
              "      <td>6</td>\n",
              "      <td>352696Px-mo-mo-paradise-เดอะมอลล์-บางกะปิ</td>\n",
              "      <td>Mo-Mo-Paradise (โม โม พาราไดซ์) เดอะมอลล์ บางกะปิ</td>\n",
              "      <td>12f2b56b28bb4849a92690cedc1cc50a</td>\n",
              "      <td>กินให้อิ่ม ที่ momo</td>\n",
              "      <td>ร้านบุฟเฟ่ ชาบูแนวญี่ปุ่น สายเนื้อหมู เนื้อวัว...</td>\n",
              "      <td>4.0</td>\n",
              "      <td>บุฟเฟ่,ชาบู,แนว,ญี่ปุ่น,สาย,เนื้อหมู,เนื้อวัว,...</td>\n",
              "    </tr>\n",
              "    <tr>\n",
              "      <th>6</th>\n",
              "      <td>7</td>\n",
              "      <td>352696Px-mo-mo-paradise-เดอะมอลล์-บางกะปิ</td>\n",
              "      <td>Mo-Mo-Paradise (โม โม พาราไดซ์) เดอะมอลล์ บางกะปิ</td>\n",
              "      <td>f2628bf47a394345b133fec76a79661d</td>\n",
              "      <td>ชาบู - สุกกี้สไลต์ญี่ปุ่นที่แท้ทรู</td>\n",
              "      <td>Number 20 : โมโม – พาราไดส์ (สาขาเดอะมอลบางกะป...</td>\n",
              "      <td>4.0</td>\n",
              "      <td>Number,20,โม,โม,พารา,ได,ส์,สาขา,เดอะ,มอ,ล,บางก...</td>\n",
              "    </tr>\n",
              "    <tr>\n",
              "      <th>7</th>\n",
              "      <td>8</td>\n",
              "      <td>352696Px-mo-mo-paradise-เดอะมอลล์-บางกะปิ</td>\n",
              "      <td>Mo-Mo-Paradise (โม โม พาราไดซ์) เดอะมอลล์ บางกะปิ</td>\n",
              "      <td>backscrash</td>\n",
              "      <td>ร้านชาบูเฟรนไชส์ ที่ราคาเหมาะสมกับคุณภาพ ถือว่...</td>\n",
              "      <td>ร้านชาบูเฟรนไชส์รสชาติดีมากคุ้มค่าเหมาะสมกับรา...</td>\n",
              "      <td>4.0</td>\n",
              "      <td>ชาบู,เฟรนไชส์,รสชาติ,ดีมาก,คุ้มค่า,เหมาะสม,ราค...</td>\n",
              "    </tr>\n",
              "    <tr>\n",
              "      <th>8</th>\n",
              "      <td>9</td>\n",
              "      <td>4621tm-shabushi-เดอะมอลล์บางกะปิ-ชั้น-g</td>\n",
              "      <td>Shabushi (ชาบูชิ) เดอะมอลล์บางกะปิ ชั้น G</td>\n",
              "      <td>a477a5812ada4d5b80fd04fca22bdbca</td>\n",
              "      <td>อร่อยคุ้ม ของทานเล่นเยอะมาก</td>\n",
              "      <td>มา านที่ขาบูชิต้องมาตอนหิว ไม่งั้นจะไม่คุ้มนะค...</td>\n",
              "      <td>4.0</td>\n",
              "      <td>มาน,ขา,บู,ชิ,ตอน,หิว,ไม่งั้น,คุ้ม,ฮ่า,เมนู,ของ...</td>\n",
              "    </tr>\n",
              "    <tr>\n",
              "      <th>9</th>\n",
              "      <td>10</td>\n",
              "      <td>4621tm-shabushi-เดอะมอลล์บางกะปิ-ชั้น-g</td>\n",
              "      <td>Shabushi (ชาบูชิ) เดอะมอลล์บางกะปิ ชั้น G</td>\n",
              "      <td>fd2ba94ec1bc4948ae109e2cb6c9cbc6</td>\n",
              "      <td>ทานอีก ชอบกุ้งทอดเทมปุระ</td>\n",
              "      <td>ใครชอบกุ้งทอดเทมปุระ แค่กุ้งเทมปุระก็คุ้มแล้ว ...</td>\n",
              "      <td>3.0</td>\n",
              "      <td>ชอบ,กุ้ง,ทอด,เทมปุระ,กุ้ง,เทมปุระ,คุ้ม,ทาน,ดึก...</td>\n",
              "    </tr>\n",
              "    <tr>\n",
              "      <th>10</th>\n",
              "      <td>11</td>\n",
              "      <td>4621tm-shabushi-เดอะมอลล์บางกะปิ-ชั้น-g</td>\n",
              "      <td>Shabushi (ชาบูชิ) เดอะมอลล์บางกะปิ ชั้น G</td>\n",
              "      <td>ployynp</td>\n",
              "      <td>บุฟเฟ่ต์คุ้มๆในห้าง</td>\n",
              "      <td>กลับมาอัพเดทราคาชาบูชิ ตอนนี้อยู่ที่ 399 บาท n...</td>\n",
              "      <td>3.0</td>\n",
              "      <td>กลับมา,อัพเดท,ราคา,ชาบูชิ,ตอนนี้,399,บาท,net,ท...</td>\n",
              "    </tr>\n",
              "    <tr>\n",
              "      <th>11</th>\n",
              "      <td>12</td>\n",
              "      <td>4621tm-shabushi-เดอะมอลล์บางกะปิ-ชั้น-g</td>\n",
              "      <td>Shabushi (ชาบูชิ) เดอะมอลล์บางกะปิ ชั้น G</td>\n",
              "      <td>c08b2776067a4026b882abfc6fca8330</td>\n",
              "      <td>เปลี่ยนจากกุ้งขาดสารอาหารเป็นกุ้งปอกเปลือกแล้ว...</td>\n",
              "      <td>ห่างหายไปนานสำหรับชาบูชิ ตั้งแต่ทางร้านได้ปรับ...</td>\n",
              "      <td>3.0</td>\n",
              "      <td>ห่างหาย,สำหรับ,ชาบูชิ,ขึ้นราคา,แถม,ลด,เวลา,คุณ...</td>\n",
              "    </tr>\n",
              "    <tr>\n",
              "      <th>12</th>\n",
              "      <td>13</td>\n",
              "      <td>4621tm-shabushi-เดอะมอลล์บางกะปิ-ชั้น-g</td>\n",
              "      <td>Shabushi (ชาบูชิ) เดอะมอลล์บางกะปิ ชั้น G</td>\n",
              "      <td>a96ec47b6cff4bd1834c90d603ef0a7e</td>\n",
              "      <td>อิ่ม อร่อย ฝุดฝุด</td>\n",
              "      <td>เมื่อหลายวันก่อนนัดหาข้าวทานกับเดอะแกงค์ และก็...</td>\n",
              "      <td>4.0</td>\n",
              "      <td>วันก่อน,นัด,หา,ข้าว,ทาน,เดอะแกงค์,ลงเอย,อาหาร,...</td>\n",
              "    </tr>\n",
              "    <tr>\n",
              "      <th>13</th>\n",
              "      <td>14</td>\n",
              "      <td>4621tm-shabushi-เดอะมอลล์บางกะปิ-ชั้น-g</td>\n",
              "      <td>Shabushi (ชาบูชิ) เดอะมอลล์บางกะปิ ชั้น G</td>\n",
              "      <td>a6991f1e0e9b4916ab3ca91d86f8e481</td>\n",
              "      <td>จัดให้เต็มคราบกับชั่วโมงครึ่ง@Shabushi</td>\n",
              "      <td>บอกตรงๆว่าหลายครั้งที่เลือกจะกินบุฟเฟต์จะต้องอ...</td>\n",
              "      <td>3.0</td>\n",
              "      <td>เลือก,กิน,บุฟเฟต์,อาราม,,รอ,คิว,สุดท้าย,เลิก,ร...</td>\n",
              "    </tr>\n",
              "    <tr>\n",
              "      <th>14</th>\n",
              "      <td>15</td>\n",
              "      <td>4621tm-shabushi-เดอะมอลล์บางกะปิ-ชั้น-g</td>\n",
              "      <td>Shabushi (ชาบูชิ) เดอะมอลล์บางกะปิ ชั้น G</td>\n",
              "      <td>7eb0c7d8683e407f83cc4d18e51d800d</td>\n",
              "      <td>ชาบู ชาบูชิ</td>\n",
              "      <td>สวัสดีครับวันนี้จะขอมารีวิวร้านชาบูชิ บุฟเฟขวั...</td>\n",
              "      <td>4.0</td>\n",
              "      <td>สวัสดี,รีวิว,ชาบูชิ,บุ,ฟเฟ,ขวัญใจ,คน,เมนู,เลือ...</td>\n",
              "    </tr>\n",
              "    <tr>\n",
              "      <th>15</th>\n",
              "      <td>16</td>\n",
              "      <td>4621tm-shabushi-เดอะมอลล์บางกะปิ-ชั้น-g</td>\n",
              "      <td>Shabushi (ชาบูชิ) เดอะมอลล์บางกะปิ ชั้น G</td>\n",
              "      <td>qvanqvan</td>\n",
              "      <td>บุฟเฟต์น้ำเดือด สายพานร่อน</td>\n",
              "      <td>ชาบูชิ สาขาเดอะมอลล์บางกะปิ ตั้งอยู่ประตูหน้าห...</td>\n",
              "      <td>4.0</td>\n",
              "      <td>ชาบูชิ,สาขา,เดอะมอลล์,บางกะปิ,ตั้งอยู่,ประตู,ห...</td>\n",
              "    </tr>\n",
              "    <tr>\n",
              "      <th>16</th>\n",
              "      <td>17</td>\n",
              "      <td>436045MJ-ข้าน้อยขอชาบู</td>\n",
              "      <td>ข้าน้อยขอชาบู</td>\n",
              "      <td>ployynp</td>\n",
              "      <td>บุฟเฟ่ต์ชาบูและพิซซ่าไม่อั้นในราคา 199 บาท เน้...</td>\n",
              "      <td>หลังจากที่เคยลองสาขายูเนี่ยนมอลล์ไป รอบนี้มาที...</td>\n",
              "      <td>4.0</td>\n",
              "      <td>หลังจากที่,ลอง,สาขา,ยูเนี่ยนมอลล์,รอบ,สาขา,เดอ...</td>\n",
              "    </tr>\n",
              "    <tr>\n",
              "      <th>17</th>\n",
              "      <td>18</td>\n",
              "      <td>436045MJ-ข้าน้อยขอชาบู</td>\n",
              "      <td>ข้าน้อยขอชาบู</td>\n",
              "      <td>27a91236fe5e4559a4f097c97a480781</td>\n",
              "      <td>ร้านบุฟเฟ่ต์ ราคามิตรภาพ อยู่ชั้น4 ติดโรงหนัง ...</td>\n",
              "      <td>ร้านบุฟเฟ่ต์ที่มีโปรโมชั่นหัวละ199บาท ไม่รวมน้...</td>\n",
              "      <td>4.0</td>\n",
              "      <td>บุฟเฟ่ต์,โปรโมชั่น,หัว,199,บาท,น้ำ,VAT,ทาน,ธรร...</td>\n",
              "    </tr>\n",
              "    <tr>\n",
              "      <th>18</th>\n",
              "      <td>19</td>\n",
              "      <td>436045MJ-ข้าน้อยขอชาบู</td>\n",
              "      <td>ข้าน้อยขอชาบู</td>\n",
              "      <td>0b81d251e4db486f9bcdba73b374ed99</td>\n",
              "      <td>ของหลากหลาย ปนๆ งงๆ นิดหน่อย</td>\n",
              "      <td>เคยรู้จักร้านนี้จากที่ union mall ไม่เคยได้ลอง...</td>\n",
              "      <td>3.0</td>\n",
              "      <td>รู้จัก,union,mall,ลอง,กิน,จำได้,ขึ้นใจ,ชื่อ,😆,...</td>\n",
              "    </tr>\n",
              "    <tr>\n",
              "      <th>19</th>\n",
              "      <td>20</td>\n",
              "      <td>436045MJ-ข้าน้อยขอชาบู</td>\n",
              "      <td>ข้าน้อยขอชาบู</td>\n",
              "      <td>40e0e087f3914fd49a8933b5a29936ca</td>\n",
              "      <td>อร่อยมากค่ะ คุ้มค่าสมราคา บุฟเฟ่หมูผักต่างๆ รว...</td>\n",
              "      <td>อร่อยมากค่ะ คุ้มค่าสมราคา บุฟเฟ่หมูผักต่างๆ รว...</td>\n",
              "      <td>5.0</td>\n",
              "      <td>อร่อย,คุ้มค่า,สมราคา,บุฟเฟ่,หมู,ผัก,น้ำ,จบ,255...</td>\n",
              "    </tr>\n",
              "    <tr>\n",
              "      <th>20</th>\n",
              "      <td>21</td>\n",
              "      <td>436045MJ-ข้าน้อยขอชาบู</td>\n",
              "      <td>ข้าน้อยขอชาบู</td>\n",
              "      <td>41841cb99ea243a3a8d4b006e946c586</td>\n",
              "      <td>แม้จะแปลกบ้าง แต่ก็ถือว่าอยู่ในเกณฑ์ที่ดี มีอา...</td>\n",
              "      <td>ก็ตามที่เขียนเลยครับ ว่า ถ้าจะจ่ายในราคา 199 บ...</td>\n",
              "      <td>NaN</td>\n",
              "      <td>จ่าย,ราคา,199,บาท,จ่าย,เงินสด,ราคา,น้ำ,VAT,7,%...</td>\n",
              "    </tr>\n",
              "  </tbody>\n",
              "</table>\n",
              "</div>"
            ],
            "text/plain": [
              "    Review ID  ...                                   Review_tokenized\n",
              "0           1  ...  บริการ,ดีมาก,พนักงาน,น่ารัก,สะอาดสะอ้าน,ใส่ใจ,...\n",
              "1           2  ...  นึกถึง,ชาบู,ญี่ปุ่น,คิดถึง,โมโม่,พาราไดซ์,คุณภ...\n",
              "2           3  ...  ทาน,นั่ง,โต๊ะ,หม้อ,โต๊ะ,ยังมี,ฉาก,กั้น,น้ำ,ซุป...\n",
              "3           4  ...  นึกถึง,ชาบู,เนื้อ,ราคา,โหด,เกินไป,นึกถึง,โมโม่...\n",
              "4           5  ...  เดิน,หน้า,ได้กลิ่น,ชาบู,หอ,มมาก,โปร,บัตรเครดิต...\n",
              "5           6  ...  บุฟเฟ่,ชาบู,แนว,ญี่ปุ่น,สาย,เนื้อหมู,เนื้อวัว,...\n",
              "6           7  ...  Number,20,โม,โม,พารา,ได,ส์,สาขา,เดอะ,มอ,ล,บางก...\n",
              "7           8  ...  ชาบู,เฟรนไชส์,รสชาติ,ดีมาก,คุ้มค่า,เหมาะสม,ราค...\n",
              "8           9  ...  มาน,ขา,บู,ชิ,ตอน,หิว,ไม่งั้น,คุ้ม,ฮ่า,เมนู,ของ...\n",
              "9          10  ...  ชอบ,กุ้ง,ทอด,เทมปุระ,กุ้ง,เทมปุระ,คุ้ม,ทาน,ดึก...\n",
              "10         11  ...  กลับมา,อัพเดท,ราคา,ชาบูชิ,ตอนนี้,399,บาท,net,ท...\n",
              "11         12  ...  ห่างหาย,สำหรับ,ชาบูชิ,ขึ้นราคา,แถม,ลด,เวลา,คุณ...\n",
              "12         13  ...  วันก่อน,นัด,หา,ข้าว,ทาน,เดอะแกงค์,ลงเอย,อาหาร,...\n",
              "13         14  ...  เลือก,กิน,บุฟเฟต์,อาราม,,รอ,คิว,สุดท้าย,เลิก,ร...\n",
              "14         15  ...  สวัสดี,รีวิว,ชาบูชิ,บุ,ฟเฟ,ขวัญใจ,คน,เมนู,เลือ...\n",
              "15         16  ...  ชาบูชิ,สาขา,เดอะมอลล์,บางกะปิ,ตั้งอยู่,ประตู,ห...\n",
              "16         17  ...  หลังจากที่,ลอง,สาขา,ยูเนี่ยนมอลล์,รอบ,สาขา,เดอ...\n",
              "17         18  ...  บุฟเฟ่ต์,โปรโมชั่น,หัว,199,บาท,น้ำ,VAT,ทาน,ธรร...\n",
              "18         19  ...  รู้จัก,union,mall,ลอง,กิน,จำได้,ขึ้นใจ,ชื่อ,😆,...\n",
              "19         20  ...  อร่อย,คุ้มค่า,สมราคา,บุฟเฟ่,หมู,ผัก,น้ำ,จบ,255...\n",
              "20         21  ...  จ่าย,ราคา,199,บาท,จ่าย,เงินสด,ราคา,น้ำ,VAT,7,%...\n",
              "\n",
              "[21 rows x 8 columns]"
            ]
          },
          "metadata": {
            "tags": []
          },
          "execution_count": 113
        }
      ]
    },
    {
      "cell_type": "markdown",
      "metadata": {
        "id": "ENsSo82d4wVz"
      },
      "source": [
        "# Simple words count"
      ]
    },
    {
      "cell_type": "code",
      "metadata": {
        "colab": {
          "base_uri": "https://localhost:8080/"
        },
        "id": "TdbaK7-k4vQz",
        "outputId": "aff2a39b-7302-49c1-d484-3c99527d4b07"
      },
      "source": [
        "df1 = df\n",
        "df1 = (df1['Review_tokenized'].str.split(pat=',', expand=True)\n",
        "              .stack()\n",
        "              .value_counts()\n",
        "              .rename_axis('vals')\n",
        "              .reset_index(name='count'))\n",
        "print (df1)"
      ],
      "execution_count": 114,
      "outputs": [
        {
          "output_type": "stream",
          "text": [
            "        vals  count\n",
            "0        น้ำ     28\n",
            "1        ทาน     25\n",
            "2        กิน     23\n",
            "3      อร่อย     22\n",
            "4      เลือก     19\n",
            "..       ...    ...\n",
            "596      จอง      1\n",
            "597   เลี่ยน      1\n",
            "598  วันหยุด      1\n",
            "599      แฟน      1\n",
            "600    เครือ      1\n",
            "\n",
            "[601 rows x 2 columns]\n"
          ],
          "name": "stdout"
        }
      ]
    },
    {
      "cell_type": "markdown",
      "metadata": {
        "id": "msbPyN1EMjt6"
      },
      "source": [
        "# Text to Emotion"
      ]
    },
    {
      "cell_type": "code",
      "metadata": {
        "id": "jhGrgAH_MoPz"
      },
      "source": [
        "# df2 = df\n",
        "# df2['Trans'] = df2['Review'].apply(lambda x: ThEnTranslator().translate(x))\n",
        "# df2['Emotion'] = df2['Trans'].apply(lambda x: te.get_emotion(x))"
      ],
      "execution_count": 115,
      "outputs": []
    },
    {
      "cell_type": "code",
      "metadata": {
        "id": "qWp3QGAvd-sf"
      },
      "source": [
        "# df2[['Review','Trans','Emotion']].head()"
      ],
      "execution_count": 116,
      "outputs": []
    },
    {
      "cell_type": "markdown",
      "metadata": {
        "id": "q37TFWr6441e"
      },
      "source": [
        "# Create Dictionary\n",
        "\n"
      ]
    },
    {
      "cell_type": "code",
      "metadata": {
        "colab": {
          "base_uri": "https://localhost:8080/"
        },
        "id": "-Wo68gn_43tW",
        "outputId": "65fbba12-11f1-4e0f-cb57-f0a4c0ca4a97"
      },
      "source": [
        "documents = df['Review_tokenized'].to_list()\n",
        "texts = [[text for text in doc.split(',')] for doc in documents]\n",
        "texts = [x for x in texts if (x not in removed_words)]\n",
        "dictionary = gensim.corpora.Dictionary(texts)\n",
        "\n",
        "print(dictionary.token2id.keys())"
      ],
      "execution_count": 173,
      "outputs": [
        {
          "output_type": "stream",
          "text": [
            "dict_keys(['1', '4', '560', 'กิน', 'ข้างนอก', 'ความต้องการ', 'คอ', 'คุณภาพ', 'คุณภาพดี', 'คุ้ม', 'จำกัด', 'ซุป', 'ดำ', 'ดี', 'ดีมาก', 'ถาด', 'ถาม', 'น่ารัก', 'น้ำ', 'น้ำจิ้ม', 'บริการ', 'บาท', 'ประทับใจ', 'พนักงาน', 'พอกับ', 'รสชาติ', 'ราคา', 'สรุป', 'สะอาดสะอ้าน', 'สัน', 'หลากหลาย', 'อร่อย', 'อันนี้', 'อาหาร', 'เคลม', 'เซ็ท', 'เต้าเจี้ยว', 'เนื้อ', 'เป็ด', 'เผ็ด', 'แบบนี้', 'แปลกใหม่', 'แฟน', 'โดยรวม', 'โมจิ', 'ใส่ใจ', 'ไม่ต้อง', 'ไอติม', '21', '30', '9', 'CTW', 'Terminal', 'กา', 'การงด', 'คิดถึง', 'ชาบู', 'ญี่ปุ่น', 'ฐาน', 'ทะยอย', 'ทำงาน', 'ที่ทาง', 'นาที', 'นึกถึง', 'พนักงานบริการ', 'พระราม', 'พรีเมียม', 'พาราไดซ์', 'มาตรา', 'มีโอ', 'รายละเอียด', 'ลูกค้า', 'สมาทาน', 'สาขา', 'สู้', 'ออร์เดอร์', 'เครื่องดื่ม', 'เค้า', 'เจอ', 'เป็นกันเอง', 'เหวี่ยง', 'แจ้ง', 'โมโม่', 'โอเค', '++', '2', '555', '600', '::', 'กก', 'กรุบ', 'กั้น', 'ของหวาน', 'คนละ', 'คาว', 'คุ', 'คุ้มค่า', 'จาน', 'จิ้ม', 'จืด', 'ฉาก', 'ชอบ', 'ชาเขียว', 'ชิ้น', 'ซอย', 'ซอส', 'ตก', 'ตะ', 'ตัก', 'ตามน้ำ', 'ต่างกัน', 'ถั่ว', 'ถ่ายรูป', 'ทาน', 'นั่ง', 'นุ่ม', 'บด', 'บาร์', 'บู', 'ผัก', 'ภาษา', 'มีชื่อ', 'ยังมี', 'รส', 'รี่', 'รู้สึก', 'ลอง', 'ลิ้น', 'ลืม', 'ววว', 'สด', 'สตอ', 'สั่ง', 'สามรส', 'ส่วนตัว', 'หนึบ', 'หม้อ', 'หวานๆ', 'อยากได้', 'เข้มข้น', 'เข้ากัน', 'เค็ม', 'เนื้อวัว', 'เนื้อสัตว์', 'เนื้อหมู', 'เบอ', 'เป็นผู้ใหญ่', 'เลือก', 'เสิร์ฟ', 'เหนียว', 'เห็ด', 'แดง', 'แตก', 'แตา', 'แนว', 'แย้', 'โควิด', 'โต๊ะ', 'โร', 'ใส', 'ไก่', 'ไข่', 'ไดฟูกุ', 'ไผ่', 'ไม้', 'ไหว', '3', 'ข้าว', 'จ่าย', 'ถ้วย', 'ธรรมดา', 'เกินไป', 'เนื้อออส', 'เลี่ยน', 'โปร', 'โหด', 'ไว', 'ไอศกรีม', 'ขนม', 'ตัดสินใจ', 'ต่าง ๆ', 'ที่จะ', 'ที่นั่ง', 'บัตรเครดิต', 'มมาก', 'ลูกชิ้น', 'สบายดี', 'หน้า', 'หอ', 'เดิน', 'เด็ก', 'เส้น', 'เหมือนกับ', 'แคบ', 'ได้กลิ่น', 'คามี', 'ซึ', 'นะคะ', 'บุฟเฟ่', 'บ๋วย', 'พอน', 'รา', 'สาย', 'หยิบ', 'โซน', 'โปรโมชั่น', '+', '/', '20', '4.0', '5', 'Menu', 'Number', 'กรรมวิธี', 'ก์', 'คน', 'คะแนน', 'ชุด', 'ดังเดิม', 'บางกะปิ', 'บุฟเฟ่ต์', 'ประ', 'พารา', 'มอ', 'ยุค', 'ร้านอาหาร', 'ล', 'สุกี้', 'สไตล์', 'ส์', 'หมู', 'หลาก', 'หลายชนิด', 'เดอะ', 'เมนู', 'แบบฉบับ', 'แบ่ง', 'โม', 'ได', 'ไทย', '!!!!', '500', 'กาแฟ', 'งวด', 'ตอนที่', 'ตำ', 'ติด', 'ทั่วไป', 'น', 'บ๊วย', 'ยุ', 'ร้อน', 'ลุย', 'สุกี้ยากี้', 'หวาน', 'อยู่แล้ว', 'ออสเตรเลีย', 'เป็นปกติ', 'เฟรนไชส์', 'เรื่อง', 'เหมาะสม', 'แนะนำ', 'โช', 'ไข่ไก่', 'ไอศครีม', '..', '399', 'กุ้ง', 'ของกิน', 'ขา', 'ชิ', 'ซูชิ', 'ซ่า', 'ตอน', 'ตอนนี้', 'นิดนึง', 'ปูอัด', 'มาน', 'ละลานตา', 'สายพาน', 'หิว', 'ฮ่า', 'เกี๊ยว', 'เทมปุระ', 'เทียบ', 'เล่น', 'แพง', 'แล้วก็', 'ไม่งั้น', 'กลาย', 'กี่', 'ชั่วคราว', 'ชาบูชิ', 'ชื่นใจ', 'ซะงั้น', 'ญี่', 'ดึก', 'ตบท้าย', 'ตัว', 'ทอด', 'ทานอาหาร', 'นพ', 'นึก', 'น้ะ', 'ปลา', 'ปุ', 'ผิดหวัง', 'วก', 'สมใจ', 'อย่า', 'อาหารเสริม', 'เติม', 'เป็นมา', 'เป็นหลัก', 'เย็น', '1.15', 'net', 'กลับมา', 'ของคาว', 'ชม.', 'ตรงนั้น', 'ยืน', 'ลายตา', 'สไลด์', 'อัพเดท', 'อิ่ม', 'เบ', 'เพลินๆ', 'ไลน์', '-', '/คน', '15', '359', 'Net', 'Shabushi', 'กด', 'กรอ', 'ขาดสารอาหาร', 'ขึ้นราคา', 'ข่าว', 'คนเดียว', 'ครึ่ง', 'คิว', 'งาน', 'จุ', 'ชั่วโมง', 'ชั้น G', 'ชื่น', 'ดู', 'ตลับ', 'ตับ', 'ตั้งอยู่', 'ติง', 'ถนนใหญ่', 'ถูกใจ', 'ทำ', 'ทิ้ง', 'น้ำมัน', 'บดี', 'ปลาดิบ', 'ปอกเปลือก', 'ฝรั่ง', 'ฝั่ง', 'มื้อ', 'รอ', 'ระดับ', 'รายการ', 'ลด', 'ลา', 'ลูก', 'วันหยุด', 'วาง', 'วานิลา', 'สะอาด', 'สาเหตุ', 'สำหรับ', 'สไปรท์', 'หนา', 'หอม', 'หอย', 'หาไม่', 'ห่างหาย', 'ห้าง', 'อม', 'ออกมา', 'อาทิตย์', 'อีกครั้ง', 'เช็คบิล', 'เดอะมอลล์', 'เด่น', 'เด้ง', 'เบคอน', 'เปรี้ยวหวาน', 'เพลิน', 'เพื่อน', 'เลิก', 'เวลา', 'เสาร์', 'เหมือน', 'เหมือนกัน', 'แก้ว', 'แถม', 'แน่น', 'แป้ง', 'แย่', 'แออัด', 'โดน', 'โดยประมาณ', 'โฟลต', 'โอ', 'ใจดี', 'ใจมา', 'ใช้ได้', 'ใส่', 'ได้ยิน', 'ชอค', 'ต', 'นัด', 'นิ', 'มะนาว', 'มุ', 'ลงเอย', 'ว', 'วันก่อน', 'ห', 'หา', 'อยุ่', 'อาหารสด', 'เดอะแกงค์', 'เบอร์', 'แล', 'โก', '', 'กินที่', 'ขยัน', 'จอง', 'ชู', 'บุฟเฟต์', 'ป', 'ประตู', 'พลาด', 'พอได้', 'พี่', 'รอบ', 'ร้อย', 'สาม', 'สุดท้าย', 'หล่ะ', 'อาราม', 'เข้าหน้า', 'เต็ม', 'โชคดี', 'ขวัญใจ', 'ข้อดี', 'ต้องการ', 'ทั่วถึง', 'บ', 'บุ', 'ฟเฟ', 'มี่', 'ระบบ', 'รีวิว', 'สวัสดี', 'เก้', 'ใช้แล้ว', '^^', 'xx', 'กลยุทธ์', 'ขนาด', 'ข้น', 'ข้าวปั้น', 'ค่า', 'ชอป', 'ซุ้ม', 'ดีขึ้น', 'ตรงข้าม', 'ตรงนี้', 'ต้ม', 'ต้มยำ', 'ท่าน', 'นัล', 'บริเวณ', 'บัตรสมาชิก', 'ปรับปรุง', 'มันดี', 'มากขึ้น', 'ยอด', 'ลาน', 'สลัด', 'หมู่คณะ', 'ออกร้าน', 'อิอิ', 'เครือ', 'เคลื่อนตัว', 'เคาน์เตอร์', 'เบาๆ', 'เป็นแนว', 'แมค', 'โชคชะตา', 'โด', 'โน้น', 'โออิชิ', '199', '39', '40', '49', 'HALL', 'MCC', 'ค่ายมวย', 'ชั้น', 'ด้านใน', 'ตอนแรก', 'ตัวเลือก', 'ติดกับ', 'ที่ไหนได้', 'นารายพิซเซอเรีย', 'น้ำดื่ม', 'พิซซ่า', 'ฟี', 'ยูเนี่ยนมอลล์', 'รี', 'หลังจากที่', 'แกงเขียวหวาน', 'แน่นอน', 'แวะ', '10', '300', '6', 'VAT', 'กำ', 'ค่าน้ำ', 'ช่อง', 'ซี', 'ซึป', 'ถูกหวย', 'ทอน', 'นึง', 'ฟรี', 'ฟู้ด', 'รับประกัน', 'ลอตเตอรี่', 'สัปดาห์', 'หวย', 'หัว', 'ฮัน', 'เงิน', 'แลก', 'โทส', 'ได้เวลา', 'Narai', 'mall', 'pizza', 'pizzeria', 'union', 'ของสด', 'ขึ้นใจ', 'ข้าวมันไก่', 'จำได้', 'ชื่อ', 'ตตี้', 'ตัดกำลัง', 'ตู้', 'นิว', 'บางส่วน', 'ปรุง', 'รู้จัก', 'ลี', 'สปา', 'สุก', 'ออ', 'เก', '😆', '🤣', '128', '255', '29', 'ครีม', 'จบ', 'จุก', 'ชาต', 'บรา', 'บุพ', 'ปิดท้าย', 'ย', 'วิป', 'สมราคา', 'สวย', 'เซต', 'เด็ดๆ', 'เฟ่', 'เรย', 'เริส', 'โชค', '%', '7', 'ทดแทน', 'ปรกติ', 'สดๆ ร้อนๆ', 'เงินสด', 'แปลก', 'โดยเฉพาะ'])\n"
          ],
          "name": "stdout"
        }
      ]
    },
    {
      "cell_type": "code",
      "metadata": {
        "id": "QQ7sScsF4-kb"
      },
      "source": [
        "gensim_corpus = [dictionary.doc2bow(text, allow_update=True) for text in texts]\n",
        "word_frequencies = [[(dictionary[id], frequence) for id, frequence in couple] for couple in gensim_corpus]"
      ],
      "execution_count": 174,
      "outputs": []
    },
    {
      "cell_type": "code",
      "metadata": {
        "id": "PHYOOTZ04_8j"
      },
      "source": [
        "num_topics = 4\n",
        "chunksize = 1000 # size of the doc looked at every pass\n",
        "passes = 50 # number of passes through documents\n",
        "iterations = 20\n",
        "eval_every = 1  # Don't evaluate model perplexity, takes too much time.\n",
        "\n",
        "temp = dictionary[0]  # This is only to \"load\" the dictionary.\n",
        "id2word = dictionary.id2token\n",
        "\n",
        "model = gensim.models.LdaModel(corpus=gensim_corpus, id2word=id2word, chunksize=chunksize, \\\n",
        "                       alpha='auto', eta='auto', \\\n",
        "                       iterations=iterations, num_topics=num_topics, \\\n",
        "                       passes=passes, eval_every=eval_every, per_word_topics=True )"
      ],
      "execution_count": 179,
      "outputs": []
    },
    {
      "cell_type": "markdown",
      "metadata": {
        "id": "4cUoMTSE5CL3"
      },
      "source": [
        "# Display Topic Model"
      ]
    },
    {
      "cell_type": "code",
      "metadata": {
        "colab": {
          "base_uri": "https://localhost:8080/",
          "height": 861
        },
        "id": "HaqtXPhW5BgL",
        "outputId": "cb7ac599-c92c-4f1f-baf4-0e782efc273e"
      },
      "source": [
        "vis = pyLDAvis.gensim_models.prepare(model, gensim_corpus, dictionary)\n",
        "vis"
      ],
      "execution_count": 180,
      "outputs": [
        {
          "output_type": "execute_result",
          "data": {
            "text/html": [
              "\n",
              "<link rel=\"stylesheet\" type=\"text/css\" href=\"https://cdn.jsdelivr.net/gh/bmabey/pyLDAvis@3.3.1/pyLDAvis/js/ldavis.v1.0.0.css\">\n",
              "\n",
              "\n",
              "<div id=\"ldavis_el2511399309177788969374304753\"></div>\n",
              "<script type=\"text/javascript\">\n",
              "\n",
              "var ldavis_el2511399309177788969374304753_data = {\"mdsDat\": {\"x\": [-0.09344113410947073, 0.09087497088569046, 0.042172839246439255, -0.03960667602265916], \"y\": [0.07047100654262806, 0.0467936819392315, -0.02827050550097224, -0.08899418298088725], \"topics\": [1, 2, 3, 4], \"cluster\": [1, 1, 1, 1], \"Freq\": [31.848973999023038, 30.423443046529204, 19.277165366824352, 18.450417587623406]}, \"tinfo\": {\"Term\": [\"-\", \"\\u0e01\\u0e38\\u0e49\\u0e07\", \"\\u0e40\\u0e17\\u0e21\\u0e1b\\u0e38\\u0e23\\u0e30\", \"\\u0e2d\\u0e23\\u0e48\\u0e2d\\u0e22\", \"\\u0e2a\\u0e32\\u0e02\\u0e32\", \"\\u0e17\\u0e32\\u0e19\", \"\\u0e40\\u0e25\\u0e37\\u0e2d\\u0e01\", \"\\u0e01\\u0e34\\u0e19\", \"\\u0e2b\\u0e21\\u0e49\\u0e2d\", \"\\u0e1a\\u0e32\\u0e17\", \"\\u0e2a\\u0e31\\u0e48\\u0e07\", \"\\u0e04\\u0e38\\u0e49\\u0e21\", \"\\u0e2b\\u0e19\\u0e49\\u0e32\", \"\\u0e25\\u0e2d\\u0e07\", \"\\u0e40\\u0e19\\u0e37\\u0e49\\u0e2d\\u0e27\\u0e31\\u0e27\", \"\\u0e44\\u0e01\\u0e48\", \"\\u0e2a\\u0e14\", \"3\", \"\\u0e0b\\u0e39\\u0e0a\\u0e34\", \"\\u0e23\\u0e2a\", \"\\u0e42\\u0e21\", \"\\u0e40\\u0e27\\u0e25\\u0e32\", \"\\u0e1a\\u0e38\\u0e1f\\u0e40\\u0e1f\\u0e48\\u0e15\\u0e4c\", \"\\u0e17\\u0e2d\\u0e14\", \"\\u0e04\\u0e19\", \"\\u0e23\\u0e2a\\u0e0a\\u0e32\\u0e15\\u0e34\", \"\\u0e23\\u0e2d\", \"\\u0e23\\u0e32\\u0e04\\u0e32\", \"\\u0e2a\\u0e33\\u0e2b\\u0e23\\u0e31\\u0e1a\", \"\\u0e04\\u0e19\\u0e25\\u0e30\", \"\\u0e40\\u0e19\\u0e37\\u0e49\\u0e2d\\u0e27\\u0e31\\u0e27\", \"\\u0e44\\u0e01\\u0e48\", \"\\u0e40\\u0e19\\u0e37\\u0e49\\u0e2d\\u0e2b\\u0e21\\u0e39\", \"\\u0e40\\u0e2b\\u0e47\\u0e14\", \"\\u0e25\\u0e2d\\u0e07\", \"\\u0e2a\\u0e31\\u0e48\\u0e07\", \"\\u0e23\\u0e2a\", \"\\u0e40\\u0e01\\u0e34\\u0e19\\u0e44\\u0e1b\", \"\\u0e27\", \"\\u0e2a\\u0e15\\u0e2d\", \"\\u0e44\\u0e1c\\u0e48\", \"\\u0e02\\u0e49\\u0e32\\u0e27\", \"\\u0e44\\u0e21\\u0e49\", \"\\u0e41\\u0e19\\u0e27\", \"\\u0e01\\u0e01\", \"\\u0e44\\u0e14\\u0e1f\\u0e39\\u0e01\\u0e38\", \"\\u0e2b\\u0e27\\u0e32\\u0e19\\u0e46\", \"\\u0e23\\u0e35\\u0e48\", \"::\", \"\\u0e22\\u0e31\\u0e07\\u0e21\\u0e35\", \"\\u0e0a\\u0e37\\u0e48\\u0e2d\", \"\\u0e1a\\u0e32\\u0e07\\u0e2a\\u0e48\\u0e27\\u0e19\", \"\\u0e2d\\u0e23\\u0e48\\u0e2d\\u0e22\", \"\\u0e1a\\u0e38\\u0e1f\\u0e40\\u0e1f\\u0e48\", \"\\u0e0a\\u0e2d\\u0e1a\", \"\\u0e02\\u0e2d\\u0e07\\u0e2b\\u0e27\\u0e32\\u0e19\", \"\\u0e40\\u0e25\\u0e35\\u0e48\\u0e22\\u0e19\", \"\\u0e42\\u0e2b\\u0e14\", \"\\u0e44\\u0e27\", \"\\u0e16\\u0e49\\u0e27\\u0e22\", \"2\", \"\\u0e2b\\u0e22\\u0e34\\u0e1a\", \"\\u0e08\\u0e48\\u0e32\\u0e22\", \"555\", \"\\u0e19\\u0e38\\u0e48\\u0e21\", \"\\u0e19\\u0e49\\u0e33\", \"\\u0e17\\u0e32\\u0e19\", \"\\u0e23\\u0e32\\u0e04\\u0e32\", \"\\u0e40\\u0e25\\u0e37\\u0e2d\\u0e01\", \"\\u0e0a\\u0e32\\u0e1a\\u0e39\", \"\\u0e0b\\u0e38\\u0e1b\", \"\\u0e44\\u0e2d\\u0e15\\u0e34\\u0e21\", \"\\u0e19\\u0e49\\u0e33\\u0e08\\u0e34\\u0e49\\u0e21\", \"\\u0e23\\u0e2a\\u0e0a\\u0e32\\u0e15\\u0e34\", \"\\u0e14\\u0e35\", \"\\u0e40\\u0e19\\u0e37\\u0e49\\u0e2d\", \"\\u0e1c\\u0e31\\u0e01\", \"\\u0e1e\\u0e19\\u0e31\\u0e01\\u0e07\\u0e32\\u0e19\", \"\\u0e14\\u0e33\", \"\\u0e2d\\u0e32\\u0e2b\\u0e32\\u0e23\", \"\\u0e01\\u0e34\\u0e19\", \"\\u0e04\\u0e38\\u0e49\\u0e21\", \"\\u0e0b\\u0e39\\u0e0a\\u0e34\", \"\\u0e42\\u0e21\", \"\\u0e2b\\u0e27\\u0e32\\u0e19\", \"\\u0e15\\u0e34\\u0e14\", \"\\u0e43\\u0e0a\\u0e49\\u0e44\\u0e14\\u0e49\", \"\\u0e2a\\u0e38\\u0e01\\u0e35\\u0e49\", \"\\u0e40\\u0e0b\\u0e47\\u0e17\", \"5\", \"\\u0e27\\u0e32\\u0e19\\u0e34\\u0e25\\u0e32\", \"\\u0e43\\u0e08\\u0e14\\u0e35\", \"\\u0e2b\\u0e2d\\u0e21\", \"\\u0e40\\u0e0a\\u0e47\\u0e04\\u0e1a\\u0e34\\u0e25\", \"\\u0e2d\\u0e35\\u0e01\\u0e04\\u0e23\\u0e31\\u0e49\\u0e07\", \"\\u0e0a\\u0e37\\u0e48\\u0e19\", \"\\u0e40\\u0e23\\u0e37\\u0e48\\u0e2d\\u0e07\", \"\\u0e2a\\u0e31\\u0e19\", \"\\u0e42\\u0e14\\u0e19\", \"\\u0e1b\\u0e23\\u0e30\\u0e17\\u0e31\\u0e1a\\u0e43\\u0e08\", \"\\u0e40\\u0e14\\u0e49\\u0e07\", \"\\u0e1b\\u0e2d\\u0e01\\u0e40\\u0e1b\\u0e25\\u0e37\\u0e2d\\u0e01\", \"\\u0e42\\u0e14\\u0e22\\u0e23\\u0e27\\u0e21\", \"\\u0e40\\u0e27\\u0e25\\u0e32\", \"\\u0e2a\\u0e33\\u0e2b\\u0e23\\u0e31\\u0e1a\", \"-\", \"\\u0e2a\\u0e14\", \"\\u0e01\\u0e25\\u0e31\\u0e1a\\u0e21\\u0e32\", \"\\u0e15\\u0e31\\u0e27\", \"\\u0e01\\u0e34\\u0e19\", \"\\u0e40\\u0e14\\u0e2d\\u0e30\", \"20\", \"\\u0e44\\u0e14\", \"\\u0e14\\u0e35\\u0e21\\u0e32\\u0e01\", \"1\", \"\\u0e01\\u0e38\\u0e49\\u0e07\", \"\\u0e23\\u0e2a\\u0e0a\\u0e32\\u0e15\\u0e34\", \"\\u0e04\\u0e19\", \"\\u0e2d\\u0e32\\u0e2b\\u0e32\\u0e23\", \"\\u0e40\\u0e19\\u0e37\\u0e49\\u0e2d\", \"\\u0e19\\u0e49\\u0e33\", \"\\u0e19\\u0e49\\u0e33\\u0e08\\u0e34\\u0e49\\u0e21\", \"\\u0e14\\u0e35\", \"\\u0e2b\\u0e21\\u0e39\", \"\\u0e2a\\u0e32\\u0e02\\u0e32\", \"\\u0e0a\\u0e32\\u0e1a\\u0e39\", \"\\u0e14\\u0e33\", \"\\u0e19\\u0e38\\u0e48\\u0e21\", \"\\u0e23\\u0e32\\u0e04\\u0e32\", \"\\u0e1a\\u0e23\\u0e34\\u0e01\\u0e32\\u0e23\", \"\\u0e2d\\u0e23\\u0e48\\u0e2d\\u0e22\", \"\\u0e1a\\u0e32\\u0e17\", \"\\u0e0b\\u0e38\\u0e1b\", \"\\u0e40\\u0e17\\u0e21\\u0e1b\\u0e38\\u0e23\\u0e30\", \"399\", \"\\u0e41\\u0e1e\\u0e07\", \"\\u0e15\\u0e2d\\u0e19\\u0e19\\u0e35\\u0e49\", \"\\u0e40\\u0e1b\\u0e47\\u0e19\\u0e2b\\u0e25\\u0e31\\u0e01\", \"\\u0e1a\\u0e38\\u0e1f\\u0e40\\u0e1f\\u0e15\\u0e4c\", \"\\u0e2b\\u0e34\\u0e27\", \"\\u0e41\\u0e25\\u0e49\\u0e27\\u0e01\\u0e47\", \"\\u0e2d\\u0e34\\u0e48\\u0e21\", \"\\u0e40\\u0e1a\", \"\\u0e19\\u0e36\\u0e01\", \"\\u0e23\\u0e2d\\u0e1a\", \"\\u0e0b\\u0e48\\u0e32\", \"\\u0e25\\u0e32\\u0e22\\u0e15\\u0e32\", \"\\u0e02\\u0e2d\\u0e07\\u0e01\\u0e34\\u0e19\", \"\\u0e25\\u0e30\\u0e25\\u0e32\\u0e19\\u0e15\\u0e32\", \"\\u0e15\\u0e23\\u0e07\\u0e19\\u0e31\\u0e49\\u0e19\", \"\\u0e02\\u0e32\", \"\\u0e2e\\u0e48\\u0e32\", \"..\", \"\\u0e1b\\u0e39\\u0e2d\\u0e31\\u0e14\", \"\\u0e44\\u0e21\\u0e48\\u0e07\\u0e31\\u0e49\\u0e19\", \"\\u0e21\\u0e32\\u0e19\", \"\\u0e22\\u0e37\\u0e19\", \"\\u0e2d\\u0e31\\u0e1e\\u0e40\\u0e14\\u0e17\", \"\\u0e40\\u0e1e\\u0e25\\u0e34\\u0e19\\u0e46\", \"\\u0e01\\u0e34\\u0e19\\u0e17\\u0e35\\u0e48\", \"net\", \"\\u0e02\\u0e2d\\u0e07\\u0e04\\u0e32\\u0e27\", \"\\u0e40\\u0e01\\u0e35\\u0e4a\\u0e22\\u0e27\", \"\\u0e0a\\u0e34\", \"\\u0e17\\u0e2d\\u0e14\", \"\\u0e1a\\u0e32\\u0e17\", \"\\u0e04\\u0e38\\u0e49\\u0e21\", \"\\u0e01\\u0e38\\u0e49\\u0e07\", \"\\u0e0b\\u0e39\\u0e0a\\u0e34\", \"\\u0e17\\u0e32\\u0e19\", \"\\u0e23\\u0e2d\", \"\\u0e23\\u0e32\\u0e04\\u0e32\", \"\\u0e40\\u0e21\\u0e19\\u0e39\", \"\\u0e0b\\u0e38\\u0e1b\", \"\\u0e40\\u0e14\\u0e2d\\u0e30\\u0e21\\u0e2d\\u0e25\\u0e25\\u0e4c\", \"199\", \"4\", \"-\", \"\\u0e04\\u0e19\\u0e25\\u0e30\", \"\\u0e04\\u0e34\\u0e27\", \"\\u0e1a\\u0e32\\u0e07\\u0e01\\u0e30\\u0e1b\\u0e34\", \"\\u0e04\\u0e19\", \"\\u0e2a\\u0e32\\u0e02\\u0e32\", \"\\u0e19\\u0e49\\u0e33\", \"\\u0e2d\\u0e32\\u0e2b\\u0e32\\u0e23\", \"\\u0e14\\u0e35\", \"\\u0e40\\u0e19\\u0e37\\u0e49\\u0e2d\", \"\\u0e01\\u0e34\\u0e19\", \"\\u0e2a\\u0e14\", \"\\u0e23\\u0e2a\\u0e0a\\u0e32\\u0e15\\u0e34\", \"\\u0e40\\u0e25\\u0e37\\u0e2d\\u0e01\", \"\\u0e2a\\u0e32\\u0e22\\u0e1e\\u0e32\\u0e19\", \"\\u0e14\\u0e39\", \"\\u0e0a\\u0e32\\u0e1a\\u0e39\\u0e0a\\u0e34\", \"\\u0e15\\u0e48\\u0e32\\u0e07 \\u0e46\", \"CTW\", \"\\u0e15\\u0e49\\u0e21\\u0e22\\u0e33\", \"\\u0e04\\u0e48\\u0e32\", \"\\u0e2b\\u0e21\\u0e49\\u0e2d\", \"\\u0e2a\\u0e31\\u0e1b\\u0e14\\u0e32\\u0e2b\\u0e4c\", \"\\u0e40\\u0e14\\u0e47\\u0e01\", \"\\u0e1e\\u0e23\\u0e35\\u0e40\\u0e21\\u0e35\\u0e22\\u0e21\", \"10\", \"\\u0e2a\\u0e39\\u0e49\", \"\\u0e40\\u0e08\\u0e2d\", \"\\u0e1e\\u0e32\\u0e23\\u0e32\\u0e44\\u0e14\\u0e0b\\u0e4c\", \"\\u0e1e\\u0e23\\u0e30\\u0e23\\u0e32\\u0e21\", \"\\u0e10\\u0e32\\u0e19\", \"\\u0e1a\\u0e31\\u0e15\\u0e23\\u0e40\\u0e04\\u0e23\\u0e14\\u0e34\\u0e15\", \"\\u0e2a\\u0e1a\\u0e32\\u0e22\\u0e14\\u0e35\", \"\\u0e01\\u0e32\\u0e23\\u0e07\\u0e14\", \"\\u0e40\\u0e04\\u0e23\\u0e37\\u0e48\\u0e2d\\u0e07\\u0e14\\u0e37\\u0e48\\u0e21\", \"30\", \"9\", \"\\u0e0b\\u0e36\\u0e1b\", \"\\u0e17\\u0e30\\u0e22\\u0e2d\\u0e22\", \"\\u0e44\\u0e14\\u0e49\\u0e40\\u0e27\\u0e25\\u0e32\", \"21\", \"\\u0e41\\u0e08\\u0e49\\u0e07\", \"\\u0e40\\u0e1b\\u0e47\\u0e19\\u0e01\\u0e31\\u0e19\\u0e40\\u0e2d\\u0e07\", \"\\u0e23\\u0e31\\u0e1a\\u0e1b\\u0e23\\u0e30\\u0e01\\u0e31\\u0e19\", \"\\u0e1f\\u0e23\\u0e35\", \"\\u0e40\\u0e07\\u0e34\\u0e19\", \"300\", \"\\u0e2b\\u0e19\\u0e49\\u0e32\", \"3\", \"\\u0e0a\\u0e38\\u0e14\", \"\\u0e2a\\u0e32\\u0e02\\u0e32\", \"\\u0e19\\u0e31\\u0e48\\u0e07\", \"\\u0e40\\u0e25\\u0e37\\u0e2d\\u0e01\", \"\\u0e1a\\u0e38\\u0e1f\\u0e40\\u0e1f\\u0e48\\u0e15\\u0e4c\", \"\\u0e41\\u0e19\\u0e30\\u0e19\\u0e33\", \"\\u0e1a\\u0e23\\u0e34\\u0e01\\u0e32\\u0e23\", \"\\u0e17\\u0e32\\u0e19\", \"\\u0e04\\u0e19\\u0e25\\u0e30\", \"\\u0e2d\\u0e32\\u0e2b\\u0e32\\u0e23\", \"\\u0e14\\u0e35\", \"\\u0e19\\u0e49\\u0e33\", \"\\u0e2b\\u0e49\\u0e32\\u0e07\", \"\\u0e04\\u0e38\\u0e13\\u0e20\\u0e32\\u0e1e\", \"\\u0e2a\\u0e32\\u0e22\\u0e1e\\u0e32\\u0e19\", \"\\u0e1a\\u0e32\\u0e17\", \"\\u0e0a\\u0e32\\u0e1a\\u0e39\", \"\\u0e0b\\u0e38\\u0e1b\", \"\\u0e40\\u0e19\\u0e37\\u0e49\\u0e2d\", \"2\", \"\\u0e2d\\u0e23\\u0e48\\u0e2d\\u0e22\", \"\\u0e01\\u0e34\\u0e19\", \"\\u0e23\\u0e32\\u0e04\\u0e32\"], \"Freq\": [11.0, 9.0, 5.0, 16.0, 9.0, 17.0, 13.0, 16.0, 3.0, 10.0, 7.0, 7.0, 4.0, 5.0, 4.0, 4.0, 7.0, 4.0, 6.0, 4.0, 3.0, 5.0, 5.0, 3.0, 8.0, 11.0, 4.0, 13.0, 4.0, 3.0, 3.8736297508569972, 3.8736293569500457, 2.3979398814410975, 2.397939487534146, 4.6114745870882095, 6.0871654412714875, 3.8736305386709, 1.6600934695820802, 1.6600932726286044, 1.6600930756751289, 1.6600930756751289, 1.6600930756751289, 1.6600930756751289, 1.6600930756751289, 1.6600930756751289, 1.6600930756751289, 1.6600930756751289, 1.6600928787216531, 1.6600928787216531, 1.6600922878612263, 1.6600913030938482, 1.6600913030938482, 11.252079688796924, 2.397940078394573, 4.611477344436868, 4.611477344436868, 0.9222425277931233, 0.9222425277931233, 0.9222425277931233, 0.9222424293163856, 3.1357862933001144, 2.3979398814410975, 2.3979404723015243, 1.660094060442507, 3.1357851115792608, 8.300705070755491, 6.825014610479164, 5.349325331923691, 5.349324544109788, 4.611478920064673, 4.611476950529917, 3.1357872780674927, 3.135786884160541, 3.8736329021126075, 3.8736348716473636, 3.873634083833461, 2.397941260115427, 2.397940078394573, 2.3979418509758537, 3.1357894445557246, 2.3979467748127443, 2.3979418509758537, 2.3979418509758537, 3.0981131456893842, 2.3691311920845157, 2.3691298751183885, 2.369129310704334, 1.6401501791697375, 1.6401498028937012, 1.6401498028937012, 1.6401494266176648, 1.6401494266176648, 1.6401494266176648, 1.6401492384796468, 1.6401492384796468, 1.6401490503416285, 1.6401490503416285, 1.6401490503416285, 1.6401482977895558, 1.6401484859275741, 1.6401482977895558, 1.6401481096515378, 1.6401481096515378, 3.8270885144636173, 3.098111264309203, 8.20096706643156, 5.285050540293174, 2.3691300632564065, 2.3691296869803704, 11.116880582361654, 0.9111645568735145, 0.9111645568735145, 0.9111644628045055, 3.0981120168612755, 3.098111264309203, 5.285051292845246, 6.014032305760024, 4.55607103248254, 5.285048282636955, 5.285055808157682, 6.014039455004714, 3.098112769413348, 4.556073290138759, 2.369133261602715, 3.098114838931548, 3.0981169084497475, 2.3691325090506425, 2.3691325090506425, 3.098115215207584, 2.3691311920845157, 3.0981165321737114, 2.369135142982897, 2.3691387176052423, 3.9385272358838304, 1.417846911898946, 1.4178467926893064, 1.4178466734796664, 1.4178466734796664, 1.4178464350603868, 1.4178464350603868, 1.4178464350603868, 1.4178464350603868, 1.4178461966411071, 1.4178461966411071, 1.4178460774314674, 0.7876735824400397, 0.7876735824400397, 0.7876735228352197, 0.7876735228352197, 0.7876735228352197, 0.7876735228352197, 0.7876735228352197, 0.7876735228352197, 0.7876735228352197, 0.7876735228352197, 0.7876735228352197, 0.7876735228352197, 0.7876735228352197, 0.7876735228352197, 0.7876735228352197, 0.7876735228352197, 0.7876735228352197, 0.7876735228352197, 1.4178478655760647, 2.0480180359795157, 4.568698002335481, 3.308360045721375, 3.938531527430864, 2.6781892792697253, 5.82903953523878, 2.0480204201723122, 3.9385291432380676, 2.048019943333753, 3.3083578999478584, 1.4178478655760647, 1.4178466734796664, 1.4178481039953443, 2.6781957165902757, 1.4178460774314674, 1.4178502497688614, 1.4178482232049843, 2.0480223275265494, 2.0480216122687107, 2.6781938092360384, 2.048028288008541, 2.0480237580422274, 2.0480225659458293, 2.0480335332326933, 1.4178529915905773, 1.417852633961658, 1.41785108423634, 1.417850488188141, 1.417849772930302, 1.4178487000435436, 1.3948126625929975, 1.3948124343989041, 1.394812206204811, 1.394811635719578, 2.6346762874286433, 0.774877769554916, 0.7748776554578695, 0.7748776554578695, 0.7748776554578695, 0.7748775984093462, 0.7748775984093462, 0.7748775984093462, 0.7748775984093462, 0.7748775984093462, 0.7748775984093462, 0.7748775984093462, 0.7748775984093462, 0.7748775984093462, 0.7748775984093462, 0.7748775984093462, 0.7748775984093462, 0.7748775984093462, 0.7748775984093462, 0.7748775984093462, 0.7748775984093462, 0.7748775984093462, 0.7748775984093462, 0.7748775984093462, 0.7748775984093462, 0.7748775984093462, 2.63467537465227, 2.0147434481374007, 1.394812776690044, 3.874541737817035, 1.3948126625929975, 5.114403765294028, 2.6346762874286433, 1.3948124343989041, 2.0147461864665193, 3.254609583108072, 1.3948132330782304, 2.634679253951855, 2.6346787975636685, 3.254610724078538, 1.3948119780107178, 1.3948141458546033, 1.394812206204811, 2.014746871048799, 2.0147477838251717, 2.0147475556310788, 2.014746871048799, 1.3948132330782304, 2.0147459582724263, 1.3948175687660016, 0.7748798803502783], \"Total\": [11.0, 9.0, 5.0, 16.0, 9.0, 17.0, 13.0, 16.0, 3.0, 10.0, 7.0, 7.0, 4.0, 5.0, 4.0, 4.0, 7.0, 4.0, 6.0, 4.0, 3.0, 5.0, 5.0, 3.0, 8.0, 11.0, 4.0, 13.0, 4.0, 3.0, 4.368403911115095, 4.368403823065081, 2.8927124728803983, 2.892712298537253, 5.736380436280718, 7.831967283130968, 4.998535394595553, 2.1548649922204266, 2.154865009509808, 2.1548649242183116, 2.154864954952234, 2.1548650505619453, 2.1548650803956453, 2.1548651356995614, 2.154865153331084, 2.1548651586305314, 2.1548651664876814, 2.154864993743324, 2.154865169550673, 2.154864856540766, 2.154864800195624, 2.1548648812934843, 16.52249129327532, 3.6216322809833215, 7.085196137251734, 7.085197095630356, 1.4170135060111175, 1.417013514627165, 1.4170135507147323, 1.417013520458862, 5.500521359290078, 4.142739353655608, 4.153017987353456, 2.7747605629680874, 5.817447056815001, 20.24754905907478, 17.548820492826387, 13.160849570719622, 13.521734652536384, 11.142191001077098, 12.303721123714096, 6.338492040525358, 6.546428937956565, 11.460503419170816, 13.112410717392017, 13.221459328985773, 5.5018332930216935, 5.600645947838007, 5.699497135557116, 13.103545269153077, 16.957678459173096, 7.501436401476842, 6.142279792725828, 3.595103176531204, 2.8661211289490356, 2.866121206216008, 2.8661208621081355, 2.1371386704524644, 2.137138618694494, 2.137138667986974, 2.1371384899613566, 2.1371386364171094, 2.1371387141185054, 2.13713853314217, 2.1371385979020237, 2.137138452559795, 2.1371385775988583, 2.1371386022086454, 2.137138178143225, 2.137138449076437, 2.1371382098722544, 2.1371382835392656, 2.1371384077885933, 5.061865260465041, 4.22523436297834, 11.218615807152174, 7.78013307749114, 3.4962525357969523, 3.49625267473131, 16.957678459173096, 1.408152030841905, 1.4081520483700392, 1.4081519750151372, 4.952780001627033, 4.963015862527645, 9.563033778178037, 11.460503419170816, 8.419174607372902, 13.103545269153077, 13.221459328985773, 20.24754905907478, 6.546428937956565, 13.112410717392017, 4.234034884607875, 9.205142549330706, 11.142191001077098, 5.699497135557116, 5.817447056815001, 13.160849570719622, 6.201518501847286, 16.52249129327532, 10.612677228065294, 12.303721123714096, 5.189140387867771, 1.9395375247809254, 1.9395374376575898, 1.9395375789887144, 1.9395375869872071, 1.9395374375676508, 1.9395374488621, 1.9395374527671774, 1.939537641383334, 1.9395376087232343, 1.9395376182108, 1.939537604321224, 1.3093635813503626, 1.309363587343082, 1.3093635360076732, 1.3093635455141206, 1.3093635523574463, 1.3093635606268577, 1.3093635709839113, 1.3093635748889885, 1.3093635802390329, 1.3093635832935038, 1.3093636012093859, 1.3093636055008926, 1.3093636100486448, 1.3093636100486448, 1.3093636560974393, 1.3093636808517273, 1.3093636847084902, 1.3093636899234307, 2.559433192042121, 3.9185241163520126, 10.612677228065294, 7.501436401476842, 9.563033778178037, 6.142279792725828, 17.548820492826387, 4.647510623991484, 13.160849570719622, 5.385292501472727, 12.303721123714096, 3.288353243368531, 3.297214847506962, 3.4062390572058447, 11.218615807152174, 3.9171508043001575, 4.017339521625188, 4.017339766854309, 8.419174607372902, 9.205142549330706, 20.24754905907478, 13.103545269153077, 13.112410717392017, 13.221459328985773, 16.957678459173096, 7.78013307749114, 11.460503419170816, 13.521734652536384, 4.646070333151481, 4.873076963527228, 4.026134707780923, 1.9190632674896189, 1.9190632899882047, 1.9190632423928942, 1.919063548133313, 3.8967111080100265, 1.2991274633872933, 1.2991273752358943, 1.2991273842396898, 1.2991274170871732, 1.29912734371575, 1.2991273460466397, 1.2991273471485718, 1.2991273621768018, 1.2991273706658242, 1.2991273788941229, 1.299127385306306, 1.2991274002075108, 1.2991274049667956, 1.2991274103132389, 1.2991274165983964, 1.2991274215866109, 1.2991274228835539, 1.2991274304633813, 1.299127437784759, 1.2991274401156487, 1.2991274483439477, 1.299127452490953, 1.2991274602657914, 1.2991274602657914, 1.2991274725753836, 4.625631028328193, 4.014629887722948, 2.647983372986011, 9.205142549330706, 2.656845019092515, 13.521734652536384, 5.984749178383655, 3.376970352873667, 6.201518501847286, 17.548820492826387, 3.9171508043001575, 13.103545269153077, 13.112410717392017, 20.24754905907478, 4.007101467279556, 4.114751275174166, 4.646070333151481, 10.612677228065294, 11.142191001077098, 12.303721123714096, 13.221459328985773, 5.500521359290078, 16.52249129327532, 16.957678459173096, 13.160849570719622], \"Category\": [\"Default\", \"Default\", \"Default\", \"Default\", \"Default\", \"Default\", \"Default\", \"Default\", \"Default\", \"Default\", \"Default\", \"Default\", \"Default\", \"Default\", \"Default\", \"Default\", \"Default\", \"Default\", \"Default\", \"Default\", \"Default\", \"Default\", \"Default\", \"Default\", \"Default\", \"Default\", \"Default\", \"Default\", \"Default\", \"Default\", \"Topic1\", \"Topic1\", \"Topic1\", \"Topic1\", \"Topic1\", \"Topic1\", \"Topic1\", \"Topic1\", \"Topic1\", \"Topic1\", \"Topic1\", \"Topic1\", \"Topic1\", \"Topic1\", \"Topic1\", \"Topic1\", \"Topic1\", \"Topic1\", \"Topic1\", \"Topic1\", \"Topic1\", \"Topic1\", \"Topic1\", \"Topic1\", \"Topic1\", \"Topic1\", \"Topic1\", \"Topic1\", \"Topic1\", \"Topic1\", \"Topic1\", \"Topic1\", \"Topic1\", \"Topic1\", \"Topic1\", \"Topic1\", \"Topic1\", \"Topic1\", \"Topic1\", \"Topic1\", \"Topic1\", \"Topic1\", \"Topic1\", \"Topic1\", \"Topic1\", \"Topic1\", \"Topic1\", \"Topic1\", \"Topic1\", \"Topic1\", \"Topic1\", \"Topic1\", \"Topic1\", \"Topic2\", \"Topic2\", \"Topic2\", \"Topic2\", \"Topic2\", \"Topic2\", \"Topic2\", \"Topic2\", \"Topic2\", \"Topic2\", \"Topic2\", \"Topic2\", \"Topic2\", \"Topic2\", \"Topic2\", \"Topic2\", \"Topic2\", \"Topic2\", \"Topic2\", \"Topic2\", \"Topic2\", \"Topic2\", \"Topic2\", \"Topic2\", \"Topic2\", \"Topic2\", \"Topic2\", \"Topic2\", \"Topic2\", \"Topic2\", \"Topic2\", \"Topic2\", \"Topic2\", \"Topic2\", \"Topic2\", \"Topic2\", \"Topic2\", \"Topic2\", \"Topic2\", \"Topic2\", \"Topic2\", \"Topic2\", \"Topic2\", \"Topic2\", \"Topic2\", \"Topic2\", \"Topic2\", \"Topic2\", \"Topic2\", \"Topic2\", \"Topic3\", \"Topic3\", \"Topic3\", \"Topic3\", \"Topic3\", \"Topic3\", \"Topic3\", \"Topic3\", \"Topic3\", \"Topic3\", \"Topic3\", \"Topic3\", \"Topic3\", \"Topic3\", \"Topic3\", \"Topic3\", \"Topic3\", \"Topic3\", \"Topic3\", \"Topic3\", \"Topic3\", \"Topic3\", \"Topic3\", \"Topic3\", \"Topic3\", \"Topic3\", \"Topic3\", \"Topic3\", \"Topic3\", \"Topic3\", \"Topic3\", \"Topic3\", \"Topic3\", \"Topic3\", \"Topic3\", \"Topic3\", \"Topic3\", \"Topic3\", \"Topic3\", \"Topic3\", \"Topic3\", \"Topic3\", \"Topic3\", \"Topic3\", \"Topic3\", \"Topic3\", \"Topic3\", \"Topic3\", \"Topic3\", \"Topic3\", \"Topic3\", \"Topic3\", \"Topic3\", \"Topic3\", \"Topic3\", \"Topic3\", \"Topic3\", \"Topic3\", \"Topic3\", \"Topic3\", \"Topic3\", \"Topic4\", \"Topic4\", \"Topic4\", \"Topic4\", \"Topic4\", \"Topic4\", \"Topic4\", \"Topic4\", \"Topic4\", \"Topic4\", \"Topic4\", \"Topic4\", \"Topic4\", \"Topic4\", \"Topic4\", \"Topic4\", \"Topic4\", \"Topic4\", \"Topic4\", \"Topic4\", \"Topic4\", \"Topic4\", \"Topic4\", \"Topic4\", \"Topic4\", \"Topic4\", \"Topic4\", \"Topic4\", \"Topic4\", \"Topic4\", \"Topic4\", \"Topic4\", \"Topic4\", \"Topic4\", \"Topic4\", \"Topic4\", \"Topic4\", \"Topic4\", \"Topic4\", \"Topic4\", \"Topic4\", \"Topic4\", \"Topic4\", \"Topic4\", \"Topic4\", \"Topic4\", \"Topic4\", \"Topic4\", \"Topic4\", \"Topic4\", \"Topic4\", \"Topic4\", \"Topic4\", \"Topic4\", \"Topic4\"], \"logprob\": [30.0, 29.0, 28.0, 27.0, 26.0, 25.0, 24.0, 23.0, 22.0, 21.0, 20.0, 19.0, 18.0, 17.0, 16.0, 15.0, 14.0, 13.0, 12.0, 11.0, 10.0, 9.0, 8.0, 7.0, 6.0, 5.0, 4.0, 3.0, 2.0, 1.0, -4.6931, -4.6931, -5.1727, -5.1727, -4.5187, -4.2411, -4.6931, -5.5404, -5.5404, -5.5404, -5.5404, -5.5404, -5.5404, -5.5404, -5.5404, -5.5404, -5.5404, -5.5404, -5.5404, -5.5404, -5.5404, -5.5404, -3.6267, -5.1727, -4.5187, -4.5187, -6.1282, -6.1282, -6.1282, -6.1282, -4.9044, -5.1727, -5.1727, -5.5404, -4.9044, -3.9309, -4.1267, -4.3703, -4.3703, -4.5187, -4.5187, -4.9044, -4.9044, -4.6931, -4.6931, -4.6931, -5.1727, -5.1727, -5.1727, -4.9044, -5.1727, -5.1727, -5.1727, -4.8707, -5.1389, -5.1389, -5.139, -5.5067, -5.5067, -5.5067, -5.5067, -5.5067, -5.5067, -5.5067, -5.5067, -5.5067, -5.5067, -5.5067, -5.5067, -5.5067, -5.5067, -5.5067, -5.5067, -4.6594, -4.8707, -3.8972, -4.3366, -5.1389, -5.1389, -3.593, -6.0945, -6.0945, -6.0945, -4.8707, -4.8707, -4.3366, -4.2074, -4.485, -4.3366, -4.3366, -4.2074, -4.8707, -4.485, -5.1389, -4.8707, -4.8707, -5.1389, -5.1389, -4.8707, -5.1389, -4.8707, -5.1389, -5.1389, -4.1744, -5.196, -5.196, -5.196, -5.196, -5.196, -5.196, -5.196, -5.196, -5.196, -5.196, -5.196, -5.7839, -5.7839, -5.7839, -5.7839, -5.7839, -5.7839, -5.7839, -5.7839, -5.7839, -5.7839, -5.7839, -5.7839, -5.7839, -5.7839, -5.7839, -5.7839, -5.7839, -5.7839, -5.196, -4.8283, -4.026, -4.3487, -4.1744, -4.56, -3.7823, -4.8283, -4.1744, -4.8283, -4.3487, -5.196, -5.196, -5.196, -4.56, -5.196, -5.196, -5.196, -4.8283, -4.8283, -4.56, -4.8283, -4.8283, -4.8283, -4.8283, -5.196, -5.196, -5.196, -5.196, -5.196, -5.196, -5.1686, -5.1686, -5.1686, -5.1686, -4.5326, -5.7564, -5.7564, -5.7564, -5.7564, -5.7564, -5.7564, -5.7564, -5.7564, -5.7564, -5.7564, -5.7564, -5.7564, -5.7564, -5.7564, -5.7564, -5.7564, -5.7564, -5.7564, -5.7564, -5.7564, -5.7564, -5.7564, -5.7564, -5.7564, -5.7564, -4.5326, -4.8009, -5.1686, -4.1469, -5.1686, -3.8693, -4.5326, -5.1686, -4.8009, -4.3213, -5.1686, -4.5326, -4.5326, -4.3213, -5.1686, -5.1686, -5.1686, -4.8009, -4.8009, -4.8009, -4.8009, -5.1686, -4.8009, -5.1686, -5.7564], \"loglift\": [30.0, 29.0, 28.0, 27.0, 26.0, 25.0, 24.0, 23.0, 22.0, 21.0, 20.0, 19.0, 18.0, 17.0, 16.0, 15.0, 14.0, 13.0, 12.0, 11.0, 10.0, 9.0, 8.0, 7.0, 6.0, 5.0, 4.0, 3.0, 2.0, 1.0, 1.024, 1.024, 0.9566, 0.9566, 0.9259, 0.8921, 0.8892, 0.8833, 0.8833, 0.8833, 0.8833, 0.8833, 0.8833, 0.8833, 0.8833, 0.8833, 0.8833, 0.8833, 0.8833, 0.8833, 0.8833, 0.8833, 0.76, 0.7319, 0.7147, 0.7147, 0.7147, 0.7147, 0.7147, 0.7147, 0.5822, 0.5974, 0.5949, 0.6305, 0.5262, 0.2525, 0.1998, 0.2439, 0.2168, 0.262, 0.1628, 0.4404, 0.4081, 0.0595, -0.0752, -0.0835, 0.3137, 0.2959, 0.2784, -0.2858, -0.8119, 0.0037, 0.2036, 1.0412, 0.9995, 0.9995, 0.9995, 0.9253, 0.9253, 0.9253, 0.9253, 0.9253, 0.9253, 0.9253, 0.9253, 0.9253, 0.9253, 0.9253, 0.9253, 0.9253, 0.9253, 0.9253, 0.9253, 0.9103, 0.8797, 0.8766, 0.8033, 0.8008, 0.8008, 0.7677, 0.7546, 0.7546, 0.7546, 0.7208, 0.7187, 0.5969, 0.5451, 0.5759, 0.282, 0.273, -0.024, 0.4418, 0.1329, 0.6093, 0.101, -0.09, 0.3121, 0.2916, -0.2565, 0.2277, -0.484, -0.3096, -0.4574, 1.3705, 1.3329, 1.3329, 1.3329, 1.3329, 1.3329, 1.3329, 1.3329, 1.3329, 1.3329, 1.3329, 1.3329, 1.138, 1.138, 1.138, 1.138, 1.138, 1.138, 1.138, 1.138, 1.138, 1.138, 1.138, 1.138, 1.138, 1.138, 1.138, 1.138, 1.138, 1.138, 1.0556, 0.9974, 0.8034, 0.8276, 0.7592, 0.8162, 0.5441, 0.8268, 0.4398, 0.6795, 0.3328, 0.805, 0.8023, 0.7698, 0.2138, 0.63, 0.6048, 0.6048, 0.2326, 0.1434, -0.3766, -0.2098, -0.2104, -0.2187, -0.4676, -0.0562, -0.4435, -0.6089, 0.4594, 0.4117, 0.6026, 1.371, 1.371, 1.371, 1.371, 1.2987, 1.1733, 1.1733, 1.1733, 1.1733, 1.1733, 1.1733, 1.1733, 1.1733, 1.1733, 1.1733, 1.1733, 1.1733, 1.1733, 1.1733, 1.1733, 1.1733, 1.1733, 1.1733, 1.1733, 1.1733, 1.1733, 1.1733, 1.1733, 1.1733, 1.1733, 1.1272, 1.0006, 1.049, 0.8247, 1.0457, 0.7178, 0.8696, 0.8059, 0.5658, 0.0052, 0.6575, 0.086, 0.0853, -0.1379, 0.6348, 0.6083, 0.4868, 0.0285, -0.0202, -0.1193, -0.1913, 0.318, -0.4141, -0.8079, -1.1422]}, \"token.table\": {\"Topic\": [2, 3, 3, 1, 2, 3, 4, 1, 3, 4, 1, 3, 4, 2, 4, 1, 4, 4, 4, 3, 1, 2, 3, 2, 1, 4, 4, 1, 4, 3, 1, 2, 3, 4, 1, 2, 3, 4, 3, 2, 3, 3, 3, 1, 2, 3, 4, 3, 1, 1, 2, 3, 1, 3, 4, 2, 3, 4, 1, 2, 4, 1, 2, 3, 4, 1, 3, 1, 2, 3, 4, 1, 2, 3, 4, 1, 2, 3, 4, 3, 4, 2, 1, 2, 4, 4, 1, 2, 3, 4, 1, 2, 3, 3, 4, 1, 2, 4, 1, 2, 3, 4, 1, 2, 4, 1, 2, 3, 3, 3, 2, 3, 2, 4, 4, 1, 2, 3, 4, 4, 1, 2, 3, 4, 1, 4, 3, 1, 2, 1, 2, 3, 4, 1, 2, 1, 2, 4, 4, 2, 3, 4, 1, 1, 2, 3, 4, 3, 1, 2, 1, 2, 3, 4, 2, 2, 3, 1, 2, 3, 4, 1, 2, 3, 4, 4, 4, 4, 4, 3, 1, 3, 1, 3, 1, 2, 3, 2, 3, 4, 3, 4, 1, 2, 3, 4, 1, 1, 3, 3, 3, 1, 2, 1, 2, 3, 1, 4, 2, 4, 1, 3, 4, 2, 3, 4, 1, 2, 3, 4, 2, 3, 2, 4, 1, 2, 4, 1, 2, 3, 1, 4, 1, 3, 4, 2, 1, 2, 3, 2, 3, 4, 1, 2, 4, 3, 1, 2, 3, 4, 3, 2, 3, 1, 3, 4, 4, 4, 2, 2, 2, 2, 3, 4, 4, 2, 2, 3, 1, 2, 3, 4, 1, 1, 3, 4, 3, 3, 1, 2, 3, 4, 2, 1, 1, 2, 3, 4, 1, 2, 1, 4, 1, 2, 4, 3, 3, 2, 2, 2, 1, 2, 2, 1, 2, 1, 4, 1, 3, 1, 1, 1, 2, 3, 4], \"Freq\": [0.713100451741986, 0.26741266940324476, 0.7637298143754937, 0.20149038965406485, 0.6044711689621945, 0.20149038965406485, 0.7697474372776621, 0.3032862722779816, 0.3032862722779816, 0.3032862722779816, 0.5454028453017759, 0.18180094843392527, 0.18180094843392527, 0.7101505843474202, 0.7697474250141125, 0.4981779282110554, 0.4981779282110554, 0.7697474412912935, 0.7697474044002819, 0.5155868279026733, 0.2935789247922913, 0.2935789247922913, 0.2935789247922913, 0.9358307113893791, 0.7207829124761141, 0.3603914562380571, 0.7697474375672678, 0.9281323157759493, 0.5210875562140248, 0.7637297525692102, 0.9281323227619666, 0.5720410581108412, 0.2860205290554206, 0.7697474472790499, 0.11794067241074022, 0.6486736982590712, 0.11794067241074022, 0.05897033620537011, 0.7637297670079691, 0.5228466317257542, 0.41827730538060337, 0.7637298370543135, 0.7637297503196254, 0.7056966704685806, 0.14113933409371612, 0.14113933409371612, 0.14113933409371612, 0.7637298226943555, 0.928132367026158, 0.23755297796633712, 0.5938824449158429, 0.23755297796633712, 0.2552875929367394, 0.2552875929367394, 0.2552875929367394, 0.49784191483793566, 0.24892095741896783, 0.24892095741896783, 0.24302805519093562, 0.48605611038187124, 0.24302805519093562, 0.2666156043936133, 0.2666156043936133, 0.39992340659041997, 0.5210874861193144, 0.48157749523124893, 0.24078874761562447, 0.7056967659245976, 0.14113935318491952, 0.14113935318491952, 0.14113935318491952, 0.4487447755577568, 0.2692468653346541, 0.08974895511155136, 0.1794979102231027, 0.2483771837210008, 0.2483771837210008, 0.2483771837210008, 0.2483771837210008, 0.39071150718418235, 0.39071150718418235, 0.9358308057227013, 0.9281324748626619, 0.3776458758018353, 0.3776458758018353, 0.7697474346116953, 0.40638112240394, 0.162552448961576, 0.24382867344236397, 0.162552448961576, 0.3256119987188727, 0.16280599935943635, 0.48841799807830905, 0.7637298106066825, 0.7697474647828284, 0.35090815074240816, 0.35090815074240816, 0.17545407537120408, 0.3050545079932927, 0.3813181349916159, 0.15252725399664635, 0.22879088099496953, 0.20190680782742035, 0.605720423482261, 0.20190680782742035, 0.410418307564008, 0.410418307564008, 0.205209153782004, 0.7637298275177646, 0.5155868134926292, 0.5720410353790295, 0.28602051768951475, 0.6978071951955224, 0.5210875623231163, 0.5210875691376865, 0.705709568442351, 0.2551981231471811, 0.5103962462943622, 0.2551981231471811, 0.7697474338432421, 0.39888720742579037, 0.11396777355022582, 0.34190332065067747, 0.17095166032533873, 0.3763862750043151, 0.3763862750043151, 0.5155868030662318, 0.5156901250155034, 0.34379341667700225, 0.3951095501316722, 0.29633216259875417, 0.14816608129937708, 0.14816608129937708, 0.45826511345839716, 0.45826511345839716, 0.3225016581671485, 0.3225016581671485, 0.3225016581671485, 0.7697474599074696, 0.49784188444833904, 0.24892094222416952, 0.24892094222416952, 0.9281324399326027, 0.18845386107767292, 0.18845386107767292, 0.4711346526941823, 0.18845386107767292, 0.5155868510865597, 0.552237180594429, 0.2761185902972145, 0.16709138013868732, 0.33418276027737465, 0.16709138013868732, 0.501274140416062, 0.9358308072480277, 0.9358308797350473, 0.7637298112549026, 0.36351519456918485, 0.18175759728459243, 0.18175759728459243, 0.18175759728459243, 0.35710166624120404, 0.35710166624120404, 0.17855083312060202, 0.17855083312060202, 0.769747469812669, 0.7697474567401617, 0.7697474787170632, 0.7697474116938516, 0.7637297990232476, 0.9281324505939678, 0.7637297965200838, 0.8002344055270318, 0.20005860138175796, 0.3490248075236302, 0.5235372112854453, 0.08725620188090755, 0.43033790814281414, 0.43033790814281414, 0.21516895407140707, 0.5155868067584943, 0.7697474163005295, 0.379914683556907, 0.22794881013414417, 0.3039317468455256, 0.0759829367113814, 0.9281323914987823, 0.8716297769193699, 0.174325955383874, 0.7637298315093619, 0.7637298071112298, 0.9281323847079233, 0.9358307893449449, 0.12853250581190187, 0.6426625290595094, 0.12853250581190187, 0.9281324214442399, 0.7697474561081797, 0.9358307401930234, 0.7697474098443271, 0.7660910449566374, 0.12768184082610623, 0.12768184082610623, 0.32590478462695033, 0.21726985641796687, 0.43453971283593373, 0.2152356568656783, 0.2152356568656783, 0.2152356568656783, 0.2152356568656783, 0.710019786425603, 0.23667326214186768, 0.9358307103097666, 0.7697474807510485, 0.21618672001199854, 0.21618672001199854, 0.6485601600359956, 0.2361813322878686, 0.4723626645757372, 0.2361813322878686, 0.25662667112899734, 0.7698800133869921, 0.4827723468132683, 0.24138617340663415, 0.24138617340663415, 0.6978072140075149, 0.9281323170952251, 0.9358306911888635, 0.5155868480841586, 0.499113889760773, 0.2495569448803865, 0.2495569448803865, 0.6657591645684219, 0.18157068124593323, 0.12104712083062215, 0.7637297938674564, 0.228945673737799, 0.3815761228963317, 0.15263044915853266, 0.228945673737799, 0.5155867969062828, 0.9358307420788482, 0.7637298166532597, 0.9281323921547169, 0.7637297472778387, 0.7697474444591207, 0.7697474116938516, 0.7697474793699702, 0.9358307704365147, 0.935830732974042, 0.710150593187101, 0.3041035819423152, 0.3041035819423152, 0.3041035819423152, 0.7697474620750109, 0.9358309119930752, 0.1927101456607348, 0.7708405826429392, 0.302538464209521, 0.3781730802619013, 0.1512692321047605, 0.1512692321047605, 0.9156662436415924, 0.6913926008029806, 0.515586805588309, 0.7697474187576762, 0.5155868113663918, 0.7637297938674564, 0.1856909350284182, 0.3713818700568364, 0.3713818700568364, 0.1856909350284182, 0.935830750969393, 0.7057095756377034, 0.3697750420699247, 0.14791001682796986, 0.07395500841398493, 0.3697750420699247, 0.19755563385109318, 0.7902225354043727, 0.6913926424730632, 0.7697474236330346, 0.9281323303561243, 0.5922468339996173, 0.29612341699980865, 0.5155868510626512, 0.5155868470460726, 0.9358309258868922, 0.9358308253275475, 0.8344684012364287, 0.7057095713466878, 0.9358307252134934, 0.6978072789745955, 0.9156662620978591, 0.7101506213413153, 0.928132320479416, 0.7697474293521102, 0.9281324082066819, 0.763729809473281, 0.9281323541763408, 0.7057095533741414, 0.47329869325691365, 0.3155324621712758, 0.1577662310856379, 0.1577662310856379], \"Term\": [\"-\", \"-\", \"..\", \"1\", \"1\", \"1\", \"10\", \"199\", \"199\", \"199\", \"2\", \"2\", \"2\", \"20\", \"21\", \"3\", \"3\", \"30\", \"300\", \"399\", \"4\", \"4\", \"4\", \"5\", \"555\", \"555\", \"9\", \"::\", \"CTW\", \"net\", \"\\u0e01\\u0e01\", \"\\u0e01\\u0e25\\u0e31\\u0e1a\\u0e21\\u0e32\", \"\\u0e01\\u0e25\\u0e31\\u0e1a\\u0e21\\u0e32\", \"\\u0e01\\u0e32\\u0e23\\u0e07\\u0e14\", \"\\u0e01\\u0e34\\u0e19\", \"\\u0e01\\u0e34\\u0e19\", \"\\u0e01\\u0e34\\u0e19\", \"\\u0e01\\u0e34\\u0e19\", \"\\u0e01\\u0e34\\u0e19\\u0e17\\u0e35\\u0e48\", \"\\u0e01\\u0e38\\u0e49\\u0e07\", \"\\u0e01\\u0e38\\u0e49\\u0e07\", \"\\u0e02\\u0e2d\\u0e07\\u0e01\\u0e34\\u0e19\", \"\\u0e02\\u0e2d\\u0e07\\u0e04\\u0e32\\u0e27\", \"\\u0e02\\u0e2d\\u0e07\\u0e2b\\u0e27\\u0e32\\u0e19\", \"\\u0e02\\u0e2d\\u0e07\\u0e2b\\u0e27\\u0e32\\u0e19\", \"\\u0e02\\u0e2d\\u0e07\\u0e2b\\u0e27\\u0e32\\u0e19\", \"\\u0e02\\u0e2d\\u0e07\\u0e2b\\u0e27\\u0e32\\u0e19\", \"\\u0e02\\u0e32\", \"\\u0e02\\u0e49\\u0e32\\u0e27\", \"\\u0e04\\u0e19\", \"\\u0e04\\u0e19\", \"\\u0e04\\u0e19\", \"\\u0e04\\u0e19\\u0e25\\u0e30\", \"\\u0e04\\u0e19\\u0e25\\u0e30\", \"\\u0e04\\u0e19\\u0e25\\u0e30\", \"\\u0e04\\u0e34\\u0e27\", \"\\u0e04\\u0e34\\u0e27\", \"\\u0e04\\u0e34\\u0e27\", \"\\u0e04\\u0e38\\u0e13\\u0e20\\u0e32\\u0e1e\", \"\\u0e04\\u0e38\\u0e13\\u0e20\\u0e32\\u0e1e\", \"\\u0e04\\u0e38\\u0e13\\u0e20\\u0e32\\u0e1e\", \"\\u0e04\\u0e38\\u0e49\\u0e21\", \"\\u0e04\\u0e38\\u0e49\\u0e21\", \"\\u0e04\\u0e38\\u0e49\\u0e21\", \"\\u0e04\\u0e48\\u0e32\", \"\\u0e08\\u0e48\\u0e32\\u0e22\", \"\\u0e08\\u0e48\\u0e32\\u0e22\", \"\\u0e0a\\u0e2d\\u0e1a\", \"\\u0e0a\\u0e2d\\u0e1a\", \"\\u0e0a\\u0e2d\\u0e1a\", \"\\u0e0a\\u0e2d\\u0e1a\", \"\\u0e0a\\u0e32\\u0e1a\\u0e39\", \"\\u0e0a\\u0e32\\u0e1a\\u0e39\", \"\\u0e0a\\u0e32\\u0e1a\\u0e39\", \"\\u0e0a\\u0e32\\u0e1a\\u0e39\", \"\\u0e0a\\u0e32\\u0e1a\\u0e39\\u0e0a\\u0e34\", \"\\u0e0a\\u0e32\\u0e1a\\u0e39\\u0e0a\\u0e34\", \"\\u0e0a\\u0e32\\u0e1a\\u0e39\\u0e0a\\u0e34\", \"\\u0e0a\\u0e32\\u0e1a\\u0e39\\u0e0a\\u0e34\", \"\\u0e0a\\u0e34\", \"\\u0e0a\\u0e34\", \"\\u0e0a\\u0e37\\u0e48\\u0e19\", \"\\u0e0a\\u0e37\\u0e48\\u0e2d\", \"\\u0e0a\\u0e38\\u0e14\", \"\\u0e0a\\u0e38\\u0e14\", \"\\u0e0b\\u0e36\\u0e1b\", \"\\u0e0b\\u0e38\\u0e1b\", \"\\u0e0b\\u0e38\\u0e1b\", \"\\u0e0b\\u0e38\\u0e1b\", \"\\u0e0b\\u0e38\\u0e1b\", \"\\u0e0b\\u0e39\\u0e0a\\u0e34\", \"\\u0e0b\\u0e39\\u0e0a\\u0e34\", \"\\u0e0b\\u0e39\\u0e0a\\u0e34\", \"\\u0e0b\\u0e48\\u0e32\", \"\\u0e10\\u0e32\\u0e19\", \"\\u0e14\\u0e33\", \"\\u0e14\\u0e33\", \"\\u0e14\\u0e33\", \"\\u0e14\\u0e35\", \"\\u0e14\\u0e35\", \"\\u0e14\\u0e35\", \"\\u0e14\\u0e35\", \"\\u0e14\\u0e35\\u0e21\\u0e32\\u0e01\", \"\\u0e14\\u0e35\\u0e21\\u0e32\\u0e01\", \"\\u0e14\\u0e35\\u0e21\\u0e32\\u0e01\", \"\\u0e14\\u0e39\", \"\\u0e14\\u0e39\", \"\\u0e14\\u0e39\", \"\\u0e15\\u0e23\\u0e07\\u0e19\\u0e31\\u0e49\\u0e19\", \"\\u0e15\\u0e2d\\u0e19\\u0e19\\u0e35\\u0e49\", \"\\u0e15\\u0e31\\u0e27\", \"\\u0e15\\u0e31\\u0e27\", \"\\u0e15\\u0e34\\u0e14\", \"\\u0e15\\u0e48\\u0e32\\u0e07 \\u0e46\", \"\\u0e15\\u0e49\\u0e21\\u0e22\\u0e33\", \"\\u0e16\\u0e49\\u0e27\\u0e22\", \"\\u0e17\\u0e2d\\u0e14\", \"\\u0e17\\u0e2d\\u0e14\", \"\\u0e17\\u0e2d\\u0e14\", \"\\u0e17\\u0e30\\u0e22\\u0e2d\\u0e22\", \"\\u0e17\\u0e32\\u0e19\", \"\\u0e17\\u0e32\\u0e19\", \"\\u0e17\\u0e32\\u0e19\", \"\\u0e17\\u0e32\\u0e19\", \"\\u0e19\\u0e31\\u0e48\\u0e07\", \"\\u0e19\\u0e31\\u0e48\\u0e07\", \"\\u0e19\\u0e36\\u0e01\", \"\\u0e19\\u0e38\\u0e48\\u0e21\", \"\\u0e19\\u0e38\\u0e48\\u0e21\", \"\\u0e19\\u0e49\\u0e33\", \"\\u0e19\\u0e49\\u0e33\", \"\\u0e19\\u0e49\\u0e33\", \"\\u0e19\\u0e49\\u0e33\", \"\\u0e19\\u0e49\\u0e33\\u0e08\\u0e34\\u0e49\\u0e21\", \"\\u0e19\\u0e49\\u0e33\\u0e08\\u0e34\\u0e49\\u0e21\", \"\\u0e1a\\u0e23\\u0e34\\u0e01\\u0e32\\u0e23\", \"\\u0e1a\\u0e23\\u0e34\\u0e01\\u0e32\\u0e23\", \"\\u0e1a\\u0e23\\u0e34\\u0e01\\u0e32\\u0e23\", \"\\u0e1a\\u0e31\\u0e15\\u0e23\\u0e40\\u0e04\\u0e23\\u0e14\\u0e34\\u0e15\", \"\\u0e1a\\u0e32\\u0e07\\u0e01\\u0e30\\u0e1b\\u0e34\", \"\\u0e1a\\u0e32\\u0e07\\u0e01\\u0e30\\u0e1b\\u0e34\", \"\\u0e1a\\u0e32\\u0e07\\u0e01\\u0e30\\u0e1b\\u0e34\", \"\\u0e1a\\u0e32\\u0e07\\u0e2a\\u0e48\\u0e27\\u0e19\", \"\\u0e1a\\u0e32\\u0e17\", \"\\u0e1a\\u0e32\\u0e17\", \"\\u0e1a\\u0e32\\u0e17\", \"\\u0e1a\\u0e32\\u0e17\", \"\\u0e1a\\u0e38\\u0e1f\\u0e40\\u0e1f\\u0e15\\u0e4c\", \"\\u0e1a\\u0e38\\u0e1f\\u0e40\\u0e1f\\u0e48\", \"\\u0e1a\\u0e38\\u0e1f\\u0e40\\u0e1f\\u0e48\", \"\\u0e1a\\u0e38\\u0e1f\\u0e40\\u0e1f\\u0e48\\u0e15\\u0e4c\", \"\\u0e1a\\u0e38\\u0e1f\\u0e40\\u0e1f\\u0e48\\u0e15\\u0e4c\", \"\\u0e1a\\u0e38\\u0e1f\\u0e40\\u0e1f\\u0e48\\u0e15\\u0e4c\", \"\\u0e1a\\u0e38\\u0e1f\\u0e40\\u0e1f\\u0e48\\u0e15\\u0e4c\", \"\\u0e1b\\u0e23\\u0e30\\u0e17\\u0e31\\u0e1a\\u0e43\\u0e08\", \"\\u0e1b\\u0e2d\\u0e01\\u0e40\\u0e1b\\u0e25\\u0e37\\u0e2d\\u0e01\", \"\\u0e1b\\u0e39\\u0e2d\\u0e31\\u0e14\", \"\\u0e1c\\u0e31\\u0e01\", \"\\u0e1c\\u0e31\\u0e01\", \"\\u0e1c\\u0e31\\u0e01\", \"\\u0e1c\\u0e31\\u0e01\", \"\\u0e1e\\u0e19\\u0e31\\u0e01\\u0e07\\u0e32\\u0e19\", \"\\u0e1e\\u0e19\\u0e31\\u0e01\\u0e07\\u0e32\\u0e19\", \"\\u0e1e\\u0e19\\u0e31\\u0e01\\u0e07\\u0e32\\u0e19\", \"\\u0e1e\\u0e19\\u0e31\\u0e01\\u0e07\\u0e32\\u0e19\", \"\\u0e1e\\u0e23\\u0e30\\u0e23\\u0e32\\u0e21\", \"\\u0e1e\\u0e23\\u0e35\\u0e40\\u0e21\\u0e35\\u0e22\\u0e21\", \"\\u0e1e\\u0e32\\u0e23\\u0e32\\u0e44\\u0e14\\u0e0b\\u0e4c\", \"\\u0e1f\\u0e23\\u0e35\", \"\\u0e21\\u0e32\\u0e19\", \"\\u0e22\\u0e31\\u0e07\\u0e21\\u0e35\", \"\\u0e22\\u0e37\\u0e19\", \"\\u0e23\\u0e2a\", \"\\u0e23\\u0e2a\", \"\\u0e23\\u0e2a\\u0e0a\\u0e32\\u0e15\\u0e34\", \"\\u0e23\\u0e2a\\u0e0a\\u0e32\\u0e15\\u0e34\", \"\\u0e23\\u0e2a\\u0e0a\\u0e32\\u0e15\\u0e34\", \"\\u0e23\\u0e2d\", \"\\u0e23\\u0e2d\", \"\\u0e23\\u0e2d\", \"\\u0e23\\u0e2d\\u0e1a\", \"\\u0e23\\u0e31\\u0e1a\\u0e1b\\u0e23\\u0e30\\u0e01\\u0e31\\u0e19\", \"\\u0e23\\u0e32\\u0e04\\u0e32\", \"\\u0e23\\u0e32\\u0e04\\u0e32\", \"\\u0e23\\u0e32\\u0e04\\u0e32\", \"\\u0e23\\u0e32\\u0e04\\u0e32\", \"\\u0e23\\u0e35\\u0e48\", \"\\u0e25\\u0e2d\\u0e07\", \"\\u0e25\\u0e2d\\u0e07\", \"\\u0e25\\u0e30\\u0e25\\u0e32\\u0e19\\u0e15\\u0e32\", \"\\u0e25\\u0e32\\u0e22\\u0e15\\u0e32\", \"\\u0e27\", \"\\u0e27\\u0e32\\u0e19\\u0e34\\u0e25\\u0e32\", \"\\u0e2a\\u0e14\", \"\\u0e2a\\u0e14\", \"\\u0e2a\\u0e14\", \"\\u0e2a\\u0e15\\u0e2d\", \"\\u0e2a\\u0e1a\\u0e32\\u0e22\\u0e14\\u0e35\", \"\\u0e2a\\u0e31\\u0e19\", \"\\u0e2a\\u0e31\\u0e1b\\u0e14\\u0e32\\u0e2b\\u0e4c\", \"\\u0e2a\\u0e31\\u0e48\\u0e07\", \"\\u0e2a\\u0e31\\u0e48\\u0e07\", \"\\u0e2a\\u0e31\\u0e48\\u0e07\", \"\\u0e2a\\u0e32\\u0e02\\u0e32\", \"\\u0e2a\\u0e32\\u0e02\\u0e32\", \"\\u0e2a\\u0e32\\u0e02\\u0e32\", \"\\u0e2a\\u0e32\\u0e22\\u0e1e\\u0e32\\u0e19\", \"\\u0e2a\\u0e32\\u0e22\\u0e1e\\u0e32\\u0e19\", \"\\u0e2a\\u0e32\\u0e22\\u0e1e\\u0e32\\u0e19\", \"\\u0e2a\\u0e32\\u0e22\\u0e1e\\u0e32\\u0e19\", \"\\u0e2a\\u0e33\\u0e2b\\u0e23\\u0e31\\u0e1a\", \"\\u0e2a\\u0e33\\u0e2b\\u0e23\\u0e31\\u0e1a\", \"\\u0e2a\\u0e38\\u0e01\\u0e35\\u0e49\", \"\\u0e2a\\u0e39\\u0e49\", \"\\u0e2b\\u0e19\\u0e49\\u0e32\", \"\\u0e2b\\u0e19\\u0e49\\u0e32\", \"\\u0e2b\\u0e19\\u0e49\\u0e32\", \"\\u0e2b\\u0e21\\u0e39\", \"\\u0e2b\\u0e21\\u0e39\", \"\\u0e2b\\u0e21\\u0e39\", \"\\u0e2b\\u0e21\\u0e49\\u0e2d\", \"\\u0e2b\\u0e21\\u0e49\\u0e2d\", \"\\u0e2b\\u0e22\\u0e34\\u0e1a\", \"\\u0e2b\\u0e22\\u0e34\\u0e1a\", \"\\u0e2b\\u0e22\\u0e34\\u0e1a\", \"\\u0e2b\\u0e27\\u0e32\\u0e19\", \"\\u0e2b\\u0e27\\u0e32\\u0e19\\u0e46\", \"\\u0e2b\\u0e2d\\u0e21\", \"\\u0e2b\\u0e34\\u0e27\", \"\\u0e2b\\u0e49\\u0e32\\u0e07\", \"\\u0e2b\\u0e49\\u0e32\\u0e07\", \"\\u0e2b\\u0e49\\u0e32\\u0e07\", \"\\u0e2d\\u0e23\\u0e48\\u0e2d\\u0e22\", \"\\u0e2d\\u0e23\\u0e48\\u0e2d\\u0e22\", \"\\u0e2d\\u0e23\\u0e48\\u0e2d\\u0e22\", \"\\u0e2d\\u0e31\\u0e1e\\u0e40\\u0e14\\u0e17\", \"\\u0e2d\\u0e32\\u0e2b\\u0e32\\u0e23\", \"\\u0e2d\\u0e32\\u0e2b\\u0e32\\u0e23\", \"\\u0e2d\\u0e32\\u0e2b\\u0e32\\u0e23\", \"\\u0e2d\\u0e32\\u0e2b\\u0e32\\u0e23\", \"\\u0e2d\\u0e34\\u0e48\\u0e21\", \"\\u0e2d\\u0e35\\u0e01\\u0e04\\u0e23\\u0e31\\u0e49\\u0e07\", \"\\u0e2e\\u0e48\\u0e32\", \"\\u0e40\\u0e01\\u0e34\\u0e19\\u0e44\\u0e1b\", \"\\u0e40\\u0e01\\u0e35\\u0e4a\\u0e22\\u0e27\", \"\\u0e40\\u0e04\\u0e23\\u0e37\\u0e48\\u0e2d\\u0e07\\u0e14\\u0e37\\u0e48\\u0e21\", \"\\u0e40\\u0e07\\u0e34\\u0e19\", \"\\u0e40\\u0e08\\u0e2d\", \"\\u0e40\\u0e0a\\u0e47\\u0e04\\u0e1a\\u0e34\\u0e25\", \"\\u0e40\\u0e0b\\u0e47\\u0e17\", \"\\u0e40\\u0e14\\u0e2d\\u0e30\", \"\\u0e40\\u0e14\\u0e2d\\u0e30\\u0e21\\u0e2d\\u0e25\\u0e25\\u0e4c\", \"\\u0e40\\u0e14\\u0e2d\\u0e30\\u0e21\\u0e2d\\u0e25\\u0e25\\u0e4c\", \"\\u0e40\\u0e14\\u0e2d\\u0e30\\u0e21\\u0e2d\\u0e25\\u0e25\\u0e4c\", \"\\u0e40\\u0e14\\u0e47\\u0e01\", \"\\u0e40\\u0e14\\u0e49\\u0e07\", \"\\u0e40\\u0e17\\u0e21\\u0e1b\\u0e38\\u0e23\\u0e30\", \"\\u0e40\\u0e17\\u0e21\\u0e1b\\u0e38\\u0e23\\u0e30\", \"\\u0e40\\u0e19\\u0e37\\u0e49\\u0e2d\", \"\\u0e40\\u0e19\\u0e37\\u0e49\\u0e2d\", \"\\u0e40\\u0e19\\u0e37\\u0e49\\u0e2d\", \"\\u0e40\\u0e19\\u0e37\\u0e49\\u0e2d\", \"\\u0e40\\u0e19\\u0e37\\u0e49\\u0e2d\\u0e27\\u0e31\\u0e27\", \"\\u0e40\\u0e19\\u0e37\\u0e49\\u0e2d\\u0e2b\\u0e21\\u0e39\", \"\\u0e40\\u0e1a\", \"\\u0e40\\u0e1b\\u0e47\\u0e19\\u0e01\\u0e31\\u0e19\\u0e40\\u0e2d\\u0e07\", \"\\u0e40\\u0e1b\\u0e47\\u0e19\\u0e2b\\u0e25\\u0e31\\u0e01\", \"\\u0e40\\u0e1e\\u0e25\\u0e34\\u0e19\\u0e46\", \"\\u0e40\\u0e21\\u0e19\\u0e39\", \"\\u0e40\\u0e21\\u0e19\\u0e39\", \"\\u0e40\\u0e21\\u0e19\\u0e39\", \"\\u0e40\\u0e21\\u0e19\\u0e39\", \"\\u0e40\\u0e23\\u0e37\\u0e48\\u0e2d\\u0e07\", \"\\u0e40\\u0e25\\u0e35\\u0e48\\u0e22\\u0e19\", \"\\u0e40\\u0e25\\u0e37\\u0e2d\\u0e01\", \"\\u0e40\\u0e25\\u0e37\\u0e2d\\u0e01\", \"\\u0e40\\u0e25\\u0e37\\u0e2d\\u0e01\", \"\\u0e40\\u0e25\\u0e37\\u0e2d\\u0e01\", \"\\u0e40\\u0e27\\u0e25\\u0e32\", \"\\u0e40\\u0e27\\u0e25\\u0e32\", \"\\u0e40\\u0e2b\\u0e47\\u0e14\", \"\\u0e41\\u0e08\\u0e49\\u0e07\", \"\\u0e41\\u0e19\\u0e27\", \"\\u0e41\\u0e19\\u0e30\\u0e19\\u0e33\", \"\\u0e41\\u0e19\\u0e30\\u0e19\\u0e33\", \"\\u0e41\\u0e1e\\u0e07\", \"\\u0e41\\u0e25\\u0e49\\u0e27\\u0e01\\u0e47\", \"\\u0e42\\u0e14\\u0e19\", \"\\u0e42\\u0e14\\u0e22\\u0e23\\u0e27\\u0e21\", \"\\u0e42\\u0e21\", \"\\u0e42\\u0e2b\\u0e14\", \"\\u0e43\\u0e08\\u0e14\\u0e35\", \"\\u0e43\\u0e0a\\u0e49\\u0e44\\u0e14\\u0e49\", \"\\u0e44\\u0e01\\u0e48\", \"\\u0e44\\u0e14\", \"\\u0e44\\u0e14\\u0e1f\\u0e39\\u0e01\\u0e38\", \"\\u0e44\\u0e14\\u0e49\\u0e40\\u0e27\\u0e25\\u0e32\", \"\\u0e44\\u0e1c\\u0e48\", \"\\u0e44\\u0e21\\u0e48\\u0e07\\u0e31\\u0e49\\u0e19\", \"\\u0e44\\u0e21\\u0e49\", \"\\u0e44\\u0e27\", \"\\u0e44\\u0e2d\\u0e15\\u0e34\\u0e21\", \"\\u0e44\\u0e2d\\u0e15\\u0e34\\u0e21\", \"\\u0e44\\u0e2d\\u0e15\\u0e34\\u0e21\", \"\\u0e44\\u0e2d\\u0e15\\u0e34\\u0e21\"]}, \"R\": 30, \"lambda.step\": 0.01, \"plot.opts\": {\"xlab\": \"PC1\", \"ylab\": \"PC2\"}, \"topic.order\": [2, 4, 3, 1]};\n",
              "\n",
              "function LDAvis_load_lib(url, callback){\n",
              "  var s = document.createElement('script');\n",
              "  s.src = url;\n",
              "  s.async = true;\n",
              "  s.onreadystatechange = s.onload = callback;\n",
              "  s.onerror = function(){console.warn(\"failed to load library \" + url);};\n",
              "  document.getElementsByTagName(\"head\")[0].appendChild(s);\n",
              "}\n",
              "\n",
              "if(typeof(LDAvis) !== \"undefined\"){\n",
              "   // already loaded: just create the visualization\n",
              "   !function(LDAvis){\n",
              "       new LDAvis(\"#\" + \"ldavis_el2511399309177788969374304753\", ldavis_el2511399309177788969374304753_data);\n",
              "   }(LDAvis);\n",
              "}else if(typeof define === \"function\" && define.amd){\n",
              "   // require.js is available: use it to load d3/LDAvis\n",
              "   require.config({paths: {d3: \"https://d3js.org/d3.v5\"}});\n",
              "   require([\"d3\"], function(d3){\n",
              "      window.d3 = d3;\n",
              "      LDAvis_load_lib(\"https://cdn.jsdelivr.net/gh/bmabey/pyLDAvis@3.3.1/pyLDAvis/js/ldavis.v3.0.0.js\", function(){\n",
              "        new LDAvis(\"#\" + \"ldavis_el2511399309177788969374304753\", ldavis_el2511399309177788969374304753_data);\n",
              "      });\n",
              "    });\n",
              "}else{\n",
              "    // require.js not available: dynamically load d3 & LDAvis\n",
              "    LDAvis_load_lib(\"https://d3js.org/d3.v5.js\", function(){\n",
              "         LDAvis_load_lib(\"https://cdn.jsdelivr.net/gh/bmabey/pyLDAvis@3.3.1/pyLDAvis/js/ldavis.v3.0.0.js\", function(){\n",
              "                 new LDAvis(\"#\" + \"ldavis_el2511399309177788969374304753\", ldavis_el2511399309177788969374304753_data);\n",
              "            })\n",
              "         });\n",
              "}\n",
              "</script>"
            ],
            "text/plain": [
              "PreparedData(topic_coordinates=              x         y  topics  cluster       Freq\n",
              "topic                                                \n",
              "1     -0.093441  0.070471       1        1  31.848974\n",
              "3      0.090875  0.046794       2        1  30.423443\n",
              "2      0.042173 -0.028271       3        1  19.277165\n",
              "0     -0.039607 -0.088994       4        1  18.450418, topic_info=        Term       Freq      Total Category  logprob  loglift\n",
              "329        -  11.000000  11.000000  Default  30.0000  30.0000\n",
              "267     กุ้ง   9.000000   9.000000  Default  29.0000  29.0000\n",
              "283  เทมปุระ   5.000000   5.000000  Default  28.0000  28.0000\n",
              "31     อร่อย  16.000000  16.000000  Default  27.0000  27.0000\n",
              "73      สาขา   9.000000   9.000000  Default  26.0000  26.0000\n",
              "..       ...        ...        ...      ...      ...      ...\n",
              "37     เนื้อ   2.014747  13.221459   Topic4  -4.8009  -0.1913\n",
              "85         2   1.394813   5.500521   Topic4  -5.1686   0.3180\n",
              "31     อร่อย   2.014746  16.522491   Topic4  -4.8009  -0.4141\n",
              "3        กิน   1.394818  16.957678   Topic4  -5.1686  -0.8079\n",
              "26      ราคา   0.774880  13.160850   Topic4  -5.7564  -1.1422\n",
              "\n",
              "[249 rows x 6 columns], token_table=      Topic      Freq   Term\n",
              "term                        \n",
              "329       2  0.713100      -\n",
              "329       3  0.267413      -\n",
              "265       3  0.763730     ..\n",
              "0         1  0.201490      1\n",
              "0         2  0.604471      1\n",
              "...     ...       ...    ...\n",
              "176       1  0.705710     ไว\n",
              "47        1  0.473299  ไอติม\n",
              "47        2  0.315532  ไอติม\n",
              "47        3  0.157766  ไอติม\n",
              "47        4  0.157766  ไอติม\n",
              "\n",
              "[305 rows x 3 columns], R=30, lambda_step=0.01, plot_opts={'xlab': 'PC1', 'ylab': 'PC2'}, topic_order=[2, 4, 3, 1])"
            ]
          },
          "metadata": {
            "tags": []
          },
          "execution_count": 180
        }
      ]
    },
    {
      "cell_type": "code",
      "metadata": {
        "colab": {
          "base_uri": "https://localhost:8080/",
          "height": 297
        },
        "id": "3T4Qyy73Y5ey",
        "outputId": "4d994709-0761-42f1-ce59-204c6e433d9a"
      },
      "source": [
        "score = []\n",
        "for k in range(1,11):\n",
        "    model = gensim.models.LdaModel(corpus=gensim_corpus, id2word=id2word, chunksize=chunksize, \n",
        "                        alpha='auto', eta='auto', \n",
        "                        iterations=iterations, num_topics=k, \n",
        "                        passes=passes, eval_every=eval_every)\n",
        "    coherence_model_lda = gensim.models.CoherenceModel(model=model, texts=texts, dictionary=dictionary, coherence='c_v')\n",
        "    score.append((k,coherence_model_lda.get_coherence(),model.log_perplexity(gensim_corpus)))\n",
        "\n",
        "x, y, z = zip(*score)\n",
        "plt.figure(figsize=(10,4), tight_layout=True)\n",
        "plt.subplot(121)\n",
        "plt.plot(x, y, label='Coherence')\n",
        "plt.grid(True)\n",
        "plt.subplot(122)\n",
        "plt.plot(x, z, label='perplexity')\n",
        "plt.grid(True)\n",
        "plt.show()"
      ],
      "execution_count": 154,
      "outputs": [
        {
          "output_type": "display_data",
          "data": {
            "image/png": "[encoded data removed]",
            "text/plain": [
              "<Figure size 720x288 with 2 Axes>"
            ]
          },
          "metadata": {
            "tags": [],
            "needs_background": "light"
          }
        }
      ]
    }
  ]
}